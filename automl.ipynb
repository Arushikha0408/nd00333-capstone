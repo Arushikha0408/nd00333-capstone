{
 "cells": [
  {
   "cell_type": "markdown",
   "metadata": {},
   "source": [
    "# Automated ML\n",
    "\n",
    "Below are the dependencies that will be needed to complete the project."
   ]
  },
  {
   "cell_type": "code",
   "execution_count": 1,
   "metadata": {
    "collapsed": false,
    "gather": {
     "logged": 1598423888013
    },
    "jupyter": {
     "outputs_hidden": false,
     "source_hidden": false
    },
    "nteract": {
     "transient": {
      "deleting": false
     }
    }
   },
   "outputs": [
    {
     "name": "stdout",
     "output_type": "stream",
     "text": [
      "SDK version: 1.20.0\n"
     ]
    }
   ],
   "source": [
    "import azureml.core\n",
    "from azureml.core.compute import ComputeTarget, AmlCompute\n",
    "from azureml.core.compute_target import ComputeTargetException\n",
    "from azureml.core.dataset import Dataset\n",
    "from azureml.core.workspace import Workspace\n",
    "from azureml.core import Experiment, Webservice, Model\n",
    "from azureml.train.automl import AutoMLConfig\n",
    "from azureml.widgets import RunDetails\n",
    "from azureml.core.environment import Environment\n",
    "from azureml.core.model import InferenceConfig\n",
    "from azureml.core.webservice import AciWebservice\n",
    "\n",
    "\n",
    "import pandas as pd\n",
    "import sklearn\n",
    "import json\n",
    "\n",
    "# Check core SDK version number\n",
    "print(\"SDK version:\", azureml.core.VERSION)"
   ]
  },
  {
   "cell_type": "markdown",
   "metadata": {},
   "source": [
    "## Dataset\n",
    "\n",
    "### Overview\n",
    "\n",
    "\n",
    "  This is an analyzed dataset containing the medical records of 299 heart failure patients collected at the Faisalabad Institute of Cardiology and at the Allied Hospital in Faisalabad (Punjab, Pakistan), during April–December 2015. The patients consisted of 105 women and 194 men, and their ages range between 40 and 95 years old. All 299 patients had left ventricular systolic dysfunction and had previous heart failures that put them in classes III or IV of New York Heart Association (NYHA) classification of the stages of heart failure. As done by the original data curators, this dataset was represented as a table having 299 rows (patients) and 13 columns (features).\n",
    "  \n",
    "  \n",
    "\n",
    "###  Task\n",
    "  With the kaggle heart failure dataset I'll be using the knowledge I have obtained from the Machine Learning Engineer with Microsoft Azure Nanodegree Program to create a machine learning model that can assess the likelihood of a death by heart failure event. This can be used to help hospitals in assessing the severity of patients with cardiovascular disease. In this project, I will create two models: one using Automated ML (denoted as AutoML from now on) and one customized model whose hyperparameters are tuned using HyperDrive."
   ]
  },
  {
   "cell_type": "code",
   "execution_count": 2,
   "metadata": {},
   "outputs": [
    {
     "name": "stdout",
     "output_type": "stream",
     "text": [
      "quick-starts-ws-138727\n",
      "aml-quickstarts-138727\n",
      "a24a24d5-8d87-4c8a-99b6-91ed2d2df51f\n"
     ]
    }
   ],
   "source": [
    "ws = Workspace.from_config()\n",
    "print(ws.name, ws.resource_group, ws.subscription_id, sep = '\\n')"
   ]
  },
  {
   "cell_type": "code",
   "execution_count": 3,
   "metadata": {
    "collapsed": false,
    "gather": {
     "logged": 1598423890461
    },
    "jupyter": {
     "outputs_hidden": false,
     "source_hidden": false
    },
    "nteract": {
     "transient": {
      "deleting": false
     }
    }
   },
   "outputs": [
    {
     "data": {
      "text/html": [
       "<table style=\"width:100%\"><tr><th>Name</th><th>Workspace</th><th>Report Page</th><th>Docs Page</th></tr><tr><td>capstone-heartfailure-exp</td><td>quick-starts-ws-138727</td><td><a href=\"https://ml.azure.com/experiments/capstone-heartfailure-exp?wsid=/subscriptions/a24a24d5-8d87-4c8a-99b6-91ed2d2df51f/resourcegroups/aml-quickstarts-138727/workspaces/quick-starts-ws-138727\" target=\"_blank\" rel=\"noopener\">Link to Azure Machine Learning studio</a></td><td><a href=\"https://docs.microsoft.com/en-us/python/api/azureml-core/azureml.core.experiment.Experiment?view=azure-ml-py\" target=\"_blank\" rel=\"noopener\">Link to Documentation</a></td></tr></table>"
      ],
      "text/plain": [
       "Experiment(Name: capstone-heartfailure-exp,\n",
       "Workspace: quick-starts-ws-138727)"
      ]
     },
     "execution_count": 3,
     "metadata": {},
     "output_type": "execute_result"
    }
   ],
   "source": [
    "# choose a name for experiment\n",
    "experiment_name = 'capstone-heartfailure-exp'\n",
    "\n",
    "experiment=Experiment(ws, experiment_name)\n",
    "experiment"
   ]
  },
  {
   "cell_type": "code",
   "execution_count": 4,
   "metadata": {},
   "outputs": [
    {
     "name": "stdout",
     "output_type": "stream",
     "text": [
      "Existing cluster detected, make use of it!\n",
      "Succeeded\n",
      "AmlCompute wait for completion finished\n",
      "\n",
      "Minimum number of nodes requested have been provisioned\n",
      "Cluster is ready\n"
     ]
    }
   ],
   "source": [
    "# TODO: Create compute cluster\n",
    "# Use vm_size = \"Standard_D2_V2\" in your provisioning configuration.\n",
    "# max_nodes should be no greater than 4.\n",
    "\n",
    "### YOUR CODE HERE ###\n",
    "cluster_name=\"cpu-cluster\"\n",
    "\n",
    "try:\n",
    "    cpu_cluster=ComputeTarget(workspace=ws, name=cluster_name)\n",
    "    print(\"Existing cluster detected, make use of it!\")\n",
    "except ComputeTargetException:\n",
    "    print(\"New compute cluster creation in progress...\")\n",
    "    compute_config = AmlCompute.provisioning_configuration(vm_size='Standard_D2_V2',max_nodes=4)\n",
    "    cpu_cluster = ComputeTarget.create(ws, cluster_name, compute_config)   \n",
    "    \n",
    "cpu_cluster.wait_for_completion(show_output=True)         \n",
    "print(\"Cluster is ready\")"
   ]
  },
  {
   "cell_type": "code",
   "execution_count": 5,
   "metadata": {},
   "outputs": [],
   "source": [
    "path = \"https://raw.githubusercontent.com/Arushikha0408/nd00333-capstone/master/heart_failure_clinical_records_dataset.csv\"\n",
    "dataset = Dataset.Tabular.from_delimited_files(path)"
   ]
  },
  {
   "cell_type": "code",
   "execution_count": 6,
   "metadata": {},
   "outputs": [
    {
     "data": {
      "text/html": [
       "<div>\n",
       "<style scoped>\n",
       "    .dataframe tbody tr th:only-of-type {\n",
       "        vertical-align: middle;\n",
       "    }\n",
       "\n",
       "    .dataframe tbody tr th {\n",
       "        vertical-align: top;\n",
       "    }\n",
       "\n",
       "    .dataframe thead th {\n",
       "        text-align: right;\n",
       "    }\n",
       "</style>\n",
       "<table border=\"1\" class=\"dataframe\">\n",
       "  <thead>\n",
       "    <tr style=\"text-align: right;\">\n",
       "      <th></th>\n",
       "      <th>age</th>\n",
       "      <th>anaemia</th>\n",
       "      <th>creatinine_phosphokinase</th>\n",
       "      <th>diabetes</th>\n",
       "      <th>ejection_fraction</th>\n",
       "      <th>high_blood_pressure</th>\n",
       "      <th>platelets</th>\n",
       "      <th>serum_creatinine</th>\n",
       "      <th>serum_sodium</th>\n",
       "      <th>sex</th>\n",
       "      <th>smoking</th>\n",
       "      <th>time</th>\n",
       "      <th>DEATH_EVENT</th>\n",
       "    </tr>\n",
       "  </thead>\n",
       "  <tbody>\n",
       "    <tr>\n",
       "      <th>0</th>\n",
       "      <td>75.0</td>\n",
       "      <td>0</td>\n",
       "      <td>582</td>\n",
       "      <td>0</td>\n",
       "      <td>20</td>\n",
       "      <td>1</td>\n",
       "      <td>265000.00</td>\n",
       "      <td>1.9</td>\n",
       "      <td>130</td>\n",
       "      <td>1</td>\n",
       "      <td>0</td>\n",
       "      <td>4</td>\n",
       "      <td>1</td>\n",
       "    </tr>\n",
       "    <tr>\n",
       "      <th>1</th>\n",
       "      <td>55.0</td>\n",
       "      <td>0</td>\n",
       "      <td>7861</td>\n",
       "      <td>0</td>\n",
       "      <td>38</td>\n",
       "      <td>0</td>\n",
       "      <td>263358.03</td>\n",
       "      <td>1.1</td>\n",
       "      <td>136</td>\n",
       "      <td>1</td>\n",
       "      <td>0</td>\n",
       "      <td>6</td>\n",
       "      <td>1</td>\n",
       "    </tr>\n",
       "    <tr>\n",
       "      <th>2</th>\n",
       "      <td>65.0</td>\n",
       "      <td>0</td>\n",
       "      <td>146</td>\n",
       "      <td>0</td>\n",
       "      <td>20</td>\n",
       "      <td>0</td>\n",
       "      <td>162000.00</td>\n",
       "      <td>1.3</td>\n",
       "      <td>129</td>\n",
       "      <td>1</td>\n",
       "      <td>1</td>\n",
       "      <td>7</td>\n",
       "      <td>1</td>\n",
       "    </tr>\n",
       "    <tr>\n",
       "      <th>3</th>\n",
       "      <td>50.0</td>\n",
       "      <td>1</td>\n",
       "      <td>111</td>\n",
       "      <td>0</td>\n",
       "      <td>20</td>\n",
       "      <td>0</td>\n",
       "      <td>210000.00</td>\n",
       "      <td>1.9</td>\n",
       "      <td>137</td>\n",
       "      <td>1</td>\n",
       "      <td>0</td>\n",
       "      <td>7</td>\n",
       "      <td>1</td>\n",
       "    </tr>\n",
       "    <tr>\n",
       "      <th>4</th>\n",
       "      <td>65.0</td>\n",
       "      <td>1</td>\n",
       "      <td>160</td>\n",
       "      <td>1</td>\n",
       "      <td>20</td>\n",
       "      <td>0</td>\n",
       "      <td>327000.00</td>\n",
       "      <td>2.7</td>\n",
       "      <td>116</td>\n",
       "      <td>0</td>\n",
       "      <td>0</td>\n",
       "      <td>8</td>\n",
       "      <td>1</td>\n",
       "    </tr>\n",
       "  </tbody>\n",
       "</table>\n",
       "</div>"
      ],
      "text/plain": [
       "    age  anaemia  creatinine_phosphokinase  diabetes  ejection_fraction  \\\n",
       "0  75.0        0                       582         0                 20   \n",
       "1  55.0        0                      7861         0                 38   \n",
       "2  65.0        0                       146         0                 20   \n",
       "3  50.0        1                       111         0                 20   \n",
       "4  65.0        1                       160         1                 20   \n",
       "\n",
       "   high_blood_pressure  platelets  serum_creatinine  serum_sodium  sex  \\\n",
       "0                    1  265000.00               1.9           130    1   \n",
       "1                    0  263358.03               1.1           136    1   \n",
       "2                    0  162000.00               1.3           129    1   \n",
       "3                    0  210000.00               1.9           137    1   \n",
       "4                    0  327000.00               2.7           116    0   \n",
       "\n",
       "   smoking  time  DEATH_EVENT  \n",
       "0        0     4            1  \n",
       "1        0     6            1  \n",
       "2        1     7            1  \n",
       "3        0     7            1  \n",
       "4        0     8            1  "
      ]
     },
     "execution_count": 6,
     "metadata": {},
     "output_type": "execute_result"
    }
   ],
   "source": [
    "dataset.take(5).to_pandas_dataframe()"
   ]
  },
  {
   "cell_type": "markdown",
   "metadata": {},
   "source": [
    "## AutoML Configuration\n",
    "\n",
    "The following code shows a basic example of creating an AutoMLConfig object and submitting an experiment for classification.\n",
    "I chose the automl settings below because I wanted to specify the experiment type as classification. The classification experiment will be carried out using AUC weighted as the primary metric with experiment timeout minutes set to 30 minutes and 5 cross-validation folds with the maximum number of iterations that would be executed concurrently set to 4.\n",
    "All of these settings defines the machine learning task.\n",
    "\n",
    "\n",
    "The configuration object below contains and persists the parameters for configuring the experiment run, as well as the training data to be used at run time."
   ]
  },
  {
   "cell_type": "code",
   "execution_count": 7,
   "metadata": {
    "collapsed": false,
    "gather": {
     "logged": 1598429217746
    },
    "jupyter": {
     "outputs_hidden": false,
     "source_hidden": false
    },
    "nteract": {
     "transient": {
      "deleting": false
     }
    }
   },
   "outputs": [],
   "source": [
    "automl_settings = {\n",
    "    \"experiment_timeout_minutes\": 30,\n",
    "    \"max_concurrent_iterations\": 5,\n",
    "    \"primary_metric\" : 'AUC_weighted',\n",
    "    \"n_cross_validations\": 5\n",
    "}\n",
    "automl_config = AutoMLConfig(compute_target=cpu_cluster,\n",
    "                             task = \"classification\",\n",
    "                             training_data=dataset,\n",
    "                             label_column_name=\"DEATH_EVENT\", \n",
    "                             enable_early_stopping= True,\n",
    "                             featurization= 'auto',\n",
    "                             enable_voting_ensemble= True,\n",
    "                             **automl_settings\n",
    "                            )"
   ]
  },
  {
   "cell_type": "code",
   "execution_count": 8,
   "metadata": {
    "collapsed": false,
    "gather": {
     "logged": 1598431107951
    },
    "jupyter": {
     "outputs_hidden": false,
     "source_hidden": false
    },
    "nteract": {
     "transient": {
      "deleting": false
     }
    }
   },
   "outputs": [
    {
     "name": "stdout",
     "output_type": "stream",
     "text": [
      "Running on remote.\n",
      "No run_configuration provided, running on cpu-cluster with default configuration\n",
      "Running on remote compute: cpu-cluster\n",
      "Parent Run ID: AutoML_4a20a98b-8950-493a-94dc-96a80e4ea82c\n",
      "\n",
      "Current status: FeaturesGeneration. Generating features for the dataset.\n",
      "Current status: DatasetCrossValidationSplit. Generating individually featurized CV splits.\n",
      "Current status: ModelSelection. Beginning model selection.\n",
      "\n",
      "****************************************************************************************************\n",
      "DATA GUARDRAILS: \n",
      "\n",
      "TYPE:         Class balancing detection\n",
      "STATUS:       PASSED\n",
      "DESCRIPTION:  Your inputs were analyzed, and all classes are balanced in your training data.\n",
      "              Learn more about imbalanced data: https://aka.ms/AutomatedMLImbalancedData\n",
      "\n",
      "****************************************************************************************************\n",
      "\n",
      "TYPE:         Missing feature values imputation\n",
      "STATUS:       PASSED\n",
      "DESCRIPTION:  No feature missing values were detected in the training data.\n",
      "              Learn more about missing value imputation: https://aka.ms/AutomatedMLFeaturization\n",
      "\n",
      "****************************************************************************************************\n",
      "\n",
      "TYPE:         High cardinality feature detection\n",
      "STATUS:       PASSED\n",
      "DESCRIPTION:  Your inputs were analyzed, and no high cardinality features were detected.\n",
      "              Learn more about high cardinality feature handling: https://aka.ms/AutomatedMLFeaturization\n",
      "\n",
      "****************************************************************************************************\n",
      "\n",
      "****************************************************************************************************\n",
      "ITERATION: The iteration being evaluated.\n",
      "PIPELINE: A summary description of the pipeline being evaluated.\n",
      "DURATION: Time taken for the current iteration.\n",
      "METRIC: The result of computing score on the fitted pipeline.\n",
      "BEST: The best observed score thus far.\n",
      "****************************************************************************************************\n",
      "\n",
      " ITERATION   PIPELINE                                       DURATION      METRIC      BEST\n",
      "         3   RobustScaler ExtremeRandomTrees                0:01:01       0.8791    0.8791\n",
      "         4   MinMaxScaler RandomForest                      0:00:57       0.9001    0.9001\n",
      "         5   MinMaxScaler RandomForest                      0:00:58       0.8945    0.9001\n",
      "         6   StandardScalerWrapper RandomForest             0:01:01       0.8921    0.9001\n",
      "         7   MinMaxScaler ExtremeRandomTrees                0:01:04       0.8964    0.9001\n",
      "         2   MinMaxScaler RandomForest                      0:03:32       0.9064    0.9064\n",
      "         0   MaxAbsScaler LightGBM                          0:03:38       0.8811    0.9064\n",
      "         1   MaxAbsScaler XGBoostClassifier                 0:03:38       0.8930    0.9064\n",
      "         8   MinMaxScaler ExtremeRandomTrees                0:01:00       0.8767    0.9064\n",
      "         9   SparseNormalizer KNN                           0:00:54       0.7515    0.9064\n",
      "        10   MinMaxScaler ExtremeRandomTrees                0:00:56       0.8702    0.9064\n",
      "        12   StandardScalerWrapper RandomForest             0:00:49       0.8984    0.9064\n",
      "        11   RobustScaler ExtremeRandomTrees                0:00:58       0.8726    0.9064\n",
      "        13   StandardScalerWrapper SGD                      0:01:03       0.8714    0.9064\n",
      "        14   RobustScaler RandomForest                      0:00:53       0.8935    0.9064\n",
      "        15   StandardScalerWrapper KNN                      0:00:59       0.4823    0.9064\n",
      "        16   MinMaxScaler RandomForest                      0:00:57       0.8832    0.9064\n",
      "        17   MinMaxScaler ExtremeRandomTrees                0:01:04       0.8429    0.9064\n",
      "        18   MaxAbsScaler RandomForest                      0:00:59       0.9001    0.9064\n",
      "        19   StandardScalerWrapper XGBoostClassifier        0:00:54       0.9076    0.9076\n",
      "        21   MaxAbsScaler ExtremeRandomTrees                0:00:57       0.8397    0.9076\n",
      "        20   MaxAbsScaler RandomForest                      0:01:07       0.8773    0.9076\n",
      "        22   MaxAbsScaler ExtremeRandomTrees                0:01:03       0.8816    0.9076\n",
      "        23   MinMaxScaler RandomForest                      0:00:54       0.9110    0.9110\n",
      "        24   MinMaxScaler ExtremeRandomTrees                0:00:58       0.9014    0.9110\n",
      "        25   TruncatedSVDWrapper XGBoostClassifier          0:00:57       0.5000    0.9110\n",
      "        26   MaxAbsScaler ExtremeRandomTrees                0:01:10       0.8953    0.9110\n",
      "        27   StandardScalerWrapper XGBoostClassifier        0:00:57       0.9031    0.9110\n",
      "        28   StandardScalerWrapper LightGBM                 0:01:02       0.8638    0.9110\n",
      "        29   RobustScaler LightGBM                          0:01:01       0.9032    0.9110\n",
      "        30   StandardScalerWrapper RandomForest             0:01:15       0.9070    0.9110\n",
      "        31   StandardScalerWrapper XGBoostClassifier        0:01:05       0.9061    0.9110\n",
      "        32   StandardScalerWrapper XGBoostClassifier        0:00:58       0.8947    0.9110\n",
      "        33   StandardScalerWrapper XGBoostClassifier        0:01:01       0.9044    0.9110\n",
      "        34   StandardScalerWrapper XGBoostClassifier        0:00:57       0.9147    0.9147\n",
      "        35   StandardScalerWrapper RandomForest             0:00:54       0.7556    0.9147\n",
      "        36   StandardScalerWrapper XGBoostClassifier        0:00:56       0.9087    0.9147\n",
      "        37   StandardScalerWrapper RandomForest             0:01:08       0.9106    0.9147\n",
      "        38   RobustScaler ExtremeRandomTrees                0:01:00       0.9058    0.9147\n",
      "        39   MinMaxScaler RandomForest                      0:00:50       0.9049    0.9147\n",
      "        40   StandardScalerWrapper XGBoostClassifier        0:00:59       0.8994    0.9147\n",
      "        41   MaxAbsScaler GradientBoosting                  0:00:57       0.9147    0.9147\n",
      "        42   StandardScalerWrapper SVM                      0:00:57       0.8768    0.9147\n",
      "        44   RobustScaler GradientBoosting                  0:00:57       0.8997    0.9147\n",
      "        43   MinMaxScaler LogisticRegression                0:00:57       0.8680    0.9147\n",
      "        45   StandardScalerWrapper XGBoostClassifier        0:01:02       0.9077    0.9147\n",
      "        47   MinMaxScaler RandomForest                      0:00:51       0.9092    0.9147\n",
      "        46   MaxAbsScaler LightGBM                          0:01:02       0.8920    0.9147\n",
      "        48   RobustScaler ExtremeRandomTrees                0:00:55       0.8932    0.9147\n",
      "        49   MaxAbsScaler LightGBM                          0:01:00       0.8957    0.9147\n",
      "        50   StandardScalerWrapper GradientBoosting         0:00:55       0.9035    0.9147\n",
      "        51   StandardScalerWrapper LogisticRegression       0:00:49       0.8702    0.9147\n",
      "        52   MaxAbsScaler GradientBoosting                  0:00:50       0.9076    0.9147\n",
      "        53   StandardScalerWrapper XGBoostClassifier        0:00:57       0.9013    0.9147\n",
      "        54   StandardScalerWrapper LightGBM                 0:01:01       0.8951    0.9147\n",
      "        55   StandardScalerWrapper GradientBoosting         0:00:52       0.7856    0.9147\n",
      "        56   StandardScalerWrapper RandomForest             0:00:57       0.9016    0.9147\n",
      "        57                                                  0:00:23          nan    0.9147\n",
      "        58                                                  0:00:10          nan    0.9147\n",
      "        59                                                  0:00:17          nan    0.9147\n",
      "        60    VotingEnsemble                                0:01:47       0.9187    0.9187\n",
      "        61    StackEnsemble                                 0:02:06       0.9189    0.9189\n"
     ]
    }
   ],
   "source": [
    "# TODO: Submit your experiment\n",
    "\n",
    "remote_run = experiment.submit(automl_config, show_output=True)"
   ]
  },
  {
   "cell_type": "markdown",
   "metadata": {},
   "source": [
    "## Run  Details "
   ]
  },
  {
   "cell_type": "code",
   "execution_count": 9,
   "metadata": {
    "collapsed": false,
    "gather": {
     "logged": 1598431121770
    },
    "jupyter": {
     "outputs_hidden": false,
     "source_hidden": false
    },
    "nteract": {
     "transient": {
      "deleting": false
     }
    }
   },
   "outputs": [
    {
     "data": {
      "application/vnd.jupyter.widget-view+json": {
       "model_id": "fe0ff1281a914cf5a93af1486024f762",
       "version_major": 2,
       "version_minor": 0
      },
      "text/plain": [
       "_AutoMLWidget(widget_settings={'childWidgetDisplay': 'popup', 'send_telemetry': False, 'log_level': 'INFO', 's…"
      ]
     },
     "metadata": {},
     "output_type": "display_data"
    },
    {
     "data": {
      "application/aml.mini.widget.v1": "{\"status\": \"Completed\", \"workbench_run_details_uri\": \"https://ml.azure.com/experiments/capstone-heartfailure-exp/runs/AutoML_4a20a98b-8950-493a-94dc-96a80e4ea82c?wsid=/subscriptions/a24a24d5-8d87-4c8a-99b6-91ed2d2df51f/resourcegroups/aml-quickstarts-138727/workspaces/quick-starts-ws-138727\", \"run_id\": \"AutoML_4a20a98b-8950-493a-94dc-96a80e4ea82c\", \"run_properties\": {\"run_id\": \"AutoML_4a20a98b-8950-493a-94dc-96a80e4ea82c\", \"created_utc\": \"2021-02-12T19:02:22.291406Z\", \"properties\": {\"num_iterations\": \"1000\", \"training_type\": \"TrainFull\", \"acquisition_function\": \"EI\", \"primary_metric\": \"AUC_weighted\", \"train_split\": \"0\", \"acquisition_parameter\": \"0\", \"num_cross_validation\": \"5\", \"target\": \"cpu-cluster\", \"AMLSettingsJsonString\": \"{\\\"path\\\":null,\\\"name\\\":\\\"capstone-heartfailure-exp\\\",\\\"subscription_id\\\":\\\"a24a24d5-8d87-4c8a-99b6-91ed2d2df51f\\\",\\\"resource_group\\\":\\\"aml-quickstarts-138727\\\",\\\"workspace_name\\\":\\\"quick-starts-ws-138727\\\",\\\"region\\\":\\\"southcentralus\\\",\\\"compute_target\\\":\\\"cpu-cluster\\\",\\\"spark_service\\\":null,\\\"azure_service\\\":\\\"remote\\\",\\\"many_models\\\":false,\\\"pipeline_fetch_max_batch_size\\\":1,\\\"iterations\\\":1000,\\\"primary_metric\\\":\\\"AUC_weighted\\\",\\\"task_type\\\":\\\"classification\\\",\\\"data_script\\\":null,\\\"validation_size\\\":0.0,\\\"n_cross_validations\\\":5,\\\"y_min\\\":null,\\\"y_max\\\":null,\\\"num_classes\\\":null,\\\"featurization\\\":\\\"auto\\\",\\\"_ignore_package_version_incompatibilities\\\":false,\\\"is_timeseries\\\":false,\\\"max_cores_per_iteration\\\":1,\\\"max_concurrent_iterations\\\":5,\\\"iteration_timeout_minutes\\\":null,\\\"mem_in_mb\\\":null,\\\"enforce_time_on_windows\\\":false,\\\"experiment_timeout_minutes\\\":30,\\\"experiment_exit_score\\\":null,\\\"whitelist_models\\\":null,\\\"blacklist_algos\\\":[\\\"TensorFlowLinearClassifier\\\",\\\"TensorFlowDNN\\\"],\\\"supported_models\\\":[\\\"RandomForest\\\",\\\"KNN\\\",\\\"XGBoostClassifier\\\",\\\"SVM\\\",\\\"BernoulliNaiveBayes\\\",\\\"DecisionTree\\\",\\\"TensorFlowLinearClassifier\\\",\\\"LightGBM\\\",\\\"TensorFlowDNN\\\",\\\"SGD\\\",\\\"GradientBoosting\\\",\\\"AveragedPerceptronClassifier\\\",\\\"LogisticRegression\\\",\\\"ExtremeRandomTrees\\\",\\\"MultinomialNaiveBayes\\\",\\\"LinearSVM\\\"],\\\"auto_blacklist\\\":true,\\\"blacklist_samples_reached\\\":false,\\\"exclude_nan_labels\\\":true,\\\"verbosity\\\":20,\\\"_debug_log\\\":\\\"azureml_automl.log\\\",\\\"show_warnings\\\":false,\\\"model_explainability\\\":true,\\\"service_url\\\":null,\\\"sdk_url\\\":null,\\\"sdk_packages\\\":null,\\\"enable_onnx_compatible_models\\\":false,\\\"enable_split_onnx_featurizer_estimator_models\\\":false,\\\"vm_type\\\":\\\"STANDARD_D2_V2\\\",\\\"telemetry_verbosity\\\":20,\\\"send_telemetry\\\":true,\\\"enable_dnn\\\":false,\\\"scenario\\\":\\\"SDK-1.13.0\\\",\\\"environment_label\\\":null,\\\"force_text_dnn\\\":false,\\\"enable_feature_sweeping\\\":true,\\\"enable_early_stopping\\\":true,\\\"early_stopping_n_iters\\\":10,\\\"metrics\\\":null,\\\"enable_ensembling\\\":true,\\\"enable_stack_ensembling\\\":true,\\\"ensemble_iterations\\\":15,\\\"enable_tf\\\":false,\\\"enable_subsampling\\\":null,\\\"subsample_seed\\\":null,\\\"enable_nimbusml\\\":false,\\\"enable_streaming\\\":false,\\\"force_streaming\\\":false,\\\"track_child_runs\\\":true,\\\"allowed_private_models\\\":[],\\\"label_column_name\\\":\\\"DEATH_EVENT\\\",\\\"weight_column_name\\\":null,\\\"cv_split_column_names\\\":null,\\\"enable_local_managed\\\":false,\\\"_local_managed_run_id\\\":null,\\\"cost_mode\\\":1,\\\"lag_length\\\":0,\\\"metric_operation\\\":\\\"maximize\\\",\\\"preprocess\\\":true}\", \"DataPrepJsonString\": \"{\\\\\\\"training_data\\\\\\\": \\\\\\\"{\\\\\\\\\\\\\\\"blocks\\\\\\\\\\\\\\\": [{\\\\\\\\\\\\\\\"id\\\\\\\\\\\\\\\": \\\\\\\\\\\\\\\"da489010-f7e5-4838-8e4d-a7fcd57e7b4d\\\\\\\\\\\\\\\", \\\\\\\\\\\\\\\"type\\\\\\\\\\\\\\\": \\\\\\\\\\\\\\\"Microsoft.DPrep.GetFilesBlock\\\\\\\\\\\\\\\", \\\\\\\\\\\\\\\"arguments\\\\\\\\\\\\\\\": {\\\\\\\\\\\\\\\"isArchive\\\\\\\\\\\\\\\": false, \\\\\\\\\\\\\\\"path\\\\\\\\\\\\\\\": {\\\\\\\\\\\\\\\"target\\\\\\\\\\\\\\\": 4, \\\\\\\\\\\\\\\"resourceDetails\\\\\\\\\\\\\\\": [{\\\\\\\\\\\\\\\"path\\\\\\\\\\\\\\\": \\\\\\\\\\\\\\\"https://raw.githubusercontent.com/Arushikha0408/nd00333-capstone/master/heart_failure_clinical_records_dataset.csv\\\\\\\\\\\\\\\"}]}}, \\\\\\\\\\\\\\\"localData\\\\\\\\\\\\\\\": {}, \\\\\\\\\\\\\\\"isEnabled\\\\\\\\\\\\\\\": true, \\\\\\\\\\\\\\\"name\\\\\\\\\\\\\\\": null, \\\\\\\\\\\\\\\"annotation\\\\\\\\\\\\\\\": null}, {\\\\\\\\\\\\\\\"id\\\\\\\\\\\\\\\": \\\\\\\\\\\\\\\"ff9ba199-3775-451a-8b47-075b11fef666\\\\\\\\\\\\\\\", \\\\\\\\\\\\\\\"type\\\\\\\\\\\\\\\": \\\\\\\\\\\\\\\"Microsoft.DPrep.ParseDelimitedBlock\\\\\\\\\\\\\\\", \\\\\\\\\\\\\\\"arguments\\\\\\\\\\\\\\\": {\\\\\\\\\\\\\\\"columnHeadersMode\\\\\\\\\\\\\\\": 3, \\\\\\\\\\\\\\\"fileEncoding\\\\\\\\\\\\\\\": 0, \\\\\\\\\\\\\\\"handleQuotedLineBreaks\\\\\\\\\\\\\\\": false, \\\\\\\\\\\\\\\"preview\\\\\\\\\\\\\\\": false, \\\\\\\\\\\\\\\"separator\\\\\\\\\\\\\\\": \\\\\\\\\\\\\\\",\\\\\\\\\\\\\\\", \\\\\\\\\\\\\\\"skipRows\\\\\\\\\\\\\\\": 0, \\\\\\\\\\\\\\\"skipRowsMode\\\\\\\\\\\\\\\": 0}, \\\\\\\\\\\\\\\"localData\\\\\\\\\\\\\\\": {}, \\\\\\\\\\\\\\\"isEnabled\\\\\\\\\\\\\\\": true, \\\\\\\\\\\\\\\"name\\\\\\\\\\\\\\\": null, \\\\\\\\\\\\\\\"annotation\\\\\\\\\\\\\\\": null}, {\\\\\\\\\\\\\\\"id\\\\\\\\\\\\\\\": \\\\\\\\\\\\\\\"0a074b3d-6ba6-47ae-9216-cebb60a798b6\\\\\\\\\\\\\\\", \\\\\\\\\\\\\\\"type\\\\\\\\\\\\\\\": \\\\\\\\\\\\\\\"Microsoft.DPrep.DropColumnsBlock\\\\\\\\\\\\\\\", \\\\\\\\\\\\\\\"arguments\\\\\\\\\\\\\\\": {\\\\\\\\\\\\\\\"columns\\\\\\\\\\\\\\\": {\\\\\\\\\\\\\\\"type\\\\\\\\\\\\\\\": 0, \\\\\\\\\\\\\\\"details\\\\\\\\\\\\\\\": {\\\\\\\\\\\\\\\"selectedColumns\\\\\\\\\\\\\\\": [\\\\\\\\\\\\\\\"Path\\\\\\\\\\\\\\\"]}}}, \\\\\\\\\\\\\\\"localData\\\\\\\\\\\\\\\": {}, \\\\\\\\\\\\\\\"isEnabled\\\\\\\\\\\\\\\": true, \\\\\\\\\\\\\\\"name\\\\\\\\\\\\\\\": null, \\\\\\\\\\\\\\\"annotation\\\\\\\\\\\\\\\": null}, {\\\\\\\\\\\\\\\"id\\\\\\\\\\\\\\\": \\\\\\\\\\\\\\\"cf7e90d3-8b41-47d4-ae44-37c8ba81a183\\\\\\\\\\\\\\\", \\\\\\\\\\\\\\\"type\\\\\\\\\\\\\\\": \\\\\\\\\\\\\\\"Microsoft.DPrep.SetColumnTypesBlock\\\\\\\\\\\\\\\", \\\\\\\\\\\\\\\"arguments\\\\\\\\\\\\\\\": {\\\\\\\\\\\\\\\"columnConversion\\\\\\\\\\\\\\\": [{\\\\\\\\\\\\\\\"column\\\\\\\\\\\\\\\": {\\\\\\\\\\\\\\\"type\\\\\\\\\\\\\\\": 2, \\\\\\\\\\\\\\\"details\\\\\\\\\\\\\\\": {\\\\\\\\\\\\\\\"selectedColumn\\\\\\\\\\\\\\\": \\\\\\\\\\\\\\\"age\\\\\\\\\\\\\\\"}}, \\\\\\\\\\\\\\\"typeProperty\\\\\\\\\\\\\\\": 3}, {\\\\\\\\\\\\\\\"column\\\\\\\\\\\\\\\": {\\\\\\\\\\\\\\\"type\\\\\\\\\\\\\\\": 2, \\\\\\\\\\\\\\\"details\\\\\\\\\\\\\\\": {\\\\\\\\\\\\\\\"selectedColumn\\\\\\\\\\\\\\\": \\\\\\\\\\\\\\\"anaemia\\\\\\\\\\\\\\\"}}, \\\\\\\\\\\\\\\"typeProperty\\\\\\\\\\\\\\\": 2}, {\\\\\\\\\\\\\\\"column\\\\\\\\\\\\\\\": {\\\\\\\\\\\\\\\"type\\\\\\\\\\\\\\\": 2, \\\\\\\\\\\\\\\"details\\\\\\\\\\\\\\\": {\\\\\\\\\\\\\\\"selectedColumn\\\\\\\\\\\\\\\": \\\\\\\\\\\\\\\"creatinine_phosphokinase\\\\\\\\\\\\\\\"}}, \\\\\\\\\\\\\\\"typeProperty\\\\\\\\\\\\\\\": 2}, {\\\\\\\\\\\\\\\"column\\\\\\\\\\\\\\\": {\\\\\\\\\\\\\\\"type\\\\\\\\\\\\\\\": 2, \\\\\\\\\\\\\\\"details\\\\\\\\\\\\\\\": {\\\\\\\\\\\\\\\"selectedColumn\\\\\\\\\\\\\\\": \\\\\\\\\\\\\\\"diabetes\\\\\\\\\\\\\\\"}}, \\\\\\\\\\\\\\\"typeProperty\\\\\\\\\\\\\\\": 2}, {\\\\\\\\\\\\\\\"column\\\\\\\\\\\\\\\": {\\\\\\\\\\\\\\\"type\\\\\\\\\\\\\\\": 2, \\\\\\\\\\\\\\\"details\\\\\\\\\\\\\\\": {\\\\\\\\\\\\\\\"selectedColumn\\\\\\\\\\\\\\\": \\\\\\\\\\\\\\\"ejection_fraction\\\\\\\\\\\\\\\"}}, \\\\\\\\\\\\\\\"typeProperty\\\\\\\\\\\\\\\": 2}, {\\\\\\\\\\\\\\\"column\\\\\\\\\\\\\\\": {\\\\\\\\\\\\\\\"type\\\\\\\\\\\\\\\": 2, \\\\\\\\\\\\\\\"details\\\\\\\\\\\\\\\": {\\\\\\\\\\\\\\\"selectedColumn\\\\\\\\\\\\\\\": \\\\\\\\\\\\\\\"high_blood_pressure\\\\\\\\\\\\\\\"}}, \\\\\\\\\\\\\\\"typeProperty\\\\\\\\\\\\\\\": 2}, {\\\\\\\\\\\\\\\"column\\\\\\\\\\\\\\\": {\\\\\\\\\\\\\\\"type\\\\\\\\\\\\\\\": 2, \\\\\\\\\\\\\\\"details\\\\\\\\\\\\\\\": {\\\\\\\\\\\\\\\"selectedColumn\\\\\\\\\\\\\\\": \\\\\\\\\\\\\\\"platelets\\\\\\\\\\\\\\\"}}, \\\\\\\\\\\\\\\"typeProperty\\\\\\\\\\\\\\\": 3}, {\\\\\\\\\\\\\\\"column\\\\\\\\\\\\\\\": {\\\\\\\\\\\\\\\"type\\\\\\\\\\\\\\\": 2, \\\\\\\\\\\\\\\"details\\\\\\\\\\\\\\\": {\\\\\\\\\\\\\\\"selectedColumn\\\\\\\\\\\\\\\": \\\\\\\\\\\\\\\"serum_creatinine\\\\\\\\\\\\\\\"}}, \\\\\\\\\\\\\\\"typeProperty\\\\\\\\\\\\\\\": 3}, {\\\\\\\\\\\\\\\"column\\\\\\\\\\\\\\\": {\\\\\\\\\\\\\\\"type\\\\\\\\\\\\\\\": 2, \\\\\\\\\\\\\\\"details\\\\\\\\\\\\\\\": {\\\\\\\\\\\\\\\"selectedColumn\\\\\\\\\\\\\\\": \\\\\\\\\\\\\\\"serum_sodium\\\\\\\\\\\\\\\"}}, \\\\\\\\\\\\\\\"typeProperty\\\\\\\\\\\\\\\": 2}, {\\\\\\\\\\\\\\\"column\\\\\\\\\\\\\\\": {\\\\\\\\\\\\\\\"type\\\\\\\\\\\\\\\": 2, \\\\\\\\\\\\\\\"details\\\\\\\\\\\\\\\": {\\\\\\\\\\\\\\\"selectedColumn\\\\\\\\\\\\\\\": \\\\\\\\\\\\\\\"sex\\\\\\\\\\\\\\\"}}, \\\\\\\\\\\\\\\"typeProperty\\\\\\\\\\\\\\\": 2}, {\\\\\\\\\\\\\\\"column\\\\\\\\\\\\\\\": {\\\\\\\\\\\\\\\"type\\\\\\\\\\\\\\\": 2, \\\\\\\\\\\\\\\"details\\\\\\\\\\\\\\\": {\\\\\\\\\\\\\\\"selectedColumn\\\\\\\\\\\\\\\": \\\\\\\\\\\\\\\"smoking\\\\\\\\\\\\\\\"}}, \\\\\\\\\\\\\\\"typeProperty\\\\\\\\\\\\\\\": 2}, {\\\\\\\\\\\\\\\"column\\\\\\\\\\\\\\\": {\\\\\\\\\\\\\\\"type\\\\\\\\\\\\\\\": 2, \\\\\\\\\\\\\\\"details\\\\\\\\\\\\\\\": {\\\\\\\\\\\\\\\"selectedColumn\\\\\\\\\\\\\\\": \\\\\\\\\\\\\\\"time\\\\\\\\\\\\\\\"}}, \\\\\\\\\\\\\\\"typeProperty\\\\\\\\\\\\\\\": 2}, {\\\\\\\\\\\\\\\"column\\\\\\\\\\\\\\\": {\\\\\\\\\\\\\\\"type\\\\\\\\\\\\\\\": 2, \\\\\\\\\\\\\\\"details\\\\\\\\\\\\\\\": {\\\\\\\\\\\\\\\"selectedColumn\\\\\\\\\\\\\\\": \\\\\\\\\\\\\\\"DEATH_EVENT\\\\\\\\\\\\\\\"}}, \\\\\\\\\\\\\\\"typeProperty\\\\\\\\\\\\\\\": 2}]}, \\\\\\\\\\\\\\\"localData\\\\\\\\\\\\\\\": {}, \\\\\\\\\\\\\\\"isEnabled\\\\\\\\\\\\\\\": true, \\\\\\\\\\\\\\\"name\\\\\\\\\\\\\\\": null, \\\\\\\\\\\\\\\"annotation\\\\\\\\\\\\\\\": null}], \\\\\\\\\\\\\\\"inspectors\\\\\\\\\\\\\\\": [], \\\\\\\\\\\\\\\"meta\\\\\\\\\\\\\\\": {\\\\\\\\\\\\\\\"savedDatasetId\\\\\\\\\\\\\\\": \\\\\\\\\\\\\\\"b2d5b3d0-a29e-40e7-b030-9686b6d36092\\\\\\\\\\\\\\\", \\\\\\\\\\\\\\\"datasetType\\\\\\\\\\\\\\\": \\\\\\\\\\\\\\\"tabular\\\\\\\\\\\\\\\", \\\\\\\\\\\\\\\"subscriptionId\\\\\\\\\\\\\\\": \\\\\\\\\\\\\\\"a24a24d5-8d87-4c8a-99b6-91ed2d2df51f\\\\\\\\\\\\\\\", \\\\\\\\\\\\\\\"workspaceId\\\\\\\\\\\\\\\": \\\\\\\\\\\\\\\"bb4d2e1a-f45b-404e-bba5-f5d0ce0cc7f7\\\\\\\\\\\\\\\", \\\\\\\\\\\\\\\"workspaceLocation\\\\\\\\\\\\\\\": \\\\\\\\\\\\\\\"southcentralus\\\\\\\\\\\\\\\"}}\\\\\\\", \\\\\\\"activities\\\\\\\": 0}\", \"EnableSubsampling\": null, \"runTemplate\": \"AutoML\", \"azureml.runsource\": \"automl\", \"display_task_type\": \"classification\", \"dependencies_versions\": \"{\\\"azureml-widgets\\\": \\\"1.20.0\\\", \\\"azureml-train\\\": \\\"1.20.0\\\", \\\"azureml-train-restclients-hyperdrive\\\": \\\"1.20.0\\\", \\\"azureml-train-core\\\": \\\"1.20.0\\\", \\\"azureml-train-automl\\\": \\\"1.20.0\\\", \\\"azureml-train-automl-runtime\\\": \\\"1.20.0\\\", \\\"azureml-train-automl-client\\\": \\\"1.20.0\\\", \\\"azureml-tensorboard\\\": \\\"1.20.0\\\", \\\"azureml-telemetry\\\": \\\"1.20.0\\\", \\\"azureml-sdk\\\": \\\"1.20.0\\\", \\\"azureml-samples\\\": \\\"0+unknown\\\", \\\"azureml-pipeline\\\": \\\"1.20.0\\\", \\\"azureml-pipeline-steps\\\": \\\"1.20.0\\\", \\\"azureml-pipeline-core\\\": \\\"1.20.0\\\", \\\"azureml-opendatasets\\\": \\\"1.20.0\\\", \\\"azureml-model-management-sdk\\\": \\\"1.0.1b6.post1\\\", \\\"azureml-mlflow\\\": \\\"1.20.0.post1\\\", \\\"azureml-interpret\\\": \\\"1.20.0\\\", \\\"azureml-explain-model\\\": \\\"1.20.0\\\", \\\"azureml-defaults\\\": \\\"1.20.0\\\", \\\"azureml-dataset-runtime\\\": \\\"1.20.0\\\", \\\"azureml-dataprep\\\": \\\"2.7.3\\\", \\\"azureml-dataprep-rslex\\\": \\\"1.5.0\\\", \\\"azureml-dataprep-native\\\": \\\"27.0.0\\\", \\\"azureml-datadrift\\\": \\\"1.20.0\\\", \\\"azureml-core\\\": \\\"1.20.0\\\", \\\"azureml-contrib-services\\\": \\\"1.20.0\\\", \\\"azureml-contrib-server\\\": \\\"1.20.0\\\", \\\"azureml-contrib-reinforcementlearning\\\": \\\"1.20.0\\\", \\\"azureml-contrib-pipeline-steps\\\": \\\"1.20.0\\\", \\\"azureml-contrib-notebook\\\": \\\"1.20.0\\\", \\\"azureml-contrib-interpret\\\": \\\"1.20.0\\\", \\\"azureml-contrib-gbdt\\\": \\\"1.20.0\\\", \\\"azureml-contrib-fairness\\\": \\\"1.20.0\\\", \\\"azureml-contrib-dataset\\\": \\\"1.20.0\\\", \\\"azureml-cli-common\\\": \\\"1.20.0\\\", \\\"azureml-automl-runtime\\\": \\\"1.20.0\\\", \\\"azureml-automl-core\\\": \\\"1.20.0\\\", \\\"azureml-accel-models\\\": \\\"1.20.0\\\"}\", \"_aml_system_scenario_identification\": \"Remote.Parent\", \"ClientType\": \"SDK\", \"environment_cpu_name\": \"AzureML-AutoML\", \"environment_cpu_label\": \"prod\", \"environment_gpu_name\": \"AzureML-AutoML-GPU\", \"environment_gpu_label\": \"prod\", \"root_attribution\": \"automl\", \"attribution\": \"AutoML\", \"Orchestrator\": \"AutoML\", \"CancelUri\": \"https://southcentralus.experiments.azureml.net/jasmine/v1.0/subscriptions/a24a24d5-8d87-4c8a-99b6-91ed2d2df51f/resourceGroups/aml-quickstarts-138727/providers/Microsoft.MachineLearningServices/workspaces/quick-starts-ws-138727/experimentids/b52d8ea9-c56f-4c15-9116-24a0d97ff475/cancel/AutoML_4a20a98b-8950-493a-94dc-96a80e4ea82c\", \"ClientSdkVersion\": \"1.21.0\", \"snapshotId\": \"00000000-0000-0000-0000-000000000000\", \"SetupRunId\": \"AutoML_4a20a98b-8950-493a-94dc-96a80e4ea82c_setup\", \"SetupRunContainerId\": \"dcid.AutoML_4a20a98b-8950-493a-94dc-96a80e4ea82c_setup\", \"FeaturizationRunJsonPath\": \"featurizer_container.json\", \"FeaturizationRunId\": \"AutoML_4a20a98b-8950-493a-94dc-96a80e4ea82c_featurize\", \"ProblemInfoJsonString\": \"{\\\"dataset_num_categorical\\\": 0, \\\"is_sparse\\\": false, \\\"subsampling\\\": false, \\\"dataset_classes\\\": 2, \\\"dataset_features\\\": 12, \\\"dataset_samples\\\": 299, \\\"single_frequency_class_detected\\\": false}\", \"ModelExplainRunId\": \"AutoML_4a20a98b-8950-493a-94dc-96a80e4ea82c_ModelExplain\"}, \"tags\": {\"model_explain_run\": \"best_run\", \"_aml_system_azureml.automlComponent\": \"AutoML\", \"pipeline_id\": \"\", \"score\": \"\", \"predicted_cost\": \"\", \"fit_time\": \"\", \"training_percent\": \"\", \"iteration\": \"\", \"run_preprocessor\": \"\", \"run_algorithm\": \"\", \"dynamic_whitelisting_iterations\": \"<25>;<30>;<35>;<40>;<45>;<50>;<55>;\", \"automl_best_child_run_id\": \"AutoML_4a20a98b-8950-493a-94dc-96a80e4ea82c_61\", \"model_explain_best_run_child_id\": \"AutoML_4a20a98b-8950-493a-94dc-96a80e4ea82c_61\"}, \"end_time_utc\": \"2021-02-12T19:28:28.392507Z\", \"status\": \"Completed\", \"log_files\": {}, \"log_groups\": [], \"run_duration\": \"0:26:06\"}, \"child_runs\": [{\"run_id\": \"AutoML_4a20a98b-8950-493a-94dc-96a80e4ea82c_0\", \"run_number\": 50, \"metric\": null, \"status\": \"Completed\", \"run_type\": \"azureml.scriptrun\", \"training_percent\": \"100\", \"start_time\": \"2021-02-12T19:07:35.005814Z\", \"end_time\": \"2021-02-12T19:11:13.315978Z\", \"created_time\": \"2021-02-12T19:05:20.017804Z\", \"created_time_dt\": \"2021-02-12T19:05:20.017804Z\", \"duration\": \"0:05:53\", \"iteration\": \"0\", \"goal\": \"AUC_weighted_max\", \"run_name\": \"MaxAbsScaler, LightGBM\", \"run_properties\": \"copy=True\", \"primary_metric\": 0.88113312, \"best_metric\": 0.88113312}, {\"run_id\": \"AutoML_4a20a98b-8950-493a-94dc-96a80e4ea82c_1\", \"run_number\": 51, \"metric\": null, \"status\": \"Completed\", \"run_type\": \"azureml.scriptrun\", \"training_percent\": \"100\", \"start_time\": \"2021-02-12T19:07:34.784667Z\", \"end_time\": \"2021-02-12T19:11:12.360541Z\", \"created_time\": \"2021-02-12T19:05:20.132534Z\", \"created_time_dt\": \"2021-02-12T19:05:20.132534Z\", \"duration\": \"0:05:52\", \"iteration\": \"1\", \"goal\": \"AUC_weighted_max\", \"run_name\": \"MaxAbsScaler, XGBoostClassifier\", \"run_properties\": \"copy=True\", \"primary_metric\": 0.89295912, \"best_metric\": 0.89295912}, {\"run_id\": \"AutoML_4a20a98b-8950-493a-94dc-96a80e4ea82c_3\", \"run_number\": 52, \"metric\": null, \"status\": \"Completed\", \"run_type\": \"azureml.scriptrun\", \"training_percent\": \"100\", \"start_time\": \"2021-02-12T19:05:31.912522Z\", \"end_time\": \"2021-02-12T19:06:32.417644Z\", \"created_time\": \"2021-02-12T19:05:20.13561Z\", \"created_time_dt\": \"2021-02-12T19:05:20.13561Z\", \"duration\": \"0:01:12\", \"iteration\": \"3\", \"goal\": \"AUC_weighted_max\", \"run_name\": \"RobustScaler, ExtremeRandomTrees\", \"run_properties\": \"copy=True, quantile_range=[10, 90], with_centering=False,\\n             with_scaling=False\", \"primary_metric\": 0.87910957, \"best_metric\": 0.90640573}, {\"run_id\": \"AutoML_4a20a98b-8950-493a-94dc-96a80e4ea82c_2\", \"run_number\": 53, \"metric\": null, \"status\": \"Completed\", \"run_type\": \"azureml.scriptrun\", \"training_percent\": \"100\", \"start_time\": \"2021-02-12T19:07:34.582141Z\", \"end_time\": \"2021-02-12T19:11:06.189249Z\", \"created_time\": \"2021-02-12T19:05:20.239946Z\", \"created_time_dt\": \"2021-02-12T19:05:20.239946Z\", \"duration\": \"0:05:45\", \"iteration\": \"2\", \"goal\": \"AUC_weighted_max\", \"run_name\": \"MinMaxScaler, RandomForest\", \"run_properties\": \"copy=True, feature_range=(0, 1\", \"primary_metric\": 0.90640573, \"best_metric\": 0.90640573}, {\"run_id\": \"AutoML_4a20a98b-8950-493a-94dc-96a80e4ea82c_4\", \"run_number\": 54, \"metric\": null, \"status\": \"Completed\", \"run_type\": \"azureml.scriptrun\", \"training_percent\": \"100\", \"start_time\": \"2021-02-12T19:06:36.071408Z\", \"end_time\": \"2021-02-12T19:07:32.802344Z\", \"created_time\": \"2021-02-12T19:05:20.244997Z\", \"created_time_dt\": \"2021-02-12T19:05:20.244997Z\", \"duration\": \"0:02:12\", \"iteration\": \"4\", \"goal\": \"AUC_weighted_max\", \"run_name\": \"MinMaxScaler, RandomForest\", \"run_properties\": \"copy=True, feature_range=(0, 1\", \"primary_metric\": 0.90008209, \"best_metric\": 0.90640573}, {\"run_id\": \"AutoML_4a20a98b-8950-493a-94dc-96a80e4ea82c_5\", \"run_number\": 55, \"metric\": null, \"status\": \"Completed\", \"run_type\": \"azureml.scriptrun\", \"training_percent\": \"100\", \"start_time\": \"2021-02-12T19:07:39.101674Z\", \"end_time\": \"2021-02-12T19:08:36.97267Z\", \"created_time\": \"2021-02-12T19:06:35.733191Z\", \"created_time_dt\": \"2021-02-12T19:06:35.733191Z\", \"duration\": \"0:02:01\", \"iteration\": \"5\", \"goal\": \"AUC_weighted_max\", \"run_name\": \"MinMaxScaler, RandomForest\", \"run_properties\": \"copy=True, feature_range=(0, 1\", \"primary_metric\": 0.89454533, \"best_metric\": 0.90640573}, {\"run_id\": \"AutoML_4a20a98b-8950-493a-94dc-96a80e4ea82c_6\", \"run_number\": 56, \"metric\": null, \"status\": \"Completed\", \"run_type\": \"azureml.scriptrun\", \"training_percent\": \"100\", \"start_time\": \"2021-02-12T19:08:39.521858Z\", \"end_time\": \"2021-02-12T19:09:40.944935Z\", \"created_time\": \"2021-02-12T19:07:36.530318Z\", \"created_time_dt\": \"2021-02-12T19:07:36.530318Z\", \"duration\": \"0:02:04\", \"iteration\": \"6\", \"goal\": \"AUC_weighted_max\", \"run_name\": \"StandardScalerWrapper, RandomForest\", \"run_properties\": \"<azureml.automl.runtime.shared.model_wrappers.StandardScalerWrapper object at 0x7f974822af28\", \"primary_metric\": 0.89210194, \"best_metric\": 0.90640573}, {\"run_id\": \"AutoML_4a20a98b-8950-493a-94dc-96a80e4ea82c_7\", \"run_number\": 57, \"metric\": null, \"status\": \"Completed\", \"run_type\": \"azureml.scriptrun\", \"training_percent\": \"100\", \"start_time\": \"2021-02-12T19:09:45.607157Z\", \"end_time\": \"2021-02-12T19:10:49.861513Z\", \"created_time\": \"2021-02-12T19:08:40.182089Z\", \"created_time_dt\": \"2021-02-12T19:08:40.182089Z\", \"duration\": \"0:02:09\", \"iteration\": \"7\", \"goal\": \"AUC_weighted_max\", \"run_name\": \"MinMaxScaler, ExtremeRandomTrees\", \"run_properties\": \"copy=True, feature_range=(0, 1\", \"primary_metric\": 0.8964391, \"best_metric\": 0.90640573}, {\"run_id\": \"AutoML_4a20a98b-8950-493a-94dc-96a80e4ea82c_8\", \"run_number\": 58, \"metric\": null, \"status\": \"Completed\", \"run_type\": \"azureml.scriptrun\", \"training_percent\": \"100\", \"start_time\": \"2021-02-12T19:10:53.073845Z\", \"end_time\": \"2021-02-12T19:11:52.975244Z\", \"created_time\": \"2021-02-12T19:09:44.492111Z\", \"created_time_dt\": \"2021-02-12T19:09:44.492111Z\", \"duration\": \"0:02:08\", \"iteration\": \"8\", \"goal\": \"AUC_weighted_max\", \"run_name\": \"MinMaxScaler, ExtremeRandomTrees\", \"run_properties\": \"copy=True, feature_range=(0, 1\", \"primary_metric\": 0.87670485, \"best_metric\": 0.90640573}, {\"run_id\": \"AutoML_4a20a98b-8950-493a-94dc-96a80e4ea82c_9\", \"run_number\": 59, \"metric\": null, \"status\": \"Completed\", \"run_type\": \"azureml.scriptrun\", \"training_percent\": \"100\", \"start_time\": \"2021-02-12T19:11:10.77614Z\", \"end_time\": \"2021-02-12T19:12:04.731854Z\", \"created_time\": \"2021-02-12T19:10:53.811766Z\", \"created_time_dt\": \"2021-02-12T19:10:53.811766Z\", \"duration\": \"0:01:10\", \"iteration\": \"9\", \"goal\": \"AUC_weighted_max\", \"run_name\": \"SparseNormalizer, KNN\", \"run_properties\": \"<azureml.automl.runtime.shared.model_wrappers.SparseNormalizer object at 0x7f31bbd2ed68\", \"primary_metric\": 0.75147268, \"best_metric\": 0.90640573}, {\"run_id\": \"AutoML_4a20a98b-8950-493a-94dc-96a80e4ea82c_10\", \"run_number\": 60, \"metric\": null, \"status\": \"Completed\", \"run_type\": \"azureml.scriptrun\", \"training_percent\": \"100\", \"start_time\": \"2021-02-12T19:11:23.398998Z\", \"end_time\": \"2021-02-12T19:12:18.956272Z\", \"created_time\": \"2021-02-12T19:11:10.044858Z\", \"created_time_dt\": \"2021-02-12T19:11:10.044858Z\", \"duration\": \"0:01:08\", \"iteration\": \"10\", \"goal\": \"AUC_weighted_max\", \"run_name\": \"MinMaxScaler, ExtremeRandomTrees\", \"run_properties\": \"copy=True, feature_range=(0, 1\", \"primary_metric\": 0.87021154, \"best_metric\": 0.90640573}, {\"run_id\": \"AutoML_4a20a98b-8950-493a-94dc-96a80e4ea82c_11\", \"run_number\": 61, \"metric\": null, \"status\": \"Completed\", \"run_type\": \"azureml.scriptrun\", \"training_percent\": \"100\", \"start_time\": \"2021-02-12T19:11:57.637799Z\", \"end_time\": \"2021-02-12T19:12:55.861731Z\", \"created_time\": \"2021-02-12T19:11:17.773932Z\", \"created_time_dt\": \"2021-02-12T19:11:17.773932Z\", \"duration\": \"0:01:38\", \"iteration\": \"11\", \"goal\": \"AUC_weighted_max\", \"run_name\": \"RobustScaler, ExtremeRandomTrees\", \"run_properties\": \"copy=True, quantile_range=[10, 90], with_centering=True,\\n             with_scaling=False\", \"primary_metric\": 0.87261538, \"best_metric\": 0.90640573}, {\"run_id\": \"AutoML_4a20a98b-8950-493a-94dc-96a80e4ea82c_12\", \"run_number\": 62, \"metric\": null, \"status\": \"Completed\", \"run_type\": \"azureml.scriptrun\", \"training_percent\": \"100\", \"start_time\": \"2021-02-12T19:11:31.797648Z\", \"end_time\": \"2021-02-12T19:12:21.1178Z\", \"created_time\": \"2021-02-12T19:11:17.961759Z\", \"created_time_dt\": \"2021-02-12T19:11:17.961759Z\", \"duration\": \"0:01:03\", \"iteration\": \"12\", \"goal\": \"AUC_weighted_max\", \"run_name\": \"StandardScalerWrapper, RandomForest\", \"run_properties\": \"<azureml.automl.runtime.shared.model_wrappers.StandardScalerWrapper object at 0x7fd7a040bcc0\", \"primary_metric\": 0.89837906, \"best_metric\": 0.90640573}, {\"run_id\": \"AutoML_4a20a98b-8950-493a-94dc-96a80e4ea82c_13\", \"run_number\": 63, \"metric\": null, \"status\": \"Completed\", \"run_type\": \"azureml.scriptrun\", \"training_percent\": \"100\", \"start_time\": \"2021-02-12T19:12:11.151221Z\", \"end_time\": \"2021-02-12T19:13:13.943092Z\", \"created_time\": \"2021-02-12T19:11:57.726855Z\", \"created_time_dt\": \"2021-02-12T19:11:57.726855Z\", \"duration\": \"0:01:16\", \"iteration\": \"13\", \"goal\": \"AUC_weighted_max\", \"run_name\": \"StandardScalerWrapper, SGD\", \"run_properties\": \"<azureml.automl.runtime.shared.model_wrappers.StandardScalerWrapper object at 0x7f33c5054470\", \"primary_metric\": 0.87144094, \"best_metric\": 0.90640573}, {\"run_id\": \"AutoML_4a20a98b-8950-493a-94dc-96a80e4ea82c_14\", \"run_number\": 64, \"metric\": null, \"status\": \"Completed\", \"run_type\": \"azureml.scriptrun\", \"training_percent\": \"100\", \"start_time\": \"2021-02-12T19:12:22.700944Z\", \"end_time\": \"2021-02-12T19:13:16.176147Z\", \"created_time\": \"2021-02-12T19:12:08.847948Z\", \"created_time_dt\": \"2021-02-12T19:12:08.847948Z\", \"duration\": \"0:01:07\", \"iteration\": \"14\", \"goal\": \"AUC_weighted_max\", \"run_name\": \"RobustScaler, RandomForest\", \"run_properties\": \"copy=True, quantile_range=[10, 90], with_centering=True,\\n             with_scaling=False\", \"primary_metric\": 0.89350556, \"best_metric\": 0.90640573}, {\"run_id\": \"AutoML_4a20a98b-8950-493a-94dc-96a80e4ea82c_15\", \"run_number\": 65, \"metric\": null, \"status\": \"Completed\", \"run_type\": \"azureml.scriptrun\", \"training_percent\": \"100\", \"start_time\": \"2021-02-12T19:12:34.012245Z\", \"end_time\": \"2021-02-12T19:13:33.394671Z\", \"created_time\": \"2021-02-12T19:12:23.106531Z\", \"created_time_dt\": \"2021-02-12T19:12:23.106531Z\", \"duration\": \"0:01:10\", \"iteration\": \"15\", \"goal\": \"AUC_weighted_max\", \"run_name\": \"StandardScalerWrapper, KNN\", \"run_properties\": \"<azureml.automl.runtime.shared.model_wrappers.StandardScalerWrapper object at 0x7f65d242d7b8\", \"primary_metric\": 0.48227656, \"best_metric\": 0.90640573}, {\"run_id\": \"AutoML_4a20a98b-8950-493a-94dc-96a80e4ea82c_16\", \"run_number\": 66, \"metric\": null, \"status\": \"Completed\", \"run_type\": \"azureml.scriptrun\", \"training_percent\": \"100\", \"start_time\": \"2021-02-12T19:13:00.5064Z\", \"end_time\": \"2021-02-12T19:13:57.896525Z\", \"created_time\": \"2021-02-12T19:12:30.038247Z\", \"created_time_dt\": \"2021-02-12T19:12:30.038247Z\", \"duration\": \"0:01:27\", \"iteration\": \"16\", \"goal\": \"AUC_weighted_max\", \"run_name\": \"MinMaxScaler, RandomForest\", \"run_properties\": \"copy=True, feature_range=(0, 1\", \"primary_metric\": 0.88321435, \"best_metric\": 0.90640573}, {\"run_id\": \"AutoML_4a20a98b-8950-493a-94dc-96a80e4ea82c_17\", \"run_number\": 67, \"metric\": null, \"status\": \"Completed\", \"run_type\": \"azureml.scriptrun\", \"training_percent\": \"100\", \"start_time\": \"2021-02-12T19:13:20.037393Z\", \"end_time\": \"2021-02-12T19:14:23.98559Z\", \"created_time\": \"2021-02-12T19:13:00.08927Z\", \"created_time_dt\": \"2021-02-12T19:13:00.08927Z\", \"duration\": \"0:01:23\", \"iteration\": \"17\", \"goal\": \"AUC_weighted_max\", \"run_name\": \"MinMaxScaler, ExtremeRandomTrees\", \"run_properties\": \"copy=True, feature_range=(0, 1\", \"primary_metric\": 0.84288476, \"best_metric\": 0.90640573}, {\"run_id\": \"AutoML_4a20a98b-8950-493a-94dc-96a80e4ea82c_18\", \"run_number\": 68, \"metric\": null, \"status\": \"Completed\", \"run_type\": \"azureml.scriptrun\", \"training_percent\": \"100\", \"start_time\": \"2021-02-12T19:13:29.535395Z\", \"end_time\": \"2021-02-12T19:14:28.943463Z\", \"created_time\": \"2021-02-12T19:13:18.119496Z\", \"created_time_dt\": \"2021-02-12T19:13:18.119496Z\", \"duration\": \"0:01:10\", \"iteration\": \"18\", \"goal\": \"AUC_weighted_max\", \"run_name\": \"MaxAbsScaler, RandomForest\", \"run_properties\": \"copy=True\", \"primary_metric\": 0.90010126, \"best_metric\": 0.90640573}, {\"run_id\": \"AutoML_4a20a98b-8950-493a-94dc-96a80e4ea82c_19\", \"run_number\": 69, \"metric\": null, \"status\": \"Completed\", \"run_type\": \"azureml.scriptrun\", \"training_percent\": \"100\", \"start_time\": \"2021-02-12T19:14:03.565998Z\", \"end_time\": \"2021-02-12T19:14:57.941409Z\", \"created_time\": \"2021-02-12T19:13:25.196894Z\", \"created_time_dt\": \"2021-02-12T19:13:25.196894Z\", \"duration\": \"0:01:32\", \"iteration\": \"19\", \"goal\": \"AUC_weighted_max\", \"run_name\": \"StandardScalerWrapper, XGBoostClassifier\", \"run_properties\": \"<azureml.automl.runtime.shared.model_wrappers.StandardScalerWrapper object at 0x7f7e4f1084e0\", \"primary_metric\": 0.90756635, \"best_metric\": 0.90756635}, {\"run_id\": \"AutoML_4a20a98b-8950-493a-94dc-96a80e4ea82c_20\", \"run_number\": 70, \"metric\": null, \"status\": \"Completed\", \"run_type\": \"azureml.scriptrun\", \"training_percent\": \"100\", \"start_time\": \"2021-02-12T19:14:26.413961Z\", \"end_time\": \"2021-02-12T19:15:33.862473Z\", \"created_time\": \"2021-02-12T19:13:39.100372Z\", \"created_time_dt\": \"2021-02-12T19:13:39.100372Z\", \"duration\": \"0:01:54\", \"iteration\": \"20\", \"goal\": \"AUC_weighted_max\", \"run_name\": \"MaxAbsScaler, RandomForest\", \"run_properties\": \"copy=True\", \"primary_metric\": 0.87726643, \"best_metric\": 0.90756635}, {\"run_id\": \"AutoML_4a20a98b-8950-493a-94dc-96a80e4ea82c_21\", \"run_number\": 71, \"metric\": null, \"status\": \"Completed\", \"run_type\": \"azureml.scriptrun\", \"training_percent\": \"100\", \"start_time\": \"2021-02-12T19:14:30.77477Z\", \"end_time\": \"2021-02-12T19:15:27.878116Z\", \"created_time\": \"2021-02-12T19:14:06.310443Z\", \"created_time_dt\": \"2021-02-12T19:14:06.310443Z\", \"duration\": \"0:01:21\", \"iteration\": \"21\", \"goal\": \"AUC_weighted_max\", \"run_name\": \"MaxAbsScaler, ExtremeRandomTrees\", \"run_properties\": \"copy=True\", \"primary_metric\": 0.83965896, \"best_metric\": 0.90756635}, {\"run_id\": \"AutoML_4a20a98b-8950-493a-94dc-96a80e4ea82c_22\", \"run_number\": 72, \"metric\": null, \"status\": \"Completed\", \"run_type\": \"azureml.scriptrun\", \"training_percent\": \"100\", \"start_time\": \"2021-02-12T19:14:59.584575Z\", \"end_time\": \"2021-02-12T19:16:02.967318Z\", \"created_time\": \"2021-02-12T19:14:27.894798Z\", \"created_time_dt\": \"2021-02-12T19:14:27.894798Z\", \"duration\": \"0:01:35\", \"iteration\": \"22\", \"goal\": \"AUC_weighted_max\", \"run_name\": \"MaxAbsScaler, ExtremeRandomTrees\", \"run_properties\": \"copy=True\", \"primary_metric\": 0.88158518, \"best_metric\": 0.90756635}, {\"run_id\": \"AutoML_4a20a98b-8950-493a-94dc-96a80e4ea82c_23\", \"run_number\": 73, \"metric\": null, \"status\": \"Completed\", \"run_type\": \"azureml.scriptrun\", \"training_percent\": \"100\", \"start_time\": \"2021-02-12T19:15:32.4082Z\", \"end_time\": \"2021-02-12T19:16:26.425753Z\", \"created_time\": \"2021-02-12T19:14:33.36112Z\", \"created_time_dt\": \"2021-02-12T19:14:33.36112Z\", \"duration\": \"0:01:53\", \"iteration\": \"23\", \"goal\": \"AUC_weighted_max\", \"run_name\": \"MinMaxScaler, RandomForest\", \"run_properties\": \"copy=True, feature_range=(0, 1\", \"primary_metric\": 0.91104974, \"best_metric\": 0.91104974}, {\"run_id\": \"AutoML_4a20a98b-8950-493a-94dc-96a80e4ea82c_24\", \"run_number\": 74, \"metric\": null, \"status\": \"Completed\", \"run_type\": \"azureml.scriptrun\", \"training_percent\": \"100\", \"start_time\": \"2021-02-12T19:15:39.041011Z\", \"end_time\": \"2021-02-12T19:16:36.765302Z\", \"created_time\": \"2021-02-12T19:15:01.949269Z\", \"created_time_dt\": \"2021-02-12T19:15:01.949269Z\", \"duration\": \"0:01:34\", \"iteration\": \"24\", \"goal\": \"AUC_weighted_max\", \"run_name\": \"MinMaxScaler, ExtremeRandomTrees\", \"run_properties\": \"copy=True, feature_range=(0, 1\", \"primary_metric\": 0.90144634, \"best_metric\": 0.91104974}, {\"run_id\": \"AutoML_4a20a98b-8950-493a-94dc-96a80e4ea82c_25\", \"run_number\": 75, \"metric\": null, \"status\": \"Completed\", \"run_type\": \"azureml.scriptrun\", \"training_percent\": \"100\", \"start_time\": \"2021-02-12T19:16:07.660826Z\", \"end_time\": \"2021-02-12T19:17:04.444864Z\", \"created_time\": \"2021-02-12T19:15:32.483609Z\", \"created_time_dt\": \"2021-02-12T19:15:32.483609Z\", \"duration\": \"0:01:31\", \"iteration\": \"25\", \"goal\": \"AUC_weighted_max\", \"run_name\": \"TruncatedSVDWrapper, XGBoostClassifier\", \"run_properties\": \"n_components=0.20789473684210527, random_state=None\", \"primary_metric\": 0.5, \"best_metric\": 0.91104974}, {\"run_id\": \"AutoML_4a20a98b-8950-493a-94dc-96a80e4ea82c_26\", \"run_number\": 76, \"metric\": null, \"status\": \"Completed\", \"run_type\": \"azureml.scriptrun\", \"training_percent\": \"100\", \"start_time\": \"2021-02-12T19:16:30.836582Z\", \"end_time\": \"2021-02-12T19:17:40.470985Z\", \"created_time\": \"2021-02-12T19:15:36.485966Z\", \"created_time_dt\": \"2021-02-12T19:15:36.485966Z\", \"duration\": \"0:02:03\", \"iteration\": \"26\", \"goal\": \"AUC_weighted_max\", \"run_name\": \"MaxAbsScaler, ExtremeRandomTrees\", \"run_properties\": \"copy=True\", \"primary_metric\": 0.89528883, \"best_metric\": 0.91104974}, {\"run_id\": \"AutoML_4a20a98b-8950-493a-94dc-96a80e4ea82c_27\", \"run_number\": 77, \"metric\": null, \"status\": \"Completed\", \"run_type\": \"azureml.scriptrun\", \"training_percent\": \"100\", \"start_time\": \"2021-02-12T19:16:41.079998Z\", \"end_time\": \"2021-02-12T19:17:37.85263Z\", \"created_time\": \"2021-02-12T19:16:05.865595Z\", \"created_time_dt\": \"2021-02-12T19:16:05.865595Z\", \"duration\": \"0:01:31\", \"iteration\": \"27\", \"goal\": \"AUC_weighted_max\", \"run_name\": \"StandardScalerWrapper, XGBoostClassifier\", \"run_properties\": \"<azureml.automl.runtime.shared.model_wrappers.StandardScalerWrapper object at 0x7f3690060eb8\", \"primary_metric\": 0.90305083, \"best_metric\": 0.91104974}, {\"run_id\": \"AutoML_4a20a98b-8950-493a-94dc-96a80e4ea82c_28\", \"run_number\": 78, \"metric\": null, \"status\": \"Completed\", \"run_type\": \"azureml.scriptrun\", \"training_percent\": \"100\", \"start_time\": \"2021-02-12T19:17:07.431291Z\", \"end_time\": \"2021-02-12T19:18:09.258817Z\", \"created_time\": \"2021-02-12T19:16:29.078585Z\", \"created_time_dt\": \"2021-02-12T19:16:29.078585Z\", \"duration\": \"0:01:40\", \"iteration\": \"28\", \"goal\": \"AUC_weighted_max\", \"run_name\": \"StandardScalerWrapper, LightGBM\", \"run_properties\": \"<azureml.automl.runtime.shared.model_wrappers.StandardScalerWrapper object at 0x7f7b0fbcb240\", \"primary_metric\": 0.86381741, \"best_metric\": 0.91104974}, {\"run_id\": \"AutoML_4a20a98b-8950-493a-94dc-96a80e4ea82c_29\", \"run_number\": 79, \"metric\": null, \"status\": \"Completed\", \"run_type\": \"azureml.scriptrun\", \"training_percent\": \"100\", \"start_time\": \"2021-02-12T19:17:28.73465Z\", \"end_time\": \"2021-02-12T19:18:30.09927Z\", \"created_time\": \"2021-02-12T19:16:39.938963Z\", \"created_time_dt\": \"2021-02-12T19:16:39.938963Z\", \"duration\": \"0:01:50\", \"iteration\": \"29\", \"goal\": \"AUC_weighted_max\", \"run_name\": \"RobustScaler, LightGBM\", \"run_properties\": \"copy=True, quantile_range=[10, 90], with_centering=True,\\n             with_scaling=True\", \"primary_metric\": 0.90323466, \"best_metric\": 0.91104974}, {\"run_id\": \"AutoML_4a20a98b-8950-493a-94dc-96a80e4ea82c_30\", \"run_number\": 80, \"metric\": null, \"status\": \"Completed\", \"run_type\": \"azureml.scriptrun\", \"training_percent\": \"100\", \"start_time\": \"2021-02-12T19:17:42.960194Z\", \"end_time\": \"2021-02-12T19:18:57.479362Z\", \"created_time\": \"2021-02-12T19:17:07.860887Z\", \"created_time_dt\": \"2021-02-12T19:17:07.860887Z\", \"duration\": \"0:01:49\", \"iteration\": \"30\", \"goal\": \"AUC_weighted_max\", \"run_name\": \"StandardScalerWrapper, RandomForest\", \"run_properties\": \"<azureml.automl.runtime.shared.model_wrappers.StandardScalerWrapper object at 0x7fcf3d5349b0\", \"primary_metric\": 0.90698016, \"best_metric\": 0.91104974}, {\"run_id\": \"AutoML_4a20a98b-8950-493a-94dc-96a80e4ea82c_31\", \"run_number\": 81, \"metric\": null, \"status\": \"Completed\", \"run_type\": \"azureml.scriptrun\", \"training_percent\": \"100\", \"start_time\": \"2021-02-12T19:18:11.697215Z\", \"end_time\": \"2021-02-12T19:19:17.06607Z\", \"created_time\": \"2021-02-12T19:17:40.578337Z\", \"created_time_dt\": \"2021-02-12T19:17:40.578337Z\", \"duration\": \"0:01:36\", \"iteration\": \"31\", \"goal\": \"AUC_weighted_max\", \"run_name\": \"StandardScalerWrapper, XGBoostClassifier\", \"run_properties\": \"<azureml.automl.runtime.shared.model_wrappers.StandardScalerWrapper object at 0x7f29d09df908\", \"primary_metric\": 0.9061448, \"best_metric\": 0.91104974}, {\"run_id\": \"AutoML_4a20a98b-8950-493a-94dc-96a80e4ea82c_32\", \"run_number\": 82, \"metric\": null, \"status\": \"Completed\", \"run_type\": \"azureml.scriptrun\", \"training_percent\": \"100\", \"start_time\": \"2021-02-12T19:18:33.526683Z\", \"end_time\": \"2021-02-12T19:19:31.297618Z\", \"created_time\": \"2021-02-12T19:17:44.978459Z\", \"created_time_dt\": \"2021-02-12T19:17:44.978459Z\", \"duration\": \"0:01:46\", \"iteration\": \"32\", \"goal\": \"AUC_weighted_max\", \"run_name\": \"StandardScalerWrapper, XGBoostClassifier\", \"run_properties\": \"<azureml.automl.runtime.shared.model_wrappers.StandardScalerWrapper object at 0x7fefc1ae01d0\", \"primary_metric\": 0.89469523, \"best_metric\": 0.91104974}, {\"run_id\": \"AutoML_4a20a98b-8950-493a-94dc-96a80e4ea82c_33\", \"run_number\": 83, \"metric\": null, \"status\": \"Completed\", \"run_type\": \"azureml.scriptrun\", \"training_percent\": \"100\", \"start_time\": \"2021-02-12T19:19:01.39479Z\", \"end_time\": \"2021-02-12T19:20:02.346277Z\", \"created_time\": \"2021-02-12T19:18:11.443494Z\", \"created_time_dt\": \"2021-02-12T19:18:11.443494Z\", \"duration\": \"0:01:50\", \"iteration\": \"33\", \"goal\": \"AUC_weighted_max\", \"run_name\": \"StandardScalerWrapper, XGBoostClassifier\", \"run_properties\": \"<azureml.automl.runtime.shared.model_wrappers.StandardScalerWrapper object at 0x7fd48efc7080\", \"primary_metric\": 0.90443803, \"best_metric\": 0.91104974}, {\"run_id\": \"AutoML_4a20a98b-8950-493a-94dc-96a80e4ea82c_34\", \"run_number\": 84, \"metric\": null, \"status\": \"Completed\", \"run_type\": \"azureml.scriptrun\", \"training_percent\": \"100\", \"start_time\": \"2021-02-12T19:19:00.4894Z\", \"end_time\": \"2021-02-12T19:19:57.592313Z\", \"created_time\": \"2021-02-12T19:18:33.075355Z\", \"created_time_dt\": \"2021-02-12T19:18:33.075355Z\", \"duration\": \"0:01:24\", \"iteration\": \"34\", \"goal\": \"AUC_weighted_max\", \"run_name\": \"StandardScalerWrapper, XGBoostClassifier\", \"run_properties\": \"<azureml.automl.runtime.shared.model_wrappers.StandardScalerWrapper object at 0x7fe9301ea6a0\", \"primary_metric\": 0.91465702, \"best_metric\": 0.91465702}, {\"run_id\": \"AutoML_4a20a98b-8950-493a-94dc-96a80e4ea82c_35\", \"run_number\": 85, \"metric\": null, \"status\": \"Completed\", \"run_type\": \"azureml.scriptrun\", \"training_percent\": \"100\", \"start_time\": \"2021-02-12T19:19:21.537799Z\", \"end_time\": \"2021-02-12T19:20:15.799488Z\", \"created_time\": \"2021-02-12T19:19:00.912335Z\", \"created_time_dt\": \"2021-02-12T19:19:00.912335Z\", \"duration\": \"0:01:14\", \"iteration\": \"35\", \"goal\": \"AUC_weighted_max\", \"run_name\": \"StandardScalerWrapper, RandomForest\", \"run_properties\": \"<azureml.automl.runtime.shared.model_wrappers.StandardScalerWrapper object at 0x7f818ac9ccc0\", \"primary_metric\": 0.75564123, \"best_metric\": 0.91465702}, {\"run_id\": \"AutoML_4a20a98b-8950-493a-94dc-96a80e4ea82c_36\", \"run_number\": 86, \"metric\": null, \"status\": \"Completed\", \"run_type\": \"azureml.scriptrun\", \"training_percent\": \"100\", \"start_time\": \"2021-02-12T19:19:35.417966Z\", \"end_time\": \"2021-02-12T19:20:31.573109Z\", \"created_time\": \"2021-02-12T19:19:20.158317Z\", \"created_time_dt\": \"2021-02-12T19:19:20.158317Z\", \"duration\": \"0:01:11\", \"iteration\": \"36\", \"goal\": \"AUC_weighted_max\", \"run_name\": \"StandardScalerWrapper, XGBoostClassifier\", \"run_properties\": \"<azureml.automl.runtime.shared.model_wrappers.StandardScalerWrapper object at 0x7fee2bc05f60\", \"primary_metric\": 0.90873127, \"best_metric\": 0.91465702}, {\"run_id\": \"AutoML_4a20a98b-8950-493a-94dc-96a80e4ea82c_37\", \"run_number\": 87, \"metric\": null, \"status\": \"Completed\", \"run_type\": \"azureml.scriptrun\", \"training_percent\": \"100\", \"start_time\": \"2021-02-12T19:20:00.91821Z\", \"end_time\": \"2021-02-12T19:21:08.778059Z\", \"created_time\": \"2021-02-12T19:19:33.492032Z\", \"created_time_dt\": \"2021-02-12T19:19:33.492032Z\", \"duration\": \"0:01:35\", \"iteration\": \"37\", \"goal\": \"AUC_weighted_max\", \"run_name\": \"StandardScalerWrapper, RandomForest\", \"run_properties\": \"<azureml.automl.runtime.shared.model_wrappers.StandardScalerWrapper object at 0x7f22ada61908\", \"primary_metric\": 0.9105538, \"best_metric\": 0.91465702}, {\"run_id\": \"AutoML_4a20a98b-8950-493a-94dc-96a80e4ea82c_38\", \"run_number\": 88, \"metric\": null, \"status\": \"Completed\", \"run_type\": \"azureml.scriptrun\", \"training_percent\": \"100\", \"start_time\": \"2021-02-12T19:20:11.312463Z\", \"end_time\": \"2021-02-12T19:21:11.709476Z\", \"created_time\": \"2021-02-12T19:20:00.384844Z\", \"created_time_dt\": \"2021-02-12T19:20:00.384844Z\", \"duration\": \"0:01:11\", \"iteration\": \"38\", \"goal\": \"AUC_weighted_max\", \"run_name\": \"RobustScaler, ExtremeRandomTrees\", \"run_properties\": \"copy=True, quantile_range=[25, 75], with_centering=True,\\n             with_scaling=True\", \"primary_metric\": 0.90578878, \"best_metric\": 0.91465702}, {\"run_id\": \"AutoML_4a20a98b-8950-493a-94dc-96a80e4ea82c_39\", \"run_number\": 89, \"metric\": null, \"status\": \"Completed\", \"run_type\": \"azureml.scriptrun\", \"training_percent\": \"100\", \"start_time\": \"2021-02-12T19:20:20.18195Z\", \"end_time\": \"2021-02-12T19:21:09.908155Z\", \"created_time\": \"2021-02-12T19:20:04.893534Z\", \"created_time_dt\": \"2021-02-12T19:20:04.893534Z\", \"duration\": \"0:01:05\", \"iteration\": \"39\", \"goal\": \"AUC_weighted_max\", \"run_name\": \"MinMaxScaler, RandomForest\", \"run_properties\": \"copy=True, feature_range=(0, 1\", \"primary_metric\": 0.90490716, \"best_metric\": 0.91465702}, {\"run_id\": \"AutoML_4a20a98b-8950-493a-94dc-96a80e4ea82c_40\", \"run_number\": 90, \"metric\": null, \"status\": \"Completed\", \"run_type\": \"azureml.scriptrun\", \"training_percent\": \"100\", \"start_time\": \"2021-02-12T19:20:33.426701Z\", \"end_time\": \"2021-02-12T19:21:32.305343Z\", \"created_time\": \"2021-02-12T19:20:19.304687Z\", \"created_time_dt\": \"2021-02-12T19:20:19.304687Z\", \"duration\": \"0:01:13\", \"iteration\": \"40\", \"goal\": \"AUC_weighted_max\", \"run_name\": \"StandardScalerWrapper, XGBoostClassifier\", \"run_properties\": \"<azureml.automl.runtime.shared.model_wrappers.StandardScalerWrapper object at 0x7effe8beecc0\", \"primary_metric\": 0.89940859, \"best_metric\": 0.91465702}, {\"run_id\": \"AutoML_4a20a98b-8950-493a-94dc-96a80e4ea82c_41\", \"run_number\": 91, \"metric\": null, \"status\": \"Completed\", \"run_type\": \"azureml.scriptrun\", \"training_percent\": \"100\", \"start_time\": \"2021-02-12T19:21:13.052242Z\", \"end_time\": \"2021-02-12T19:22:10.221159Z\", \"created_time\": \"2021-02-12T19:20:33.790744Z\", \"created_time_dt\": \"2021-02-12T19:20:33.790744Z\", \"duration\": \"0:01:36\", \"iteration\": \"41\", \"goal\": \"AUC_weighted_max\", \"run_name\": \"MaxAbsScaler, GradientBoosting\", \"run_properties\": \"copy=True\", \"primary_metric\": 0.91468409, \"best_metric\": 0.91468409}, {\"run_id\": \"AutoML_4a20a98b-8950-493a-94dc-96a80e4ea82c_42\", \"run_number\": 92, \"metric\": null, \"status\": \"Completed\", \"run_type\": \"azureml.scriptrun\", \"training_percent\": \"100\", \"start_time\": \"2021-02-12T19:21:23.678989Z\", \"end_time\": \"2021-02-12T19:22:20.78977Z\", \"created_time\": \"2021-02-12T19:21:11.146261Z\", \"created_time_dt\": \"2021-02-12T19:21:11.146261Z\", \"duration\": \"0:01:09\", \"iteration\": \"42\", \"goal\": \"AUC_weighted_max\", \"run_name\": \"StandardScalerWrapper, SVM\", \"run_properties\": \"<azureml.automl.runtime.shared.model_wrappers.StandardScalerWrapper object at 0x7f898a9bbb00\", \"primary_metric\": 0.8767931, \"best_metric\": 0.91468409}, {\"run_id\": \"AutoML_4a20a98b-8950-493a-94dc-96a80e4ea82c_43\", \"run_number\": 93, \"metric\": null, \"status\": \"Completed\", \"run_type\": \"azureml.scriptrun\", \"training_percent\": \"100\", \"start_time\": \"2021-02-12T19:21:34.052125Z\", \"end_time\": \"2021-02-12T19:22:30.654166Z\", \"created_time\": \"2021-02-12T19:21:15.469161Z\", \"created_time_dt\": \"2021-02-12T19:21:15.469161Z\", \"duration\": \"0:01:15\", \"iteration\": \"43\", \"goal\": \"AUC_weighted_max\", \"run_name\": \"MinMaxScaler, LogisticRegression\", \"run_properties\": \"copy=True, feature_range=(0, 1\", \"primary_metric\": 0.86799052, \"best_metric\": 0.91468409}, {\"run_id\": \"AutoML_4a20a98b-8950-493a-94dc-96a80e4ea82c_44\", \"run_number\": 94, \"metric\": null, \"status\": \"Completed\", \"run_type\": \"azureml.scriptrun\", \"training_percent\": \"100\", \"start_time\": \"2021-02-12T19:21:27.321018Z\", \"end_time\": \"2021-02-12T19:22:24.365947Z\", \"created_time\": \"2021-02-12T19:21:15.589996Z\", \"created_time_dt\": \"2021-02-12T19:21:15.589996Z\", \"duration\": \"0:01:08\", \"iteration\": \"44\", \"goal\": \"AUC_weighted_max\", \"run_name\": \"RobustScaler, GradientBoosting\", \"run_properties\": \"copy=True, quantile_range=[25, 75], with_centering=False,\\n             with_scaling=False\", \"primary_metric\": 0.89971731, \"best_metric\": 0.91468409}, {\"run_id\": \"AutoML_4a20a98b-8950-493a-94dc-96a80e4ea82c_45\", \"run_number\": 95, \"metric\": null, \"status\": \"Completed\", \"run_type\": \"azureml.scriptrun\", \"training_percent\": \"100\", \"start_time\": \"2021-02-12T19:22:16.369287Z\", \"end_time\": \"2021-02-12T19:23:18.035457Z\", \"created_time\": \"2021-02-12T19:21:36.794603Z\", \"created_time_dt\": \"2021-02-12T19:21:36.794603Z\", \"duration\": \"0:01:41\", \"iteration\": \"45\", \"goal\": \"AUC_weighted_max\", \"run_name\": \"StandardScalerWrapper, XGBoostClassifier\", \"run_properties\": \"<azureml.automl.runtime.shared.model_wrappers.StandardScalerWrapper object at 0x7f47b367cf98\", \"primary_metric\": 0.9077314, \"best_metric\": 0.91468409}, {\"run_id\": \"AutoML_4a20a98b-8950-493a-94dc-96a80e4ea82c_46\", \"run_number\": 96, \"metric\": null, \"status\": \"Completed\", \"run_type\": \"azureml.scriptrun\", \"training_percent\": \"100\", \"start_time\": \"2021-02-12T19:22:24.596786Z\", \"end_time\": \"2021-02-12T19:23:26.57493Z\", \"created_time\": \"2021-02-12T19:22:13.084021Z\", \"created_time_dt\": \"2021-02-12T19:22:13.084021Z\", \"duration\": \"0:01:13\", \"iteration\": \"46\", \"goal\": \"AUC_weighted_max\", \"run_name\": \"MaxAbsScaler, LightGBM\", \"run_properties\": \"copy=True\", \"primary_metric\": 0.89195445, \"best_metric\": 0.91468409}, {\"run_id\": \"AutoML_4a20a98b-8950-493a-94dc-96a80e4ea82c_47\", \"run_number\": 97, \"metric\": null, \"status\": \"Completed\", \"run_type\": \"azureml.scriptrun\", \"training_percent\": \"100\", \"start_time\": \"2021-02-12T19:22:33.89982Z\", \"end_time\": \"2021-02-12T19:23:24.689091Z\", \"created_time\": \"2021-02-12T19:22:23.103328Z\", \"created_time_dt\": \"2021-02-12T19:22:23.103328Z\", \"duration\": \"0:01:01\", \"iteration\": \"47\", \"goal\": \"AUC_weighted_max\", \"run_name\": \"MinMaxScaler, RandomForest\", \"run_properties\": \"copy=True, feature_range=(0, 1\", \"primary_metric\": 0.9091609, \"best_metric\": 0.91468409}, {\"run_id\": \"AutoML_4a20a98b-8950-493a-94dc-96a80e4ea82c_48\", \"run_number\": 98, \"metric\": null, \"status\": \"Completed\", \"run_type\": \"azureml.scriptrun\", \"training_percent\": \"100\", \"start_time\": \"2021-02-12T19:22:39.441485Z\", \"end_time\": \"2021-02-12T19:23:34.28447Z\", \"created_time\": \"2021-02-12T19:22:27.051559Z\", \"created_time_dt\": \"2021-02-12T19:22:27.051559Z\", \"duration\": \"0:01:07\", \"iteration\": \"48\", \"goal\": \"AUC_weighted_max\", \"run_name\": \"RobustScaler, ExtremeRandomTrees\", \"run_properties\": \"copy=True, quantile_range=[10, 90], with_centering=False,\\n             with_scaling=False\", \"primary_metric\": 0.89321316, \"best_metric\": 0.91468409}, {\"run_id\": \"AutoML_4a20a98b-8950-493a-94dc-96a80e4ea82c_49\", \"run_number\": 99, \"metric\": null, \"status\": \"Completed\", \"run_type\": \"azureml.scriptrun\", \"training_percent\": \"100\", \"start_time\": \"2021-02-12T19:23:21.109648Z\", \"end_time\": \"2021-02-12T19:24:21.407211Z\", \"created_time\": \"2021-02-12T19:22:33.061122Z\", \"created_time_dt\": \"2021-02-12T19:22:33.061122Z\", \"duration\": \"0:01:48\", \"iteration\": \"49\", \"goal\": \"AUC_weighted_max\", \"run_name\": \"MaxAbsScaler, LightGBM\", \"run_properties\": \"copy=True\", \"primary_metric\": 0.89573104, \"best_metric\": 0.91468409}, {\"run_id\": \"AutoML_4a20a98b-8950-493a-94dc-96a80e4ea82c_50\", \"run_number\": 100, \"metric\": null, \"status\": \"Completed\", \"run_type\": \"azureml.scriptrun\", \"training_percent\": \"100\", \"start_time\": \"2021-02-12T19:23:34.330442Z\", \"end_time\": \"2021-02-12T19:24:29.427009Z\", \"created_time\": \"2021-02-12T19:23:21.533642Z\", \"created_time_dt\": \"2021-02-12T19:23:21.533642Z\", \"duration\": \"0:01:07\", \"iteration\": \"50\", \"goal\": \"AUC_weighted_max\", \"run_name\": \"StandardScalerWrapper, GradientBoosting\", \"run_properties\": \"<azureml.automl.runtime.shared.model_wrappers.StandardScalerWrapper object at 0x7f60f94e92e8\", \"primary_metric\": 0.90351968, \"best_metric\": 0.91468409}, {\"run_id\": \"AutoML_4a20a98b-8950-493a-94dc-96a80e4ea82c_51\", \"run_number\": 101, \"metric\": null, \"status\": \"Completed\", \"run_type\": \"azureml.scriptrun\", \"training_percent\": \"100\", \"start_time\": \"2021-02-12T19:23:38.796667Z\", \"end_time\": \"2021-02-12T19:24:27.561453Z\", \"created_time\": \"2021-02-12T19:23:26.943035Z\", \"created_time_dt\": \"2021-02-12T19:23:26.943035Z\", \"duration\": \"0:01:00\", \"iteration\": \"51\", \"goal\": \"AUC_weighted_max\", \"run_name\": \"StandardScalerWrapper, LogisticRegression\", \"run_properties\": \"<azureml.automl.runtime.shared.model_wrappers.StandardScalerWrapper object at 0x7f7c9288cf98\", \"primary_metric\": 0.87019285, \"best_metric\": 0.91468409}, {\"run_id\": \"AutoML_4a20a98b-8950-493a-94dc-96a80e4ea82c_52\", \"run_number\": 102, \"metric\": null, \"status\": \"Completed\", \"run_type\": \"azureml.scriptrun\", \"training_percent\": \"100\", \"start_time\": \"2021-02-12T19:23:43.928128Z\", \"end_time\": \"2021-02-12T19:24:34.366623Z\", \"created_time\": \"2021-02-12T19:23:32.686589Z\", \"created_time_dt\": \"2021-02-12T19:23:32.686589Z\", \"duration\": \"0:01:01\", \"iteration\": \"52\", \"goal\": \"AUC_weighted_max\", \"run_name\": \"MaxAbsScaler, GradientBoosting\", \"run_properties\": \"copy=True\", \"primary_metric\": 0.90764463, \"best_metric\": 0.91468409}, {\"run_id\": \"AutoML_4a20a98b-8950-493a-94dc-96a80e4ea82c_53\", \"run_number\": 103, \"metric\": null, \"status\": \"Completed\", \"run_type\": \"azureml.scriptrun\", \"training_percent\": \"100\", \"start_time\": \"2021-02-12T19:24:23.779954Z\", \"end_time\": \"2021-02-12T19:25:21.087112Z\", \"created_time\": \"2021-02-12T19:23:36.901676Z\", \"created_time_dt\": \"2021-02-12T19:23:36.901676Z\", \"duration\": \"0:01:44\", \"iteration\": \"53\", \"goal\": \"AUC_weighted_max\", \"run_name\": \"StandardScalerWrapper, XGBoostClassifier\", \"run_properties\": \"<azureml.automl.runtime.shared.model_wrappers.StandardScalerWrapper object at 0x7f56d952e4a8\", \"primary_metric\": 0.90133935, \"best_metric\": 0.91468409}, {\"run_id\": \"AutoML_4a20a98b-8950-493a-94dc-96a80e4ea82c_54\", \"run_number\": 104, \"metric\": null, \"status\": \"Completed\", \"run_type\": \"azureml.scriptrun\", \"training_percent\": \"100\", \"start_time\": \"2021-02-12T19:24:35.370015Z\", \"end_time\": \"2021-02-12T19:25:36.390788Z\", \"created_time\": \"2021-02-12T19:24:23.892833Z\", \"created_time_dt\": \"2021-02-12T19:24:23.892833Z\", \"duration\": \"0:01:12\", \"iteration\": \"54\", \"goal\": \"AUC_weighted_max\", \"run_name\": \"StandardScalerWrapper, LightGBM\", \"run_properties\": \"<azureml.automl.runtime.shared.model_wrappers.StandardScalerWrapper object at 0x7f70396e8278\", \"primary_metric\": 0.89509113, \"best_metric\": 0.91468409}, {\"run_id\": \"AutoML_4a20a98b-8950-493a-94dc-96a80e4ea82c_55\", \"run_number\": 105, \"metric\": null, \"status\": \"Completed\", \"run_type\": \"azureml.scriptrun\", \"training_percent\": \"100\", \"start_time\": \"2021-02-12T19:24:43.201119Z\", \"end_time\": \"2021-02-12T19:25:35.11293Z\", \"created_time\": \"2021-02-12T19:24:30.743985Z\", \"created_time_dt\": \"2021-02-12T19:24:30.743985Z\", \"duration\": \"0:01:04\", \"iteration\": \"55\", \"goal\": \"AUC_weighted_max\", \"run_name\": \"StandardScalerWrapper, GradientBoosting\", \"run_properties\": \"<azureml.automl.runtime.shared.model_wrappers.StandardScalerWrapper object at 0x7f011766b160\", \"primary_metric\": 0.78555918, \"best_metric\": 0.91468409}, {\"run_id\": \"AutoML_4a20a98b-8950-493a-94dc-96a80e4ea82c_56\", \"run_number\": 106, \"metric\": null, \"status\": \"Canceled\", \"run_type\": \"azureml.scriptrun\", \"training_percent\": \"100\", \"start_time\": \"2021-02-12T19:24:49.158947Z\", \"end_time\": \"2021-02-12T19:25:46.43264Z\", \"created_time\": \"2021-02-12T19:24:35.219773Z\", \"created_time_dt\": \"2021-02-12T19:24:35.219773Z\", \"duration\": \"0:01:11\", \"iteration\": \"56\", \"goal\": \"AUC_weighted_max\", \"run_name\": \"StandardScalerWrapper, RandomForest\", \"run_properties\": \"<azureml.automl.runtime.shared.model_wrappers.StandardScalerWrapper object at 0x7f684e5d8668\", \"primary_metric\": 0.90158843, \"best_metric\": 0.91468409}, {\"run_id\": \"AutoML_4a20a98b-8950-493a-94dc-96a80e4ea82c_57\", \"run_number\": 107, \"metric\": null, \"status\": \"Canceled\", \"run_type\": \"azureml.scriptrun\", \"training_percent\": \"100\", \"start_time\": \"2021-02-12T19:25:25.712184Z\", \"end_time\": \"2021-02-12T19:25:48.578053Z\", \"created_time\": \"2021-02-12T19:24:41.124805Z\", \"created_time_dt\": \"2021-02-12T19:24:41.124805Z\", \"duration\": \"0:01:07\", \"iteration\": \"57\", \"goal\": null, \"run_name\": \"Canceled\", \"run_properties\": null}, {\"run_id\": \"AutoML_4a20a98b-8950-493a-94dc-96a80e4ea82c_58\", \"run_number\": 108, \"metric\": null, \"status\": \"Canceled\", \"run_type\": \"azureml.scriptrun\", \"training_percent\": \"100\", \"start_time\": \"2021-02-12T19:25:37.926332Z\", \"end_time\": \"2021-02-12T19:25:47.796656Z\", \"created_time\": \"2021-02-12T19:25:23.672329Z\", \"created_time_dt\": \"2021-02-12T19:25:23.672329Z\", \"duration\": \"0:00:24\", \"iteration\": \"58\", \"goal\": null, \"run_name\": \"Canceled\", \"run_properties\": null}, {\"run_id\": \"AutoML_4a20a98b-8950-493a-94dc-96a80e4ea82c_59\", \"run_number\": 109, \"metric\": null, \"status\": \"Canceled\", \"run_type\": \"azureml.scriptrun\", \"training_percent\": \"100\", \"start_time\": \"2021-02-12T19:25:37.350476Z\", \"end_time\": \"2021-02-12T19:25:53.851153Z\", \"created_time\": \"2021-02-12T19:25:37.350476Z\", \"created_time_dt\": \"2021-02-12T19:25:37.350476Z\", \"duration\": \"0:00:16\", \"iteration\": \"59\", \"goal\": null, \"run_name\": \"Canceled\", \"run_properties\": null}, {\"run_id\": \"AutoML_4a20a98b-8950-493a-94dc-96a80e4ea82c_60\", \"run_number\": 110, \"metric\": null, \"status\": \"Completed\", \"run_type\": \"azureml.scriptrun\", \"training_percent\": \"100\", \"start_time\": \"2021-02-12T19:26:08.8818Z\", \"end_time\": \"2021-02-12T19:27:55.470386Z\", \"created_time\": \"2021-02-12T19:25:55.439204Z\", \"created_time_dt\": \"2021-02-12T19:25:55.439204Z\", \"duration\": \"0:02:00\", \"iteration\": \"60\", \"goal\": \"AUC_weighted_max\", \"run_name\": \"VotingEnsemble\", \"run_properties\": \"classification_labels=None,\\n                              estimators=[('41',\\n                                           Pipeline(memory=None,\\n                                                    steps=[('maxabsscaler',\\n                                                            MaxAbsScaler(copy=True\", \"primary_metric\": 0.91874557, \"best_metric\": 0.91874557}, {\"run_id\": \"AutoML_4a20a98b-8950-493a-94dc-96a80e4ea82c_61\", \"run_number\": 111, \"metric\": null, \"status\": \"Completed\", \"run_type\": \"azureml.scriptrun\", \"training_percent\": \"100\", \"start_time\": \"2021-02-12T19:26:08.470206Z\", \"end_time\": \"2021-02-12T19:28:14.10194Z\", \"created_time\": \"2021-02-12T19:25:55.573767Z\", \"created_time_dt\": \"2021-02-12T19:25:55.573767Z\", \"duration\": \"0:02:18\", \"iteration\": \"61\", \"goal\": \"AUC_weighted_max\", \"run_name\": \"StackEnsemble\", \"run_properties\": \"base_learners=[('41',\\n                                        Pipeline(memory=None,\\n                                                 steps=[('maxabsscaler',\\n                                                         MaxAbsScaler(copy=True\", \"primary_metric\": 0.91889835, \"best_metric\": 0.91889835}], \"children_metrics\": {\"categories\": [0], \"series\": {\"accuracy\": [{\"categories\": [\"0\", \"1\", \"2\", \"3\", \"4\", \"5\", \"6\", \"7\", \"8\", \"9\", \"10\", \"11\", \"12\", \"13\", \"14\", \"15\", \"16\", \"17\", \"18\", \"19\", \"20\", \"21\", \"22\", \"23\", \"24\", \"25\", \"26\", \"27\", \"28\", \"29\", \"30\", \"31\", \"32\", \"33\", \"34\", \"35\", \"36\", \"37\", \"38\", \"39\", \"40\", \"41\", \"42\", \"43\", \"44\", \"45\", \"46\", \"47\", \"48\", \"49\", \"50\", \"51\", \"52\", \"53\", \"54\", \"55\", \"56\", \"60\", \"61\"], \"mode\": \"markers\", \"name\": \"accuracy\", \"stepped\": false, \"type\": \"scatter\", \"data\": [0.8059887005649717, 0.8259322033898304, 0.8394350282485876, 0.7894350282485875, 0.8459322033898304, 0.8326553672316385, 0.8291525423728814, 0.8428813559322034, 0.7794350282485876, 0.7593220338983051, 0.7792655367231638, 0.8061016949152542, 0.7991525423728814, 0.8227118644067797, 0.8291525423728814, 0.6153107344632769, 0.7593220338983051, 0.7926553672316385, 0.8124293785310733, 0.8260451977401131, 0.8325988700564972, 0.7893220338983051, 0.8293220338983052, 0.8495480225988701, 0.8428248587570621, 0.67909604519774, 0.8159322033898304, 0.8324858757062147, 0.7725988700564972, 0.8260451977401131, 0.8225423728813558, 0.8358757062146893, 0.8327118644067797, 0.8326553672316385, 0.8427683615819209, 0.6855367231638418, 0.8359322033898305, 0.8461581920903954, 0.8562146892655367, 0.8158192090395481, 0.8292655367231638, 0.836045197740113, 0.8227118644067797, 0.8193785310734464, 0.8325423728813559, 0.8425988700564971, 0.8393785310734463, 0.8259322033898305, 0.8327683615819208, 0.8191525423728814, 0.67909604519774, 0.8160451977401131, 0.8394350282485876, 0.8426553672316384, 0.8058757062146894, 0.67909604519774, 0.8124858757062146, 0.8528248587570622, 0.7824293785310734]}, {\"categories\": [\"0\", \"1\", \"2\", \"3\", \"4\", \"5\", \"6\", \"7\", \"8\", \"9\", \"10\", \"11\", \"12\", \"13\", \"14\", \"15\", \"16\", \"17\", \"18\", \"19\", \"20\", \"21\", \"22\", \"23\", \"24\", \"25\", \"26\", \"27\", \"28\", \"29\", \"30\", \"31\", \"32\", \"33\", \"34\", \"35\", \"36\", \"37\", \"38\", \"39\", \"40\", \"41\", \"42\", \"43\", \"44\", \"45\", \"46\", \"47\", \"48\", \"49\", \"50\", \"51\", \"52\", \"53\", \"54\", \"55\", \"56\", \"60\", \"61\"], \"mode\": \"lines\", \"name\": \"accuracy_max\", \"stepped\": true, \"type\": \"scatter\", \"data\": [0.8059887005649717, 0.8259322033898304, 0.8394350282485876, 0.8394350282485876, 0.8459322033898304, 0.8459322033898304, 0.8459322033898304, 0.8459322033898304, 0.8459322033898304, 0.8459322033898304, 0.8459322033898304, 0.8459322033898304, 0.8459322033898304, 0.8459322033898304, 0.8459322033898304, 0.8459322033898304, 0.8459322033898304, 0.8459322033898304, 0.8459322033898304, 0.8459322033898304, 0.8459322033898304, 0.8459322033898304, 0.8459322033898304, 0.8495480225988701, 0.8495480225988701, 0.8495480225988701, 0.8495480225988701, 0.8495480225988701, 0.8495480225988701, 0.8495480225988701, 0.8495480225988701, 0.8495480225988701, 0.8495480225988701, 0.8495480225988701, 0.8495480225988701, 0.8495480225988701, 0.8495480225988701, 0.8495480225988701, 0.8562146892655367, 0.8562146892655367, 0.8562146892655367, 0.8562146892655367, 0.8562146892655367, 0.8562146892655367, 0.8562146892655367, 0.8562146892655367, 0.8562146892655367, 0.8562146892655367, 0.8562146892655367, 0.8562146892655367, 0.8562146892655367, 0.8562146892655367, 0.8562146892655367, 0.8562146892655367, 0.8562146892655367, 0.8562146892655367, 0.8562146892655367, 0.8562146892655367, 0.8562146892655367]}], \"AUC_macro\": [{\"categories\": [\"0\", \"1\", \"2\", \"3\", \"4\", \"5\", \"6\", \"7\", \"8\", \"9\", \"10\", \"11\", \"12\", \"13\", \"14\", \"15\", \"16\", \"17\", \"18\", \"19\", \"20\", \"21\", \"22\", \"23\", \"24\", \"25\", \"26\", \"27\", \"28\", \"29\", \"30\", \"31\", \"32\", \"33\", \"34\", \"35\", \"36\", \"37\", \"38\", \"39\", \"40\", \"41\", \"42\", \"43\", \"44\", \"45\", \"46\", \"47\", \"48\", \"49\", \"50\", \"51\", \"52\", \"53\", \"54\", \"55\", \"56\", \"60\", \"61\"], \"mode\": \"markers\", \"name\": \"AUC_macro\", \"stepped\": false, \"type\": \"scatter\", \"data\": [0.8811331210778885, 0.8929591177556295, 0.9064057308970099, 0.879109565337763, 0.9000820874861573, 0.8945453349944629, 0.8920811069582871, 0.8964391034514583, 0.8767048495754892, 0.7514726836471023, 0.8702115402362495, 0.8726153792912512, 0.8983790605389441, 0.8714409376153561, 0.8935055601698044, 0.48227655500184563, 0.8832143549280177, 0.8428847591362126, 0.9001012596899225, 0.9075663528977482, 0.8772701469638242, 0.8396589608711702, 0.8815851790328535, 0.9110497416020673, 0.9014463362864525, 0.5, 0.8952888289036544, 0.9030508259505353, 0.8638174141749723, 0.903234657622739, 0.9069801587301587, 0.9061447951273532, 0.8946952288667406, 0.9044380306386122, 0.9146570228866742, 0.7556412306201551, 0.9087312661498708, 0.9105538021410116, 0.9057887827611666, 0.9049071613141381, 0.8994085917312662, 0.9146840854558878, 0.8767930970837948, 0.8679905177187154, 0.89971730804725, 0.9077314045773347, 0.8919544458287192, 0.9091608988556663, 0.8932131552233296, 0.8957310354374307, 0.9035196797711332, 0.8701928525286083, 0.9076446336286453, 0.9013393549280178, 0.8950911314138059, 0.7855591777408638, 0.9015884320782577, 0.9187455703211518, 0.9188983480989295]}, {\"categories\": [\"0\", \"1\", \"2\", \"3\", \"4\", \"5\", \"6\", \"7\", \"8\", \"9\", \"10\", \"11\", \"12\", \"13\", \"14\", \"15\", \"16\", \"17\", \"18\", \"19\", \"20\", \"21\", \"22\", \"23\", \"24\", \"25\", \"26\", \"27\", \"28\", \"29\", \"30\", \"31\", \"32\", \"33\", \"34\", \"35\", \"36\", \"37\", \"38\", \"39\", \"40\", \"41\", \"42\", \"43\", \"44\", \"45\", \"46\", \"47\", \"48\", \"49\", \"50\", \"51\", \"52\", \"53\", \"54\", \"55\", \"56\", \"60\", \"61\"], \"mode\": \"lines\", \"name\": \"AUC_macro_max\", \"stepped\": true, \"type\": \"scatter\", \"data\": [0.8811331210778885, 0.8929591177556295, 0.9064057308970099, 0.9064057308970099, 0.9064057308970099, 0.9064057308970099, 0.9064057308970099, 0.9064057308970099, 0.9064057308970099, 0.9064057308970099, 0.9064057308970099, 0.9064057308970099, 0.9064057308970099, 0.9064057308970099, 0.9064057308970099, 0.9064057308970099, 0.9064057308970099, 0.9064057308970099, 0.9064057308970099, 0.9075663528977482, 0.9075663528977482, 0.9075663528977482, 0.9075663528977482, 0.9110497416020673, 0.9110497416020673, 0.9110497416020673, 0.9110497416020673, 0.9110497416020673, 0.9110497416020673, 0.9110497416020673, 0.9110497416020673, 0.9110497416020673, 0.9110497416020673, 0.9110497416020673, 0.9146570228866742, 0.9146570228866742, 0.9146570228866742, 0.9146570228866742, 0.9146570228866742, 0.9146570228866742, 0.9146570228866742, 0.9146840854558878, 0.9146840854558878, 0.9146840854558878, 0.9146840854558878, 0.9146840854558878, 0.9146840854558878, 0.9146840854558878, 0.9146840854558878, 0.9146840854558878, 0.9146840854558878, 0.9146840854558878, 0.9146840854558878, 0.9146840854558878, 0.9146840854558878, 0.9146840854558878, 0.9146840854558878, 0.9187455703211518, 0.9188983480989295]}], \"precision_score_micro\": [{\"categories\": [\"0\", \"1\", \"2\", \"3\", \"4\", \"5\", \"6\", \"7\", \"8\", \"9\", \"10\", \"11\", \"12\", \"13\", \"14\", \"15\", \"16\", \"17\", \"18\", \"19\", \"20\", \"21\", \"22\", \"23\", \"24\", \"25\", \"26\", \"27\", \"28\", \"29\", \"30\", \"31\", \"32\", \"33\", \"34\", \"35\", \"36\", \"37\", \"38\", \"39\", \"40\", \"41\", \"42\", \"43\", \"44\", \"45\", \"46\", \"47\", \"48\", \"49\", \"50\", \"51\", \"52\", \"53\", \"54\", \"55\", \"56\", \"60\", \"61\"], \"mode\": \"markers\", \"name\": \"precision_score_micro\", \"stepped\": false, \"type\": \"scatter\", \"data\": [0.8059887005649717, 0.8259322033898304, 0.8394350282485876, 0.7894350282485875, 0.8459322033898304, 0.8326553672316385, 0.8291525423728814, 0.8428813559322034, 0.7794350282485876, 0.7593220338983051, 0.7792655367231638, 0.8061016949152542, 0.7991525423728814, 0.8227118644067797, 0.8291525423728814, 0.6153107344632769, 0.7593220338983051, 0.7926553672316385, 0.8124293785310733, 0.8260451977401131, 0.8325988700564972, 0.7893220338983051, 0.8293220338983052, 0.8495480225988701, 0.8428248587570621, 0.67909604519774, 0.8159322033898304, 0.8324858757062147, 0.7725988700564972, 0.8260451977401131, 0.8225423728813558, 0.8358757062146893, 0.8327118644067797, 0.8326553672316385, 0.8427683615819209, 0.6855367231638418, 0.8359322033898305, 0.8461581920903954, 0.8562146892655367, 0.8158192090395481, 0.8292655367231638, 0.836045197740113, 0.8227118644067797, 0.8193785310734464, 0.8325423728813559, 0.8425988700564971, 0.8393785310734463, 0.8259322033898305, 0.8327683615819208, 0.8191525423728814, 0.67909604519774, 0.8160451977401131, 0.8394350282485876, 0.8426553672316384, 0.8058757062146894, 0.67909604519774, 0.8124858757062146, 0.8528248587570622, 0.7824293785310734]}, {\"categories\": [\"0\", \"1\", \"2\", \"3\", \"4\", \"5\", \"6\", \"7\", \"8\", \"9\", \"10\", \"11\", \"12\", \"13\", \"14\", \"15\", \"16\", \"17\", \"18\", \"19\", \"20\", \"21\", \"22\", \"23\", \"24\", \"25\", \"26\", \"27\", \"28\", \"29\", \"30\", \"31\", \"32\", \"33\", \"34\", \"35\", \"36\", \"37\", \"38\", \"39\", \"40\", \"41\", \"42\", \"43\", \"44\", \"45\", \"46\", \"47\", \"48\", \"49\", \"50\", \"51\", \"52\", \"53\", \"54\", \"55\", \"56\", \"60\", \"61\"], \"mode\": \"lines\", \"name\": \"precision_score_micro_max\", \"stepped\": true, \"type\": \"scatter\", \"data\": [0.8059887005649717, 0.8259322033898304, 0.8394350282485876, 0.8394350282485876, 0.8459322033898304, 0.8459322033898304, 0.8459322033898304, 0.8459322033898304, 0.8459322033898304, 0.8459322033898304, 0.8459322033898304, 0.8459322033898304, 0.8459322033898304, 0.8459322033898304, 0.8459322033898304, 0.8459322033898304, 0.8459322033898304, 0.8459322033898304, 0.8459322033898304, 0.8459322033898304, 0.8459322033898304, 0.8459322033898304, 0.8459322033898304, 0.8495480225988701, 0.8495480225988701, 0.8495480225988701, 0.8495480225988701, 0.8495480225988701, 0.8495480225988701, 0.8495480225988701, 0.8495480225988701, 0.8495480225988701, 0.8495480225988701, 0.8495480225988701, 0.8495480225988701, 0.8495480225988701, 0.8495480225988701, 0.8495480225988701, 0.8562146892655367, 0.8562146892655367, 0.8562146892655367, 0.8562146892655367, 0.8562146892655367, 0.8562146892655367, 0.8562146892655367, 0.8562146892655367, 0.8562146892655367, 0.8562146892655367, 0.8562146892655367, 0.8562146892655367, 0.8562146892655367, 0.8562146892655367, 0.8562146892655367, 0.8562146892655367, 0.8562146892655367, 0.8562146892655367, 0.8562146892655367, 0.8562146892655367, 0.8562146892655367]}], \"AUC_weighted\": [{\"categories\": [\"0\", \"1\", \"2\", \"3\", \"4\", \"5\", \"6\", \"7\", \"8\", \"9\", \"10\", \"11\", \"12\", \"13\", \"14\", \"15\", \"16\", \"17\", \"18\", \"19\", \"20\", \"21\", \"22\", \"23\", \"24\", \"25\", \"26\", \"27\", \"28\", \"29\", \"30\", \"31\", \"32\", \"33\", \"34\", \"35\", \"36\", \"37\", \"38\", \"39\", \"40\", \"41\", \"42\", \"43\", \"44\", \"45\", \"46\", \"47\", \"48\", \"49\", \"50\", \"51\", \"52\", \"53\", \"54\", \"55\", \"56\", \"60\", \"61\"], \"mode\": \"markers\", \"name\": \"AUC_weighted\", \"stepped\": false, \"type\": \"scatter\", \"data\": [0.8811331210778885, 0.8929591177556293, 0.9064057308970099, 0.879109565337763, 0.9000820874861573, 0.8945453349944629, 0.8921019402916206, 0.896439103451458, 0.8767048495754892, 0.7514726836471023, 0.8702115402362496, 0.8726153792912512, 0.8983790605389442, 0.8714409376153561, 0.8935055601698043, 0.48227655500184563, 0.8832143549280177, 0.8428847591362126, 0.9001012596899225, 0.9075663528977482, 0.8772664267257291, 0.8396589608711702, 0.8815851790328535, 0.9110497416020673, 0.9014463362864525, 0.5, 0.8952888289036544, 0.9030508259505353, 0.8638174141749723, 0.903234657622739, 0.9069801587301587, 0.9061447951273532, 0.8946952288667405, 0.9044380306386121, 0.9146570228866742, 0.7556412306201551, 0.9087312661498709, 0.9105538021410113, 0.9057887827611666, 0.9049071613141381, 0.8994085917312662, 0.9146840854558878, 0.8767930970837948, 0.8679905177187154, 0.89971730804725, 0.9077314045773349, 0.891954445828719, 0.9091608988556663, 0.8932131552233296, 0.8957310354374307, 0.9035196797711332, 0.8701928525286083, 0.9076446336286453, 0.9013393549280175, 0.8950911314138057, 0.7855591777408638, 0.9015884320782577, 0.9187455703211516, 0.9188983480989295]}, {\"categories\": [\"0\", \"1\", \"2\", \"3\", \"4\", \"5\", \"6\", \"7\", \"8\", \"9\", \"10\", \"11\", \"12\", \"13\", \"14\", \"15\", \"16\", \"17\", \"18\", \"19\", \"20\", \"21\", \"22\", \"23\", \"24\", \"25\", \"26\", \"27\", \"28\", \"29\", \"30\", \"31\", \"32\", \"33\", \"34\", \"35\", \"36\", \"37\", \"38\", \"39\", \"40\", \"41\", \"42\", \"43\", \"44\", \"45\", \"46\", \"47\", \"48\", \"49\", \"50\", \"51\", \"52\", \"53\", \"54\", \"55\", \"56\", \"60\", \"61\"], \"mode\": \"lines\", \"name\": \"AUC_weighted_max\", \"stepped\": true, \"type\": \"scatter\", \"data\": [0.8811331210778885, 0.8929591177556293, 0.9064057308970099, 0.9064057308970099, 0.9064057308970099, 0.9064057308970099, 0.9064057308970099, 0.9064057308970099, 0.9064057308970099, 0.9064057308970099, 0.9064057308970099, 0.9064057308970099, 0.9064057308970099, 0.9064057308970099, 0.9064057308970099, 0.9064057308970099, 0.9064057308970099, 0.9064057308970099, 0.9064057308970099, 0.9075663528977482, 0.9075663528977482, 0.9075663528977482, 0.9075663528977482, 0.9110497416020673, 0.9110497416020673, 0.9110497416020673, 0.9110497416020673, 0.9110497416020673, 0.9110497416020673, 0.9110497416020673, 0.9110497416020673, 0.9110497416020673, 0.9110497416020673, 0.9110497416020673, 0.9146570228866742, 0.9146570228866742, 0.9146570228866742, 0.9146570228866742, 0.9146570228866742, 0.9146570228866742, 0.9146570228866742, 0.9146840854558878, 0.9146840854558878, 0.9146840854558878, 0.9146840854558878, 0.9146840854558878, 0.9146840854558878, 0.9146840854558878, 0.9146840854558878, 0.9146840854558878, 0.9146840854558878, 0.9146840854558878, 0.9146840854558878, 0.9146840854558878, 0.9146840854558878, 0.9146840854558878, 0.9146840854558878, 0.9187455703211516, 0.9188983480989295]}], \"precision_score_weighted\": [{\"categories\": [\"0\", \"1\", \"2\", \"3\", \"4\", \"5\", \"6\", \"7\", \"8\", \"9\", \"10\", \"11\", \"12\", \"13\", \"14\", \"15\", \"16\", \"17\", \"18\", \"19\", \"20\", \"21\", \"22\", \"23\", \"24\", \"25\", \"26\", \"27\", \"28\", \"29\", \"30\", \"31\", \"32\", \"33\", \"34\", \"35\", \"36\", \"37\", \"38\", \"39\", \"40\", \"41\", \"42\", \"43\", \"44\", \"45\", \"46\", \"47\", \"48\", \"49\", \"50\", \"51\", \"52\", \"53\", \"54\", \"55\", \"56\", \"60\", \"61\"], \"mode\": \"markers\", \"name\": \"precision_score_weighted\", \"stepped\": false, \"type\": \"scatter\", \"data\": [0.8237683758533973, 0.8403871377947292, 0.8466470521157016, 0.8198432884647537, 0.8538286512613256, 0.8512584640872725, 0.83729811603139, 0.8554618023712912, 0.8101478943259408, 0.7695882951514441, 0.8061519906546952, 0.8350598664654632, 0.8354531948782131, 0.8438901283454351, 0.8438490386777195, 0.6019922322856948, 0.7969302505689029, 0.8049719538062394, 0.8343265870896502, 0.8507055091800855, 0.8409550696051353, 0.8066474307237017, 0.8388021104484708, 0.8594426247983067, 0.8571085856232156, 0.4689005075169971, 0.8338627688629427, 0.8457286601380227, 0.8071174089580326, 0.8389610092410387, 0.834720796361571, 0.846396589271705, 0.8444855510442544, 0.8496265252748145, 0.8574970529649193, 0.7588871646777352, 0.8488932705336298, 0.8564921312946211, 0.8689567380481694, 0.8393724850858615, 0.8457095263009237, 0.8494574460177959, 0.8421630294430591, 0.8422504069177521, 0.8461572149523129, 0.8577135392625443, 0.8544726197709945, 0.8507690380391653, 0.8538208384874144, 0.83039445371354, 0.4689005075169971, 0.8409258788158359, 0.8514045389909521, 0.8538815807544621, 0.8176268501415885, 0.4689005075169971, 0.8469759368675664, 0.8706308177537894, 0.7154926671304332]}, {\"categories\": [\"0\", \"1\", \"2\", \"3\", \"4\", \"5\", \"6\", \"7\", \"8\", \"9\", \"10\", \"11\", \"12\", \"13\", \"14\", \"15\", \"16\", \"17\", \"18\", \"19\", \"20\", \"21\", \"22\", \"23\", \"24\", \"25\", \"26\", \"27\", \"28\", \"29\", \"30\", \"31\", \"32\", \"33\", \"34\", \"35\", \"36\", \"37\", \"38\", \"39\", \"40\", \"41\", \"42\", \"43\", \"44\", \"45\", \"46\", \"47\", \"48\", \"49\", \"50\", \"51\", \"52\", \"53\", \"54\", \"55\", \"56\", \"60\", \"61\"], \"mode\": \"lines\", \"name\": \"precision_score_weighted_max\", \"stepped\": true, \"type\": \"scatter\", \"data\": [0.8237683758533973, 0.8403871377947292, 0.8466470521157016, 0.8466470521157016, 0.8538286512613256, 0.8538286512613256, 0.8538286512613256, 0.8554618023712912, 0.8554618023712912, 0.8554618023712912, 0.8554618023712912, 0.8554618023712912, 0.8554618023712912, 0.8554618023712912, 0.8554618023712912, 0.8554618023712912, 0.8554618023712912, 0.8554618023712912, 0.8554618023712912, 0.8554618023712912, 0.8554618023712912, 0.8554618023712912, 0.8554618023712912, 0.8594426247983067, 0.8594426247983067, 0.8594426247983067, 0.8594426247983067, 0.8594426247983067, 0.8594426247983067, 0.8594426247983067, 0.8594426247983067, 0.8594426247983067, 0.8594426247983067, 0.8594426247983067, 0.8594426247983067, 0.8594426247983067, 0.8594426247983067, 0.8594426247983067, 0.8689567380481694, 0.8689567380481694, 0.8689567380481694, 0.8689567380481694, 0.8689567380481694, 0.8689567380481694, 0.8689567380481694, 0.8689567380481694, 0.8689567380481694, 0.8689567380481694, 0.8689567380481694, 0.8689567380481694, 0.8689567380481694, 0.8689567380481694, 0.8689567380481694, 0.8689567380481694, 0.8689567380481694, 0.8689567380481694, 0.8689567380481694, 0.8706308177537894, 0.8706308177537894]}], \"recall_score_weighted\": [{\"categories\": [\"0\", \"1\", \"2\", \"3\", \"4\", \"5\", \"6\", \"7\", \"8\", \"9\", \"10\", \"11\", \"12\", \"13\", \"14\", \"15\", \"16\", \"17\", \"18\", \"19\", \"20\", \"21\", \"22\", \"23\", \"24\", \"25\", \"26\", \"27\", \"28\", \"29\", \"30\", \"31\", \"32\", \"33\", \"34\", \"35\", \"36\", \"37\", \"38\", \"39\", \"40\", \"41\", \"42\", \"43\", \"44\", \"45\", \"46\", \"47\", \"48\", \"49\", \"50\", \"51\", \"52\", \"53\", \"54\", \"55\", \"56\", \"60\", \"61\"], \"mode\": \"markers\", \"name\": \"recall_score_weighted\", \"stepped\": false, \"type\": \"scatter\", \"data\": [0.8059887005649717, 0.8259322033898304, 0.8394350282485876, 0.7894350282485875, 0.8459322033898304, 0.8326553672316385, 0.8291525423728814, 0.8428813559322034, 0.7794350282485876, 0.7593220338983051, 0.7792655367231638, 0.8061016949152542, 0.7991525423728814, 0.8227118644067797, 0.8291525423728814, 0.6153107344632769, 0.7593220338983051, 0.7926553672316385, 0.8124293785310733, 0.8260451977401131, 0.8325988700564972, 0.7893220338983051, 0.8293220338983052, 0.8495480225988701, 0.8428248587570621, 0.67909604519774, 0.8159322033898304, 0.8324858757062147, 0.7725988700564972, 0.8260451977401131, 0.8225423728813558, 0.8358757062146893, 0.8327118644067797, 0.8326553672316385, 0.8427683615819209, 0.6855367231638418, 0.8359322033898305, 0.8461581920903954, 0.8562146892655367, 0.8158192090395481, 0.8292655367231638, 0.836045197740113, 0.8227118644067797, 0.8193785310734464, 0.8325423728813559, 0.8425988700564971, 0.8393785310734463, 0.8259322033898305, 0.8327683615819208, 0.8191525423728814, 0.67909604519774, 0.8160451977401131, 0.8394350282485876, 0.8426553672316384, 0.8058757062146894, 0.67909604519774, 0.8124858757062146, 0.8528248587570622, 0.7824293785310734]}, {\"categories\": [\"0\", \"1\", \"2\", \"3\", \"4\", \"5\", \"6\", \"7\", \"8\", \"9\", \"10\", \"11\", \"12\", \"13\", \"14\", \"15\", \"16\", \"17\", \"18\", \"19\", \"20\", \"21\", \"22\", \"23\", \"24\", \"25\", \"26\", \"27\", \"28\", \"29\", \"30\", \"31\", \"32\", \"33\", \"34\", \"35\", \"36\", \"37\", \"38\", \"39\", \"40\", \"41\", \"42\", \"43\", \"44\", \"45\", \"46\", \"47\", \"48\", \"49\", \"50\", \"51\", \"52\", \"53\", \"54\", \"55\", \"56\", \"60\", \"61\"], \"mode\": \"lines\", \"name\": \"recall_score_weighted_max\", \"stepped\": true, \"type\": \"scatter\", \"data\": [0.8059887005649717, 0.8259322033898304, 0.8394350282485876, 0.8394350282485876, 0.8459322033898304, 0.8459322033898304, 0.8459322033898304, 0.8459322033898304, 0.8459322033898304, 0.8459322033898304, 0.8459322033898304, 0.8459322033898304, 0.8459322033898304, 0.8459322033898304, 0.8459322033898304, 0.8459322033898304, 0.8459322033898304, 0.8459322033898304, 0.8459322033898304, 0.8459322033898304, 0.8459322033898304, 0.8459322033898304, 0.8459322033898304, 0.8495480225988701, 0.8495480225988701, 0.8495480225988701, 0.8495480225988701, 0.8495480225988701, 0.8495480225988701, 0.8495480225988701, 0.8495480225988701, 0.8495480225988701, 0.8495480225988701, 0.8495480225988701, 0.8495480225988701, 0.8495480225988701, 0.8495480225988701, 0.8495480225988701, 0.8562146892655367, 0.8562146892655367, 0.8562146892655367, 0.8562146892655367, 0.8562146892655367, 0.8562146892655367, 0.8562146892655367, 0.8562146892655367, 0.8562146892655367, 0.8562146892655367, 0.8562146892655367, 0.8562146892655367, 0.8562146892655367, 0.8562146892655367, 0.8562146892655367, 0.8562146892655367, 0.8562146892655367, 0.8562146892655367, 0.8562146892655367, 0.8562146892655367, 0.8562146892655367]}], \"average_precision_score_macro\": [{\"categories\": [\"0\", \"1\", \"2\", \"3\", \"4\", \"5\", \"6\", \"7\", \"8\", \"9\", \"10\", \"11\", \"12\", \"13\", \"14\", \"15\", \"16\", \"17\", \"18\", \"19\", \"20\", \"21\", \"22\", \"23\", \"24\", \"25\", \"26\", \"27\", \"28\", \"29\", \"30\", \"31\", \"32\", \"33\", \"34\", \"35\", \"36\", \"37\", \"38\", \"39\", \"40\", \"41\", \"42\", \"43\", \"44\", \"45\", \"46\", \"47\", \"48\", \"49\", \"50\", \"51\", \"52\", \"53\", \"54\", \"55\", \"56\", \"60\", \"61\"], \"mode\": \"markers\", \"name\": \"average_precision_score_macro\", \"stepped\": false, \"type\": \"scatter\", \"data\": [0.8655792376041671, 0.8826936933050062, 0.8917045821354723, 0.8687725455745088, 0.8790624213681252, 0.875668182761746, 0.875035677758525, 0.8834564373161689, 0.8488507481844423, 0.7455889577323558, 0.8565257190494389, 0.8673615675419659, 0.8786258816928573, 0.8537315399331767, 0.8707817878367419, 0.5525347928626576, 0.8622632790458684, 0.8275475416084321, 0.87806890659114, 0.8946702481469491, 0.8565940751270273, 0.8161226225272127, 0.8653054492306442, 0.9035036492277267, 0.8924517545565817, 0.5, 0.8833673027823272, 0.8846011642805625, 0.857781803470081, 0.8859867551565817, 0.887873854634288, 0.8906488621565579, 0.8836202219658228, 0.8862427309913802, 0.9012692491439568, 0.6907160651356666, 0.8933745507032851, 0.8997961777979668, 0.8948219500796784, 0.8918618580334648, 0.878194736543626, 0.9050849085800221, 0.8611172869507617, 0.8538382787517419, 0.8916049378122157, 0.8889832364483438, 0.8805897092211026, 0.8992303546961604, 0.8801788401320956, 0.8867993720385943, 0.8927805489208354, 0.8571347747087176, 0.8978845001908781, 0.882613580920794, 0.8868207386600011, 0.7620862025580536, 0.8930739396750363, 0.9078321399958872, 0.9071683357097193]}, {\"categories\": [\"0\", \"1\", \"2\", \"3\", \"4\", \"5\", \"6\", \"7\", \"8\", \"9\", \"10\", \"11\", \"12\", \"13\", \"14\", \"15\", \"16\", \"17\", \"18\", \"19\", \"20\", \"21\", \"22\", \"23\", \"24\", \"25\", \"26\", \"27\", \"28\", \"29\", \"30\", \"31\", \"32\", \"33\", \"34\", \"35\", \"36\", \"37\", \"38\", \"39\", \"40\", \"41\", \"42\", \"43\", \"44\", \"45\", \"46\", \"47\", \"48\", \"49\", \"50\", \"51\", \"52\", \"53\", \"54\", \"55\", \"56\", \"60\", \"61\"], \"mode\": \"lines\", \"name\": \"average_precision_score_macro_max\", \"stepped\": true, \"type\": \"scatter\", \"data\": [0.8655792376041671, 0.8826936933050062, 0.8917045821354723, 0.8917045821354723, 0.8917045821354723, 0.8917045821354723, 0.8917045821354723, 0.8917045821354723, 0.8917045821354723, 0.8917045821354723, 0.8917045821354723, 0.8917045821354723, 0.8917045821354723, 0.8917045821354723, 0.8917045821354723, 0.8917045821354723, 0.8917045821354723, 0.8917045821354723, 0.8917045821354723, 0.8946702481469491, 0.8946702481469491, 0.8946702481469491, 0.8946702481469491, 0.9035036492277267, 0.9035036492277267, 0.9035036492277267, 0.9035036492277267, 0.9035036492277267, 0.9035036492277267, 0.9035036492277267, 0.9035036492277267, 0.9035036492277267, 0.9035036492277267, 0.9035036492277267, 0.9035036492277267, 0.9035036492277267, 0.9035036492277267, 0.9035036492277267, 0.9035036492277267, 0.9035036492277267, 0.9035036492277267, 0.9050849085800221, 0.9050849085800221, 0.9050849085800221, 0.9050849085800221, 0.9050849085800221, 0.9050849085800221, 0.9050849085800221, 0.9050849085800221, 0.9050849085800221, 0.9050849085800221, 0.9050849085800221, 0.9050849085800221, 0.9050849085800221, 0.9050849085800221, 0.9050849085800221, 0.9050849085800221, 0.9078321399958872, 0.9078321399958872]}], \"precision_score_macro\": [{\"categories\": [\"0\", \"1\", \"2\", \"3\", \"4\", \"5\", \"6\", \"7\", \"8\", \"9\", \"10\", \"11\", \"12\", \"13\", \"14\", \"15\", \"16\", \"17\", \"18\", \"19\", \"20\", \"21\", \"22\", \"23\", \"24\", \"25\", \"26\", \"27\", \"28\", \"29\", \"30\", \"31\", \"32\", \"33\", \"34\", \"35\", \"36\", \"37\", \"38\", \"39\", \"40\", \"41\", \"42\", \"43\", \"44\", \"45\", \"46\", \"47\", \"48\", \"49\", \"50\", \"51\", \"52\", \"53\", \"54\", \"55\", \"56\", \"60\", \"61\"], \"mode\": \"markers\", \"name\": \"precision_score_macro\", \"stepped\": false, \"type\": \"scatter\", \"data\": [0.7889041743265773, 0.8086642059265495, 0.8229402055373377, 0.819984329811555, 0.8222966276205973, 0.8281326103818504, 0.8069740639477482, 0.8533721209168779, 0.8071083536760906, 0.7573881765399129, 0.8042442262229497, 0.8369340182140477, 0.7751441511387164, 0.8109524825683231, 0.8027003993724149, 0.5343494917780632, 0.7959411522063431, 0.7613003684801003, 0.7827239641503905, 0.8134115884115884, 0.8105192881693448, 0.75843738464378, 0.8077422114784572, 0.8454210776386644, 0.8241769483713217, 0.33954802259887, 0.7912834499821504, 0.8162148685580937, 0.8132297162168733, 0.8215530604661041, 0.8012451473368424, 0.8124564850829497, 0.8219584533064748, 0.8178888371272981, 0.8274438979530514, 0.6812352768139018, 0.8155240628600098, 0.8361322160212076, 0.8617367867268243, 0.7928486026657241, 0.8113956270020344, 0.8156230714039638, 0.8062247776378211, 0.8071703037348448, 0.8199495810501464, 0.8255877009137877, 0.8223789628881162, 0.7998499939473012, 0.8137054717398181, 0.7969544827153523, 0.33954802259887, 0.8081734986343239, 0.8266311058664689, 0.8232399544899545, 0.7852184108162369, 0.33954802259887, 0.7908257521847005, 0.858330397734653, 0.6462349526900554]}, {\"categories\": [\"0\", \"1\", \"2\", \"3\", \"4\", \"5\", \"6\", \"7\", \"8\", \"9\", \"10\", \"11\", \"12\", \"13\", \"14\", \"15\", \"16\", \"17\", \"18\", \"19\", \"20\", \"21\", \"22\", \"23\", \"24\", \"25\", \"26\", \"27\", \"28\", \"29\", \"30\", \"31\", \"32\", \"33\", \"34\", \"35\", \"36\", \"37\", \"38\", \"39\", \"40\", \"41\", \"42\", \"43\", \"44\", \"45\", \"46\", \"47\", \"48\", \"49\", \"50\", \"51\", \"52\", \"53\", \"54\", \"55\", \"56\", \"60\", \"61\"], \"mode\": \"lines\", \"name\": \"precision_score_macro_max\", \"stepped\": true, \"type\": \"scatter\", \"data\": [0.7889041743265773, 0.8086642059265495, 0.8229402055373377, 0.8229402055373377, 0.8229402055373377, 0.8281326103818504, 0.8281326103818504, 0.8533721209168779, 0.8533721209168779, 0.8533721209168779, 0.8533721209168779, 0.8533721209168779, 0.8533721209168779, 0.8533721209168779, 0.8533721209168779, 0.8533721209168779, 0.8533721209168779, 0.8533721209168779, 0.8533721209168779, 0.8533721209168779, 0.8533721209168779, 0.8533721209168779, 0.8533721209168779, 0.8533721209168779, 0.8533721209168779, 0.8533721209168779, 0.8533721209168779, 0.8533721209168779, 0.8533721209168779, 0.8533721209168779, 0.8533721209168779, 0.8533721209168779, 0.8533721209168779, 0.8533721209168779, 0.8533721209168779, 0.8533721209168779, 0.8533721209168779, 0.8533721209168779, 0.8617367867268243, 0.8617367867268243, 0.8617367867268243, 0.8617367867268243, 0.8617367867268243, 0.8617367867268243, 0.8617367867268243, 0.8617367867268243, 0.8617367867268243, 0.8617367867268243, 0.8617367867268243, 0.8617367867268243, 0.8617367867268243, 0.8617367867268243, 0.8617367867268243, 0.8617367867268243, 0.8617367867268243, 0.8617367867268243, 0.8617367867268243, 0.8617367867268243, 0.8617367867268243]}], \"average_precision_score_weighted\": [{\"categories\": [\"0\", \"1\", \"2\", \"3\", \"4\", \"5\", \"6\", \"7\", \"8\", \"9\", \"10\", \"11\", \"12\", \"13\", \"14\", \"15\", \"16\", \"17\", \"18\", \"19\", \"20\", \"21\", \"22\", \"23\", \"24\", \"25\", \"26\", \"27\", \"28\", \"29\", \"30\", \"31\", \"32\", \"33\", \"34\", \"35\", \"36\", \"37\", \"38\", \"39\", \"40\", \"41\", \"42\", \"43\", \"44\", \"45\", \"46\", \"47\", \"48\", \"49\", \"50\", \"51\", \"52\", \"53\", \"54\", \"55\", \"56\", \"60\", \"61\"], \"mode\": \"markers\", \"name\": \"average_precision_score_weighted\", \"stepped\": false, \"type\": \"scatter\", \"data\": [0.8955370396295249, 0.9103506263314479, 0.9159515539478672, 0.8967325688018608, 0.9097745556378504, 0.9035909921754055, 0.902951234318769, 0.9076248716310961, 0.886967209990632, 0.7862334416854537, 0.888370083004572, 0.8906877995995831, 0.9104399472657528, 0.8896882718319052, 0.9019756978729164, 0.6031702289152213, 0.8985491070544602, 0.8670219246710469, 0.9096312546135868, 0.9178268415672477, 0.8881427470649343, 0.858834295428968, 0.8971902401399692, 0.9258858271315973, 0.9159755930177413, 0.5796089246385138, 0.9077838840691695, 0.9145334681368864, 0.8877612754442857, 0.911127181196848, 0.9168296211018682, 0.9176554581580998, 0.904820191376486, 0.9139647337041321, 0.9250680414453807, 0.7590854881567692, 0.9197826550233372, 0.9233372104741651, 0.9179452460528278, 0.9158281264593062, 0.908770068877702, 0.9273586929288727, 0.8951390105987886, 0.8880470267020186, 0.9156489370460434, 0.9177689311711308, 0.9049375198736744, 0.9226969790431745, 0.9062530164925254, 0.9120888613523197, 0.9164200884830279, 0.8906688081373607, 0.9193800492378236, 0.9114174213325359, 0.9119481267708199, 0.8075795232697681, 0.916962234905266, 0.929569126394337, 0.9292889889371618]}, {\"categories\": [\"0\", \"1\", \"2\", \"3\", \"4\", \"5\", \"6\", \"7\", \"8\", \"9\", \"10\", \"11\", \"12\", \"13\", \"14\", \"15\", \"16\", \"17\", \"18\", \"19\", \"20\", \"21\", \"22\", \"23\", \"24\", \"25\", \"26\", \"27\", \"28\", \"29\", \"30\", \"31\", \"32\", \"33\", \"34\", \"35\", \"36\", \"37\", \"38\", \"39\", \"40\", \"41\", \"42\", \"43\", \"44\", \"45\", \"46\", \"47\", \"48\", \"49\", \"50\", \"51\", \"52\", \"53\", \"54\", \"55\", \"56\", \"60\", \"61\"], \"mode\": \"lines\", \"name\": \"average_precision_score_weighted_max\", \"stepped\": true, \"type\": \"scatter\", \"data\": [0.8955370396295249, 0.9103506263314479, 0.9159515539478672, 0.9159515539478672, 0.9159515539478672, 0.9159515539478672, 0.9159515539478672, 0.9159515539478672, 0.9159515539478672, 0.9159515539478672, 0.9159515539478672, 0.9159515539478672, 0.9159515539478672, 0.9159515539478672, 0.9159515539478672, 0.9159515539478672, 0.9159515539478672, 0.9159515539478672, 0.9159515539478672, 0.9178268415672477, 0.9178268415672477, 0.9178268415672477, 0.9178268415672477, 0.9258858271315973, 0.9258858271315973, 0.9258858271315973, 0.9258858271315973, 0.9258858271315973, 0.9258858271315973, 0.9258858271315973, 0.9258858271315973, 0.9258858271315973, 0.9258858271315973, 0.9258858271315973, 0.9258858271315973, 0.9258858271315973, 0.9258858271315973, 0.9258858271315973, 0.9258858271315973, 0.9258858271315973, 0.9258858271315973, 0.9273586929288727, 0.9273586929288727, 0.9273586929288727, 0.9273586929288727, 0.9273586929288727, 0.9273586929288727, 0.9273586929288727, 0.9273586929288727, 0.9273586929288727, 0.9273586929288727, 0.9273586929288727, 0.9273586929288727, 0.9273586929288727, 0.9273586929288727, 0.9273586929288727, 0.9273586929288727, 0.929569126394337, 0.929569126394337]}], \"AUC_micro\": [{\"categories\": [\"0\", \"1\", \"2\", \"3\", \"4\", \"5\", \"6\", \"7\", \"8\", \"9\", \"10\", \"11\", \"12\", \"13\", \"14\", \"15\", \"16\", \"17\", \"18\", \"19\", \"20\", \"21\", \"22\", \"23\", \"24\", \"25\", \"26\", \"27\", \"28\", \"29\", \"30\", \"31\", \"32\", \"33\", \"34\", \"35\", \"36\", \"37\", \"38\", \"39\", \"40\", \"41\", \"42\", \"43\", \"44\", \"45\", \"46\", \"47\", \"48\", \"49\", \"50\", \"51\", \"52\", \"53\", \"54\", \"55\", \"56\", \"60\", \"61\"], \"mode\": \"markers\", \"name\": \"AUC_micro\", \"stepped\": false, \"type\": \"scatter\", \"data\": [0.8880105014523284, 0.8999905678444892, 0.9117502952535987, 0.873343371955696, 0.910090283762648, 0.899145360528584, 0.9031938060582846, 0.8979601647036292, 0.8680693925755689, 0.8076344600849055, 0.8630798461489355, 0.8775366274059178, 0.8936040569440454, 0.8806558141019503, 0.9013898943470906, 0.6273795684509559, 0.8622526732420439, 0.8606909413003926, 0.9001463181078234, 0.9094226595167416, 0.8871783730728715, 0.850084123336206, 0.8924307351016629, 0.9162996744230585, 0.9070907465926139, 0.6790960451977401, 0.9044202815282965, 0.9035109802419484, 0.8616724281017587, 0.8921643525168375, 0.912530451019822, 0.9080708129847743, 0.894692840499218, 0.9048528519901688, 0.9131961601072488, 0.7831582399693574, 0.9115285518209966, 0.9162726068498834, 0.909322464808963, 0.899753167991318, 0.8984753742538862, 0.9150252162533116, 0.8859297934820773, 0.8786192505346484, 0.9049069871365187, 0.9089416515049953, 0.8988690031600115, 0.9101672092949025, 0.9007389000606467, 0.9059326343004883, 0.8491638896868716, 0.8793452711545212, 0.9121681509144881, 0.9048713811484566, 0.9043637843531552, 0.7968590602955729, 0.8957389160203008, 0.9079734590954068, 0.8907222860608381]}, {\"categories\": [\"0\", \"1\", \"2\", \"3\", \"4\", \"5\", \"6\", \"7\", \"8\", \"9\", \"10\", \"11\", \"12\", \"13\", \"14\", \"15\", \"16\", \"17\", \"18\", \"19\", \"20\", \"21\", \"22\", \"23\", \"24\", \"25\", \"26\", \"27\", \"28\", \"29\", \"30\", \"31\", \"32\", \"33\", \"34\", \"35\", \"36\", \"37\", \"38\", \"39\", \"40\", \"41\", \"42\", \"43\", \"44\", \"45\", \"46\", \"47\", \"48\", \"49\", \"50\", \"51\", \"52\", \"53\", \"54\", \"55\", \"56\", \"60\", \"61\"], \"mode\": \"lines\", \"name\": \"AUC_micro_max\", \"stepped\": true, \"type\": \"scatter\", \"data\": [0.8880105014523284, 0.8999905678444892, 0.9117502952535987, 0.9117502952535987, 0.9117502952535987, 0.9117502952535987, 0.9117502952535987, 0.9117502952535987, 0.9117502952535987, 0.9117502952535987, 0.9117502952535987, 0.9117502952535987, 0.9117502952535987, 0.9117502952535987, 0.9117502952535987, 0.9117502952535987, 0.9117502952535987, 0.9117502952535987, 0.9117502952535987, 0.9117502952535987, 0.9117502952535987, 0.9117502952535987, 0.9117502952535987, 0.9162996744230585, 0.9162996744230585, 0.9162996744230585, 0.9162996744230585, 0.9162996744230585, 0.9162996744230585, 0.9162996744230585, 0.9162996744230585, 0.9162996744230585, 0.9162996744230585, 0.9162996744230585, 0.9162996744230585, 0.9162996744230585, 0.9162996744230585, 0.9162996744230585, 0.9162996744230585, 0.9162996744230585, 0.9162996744230585, 0.9162996744230585, 0.9162996744230585, 0.9162996744230585, 0.9162996744230585, 0.9162996744230585, 0.9162996744230585, 0.9162996744230585, 0.9162996744230585, 0.9162996744230585, 0.9162996744230585, 0.9162996744230585, 0.9162996744230585, 0.9162996744230585, 0.9162996744230585, 0.9162996744230585, 0.9162996744230585, 0.9162996744230585, 0.9162996744230585]}], \"balanced_accuracy\": [{\"categories\": [\"0\", \"1\", \"2\", \"3\", \"4\", \"5\", \"6\", \"7\", \"8\", \"9\", \"10\", \"11\", \"12\", \"13\", \"14\", \"15\", \"16\", \"17\", \"18\", \"19\", \"20\", \"21\", \"22\", \"23\", \"24\", \"25\", \"26\", \"27\", \"28\", \"29\", \"30\", \"31\", \"32\", \"33\", \"34\", \"35\", \"36\", \"37\", \"38\", \"39\", \"40\", \"41\", \"42\", \"43\", \"44\", \"45\", \"46\", \"47\", \"48\", \"49\", \"50\", \"51\", \"52\", \"53\", \"54\", \"55\", \"56\", \"60\", \"61\"], \"mode\": \"markers\", \"name\": \"balanced_accuracy\", \"stepped\": false, \"type\": \"scatter\", \"data\": [0.7760209025470652, 0.8060125968992248, 0.8018327796234772, 0.7089244186046512, 0.8216119878183831, 0.7984911406423034, 0.8004768826135106, 0.789311323366556, 0.6854166666666667, 0.6706803709856035, 0.6820791805094131, 0.7360077519379844, 0.8092102713178294, 0.7942095791805094, 0.8131471483942414, 0.5313406699889258, 0.6620750276854928, 0.7690905315614618, 0.802373338870432, 0.807062569213732, 0.804469130675526, 0.7620584163898116, 0.8019435215946844, 0.8081208471760796, 0.8235292081949058, 0.5, 0.7964929401993356, 0.7993798449612403, 0.6772577519379844, 0.779358388704319, 0.79750069213732, 0.8114887873754153, 0.7952512458471761, 0.8069476744186046, 0.8194179125138428, 0.717046650055371, 0.8141673588039866, 0.8144815891472869, 0.8163946566998893, 0.8046947674418604, 0.8012887596899224, 0.8128107696567, 0.799656007751938, 0.7921262458471761, 0.7956339977851605, 0.8183679401993356, 0.8170923311184939, 0.8242483388704318, 0.819235188261351, 0.7880959302325582, 0.5, 0.7870667220376523, 0.8090012458471761, 0.8209018549280177, 0.7639334163898118, 0.5, 0.8202263289036544, 0.813686323366556, 0.6910119047619048]}, {\"categories\": [\"0\", \"1\", \"2\", \"3\", \"4\", \"5\", \"6\", \"7\", \"8\", \"9\", \"10\", \"11\", \"12\", \"13\", \"14\", \"15\", \"16\", \"17\", \"18\", \"19\", \"20\", \"21\", \"22\", \"23\", \"24\", \"25\", \"26\", \"27\", \"28\", \"29\", \"30\", \"31\", \"32\", \"33\", \"34\", \"35\", \"36\", \"37\", \"38\", \"39\", \"40\", \"41\", \"42\", \"43\", \"44\", \"45\", \"46\", \"47\", \"48\", \"49\", \"50\", \"51\", \"52\", \"53\", \"54\", \"55\", \"56\", \"60\", \"61\"], \"mode\": \"lines\", \"name\": \"balanced_accuracy_max\", \"stepped\": true, \"type\": \"scatter\", \"data\": [0.7760209025470652, 0.8060125968992248, 0.8060125968992248, 0.8060125968992248, 0.8216119878183831, 0.8216119878183831, 0.8216119878183831, 0.8216119878183831, 0.8216119878183831, 0.8216119878183831, 0.8216119878183831, 0.8216119878183831, 0.8216119878183831, 0.8216119878183831, 0.8216119878183831, 0.8216119878183831, 0.8216119878183831, 0.8216119878183831, 0.8216119878183831, 0.8216119878183831, 0.8216119878183831, 0.8216119878183831, 0.8216119878183831, 0.8216119878183831, 0.8235292081949058, 0.8235292081949058, 0.8235292081949058, 0.8235292081949058, 0.8235292081949058, 0.8235292081949058, 0.8235292081949058, 0.8235292081949058, 0.8235292081949058, 0.8235292081949058, 0.8235292081949058, 0.8235292081949058, 0.8235292081949058, 0.8235292081949058, 0.8235292081949058, 0.8235292081949058, 0.8235292081949058, 0.8235292081949058, 0.8235292081949058, 0.8235292081949058, 0.8235292081949058, 0.8235292081949058, 0.8235292081949058, 0.8242483388704318, 0.8242483388704318, 0.8242483388704318, 0.8242483388704318, 0.8242483388704318, 0.8242483388704318, 0.8242483388704318, 0.8242483388704318, 0.8242483388704318, 0.8242483388704318, 0.8242483388704318, 0.8242483388704318]}], \"recall_score_micro\": [{\"categories\": [\"0\", \"1\", \"2\", \"3\", \"4\", \"5\", \"6\", \"7\", \"8\", \"9\", \"10\", \"11\", \"12\", \"13\", \"14\", \"15\", \"16\", \"17\", \"18\", \"19\", \"20\", \"21\", \"22\", \"23\", \"24\", \"25\", \"26\", \"27\", \"28\", \"29\", \"30\", \"31\", \"32\", \"33\", \"34\", \"35\", \"36\", \"37\", \"38\", \"39\", \"40\", \"41\", \"42\", \"43\", \"44\", \"45\", \"46\", \"47\", \"48\", \"49\", \"50\", \"51\", \"52\", \"53\", \"54\", \"55\", \"56\", \"60\", \"61\"], \"mode\": \"markers\", \"name\": \"recall_score_micro\", \"stepped\": false, \"type\": \"scatter\", \"data\": [0.8059887005649717, 0.8259322033898304, 0.8394350282485876, 0.7894350282485875, 0.8459322033898304, 0.8326553672316385, 0.8291525423728814, 0.8428813559322034, 0.7794350282485876, 0.7593220338983051, 0.7792655367231638, 0.8061016949152542, 0.7991525423728814, 0.8227118644067797, 0.8291525423728814, 0.6153107344632769, 0.7593220338983051, 0.7926553672316385, 0.8124293785310733, 0.8260451977401131, 0.8325988700564972, 0.7893220338983051, 0.8293220338983052, 0.8495480225988701, 0.8428248587570621, 0.67909604519774, 0.8159322033898304, 0.8324858757062147, 0.7725988700564972, 0.8260451977401131, 0.8225423728813558, 0.8358757062146893, 0.8327118644067797, 0.8326553672316385, 0.8427683615819209, 0.6855367231638418, 0.8359322033898305, 0.8461581920903954, 0.8562146892655367, 0.8158192090395481, 0.8292655367231638, 0.836045197740113, 0.8227118644067797, 0.8193785310734464, 0.8325423728813559, 0.8425988700564971, 0.8393785310734463, 0.8259322033898305, 0.8327683615819208, 0.8191525423728814, 0.67909604519774, 0.8160451977401131, 0.8394350282485876, 0.8426553672316384, 0.8058757062146894, 0.67909604519774, 0.8124858757062146, 0.8528248587570622, 0.7824293785310734]}, {\"categories\": [\"0\", \"1\", \"2\", \"3\", \"4\", \"5\", \"6\", \"7\", \"8\", \"9\", \"10\", \"11\", \"12\", \"13\", \"14\", \"15\", \"16\", \"17\", \"18\", \"19\", \"20\", \"21\", \"22\", \"23\", \"24\", \"25\", \"26\", \"27\", \"28\", \"29\", \"30\", \"31\", \"32\", \"33\", \"34\", \"35\", \"36\", \"37\", \"38\", \"39\", \"40\", \"41\", \"42\", \"43\", \"44\", \"45\", \"46\", \"47\", \"48\", \"49\", \"50\", \"51\", \"52\", \"53\", \"54\", \"55\", \"56\", \"60\", \"61\"], \"mode\": \"lines\", \"name\": \"recall_score_micro_max\", \"stepped\": true, \"type\": \"scatter\", \"data\": [0.8059887005649717, 0.8259322033898304, 0.8394350282485876, 0.8394350282485876, 0.8459322033898304, 0.8459322033898304, 0.8459322033898304, 0.8459322033898304, 0.8459322033898304, 0.8459322033898304, 0.8459322033898304, 0.8459322033898304, 0.8459322033898304, 0.8459322033898304, 0.8459322033898304, 0.8459322033898304, 0.8459322033898304, 0.8459322033898304, 0.8459322033898304, 0.8459322033898304, 0.8459322033898304, 0.8459322033898304, 0.8459322033898304, 0.8495480225988701, 0.8495480225988701, 0.8495480225988701, 0.8495480225988701, 0.8495480225988701, 0.8495480225988701, 0.8495480225988701, 0.8495480225988701, 0.8495480225988701, 0.8495480225988701, 0.8495480225988701, 0.8495480225988701, 0.8495480225988701, 0.8495480225988701, 0.8495480225988701, 0.8562146892655367, 0.8562146892655367, 0.8562146892655367, 0.8562146892655367, 0.8562146892655367, 0.8562146892655367, 0.8562146892655367, 0.8562146892655367, 0.8562146892655367, 0.8562146892655367, 0.8562146892655367, 0.8562146892655367, 0.8562146892655367, 0.8562146892655367, 0.8562146892655367, 0.8562146892655367, 0.8562146892655367, 0.8562146892655367, 0.8562146892655367, 0.8562146892655367, 0.8562146892655367]}], \"weighted_accuracy\": [{\"categories\": [\"0\", \"1\", \"2\", \"3\", \"4\", \"5\", \"6\", \"7\", \"8\", \"9\", \"10\", \"11\", \"12\", \"13\", \"14\", \"15\", \"16\", \"17\", \"18\", \"19\", \"20\", \"21\", \"22\", \"23\", \"24\", \"25\", \"26\", \"27\", \"28\", \"29\", \"30\", \"31\", \"32\", \"33\", \"34\", \"35\", \"36\", \"37\", \"38\", \"39\", \"40\", \"41\", \"42\", \"43\", \"44\", \"45\", \"46\", \"47\", \"48\", \"49\", \"50\", \"51\", \"52\", \"53\", \"54\", \"55\", \"56\", \"60\", \"61\"], \"mode\": \"markers\", \"name\": \"weighted_accuracy\", \"stepped\": false, \"type\": \"scatter\", \"data\": [0.8252063202764133, 0.8406325321291572, 0.8642268991762092, 0.8454238254274236, 0.8617041863010944, 0.8565507589368332, 0.8478253639504695, 0.8774300218899912, 0.8411264009944676, 0.8191552656124355, 0.8439998161751825, 0.8533453940548746, 0.7913444040387054, 0.843066254008803, 0.8400273618706937, 0.6722707401586747, 0.8233117912079806, 0.809912886820379, 0.8188587248575254, 0.8394035882109765, 0.8515094960356077, 0.8062144856429109, 0.8479389248226564, 0.8767619670574387, 0.855443080870967, 0.7971865900207855, 0.8296285312603171, 0.854716903598721, 0.8387848239836158, 0.858116054459957, 0.8392292950812849, 0.8524050715865773, 0.8593695682548554, 0.8515453699021069, 0.8589681896511575, 0.6649147683456962, 0.8508279164775867, 0.867994182727639, 0.8834692375762657, 0.8237948440848184, 0.8484794670564083, 0.8516426898928913, 0.8386237761326969, 0.839144685381352, 0.8577050691548139, 0.8589330601515195, 0.8548826789623213, 0.826959117937634, 0.8428328533692081, 0.8406901912973377, 0.7971865900207855, 0.8368715637433162, 0.8608897582786085, 0.8584591399883689, 0.8347763960691165, 0.7971865900207855, 0.8077750726128639, 0.8795673019339112, 0.8474912924327237]}, {\"categories\": [\"0\", \"1\", \"2\", \"3\", \"4\", \"5\", \"6\", \"7\", \"8\", \"9\", \"10\", \"11\", \"12\", \"13\", \"14\", \"15\", \"16\", \"17\", \"18\", \"19\", \"20\", \"21\", \"22\", \"23\", \"24\", \"25\", \"26\", \"27\", \"28\", \"29\", \"30\", \"31\", \"32\", \"33\", \"34\", \"35\", \"36\", \"37\", \"38\", \"39\", \"40\", \"41\", \"42\", \"43\", \"44\", \"45\", \"46\", \"47\", \"48\", \"49\", \"50\", \"51\", \"52\", \"53\", \"54\", \"55\", \"56\", \"60\", \"61\"], \"mode\": \"lines\", \"name\": \"weighted_accuracy_max\", \"stepped\": true, \"type\": \"scatter\", \"data\": [0.8252063202764133, 0.8406325321291572, 0.8642268991762092, 0.8642268991762092, 0.8642268991762092, 0.8642268991762092, 0.8642268991762092, 0.8774300218899912, 0.8774300218899912, 0.8774300218899912, 0.8774300218899912, 0.8774300218899912, 0.8774300218899912, 0.8774300218899912, 0.8774300218899912, 0.8774300218899912, 0.8774300218899912, 0.8774300218899912, 0.8774300218899912, 0.8774300218899912, 0.8774300218899912, 0.8774300218899912, 0.8774300218899912, 0.8774300218899912, 0.8774300218899912, 0.8774300218899912, 0.8774300218899912, 0.8774300218899912, 0.8774300218899912, 0.8774300218899912, 0.8774300218899912, 0.8774300218899912, 0.8774300218899912, 0.8774300218899912, 0.8774300218899912, 0.8774300218899912, 0.8774300218899912, 0.8774300218899912, 0.8834692375762657, 0.8834692375762657, 0.8834692375762657, 0.8834692375762657, 0.8834692375762657, 0.8834692375762657, 0.8834692375762657, 0.8834692375762657, 0.8834692375762657, 0.8834692375762657, 0.8834692375762657, 0.8834692375762657, 0.8834692375762657, 0.8834692375762657, 0.8834692375762657, 0.8834692375762657, 0.8834692375762657, 0.8834692375762657, 0.8834692375762657, 0.8834692375762657, 0.8834692375762657]}], \"log_loss\": [{\"categories\": [\"0\", \"1\", \"2\", \"3\", \"4\", \"5\", \"6\", \"7\", \"8\", \"9\", \"10\", \"11\", \"12\", \"13\", \"14\", \"15\", \"16\", \"17\", \"18\", \"19\", \"20\", \"21\", \"22\", \"23\", \"24\", \"25\", \"26\", \"27\", \"28\", \"29\", \"30\", \"31\", \"32\", \"33\", \"34\", \"35\", \"36\", \"37\", \"38\", \"39\", \"40\", \"41\", \"42\", \"43\", \"44\", \"45\", \"46\", \"47\", \"48\", \"49\", \"50\", \"51\", \"52\", \"53\", \"54\", \"55\", \"56\", \"60\", \"61\"], \"mode\": \"markers\", \"name\": \"log_loss\", \"stepped\": false, \"type\": \"scatter\", \"data\": [0.5282491261622873, 0.43217688137359717, 0.38327536072070956, 0.47085187754548796, 0.3860707684007911, 0.41215374523511716, 0.5057149015235767, 0.41771780996224095, 0.4833049495586936, 1.292911173952953, 0.4870844115532954, 0.4536037328974384, 0.43303904666665155, 0.42558736852317836, 0.4345402619404862, 0.8093375881662283, 0.4935748771778516, 0.6344600968877668, 0.523651188903327, 0.47094650109329556, 0.5235439202609191, 0.53356026053558, 0.48500002795880465, 0.39759668706356277, 0.39871553158615436, 0.637116442747738, 0.4237824688675242, 0.43176266602323243, 0.48873434813949784, 0.463175918196029, 0.4763183050648294, 0.4016032689857149, 0.4165220650482479, 0.4602098946400022, 0.3789134973713824, 0.6467738870243965, 0.3919118247816351, 0.3934709829461941, 0.39557526688535427, 0.4104260696391425, 0.5413696861501321, 0.37581452581647623, 0.4229140959209576, 0.4434431479189576, 0.389927731308626, 0.3883113426723033, 0.3971608325231067, 0.4934275521900502, 0.43866273069648853, 0.38322107498536184, 0.6359664495404075, 0.43502461505286283, 0.39678428092654644, 0.4291400866087244, 0.3907212283237082, 0.6371270947460381, 0.40295777807278155, 0.4528151988964132, 0.5116167817475391]}, {\"categories\": [\"0\", \"1\", \"2\", \"3\", \"4\", \"5\", \"6\", \"7\", \"8\", \"9\", \"10\", \"11\", \"12\", \"13\", \"14\", \"15\", \"16\", \"17\", \"18\", \"19\", \"20\", \"21\", \"22\", \"23\", \"24\", \"25\", \"26\", \"27\", \"28\", \"29\", \"30\", \"31\", \"32\", \"33\", \"34\", \"35\", \"36\", \"37\", \"38\", \"39\", \"40\", \"41\", \"42\", \"43\", \"44\", \"45\", \"46\", \"47\", \"48\", \"49\", \"50\", \"51\", \"52\", \"53\", \"54\", \"55\", \"56\", \"60\", \"61\"], \"mode\": \"lines\", \"name\": \"log_loss_min\", \"stepped\": true, \"type\": \"scatter\", \"data\": [0.5282491261622873, 0.43217688137359717, 0.38327536072070956, 0.38327536072070956, 0.38327536072070956, 0.38327536072070956, 0.38327536072070956, 0.38327536072070956, 0.38327536072070956, 0.38327536072070956, 0.38327536072070956, 0.38327536072070956, 0.38327536072070956, 0.38327536072070956, 0.38327536072070956, 0.38327536072070956, 0.38327536072070956, 0.38327536072070956, 0.38327536072070956, 0.38327536072070956, 0.38327536072070956, 0.38327536072070956, 0.38327536072070956, 0.38327536072070956, 0.38327536072070956, 0.38327536072070956, 0.38327536072070956, 0.38327536072070956, 0.38327536072070956, 0.38327536072070956, 0.38327536072070956, 0.38327536072070956, 0.38327536072070956, 0.38327536072070956, 0.3789134973713824, 0.3789134973713824, 0.3789134973713824, 0.3789134973713824, 0.3789134973713824, 0.3789134973713824, 0.3789134973713824, 0.37581452581647623, 0.37581452581647623, 0.37581452581647623, 0.37581452581647623, 0.37581452581647623, 0.37581452581647623, 0.37581452581647623, 0.37581452581647623, 0.37581452581647623, 0.37581452581647623, 0.37581452581647623, 0.37581452581647623, 0.37581452581647623, 0.37581452581647623, 0.37581452581647623, 0.37581452581647623, 0.37581452581647623, 0.37581452581647623]}], \"f1_score_macro\": [{\"categories\": [\"0\", \"1\", \"2\", \"3\", \"4\", \"5\", \"6\", \"7\", \"8\", \"9\", \"10\", \"11\", \"12\", \"13\", \"14\", \"15\", \"16\", \"17\", \"18\", \"19\", \"20\", \"21\", \"22\", \"23\", \"24\", \"25\", \"26\", \"27\", \"28\", \"29\", \"30\", \"31\", \"32\", \"33\", \"34\", \"35\", \"36\", \"37\", \"38\", \"39\", \"40\", \"41\", \"42\", \"43\", \"44\", \"45\", \"46\", \"47\", \"48\", \"49\", \"50\", \"51\", \"52\", \"53\", \"54\", \"55\", \"56\", \"60\", \"61\"], \"mode\": \"markers\", \"name\": \"f1_score_macro\", \"stepped\": false, \"type\": \"scatter\", \"data\": [0.7682096405971308, 0.7972526241921125, 0.8040879046018741, 0.7154093109469288, 0.8169485730884067, 0.7957143514182453, 0.7979749445840997, 0.8038209978427368, 0.6931422044847569, 0.677864504364746, 0.6891288631580136, 0.7451693709758475, 0.7775476004098492, 0.7858167613018765, 0.8012598444059259, 0.5173668796330508, 0.6579210770569155, 0.7569037306362889, 0.783230305233525, 0.7927862724365038, 0.8015005129381223, 0.7532000361201412, 0.7968765046259378, 0.8148578484190612, 0.8148600743431725, 0.40276783177038933, 0.7829620291125927, 0.795746683677871, 0.6812868106356605, 0.7838481648071174, 0.7912084646279872, 0.8050112514091442, 0.7957073886129916, 0.7979471253384297, 0.8114381347445864, 0.669666962978918, 0.806482770078877, 0.8150734056699193, 0.8237410712567863, 0.7857695716514268, 0.7932668464362477, 0.8040947993088462, 0.7887966161895931, 0.7821592493984876, 0.7934866145104849, 0.8114278663239698, 0.8080075553128946, 0.8019247715202369, 0.8043339506912538, 0.7830473817043824, 0.40276783177038933, 0.7768120710169557, 0.8064563424492501, 0.8129519845084712, 0.762353775066541, 0.40276783177038933, 0.7901247810686133, 0.8167440557593129, 0.6501342353941626]}, {\"categories\": [\"0\", \"1\", \"2\", \"3\", \"4\", \"5\", \"6\", \"7\", \"8\", \"9\", \"10\", \"11\", \"12\", \"13\", \"14\", \"15\", \"16\", \"17\", \"18\", \"19\", \"20\", \"21\", \"22\", \"23\", \"24\", \"25\", \"26\", \"27\", \"28\", \"29\", \"30\", \"31\", \"32\", \"33\", \"34\", \"35\", \"36\", \"37\", \"38\", \"39\", \"40\", \"41\", \"42\", \"43\", \"44\", \"45\", \"46\", \"47\", \"48\", \"49\", \"50\", \"51\", \"52\", \"53\", \"54\", \"55\", \"56\", \"60\", \"61\"], \"mode\": \"lines\", \"name\": \"f1_score_macro_max\", \"stepped\": true, \"type\": \"scatter\", \"data\": [0.7682096405971308, 0.7972526241921125, 0.8040879046018741, 0.8040879046018741, 0.8169485730884067, 0.8169485730884067, 0.8169485730884067, 0.8169485730884067, 0.8169485730884067, 0.8169485730884067, 0.8169485730884067, 0.8169485730884067, 0.8169485730884067, 0.8169485730884067, 0.8169485730884067, 0.8169485730884067, 0.8169485730884067, 0.8169485730884067, 0.8169485730884067, 0.8169485730884067, 0.8169485730884067, 0.8169485730884067, 0.8169485730884067, 0.8169485730884067, 0.8169485730884067, 0.8169485730884067, 0.8169485730884067, 0.8169485730884067, 0.8169485730884067, 0.8169485730884067, 0.8169485730884067, 0.8169485730884067, 0.8169485730884067, 0.8169485730884067, 0.8169485730884067, 0.8169485730884067, 0.8169485730884067, 0.8169485730884067, 0.8237410712567863, 0.8237410712567863, 0.8237410712567863, 0.8237410712567863, 0.8237410712567863, 0.8237410712567863, 0.8237410712567863, 0.8237410712567863, 0.8237410712567863, 0.8237410712567863, 0.8237410712567863, 0.8237410712567863, 0.8237410712567863, 0.8237410712567863, 0.8237410712567863, 0.8237410712567863, 0.8237410712567863, 0.8237410712567863, 0.8237410712567863, 0.8237410712567863, 0.8237410712567863]}], \"matthews_correlation\": [{\"categories\": [\"0\", \"1\", \"2\", \"3\", \"4\", \"5\", \"6\", \"7\", \"8\", \"9\", \"10\", \"11\", \"12\", \"13\", \"14\", \"15\", \"16\", \"17\", \"18\", \"19\", \"20\", \"21\", \"22\", \"23\", \"24\", \"25\", \"26\", \"27\", \"28\", \"29\", \"30\", \"31\", \"32\", \"33\", \"34\", \"35\", \"36\", \"37\", \"38\", \"39\", \"40\", \"41\", \"42\", \"43\", \"44\", \"45\", \"46\", \"47\", \"48\", \"49\", \"50\", \"51\", \"52\", \"53\", \"54\", \"55\", \"56\", \"60\", \"61\"], \"mode\": \"markers\", \"name\": \"matthews_correlation\", \"stepped\": false, \"type\": \"scatter\", \"data\": [0.5628617041183437, 0.6132552509330647, 0.6234308372685504, 0.5130893749794545, 0.6434539944869361, 0.6231242692391838, 0.6069217795474842, 0.6382266346679504, 0.4731591384903691, 0.416717014557646, 0.4670863353172555, 0.5594835733867345, 0.5825537641876617, 0.6019732997198831, 0.6149083481859734, 0.06532248141362067, 0.4249983116565149, 0.5283954679131815, 0.5838107009042287, 0.6170804711017206, 0.6143824420859894, 0.5198213078389033, 0.608679666287197, 0.6508574354476606, 0.6463784345753705, 0.0, 0.5859661024116355, 0.6137300351884478, 0.4666429933345001, 0.5979266412414492, 0.5977906458184569, 0.6230851446818038, 0.6150506493185386, 0.6220093770730027, 0.6449000108504878, 0.3956791401454357, 0.6285956610689364, 0.6491063033768072, 0.6747423123577063, 0.5953518328746129, 0.6104055677851437, 0.6268348235519368, 0.60366161537995, 0.5958858873144596, 0.6130795510121769, 0.6424114619833323, 0.6375948908138883, 0.6224674525606447, 0.6308955992986076, 0.5837298041707456, 0.0, 0.590829539771007, 0.6338832101956798, 0.6427191238207794, 0.547242274396524, 0.0, 0.6088537744307122, 0.6671532398522968, 0.39555807318409947]}, {\"categories\": [\"0\", \"1\", \"2\", \"3\", \"4\", \"5\", \"6\", \"7\", \"8\", \"9\", \"10\", \"11\", \"12\", \"13\", \"14\", \"15\", \"16\", \"17\", \"18\", \"19\", \"20\", \"21\", \"22\", \"23\", \"24\", \"25\", \"26\", \"27\", \"28\", \"29\", \"30\", \"31\", \"32\", \"33\", \"34\", \"35\", \"36\", \"37\", \"38\", \"39\", \"40\", \"41\", \"42\", \"43\", \"44\", \"45\", \"46\", \"47\", \"48\", \"49\", \"50\", \"51\", \"52\", \"53\", \"54\", \"55\", \"56\", \"60\", \"61\"], \"mode\": \"lines\", \"name\": \"matthews_correlation_max\", \"stepped\": true, \"type\": \"scatter\", \"data\": [0.5628617041183437, 0.6132552509330647, 0.6234308372685504, 0.6234308372685504, 0.6434539944869361, 0.6434539944869361, 0.6434539944869361, 0.6434539944869361, 0.6434539944869361, 0.6434539944869361, 0.6434539944869361, 0.6434539944869361, 0.6434539944869361, 0.6434539944869361, 0.6434539944869361, 0.6434539944869361, 0.6434539944869361, 0.6434539944869361, 0.6434539944869361, 0.6434539944869361, 0.6434539944869361, 0.6434539944869361, 0.6434539944869361, 0.6508574354476606, 0.6508574354476606, 0.6508574354476606, 0.6508574354476606, 0.6508574354476606, 0.6508574354476606, 0.6508574354476606, 0.6508574354476606, 0.6508574354476606, 0.6508574354476606, 0.6508574354476606, 0.6508574354476606, 0.6508574354476606, 0.6508574354476606, 0.6508574354476606, 0.6747423123577063, 0.6747423123577063, 0.6747423123577063, 0.6747423123577063, 0.6747423123577063, 0.6747423123577063, 0.6747423123577063, 0.6747423123577063, 0.6747423123577063, 0.6747423123577063, 0.6747423123577063, 0.6747423123577063, 0.6747423123577063, 0.6747423123577063, 0.6747423123577063, 0.6747423123577063, 0.6747423123577063, 0.6747423123577063, 0.6747423123577063, 0.6747423123577063, 0.6747423123577063]}], \"norm_macro_recall\": [{\"categories\": [\"0\", \"1\", \"2\", \"3\", \"4\", \"5\", \"6\", \"7\", \"8\", \"9\", \"10\", \"11\", \"12\", \"13\", \"14\", \"15\", \"16\", \"17\", \"18\", \"19\", \"20\", \"21\", \"22\", \"23\", \"24\", \"25\", \"26\", \"27\", \"28\", \"29\", \"30\", \"31\", \"32\", \"33\", \"34\", \"35\", \"36\", \"37\", \"38\", \"39\", \"40\", \"41\", \"42\", \"43\", \"44\", \"45\", \"46\", \"47\", \"48\", \"49\", \"50\", \"51\", \"52\", \"53\", \"54\", \"55\", \"56\", \"60\", \"61\"], \"mode\": \"markers\", \"name\": \"norm_macro_recall\", \"stepped\": false, \"type\": \"scatter\", \"data\": [0.5520418050941306, 0.6120251937984496, 0.6036655592469545, 0.41784883720930227, 0.6432239756367665, 0.5969822812846068, 0.6009537652270212, 0.5786226467331119, 0.37083333333333335, 0.34136074197120714, 0.36415836101882615, 0.47201550387596897, 0.6184205426356588, 0.5884191583610188, 0.6262942967884828, 0.07768133997785158, 0.3241500553709856, 0.5381810631229236, 0.6047466777408638, 0.614125138427464, 0.6089382613510521, 0.5241168327796235, 0.6038870431893686, 0.6162416943521595, 0.6470584163898117, 0.0, 0.5929858803986712, 0.5987596899224806, 0.354515503875969, 0.5587167774086378, 0.5950013842746402, 0.6229775747508306, 0.5905024916943521, 0.6138953488372093, 0.6388358250276855, 0.434093300110742, 0.6283347176079734, 0.6289631782945737, 0.6327893133997786, 0.6093895348837209, 0.6025775193798448, 0.6256215393133997, 0.599312015503876, 0.5842524916943521, 0.5912679955703212, 0.6367358803986709, 0.6341846622369879, 0.6484966777408638, 0.638470376522702, 0.5761918604651164, 0.0, 0.5741334440753045, 0.6180024916943522, 0.6418037098560353, 0.5278668327796237, 0.0, 0.640452657807309, 0.627372646733112, 0.3820238095238096]}, {\"categories\": [\"0\", \"1\", \"2\", \"3\", \"4\", \"5\", \"6\", \"7\", \"8\", \"9\", \"10\", \"11\", \"12\", \"13\", \"14\", \"15\", \"16\", \"17\", \"18\", \"19\", \"20\", \"21\", \"22\", \"23\", \"24\", \"25\", \"26\", \"27\", \"28\", \"29\", \"30\", \"31\", \"32\", \"33\", \"34\", \"35\", \"36\", \"37\", \"38\", \"39\", \"40\", \"41\", \"42\", \"43\", \"44\", \"45\", \"46\", \"47\", \"48\", \"49\", \"50\", \"51\", \"52\", \"53\", \"54\", \"55\", \"56\", \"60\", \"61\"], \"mode\": \"lines\", \"name\": \"norm_macro_recall_max\", \"stepped\": true, \"type\": \"scatter\", \"data\": [0.5520418050941306, 0.6120251937984496, 0.6120251937984496, 0.6120251937984496, 0.6432239756367665, 0.6432239756367665, 0.6432239756367665, 0.6432239756367665, 0.6432239756367665, 0.6432239756367665, 0.6432239756367665, 0.6432239756367665, 0.6432239756367665, 0.6432239756367665, 0.6432239756367665, 0.6432239756367665, 0.6432239756367665, 0.6432239756367665, 0.6432239756367665, 0.6432239756367665, 0.6432239756367665, 0.6432239756367665, 0.6432239756367665, 0.6432239756367665, 0.6470584163898117, 0.6470584163898117, 0.6470584163898117, 0.6470584163898117, 0.6470584163898117, 0.6470584163898117, 0.6470584163898117, 0.6470584163898117, 0.6470584163898117, 0.6470584163898117, 0.6470584163898117, 0.6470584163898117, 0.6470584163898117, 0.6470584163898117, 0.6470584163898117, 0.6470584163898117, 0.6470584163898117, 0.6470584163898117, 0.6470584163898117, 0.6470584163898117, 0.6470584163898117, 0.6470584163898117, 0.6470584163898117, 0.6484966777408638, 0.6484966777408638, 0.6484966777408638, 0.6484966777408638, 0.6484966777408638, 0.6484966777408638, 0.6484966777408638, 0.6484966777408638, 0.6484966777408638, 0.6484966777408638, 0.6484966777408638, 0.6484966777408638]}], \"f1_score_micro\": [{\"categories\": [\"0\", \"1\", \"2\", \"3\", \"4\", \"5\", \"6\", \"7\", \"8\", \"9\", \"10\", \"11\", \"12\", \"13\", \"14\", \"15\", \"16\", \"17\", \"18\", \"19\", \"20\", \"21\", \"22\", \"23\", \"24\", \"25\", \"26\", \"27\", \"28\", \"29\", \"30\", \"31\", \"32\", \"33\", \"34\", \"35\", \"36\", \"37\", \"38\", \"39\", \"40\", \"41\", \"42\", \"43\", \"44\", \"45\", \"46\", \"47\", \"48\", \"49\", \"50\", \"51\", \"52\", \"53\", \"54\", \"55\", \"56\", \"60\", \"61\"], \"mode\": \"markers\", \"name\": \"f1_score_micro\", \"stepped\": false, \"type\": \"scatter\", \"data\": [0.8059887005649718, 0.8259322033898304, 0.8394350282485876, 0.7894350282485875, 0.8459322033898304, 0.8326553672316385, 0.8291525423728814, 0.8428813559322034, 0.7794350282485876, 0.7593220338983051, 0.7792655367231638, 0.8061016949152542, 0.7991525423728814, 0.8227118644067797, 0.8291525423728814, 0.6153107344632769, 0.7593220338983051, 0.7926553672316385, 0.8124293785310733, 0.8260451977401131, 0.8325988700564972, 0.7893220338983051, 0.8293220338983052, 0.8495480225988701, 0.8428248587570621, 0.67909604519774, 0.8159322033898306, 0.8324858757062147, 0.7725988700564972, 0.8260451977401131, 0.822542372881356, 0.8358757062146893, 0.8327118644067797, 0.8326553672316385, 0.8427683615819209, 0.6855367231638418, 0.8359322033898305, 0.8461581920903954, 0.8562146892655367, 0.8158192090395481, 0.8292655367231638, 0.836045197740113, 0.8227118644067797, 0.8193785310734464, 0.8325423728813559, 0.8425988700564971, 0.8393785310734463, 0.8259322033898305, 0.8327683615819208, 0.8191525423728814, 0.67909604519774, 0.8160451977401131, 0.8394350282485876, 0.8426553672316384, 0.8058757062146894, 0.67909604519774, 0.8124858757062146, 0.8528248587570622, 0.7824293785310734]}, {\"categories\": [\"0\", \"1\", \"2\", \"3\", \"4\", \"5\", \"6\", \"7\", \"8\", \"9\", \"10\", \"11\", \"12\", \"13\", \"14\", \"15\", \"16\", \"17\", \"18\", \"19\", \"20\", \"21\", \"22\", \"23\", \"24\", \"25\", \"26\", \"27\", \"28\", \"29\", \"30\", \"31\", \"32\", \"33\", \"34\", \"35\", \"36\", \"37\", \"38\", \"39\", \"40\", \"41\", \"42\", \"43\", \"44\", \"45\", \"46\", \"47\", \"48\", \"49\", \"50\", \"51\", \"52\", \"53\", \"54\", \"55\", \"56\", \"60\", \"61\"], \"mode\": \"lines\", \"name\": \"f1_score_micro_max\", \"stepped\": true, \"type\": \"scatter\", \"data\": [0.8059887005649718, 0.8259322033898304, 0.8394350282485876, 0.8394350282485876, 0.8459322033898304, 0.8459322033898304, 0.8459322033898304, 0.8459322033898304, 0.8459322033898304, 0.8459322033898304, 0.8459322033898304, 0.8459322033898304, 0.8459322033898304, 0.8459322033898304, 0.8459322033898304, 0.8459322033898304, 0.8459322033898304, 0.8459322033898304, 0.8459322033898304, 0.8459322033898304, 0.8459322033898304, 0.8459322033898304, 0.8459322033898304, 0.8495480225988701, 0.8495480225988701, 0.8495480225988701, 0.8495480225988701, 0.8495480225988701, 0.8495480225988701, 0.8495480225988701, 0.8495480225988701, 0.8495480225988701, 0.8495480225988701, 0.8495480225988701, 0.8495480225988701, 0.8495480225988701, 0.8495480225988701, 0.8495480225988701, 0.8562146892655367, 0.8562146892655367, 0.8562146892655367, 0.8562146892655367, 0.8562146892655367, 0.8562146892655367, 0.8562146892655367, 0.8562146892655367, 0.8562146892655367, 0.8562146892655367, 0.8562146892655367, 0.8562146892655367, 0.8562146892655367, 0.8562146892655367, 0.8562146892655367, 0.8562146892655367, 0.8562146892655367, 0.8562146892655367, 0.8562146892655367, 0.8562146892655367, 0.8562146892655367]}], \"average_precision_score_micro\": [{\"categories\": [\"0\", \"1\", \"2\", \"3\", \"4\", \"5\", \"6\", \"7\", \"8\", \"9\", \"10\", \"11\", \"12\", \"13\", \"14\", \"15\", \"16\", \"17\", \"18\", \"19\", \"20\", \"21\", \"22\", \"23\", \"24\", \"25\", \"26\", \"27\", \"28\", \"29\", \"30\", \"31\", \"32\", \"33\", \"34\", \"35\", \"36\", \"37\", \"38\", \"39\", \"40\", \"41\", \"42\", \"43\", \"44\", \"45\", \"46\", \"47\", \"48\", \"49\", \"50\", \"51\", \"52\", \"53\", \"54\", \"55\", \"56\", \"60\", \"61\"], \"mode\": \"markers\", \"name\": \"average_precision_score_micro\", \"stepped\": false, \"type\": \"scatter\", \"data\": [0.887958292631032, 0.9018582931163117, 0.9124397557122663, 0.8766388633643978, 0.9099508855462309, 0.8964877039803163, 0.9028008007600252, 0.8989795946840408, 0.8678518197535576, 0.7923478012471382, 0.8692048815966373, 0.8766929929812244, 0.8944007852350415, 0.8828913087279029, 0.8984904140346002, 0.6180888504381511, 0.8734081903311962, 0.8614667100602988, 0.9009361220332949, 0.9076275684514943, 0.8847885472456969, 0.8523370221358604, 0.8940634153864264, 0.9189516973070433, 0.9064767293851617, 0.6293524849181271, 0.9033736512800111, 0.9078103684639119, 0.8700657470473849, 0.89350105949264, 0.914515862450975, 0.9120345607924918, 0.891100539888452, 0.9068599442006778, 0.9160305659843093, 0.7761053925524563, 0.9150981169697223, 0.9190891714293402, 0.91134820455377, 0.898635648430129, 0.9020037133281619, 0.918890150314151, 0.8882614918853244, 0.8801222370118271, 0.9068146696345162, 0.9121604267058805, 0.8986698951798608, 0.912822012386866, 0.8929150681455387, 0.907845587628945, 0.8611829469545735, 0.8812560804594346, 0.912511689717331, 0.9080007241593158, 0.9064045036189741, 0.8067361241701606, 0.8993923491907735, 0.913016156499116, 0.8990911175670465]}, {\"categories\": [\"0\", \"1\", \"2\", \"3\", \"4\", \"5\", \"6\", \"7\", \"8\", \"9\", \"10\", \"11\", \"12\", \"13\", \"14\", \"15\", \"16\", \"17\", \"18\", \"19\", \"20\", \"21\", \"22\", \"23\", \"24\", \"25\", \"26\", \"27\", \"28\", \"29\", \"30\", \"31\", \"32\", \"33\", \"34\", \"35\", \"36\", \"37\", \"38\", \"39\", \"40\", \"41\", \"42\", \"43\", \"44\", \"45\", \"46\", \"47\", \"48\", \"49\", \"50\", \"51\", \"52\", \"53\", \"54\", \"55\", \"56\", \"60\", \"61\"], \"mode\": \"lines\", \"name\": \"average_precision_score_micro_max\", \"stepped\": true, \"type\": \"scatter\", \"data\": [0.887958292631032, 0.9018582931163117, 0.9124397557122663, 0.9124397557122663, 0.9124397557122663, 0.9124397557122663, 0.9124397557122663, 0.9124397557122663, 0.9124397557122663, 0.9124397557122663, 0.9124397557122663, 0.9124397557122663, 0.9124397557122663, 0.9124397557122663, 0.9124397557122663, 0.9124397557122663, 0.9124397557122663, 0.9124397557122663, 0.9124397557122663, 0.9124397557122663, 0.9124397557122663, 0.9124397557122663, 0.9124397557122663, 0.9189516973070433, 0.9189516973070433, 0.9189516973070433, 0.9189516973070433, 0.9189516973070433, 0.9189516973070433, 0.9189516973070433, 0.9189516973070433, 0.9189516973070433, 0.9189516973070433, 0.9189516973070433, 0.9189516973070433, 0.9189516973070433, 0.9189516973070433, 0.9190891714293402, 0.9190891714293402, 0.9190891714293402, 0.9190891714293402, 0.9190891714293402, 0.9190891714293402, 0.9190891714293402, 0.9190891714293402, 0.9190891714293402, 0.9190891714293402, 0.9190891714293402, 0.9190891714293402, 0.9190891714293402, 0.9190891714293402, 0.9190891714293402, 0.9190891714293402, 0.9190891714293402, 0.9190891714293402, 0.9190891714293402, 0.9190891714293402, 0.9190891714293402, 0.9190891714293402]}], \"recall_score_macro\": [{\"categories\": [\"0\", \"1\", \"2\", \"3\", \"4\", \"5\", \"6\", \"7\", \"8\", \"9\", \"10\", \"11\", \"12\", \"13\", \"14\", \"15\", \"16\", \"17\", \"18\", \"19\", \"20\", \"21\", \"22\", \"23\", \"24\", \"25\", \"26\", \"27\", \"28\", \"29\", \"30\", \"31\", \"32\", \"33\", \"34\", \"35\", \"36\", \"37\", \"38\", \"39\", \"40\", \"41\", \"42\", \"43\", \"44\", \"45\", \"46\", \"47\", \"48\", \"49\", \"50\", \"51\", \"52\", \"53\", \"54\", \"55\", \"56\", \"60\", \"61\"], \"mode\": \"markers\", \"name\": \"recall_score_macro\", \"stepped\": false, \"type\": \"scatter\", \"data\": [0.7760209025470652, 0.8060125968992248, 0.8018327796234772, 0.7089244186046512, 0.8216119878183831, 0.7984911406423034, 0.8004768826135106, 0.789311323366556, 0.6854166666666667, 0.6706803709856035, 0.6820791805094131, 0.7360077519379844, 0.8092102713178294, 0.7942095791805094, 0.8131471483942414, 0.5313406699889258, 0.6620750276854928, 0.7690905315614618, 0.802373338870432, 0.807062569213732, 0.804469130675526, 0.7620584163898116, 0.8019435215946844, 0.8081208471760796, 0.8235292081949058, 0.5, 0.7964929401993356, 0.7993798449612403, 0.6772577519379844, 0.779358388704319, 0.79750069213732, 0.8114887873754153, 0.7952512458471761, 0.8069476744186046, 0.8194179125138428, 0.717046650055371, 0.8141673588039866, 0.8144815891472869, 0.8163946566998893, 0.8046947674418604, 0.8012887596899224, 0.8128107696567, 0.799656007751938, 0.7921262458471761, 0.7956339977851605, 0.8183679401993356, 0.8170923311184939, 0.8242483388704318, 0.819235188261351, 0.7880959302325582, 0.5, 0.7870667220376523, 0.8090012458471761, 0.8209018549280177, 0.7639334163898118, 0.5, 0.8202263289036544, 0.813686323366556, 0.6910119047619048]}, {\"categories\": [\"0\", \"1\", \"2\", \"3\", \"4\", \"5\", \"6\", \"7\", \"8\", \"9\", \"10\", \"11\", \"12\", \"13\", \"14\", \"15\", \"16\", \"17\", \"18\", \"19\", \"20\", \"21\", \"22\", \"23\", \"24\", \"25\", \"26\", \"27\", \"28\", \"29\", \"30\", \"31\", \"32\", \"33\", \"34\", \"35\", \"36\", \"37\", \"38\", \"39\", \"40\", \"41\", \"42\", \"43\", \"44\", \"45\", \"46\", \"47\", \"48\", \"49\", \"50\", \"51\", \"52\", \"53\", \"54\", \"55\", \"56\", \"60\", \"61\"], \"mode\": \"lines\", \"name\": \"recall_score_macro_max\", \"stepped\": true, \"type\": \"scatter\", \"data\": [0.7760209025470652, 0.8060125968992248, 0.8060125968992248, 0.8060125968992248, 0.8216119878183831, 0.8216119878183831, 0.8216119878183831, 0.8216119878183831, 0.8216119878183831, 0.8216119878183831, 0.8216119878183831, 0.8216119878183831, 0.8216119878183831, 0.8216119878183831, 0.8216119878183831, 0.8216119878183831, 0.8216119878183831, 0.8216119878183831, 0.8216119878183831, 0.8216119878183831, 0.8216119878183831, 0.8216119878183831, 0.8216119878183831, 0.8216119878183831, 0.8235292081949058, 0.8235292081949058, 0.8235292081949058, 0.8235292081949058, 0.8235292081949058, 0.8235292081949058, 0.8235292081949058, 0.8235292081949058, 0.8235292081949058, 0.8235292081949058, 0.8235292081949058, 0.8235292081949058, 0.8235292081949058, 0.8235292081949058, 0.8235292081949058, 0.8235292081949058, 0.8235292081949058, 0.8235292081949058, 0.8235292081949058, 0.8235292081949058, 0.8235292081949058, 0.8235292081949058, 0.8235292081949058, 0.8242483388704318, 0.8242483388704318, 0.8242483388704318, 0.8242483388704318, 0.8242483388704318, 0.8242483388704318, 0.8242483388704318, 0.8242483388704318, 0.8242483388704318, 0.8242483388704318, 0.8242483388704318, 0.8242483388704318]}], \"f1_score_weighted\": [{\"categories\": [\"0\", \"1\", \"2\", \"3\", \"4\", \"5\", \"6\", \"7\", \"8\", \"9\", \"10\", \"11\", \"12\", \"13\", \"14\", \"15\", \"16\", \"17\", \"18\", \"19\", \"20\", \"21\", \"22\", \"23\", \"24\", \"25\", \"26\", \"27\", \"28\", \"29\", \"30\", \"31\", \"32\", \"33\", \"34\", \"35\", \"36\", \"37\", \"38\", \"39\", \"40\", \"41\", \"42\", \"43\", \"44\", \"45\", \"46\", \"47\", \"48\", \"49\", \"50\", \"51\", \"52\", \"53\", \"54\", \"55\", \"56\", \"60\", \"61\"], \"mode\": \"markers\", \"name\": \"f1_score_weighted\", \"stepped\": false, \"type\": \"scatter\", \"data\": [0.8014398448329555, 0.8237396450256732, 0.8358071006421748, 0.763295267646831, 0.8452616202520706, 0.8252268222513818, 0.8277121262048919, 0.834749509340519, 0.7519684364806787, 0.7359836357954517, 0.7499083382388474, 0.7853659373666193, 0.8054653865228218, 0.8183010761922818, 0.8307203355889132, 0.5942320550697178, 0.718256934293606, 0.793172353633607, 0.8157354482931437, 0.8224246263079633, 0.8311072068468988, 0.7916935990118057, 0.8268017790758098, 0.8444243958575107, 0.8421597983609782, 0.5526564268547016, 0.8154597246705961, 0.8277349852290407, 0.7389417308301948, 0.8171078974593664, 0.8208411618117237, 0.8346265062694037, 0.8268195291248748, 0.8284240986230669, 0.8391340544921736, 0.6983717810006616, 0.8345840142856262, 0.8418020381449702, 0.8493430952594061, 0.8163075337153474, 0.8255622661136532, 0.8337406155044652, 0.8199952653597643, 0.81540472217149, 0.8259907076447661, 0.8402675442587239, 0.8361018375622173, 0.8301959629303987, 0.8330151782263986, 0.8158437533542244, 0.5526564268547016, 0.8096299902531776, 0.8347896508905445, 0.8400522212887939, 0.8004142644496053, 0.5526564268547016, 0.8173147367039745, 0.8453082711158286, 0.7289200610039475]}, {\"categories\": [\"0\", \"1\", \"2\", \"3\", \"4\", \"5\", \"6\", \"7\", \"8\", \"9\", \"10\", \"11\", \"12\", \"13\", \"14\", \"15\", \"16\", \"17\", \"18\", \"19\", \"20\", \"21\", \"22\", \"23\", \"24\", \"25\", \"26\", \"27\", \"28\", \"29\", \"30\", \"31\", \"32\", \"33\", \"34\", \"35\", \"36\", \"37\", \"38\", \"39\", \"40\", \"41\", \"42\", \"43\", \"44\", \"45\", \"46\", \"47\", \"48\", \"49\", \"50\", \"51\", \"52\", \"53\", \"54\", \"55\", \"56\", \"60\", \"61\"], \"mode\": \"lines\", \"name\": \"f1_score_weighted_max\", \"stepped\": true, \"type\": \"scatter\", \"data\": [0.8014398448329555, 0.8237396450256732, 0.8358071006421748, 0.8358071006421748, 0.8452616202520706, 0.8452616202520706, 0.8452616202520706, 0.8452616202520706, 0.8452616202520706, 0.8452616202520706, 0.8452616202520706, 0.8452616202520706, 0.8452616202520706, 0.8452616202520706, 0.8452616202520706, 0.8452616202520706, 0.8452616202520706, 0.8452616202520706, 0.8452616202520706, 0.8452616202520706, 0.8452616202520706, 0.8452616202520706, 0.8452616202520706, 0.8452616202520706, 0.8452616202520706, 0.8452616202520706, 0.8452616202520706, 0.8452616202520706, 0.8452616202520706, 0.8452616202520706, 0.8452616202520706, 0.8452616202520706, 0.8452616202520706, 0.8452616202520706, 0.8452616202520706, 0.8452616202520706, 0.8452616202520706, 0.8452616202520706, 0.8493430952594061, 0.8493430952594061, 0.8493430952594061, 0.8493430952594061, 0.8493430952594061, 0.8493430952594061, 0.8493430952594061, 0.8493430952594061, 0.8493430952594061, 0.8493430952594061, 0.8493430952594061, 0.8493430952594061, 0.8493430952594061, 0.8493430952594061, 0.8493430952594061, 0.8493430952594061, 0.8493430952594061, 0.8493430952594061, 0.8493430952594061, 0.8493430952594061, 0.8493430952594061]}]}, \"metricName\": null, \"primaryMetricName\": \"AUC_weighted\", \"showLegend\": false}, \"run_metrics\": [{\"name\": \"experiment_status\", \"run_id\": \"AutoML_4a20a98b-8950-493a-94dc-96a80e4ea82c\", \"categories\": [0, 1, 2, 3, 4, 5, 6, 7, 8, 9, 10, 11, 12, 13], \"series\": [{\"data\": [\"DatasetEvaluation\", \"FeaturesGeneration\", \"DatasetFeaturization\", \"DatasetFeaturizationCompleted\", \"DatasetCrossValidationSplit\", \"ModelSelection\", \"BestRunExplainModel\", \"ModelExplanationDataSetSetup\", \"PickSurrogateModel\", \"EngineeredFeatureExplanations\", \"EngineeredFeatureExplanations\", \"RawFeaturesExplanations\", \"RawFeaturesExplanations\", \"BestRunExplainModel\"]}]}, {\"name\": \"experiment_status_description\", \"run_id\": \"AutoML_4a20a98b-8950-493a-94dc-96a80e4ea82c\", \"categories\": [0, 1, 2, 3, 4, 5, 6, 7, 8, 9, 10, 11, 12, 13], \"series\": [{\"data\": [\"Gathering dataset statistics.\", \"Generating features for the dataset.\", \"Beginning to fit featurizers and featurize the dataset.\", \"Completed fit featurizers and featurizing the dataset.\", \"Generating individually featurized CV splits.\", \"Beginning model selection.\", \"Best run model explanations started\", \"Model explanations data setup completed\", \"Choosing LightGBM as the surrogate model for explanations\", \"Computation of engineered features started\", \"Computation of engineered features completed\", \"Computation of raw features started\", \"Computation of raw features completed\", \"Best run model explanations completed\"]}]}, {\"name\": \"average_precision_score_macro\", \"run_id\": \"AutoML_4a20a98b-8950-493a-94dc-96a80e4ea82c\", \"categories\": [0], \"series\": [{\"data\": [0.9071683357097193]}]}, {\"name\": \"f1_score_macro\", \"run_id\": \"AutoML_4a20a98b-8950-493a-94dc-96a80e4ea82c\", \"categories\": [0], \"series\": [{\"data\": [0.6501342353941626]}]}, {\"name\": \"precision_score_weighted\", \"run_id\": \"AutoML_4a20a98b-8950-493a-94dc-96a80e4ea82c\", \"categories\": [0], \"series\": [{\"data\": [0.7154926671304332]}]}, {\"name\": \"f1_score_weighted\", \"run_id\": \"AutoML_4a20a98b-8950-493a-94dc-96a80e4ea82c\", \"categories\": [0], \"series\": [{\"data\": [0.7289200610039475]}]}, {\"name\": \"AUC_macro\", \"run_id\": \"AutoML_4a20a98b-8950-493a-94dc-96a80e4ea82c\", \"categories\": [0], \"series\": [{\"data\": [0.9188983480989295]}]}, {\"name\": \"balanced_accuracy\", \"run_id\": \"AutoML_4a20a98b-8950-493a-94dc-96a80e4ea82c\", \"categories\": [0], \"series\": [{\"data\": [0.6910119047619048]}]}, {\"name\": \"precision_score_micro\", \"run_id\": \"AutoML_4a20a98b-8950-493a-94dc-96a80e4ea82c\", \"categories\": [0], \"series\": [{\"data\": [0.7824293785310734]}]}, {\"name\": \"norm_macro_recall\", \"run_id\": \"AutoML_4a20a98b-8950-493a-94dc-96a80e4ea82c\", \"categories\": [0], \"series\": [{\"data\": [0.3820238095238096]}]}, {\"name\": \"weighted_accuracy\", \"run_id\": \"AutoML_4a20a98b-8950-493a-94dc-96a80e4ea82c\", \"categories\": [0], \"series\": [{\"data\": [0.8474912924327237]}]}, {\"name\": \"f1_score_micro\", \"run_id\": \"AutoML_4a20a98b-8950-493a-94dc-96a80e4ea82c\", \"categories\": [0], \"series\": [{\"data\": [0.7824293785310734]}]}, {\"name\": \"recall_score_macro\", \"run_id\": \"AutoML_4a20a98b-8950-493a-94dc-96a80e4ea82c\", \"categories\": [0], \"series\": [{\"data\": [0.6910119047619048]}]}, {\"name\": \"log_loss\", \"run_id\": \"AutoML_4a20a98b-8950-493a-94dc-96a80e4ea82c\", \"categories\": [0], \"series\": [{\"data\": [0.5116167817475391]}]}, {\"name\": \"recall_score_micro\", \"run_id\": \"AutoML_4a20a98b-8950-493a-94dc-96a80e4ea82c\", \"categories\": [0], \"series\": [{\"data\": [0.7824293785310734]}]}, {\"name\": \"average_precision_score_micro\", \"run_id\": \"AutoML_4a20a98b-8950-493a-94dc-96a80e4ea82c\", \"categories\": [0], \"series\": [{\"data\": [0.8990911175670465]}]}, {\"name\": \"AUC_weighted\", \"run_id\": \"AutoML_4a20a98b-8950-493a-94dc-96a80e4ea82c\", \"categories\": [0], \"series\": [{\"data\": [0.9188983480989295]}]}, {\"name\": \"matthews_correlation\", \"run_id\": \"AutoML_4a20a98b-8950-493a-94dc-96a80e4ea82c\", \"categories\": [0], \"series\": [{\"data\": [0.39555807318409947]}]}, {\"name\": \"precision_score_macro\", \"run_id\": \"AutoML_4a20a98b-8950-493a-94dc-96a80e4ea82c\", \"categories\": [0], \"series\": [{\"data\": [0.6462349526900554]}]}, {\"name\": \"average_precision_score_weighted\", \"run_id\": \"AutoML_4a20a98b-8950-493a-94dc-96a80e4ea82c\", \"categories\": [0], \"series\": [{\"data\": [0.9292889889371618]}]}, {\"name\": \"AUC_micro\", \"run_id\": \"AutoML_4a20a98b-8950-493a-94dc-96a80e4ea82c\", \"categories\": [0], \"series\": [{\"data\": [0.8907222860608381]}]}, {\"name\": \"accuracy\", \"run_id\": \"AutoML_4a20a98b-8950-493a-94dc-96a80e4ea82c\", \"categories\": [0], \"series\": [{\"data\": [0.7824293785310734]}]}, {\"name\": \"recall_score_weighted\", \"run_id\": \"AutoML_4a20a98b-8950-493a-94dc-96a80e4ea82c\", \"categories\": [0], \"series\": [{\"data\": [0.7824293785310734]}]}], \"run_logs\": \"\\nRun is completed.\", \"graph\": {}, \"widget_settings\": {\"childWidgetDisplay\": \"popup\", \"send_telemetry\": false, \"log_level\": \"INFO\", \"sdk_version\": \"1.20.0\"}, \"loading\": false}"
     },
     "metadata": {},
     "output_type": "display_data"
    }
   ],
   "source": [
    "RunDetails(remote_run).show()"
   ]
  },
  {
   "cell_type": "code",
   "execution_count": 10,
   "metadata": {},
   "outputs": [
    {
     "name": "stdout",
     "output_type": "stream",
     "text": [
      "\n",
      "\n",
      "****************************************************************************************************\n",
      "DATA GUARDRAILS: \n",
      "\n",
      "TYPE:         Class balancing detection\n",
      "STATUS:       PASSED\n",
      "DESCRIPTION:  Your inputs were analyzed, and all classes are balanced in your training data.\n",
      "              Learn more about imbalanced data: https://aka.ms/AutomatedMLImbalancedData\n",
      "\n",
      "****************************************************************************************************\n",
      "\n",
      "TYPE:         Missing feature values imputation\n",
      "STATUS:       PASSED\n",
      "DESCRIPTION:  No feature missing values were detected in the training data.\n",
      "              Learn more about missing value imputation: https://aka.ms/AutomatedMLFeaturization\n",
      "\n",
      "****************************************************************************************************\n",
      "\n",
      "TYPE:         High cardinality feature detection\n",
      "STATUS:       PASSED\n",
      "DESCRIPTION:  Your inputs were analyzed, and no high cardinality features were detected.\n",
      "              Learn more about high cardinality feature handling: https://aka.ms/AutomatedMLFeaturization\n",
      "\n",
      "****************************************************************************************************\n",
      "\n",
      "****************************************************************************************************\n",
      "ITERATION: The iteration being evaluated.\n",
      "PIPELINE: A summary description of the pipeline being evaluated.\n",
      "DURATION: Time taken for the current iteration.\n",
      "METRIC: The result of computing score on the fitted pipeline.\n",
      "BEST: The best observed score thus far.\n",
      "****************************************************************************************************\n",
      "\n",
      " ITERATION   PIPELINE                                       DURATION      METRIC      BEST\n",
      "         0   MaxAbsScaler LightGBM                          0:03:38       0.8811    0.8811\n",
      "         1   MaxAbsScaler XGBoostClassifier                 0:03:38       0.8930    0.8930\n",
      "         2   MinMaxScaler RandomForest                      0:03:32       0.9064    0.9064\n",
      "         3   RobustScaler ExtremeRandomTrees                0:01:01       0.8791    0.9064\n",
      "         4   MinMaxScaler RandomForest                      0:00:57       0.9001    0.9064\n",
      "         5   MinMaxScaler RandomForest                      0:00:58       0.8945    0.9064\n",
      "         6   StandardScalerWrapper RandomForest             0:01:01       0.8921    0.9064\n",
      "         7   MinMaxScaler ExtremeRandomTrees                0:01:04       0.8964    0.9064\n",
      "         8   MinMaxScaler ExtremeRandomTrees                0:01:00       0.8767    0.9064\n",
      "         9   SparseNormalizer KNN                           0:00:54       0.7515    0.9064\n",
      "        10   MinMaxScaler ExtremeRandomTrees                0:00:56       0.8702    0.9064\n",
      "        11   RobustScaler ExtremeRandomTrees                0:00:58       0.8726    0.9064\n",
      "        12   StandardScalerWrapper RandomForest             0:00:49       0.8984    0.9064\n",
      "        13   StandardScalerWrapper SGD                      0:01:03       0.8714    0.9064\n",
      "        14   RobustScaler RandomForest                      0:00:53       0.8935    0.9064\n",
      "        15   StandardScalerWrapper KNN                      0:00:59       0.4823    0.9064\n",
      "        16   MinMaxScaler RandomForest                      0:00:57       0.8832    0.9064\n",
      "        17   MinMaxScaler ExtremeRandomTrees                0:01:04       0.8429    0.9064\n",
      "        18   MaxAbsScaler RandomForest                      0:00:59       0.9001    0.9064\n",
      "        19   StandardScalerWrapper XGBoostClassifier        0:00:54       0.9076    0.9076\n",
      "        20   MaxAbsScaler RandomForest                      0:01:07       0.8773    0.9076\n",
      "        21   MaxAbsScaler ExtremeRandomTrees                0:00:57       0.8397    0.9076\n",
      "        22   MaxAbsScaler ExtremeRandomTrees                0:01:03       0.8816    0.9076\n",
      "        23   MinMaxScaler RandomForest                      0:00:54       0.9110    0.9110\n",
      "        24   MinMaxScaler ExtremeRandomTrees                0:00:58       0.9014    0.9110\n",
      "        25   TruncatedSVDWrapper XGBoostClassifier          0:00:57       0.5000    0.9110\n",
      "        26   MaxAbsScaler ExtremeRandomTrees                0:01:10       0.8953    0.9110\n",
      "        27   StandardScalerWrapper XGBoostClassifier        0:00:57       0.9031    0.9110\n",
      "        28   StandardScalerWrapper LightGBM                 0:01:02       0.8638    0.9110\n",
      "        29   RobustScaler LightGBM                          0:01:01       0.9032    0.9110\n",
      "        30   StandardScalerWrapper RandomForest             0:01:15       0.9070    0.9110\n",
      "        31   StandardScalerWrapper XGBoostClassifier        0:01:05       0.9061    0.9110\n",
      "        32   StandardScalerWrapper XGBoostClassifier        0:00:58       0.8947    0.9110\n",
      "        33   StandardScalerWrapper XGBoostClassifier        0:01:01       0.9044    0.9110\n",
      "        34   StandardScalerWrapper XGBoostClassifier        0:00:57       0.9147    0.9147\n",
      "        35   StandardScalerWrapper RandomForest             0:00:54       0.7556    0.9147\n",
      "        36   StandardScalerWrapper XGBoostClassifier        0:00:56       0.9087    0.9147\n",
      "        37   StandardScalerWrapper RandomForest             0:01:08       0.9106    0.9147\n",
      "        38   RobustScaler ExtremeRandomTrees                0:01:00       0.9058    0.9147\n",
      "        39   MinMaxScaler RandomForest                      0:00:50       0.9049    0.9147\n",
      "        40   StandardScalerWrapper XGBoostClassifier        0:00:59       0.8994    0.9147\n",
      "        41   MaxAbsScaler GradientBoosting                  0:00:57       0.9147    0.9147\n",
      "        42   StandardScalerWrapper SVM                      0:00:57       0.8768    0.9147\n",
      "        43   MinMaxScaler LogisticRegression                0:00:57       0.8680    0.9147\n",
      "        44   RobustScaler GradientBoosting                  0:00:57       0.8997    0.9147\n",
      "        45   StandardScalerWrapper XGBoostClassifier        0:01:02       0.9077    0.9147\n",
      "        46   MaxAbsScaler LightGBM                          0:01:02       0.8920    0.9147\n",
      "        47   MinMaxScaler RandomForest                      0:00:51       0.9092    0.9147\n",
      "        48   RobustScaler ExtremeRandomTrees                0:00:55       0.8932    0.9147\n",
      "        49   MaxAbsScaler LightGBM                          0:01:00       0.8957    0.9147\n",
      "        50   StandardScalerWrapper GradientBoosting         0:00:55       0.9035    0.9147\n",
      "        51   StandardScalerWrapper LogisticRegression       0:00:49       0.8702    0.9147\n",
      "        52   MaxAbsScaler GradientBoosting                  0:00:50       0.9076    0.9147\n",
      "        53   StandardScalerWrapper XGBoostClassifier        0:00:57       0.9013    0.9147\n",
      "        54   StandardScalerWrapper LightGBM                 0:01:01       0.8951    0.9147\n",
      "        55   StandardScalerWrapper GradientBoosting         0:00:52       0.7856    0.9147\n",
      "        56   StandardScalerWrapper RandomForest             0:00:57       0.9016    0.9147\n",
      "        57                                                  0:00:23          nan    0.9147\n",
      "        58                                                  0:00:10          nan    0.9147\n",
      "        59                                                  0:00:17          nan    0.9147\n",
      "        60    VotingEnsemble                                0:01:47       0.9187    0.9187\n",
      "        61    StackEnsemble                                 0:02:06       0.9189    0.9189\n"
     ]
    },
    {
     "data": {
      "text/plain": [
       "{'runId': 'AutoML_4a20a98b-8950-493a-94dc-96a80e4ea82c',\n",
       " 'target': 'cpu-cluster',\n",
       " 'status': 'Completed',\n",
       " 'startTimeUtc': '2021-02-12T19:02:37.694216Z',\n",
       " 'endTimeUtc': '2021-02-12T19:28:28.392507Z',\n",
       " 'properties': {'num_iterations': '1000',\n",
       "  'training_type': 'TrainFull',\n",
       "  'acquisition_function': 'EI',\n",
       "  'primary_metric': 'AUC_weighted',\n",
       "  'train_split': '0',\n",
       "  'acquisition_parameter': '0',\n",
       "  'num_cross_validation': '5',\n",
       "  'target': 'cpu-cluster',\n",
       "  'AMLSettingsJsonString': '{\"path\":null,\"name\":\"capstone-heartfailure-exp\",\"subscription_id\":\"a24a24d5-8d87-4c8a-99b6-91ed2d2df51f\",\"resource_group\":\"aml-quickstarts-138727\",\"workspace_name\":\"quick-starts-ws-138727\",\"region\":\"southcentralus\",\"compute_target\":\"cpu-cluster\",\"spark_service\":null,\"azure_service\":\"remote\",\"many_models\":false,\"pipeline_fetch_max_batch_size\":1,\"iterations\":1000,\"primary_metric\":\"AUC_weighted\",\"task_type\":\"classification\",\"data_script\":null,\"validation_size\":0.0,\"n_cross_validations\":5,\"y_min\":null,\"y_max\":null,\"num_classes\":null,\"featurization\":\"auto\",\"_ignore_package_version_incompatibilities\":false,\"is_timeseries\":false,\"max_cores_per_iteration\":1,\"max_concurrent_iterations\":5,\"iteration_timeout_minutes\":null,\"mem_in_mb\":null,\"enforce_time_on_windows\":false,\"experiment_timeout_minutes\":30,\"experiment_exit_score\":null,\"whitelist_models\":null,\"blacklist_algos\":[\"TensorFlowLinearClassifier\",\"TensorFlowDNN\"],\"supported_models\":[\"RandomForest\",\"KNN\",\"XGBoostClassifier\",\"SVM\",\"BernoulliNaiveBayes\",\"DecisionTree\",\"TensorFlowLinearClassifier\",\"LightGBM\",\"TensorFlowDNN\",\"SGD\",\"GradientBoosting\",\"AveragedPerceptronClassifier\",\"LogisticRegression\",\"ExtremeRandomTrees\",\"MultinomialNaiveBayes\",\"LinearSVM\"],\"auto_blacklist\":true,\"blacklist_samples_reached\":false,\"exclude_nan_labels\":true,\"verbosity\":20,\"_debug_log\":\"azureml_automl.log\",\"show_warnings\":false,\"model_explainability\":true,\"service_url\":null,\"sdk_url\":null,\"sdk_packages\":null,\"enable_onnx_compatible_models\":false,\"enable_split_onnx_featurizer_estimator_models\":false,\"vm_type\":\"STANDARD_D2_V2\",\"telemetry_verbosity\":20,\"send_telemetry\":true,\"enable_dnn\":false,\"scenario\":\"SDK-1.13.0\",\"environment_label\":null,\"force_text_dnn\":false,\"enable_feature_sweeping\":true,\"enable_early_stopping\":true,\"early_stopping_n_iters\":10,\"metrics\":null,\"enable_ensembling\":true,\"enable_stack_ensembling\":true,\"ensemble_iterations\":15,\"enable_tf\":false,\"enable_subsampling\":null,\"subsample_seed\":null,\"enable_nimbusml\":false,\"enable_streaming\":false,\"force_streaming\":false,\"track_child_runs\":true,\"allowed_private_models\":[],\"label_column_name\":\"DEATH_EVENT\",\"weight_column_name\":null,\"cv_split_column_names\":null,\"enable_local_managed\":false,\"_local_managed_run_id\":null,\"cost_mode\":1,\"lag_length\":0,\"metric_operation\":\"maximize\",\"preprocess\":true}',\n",
       "  'DataPrepJsonString': '{\\\\\"training_data\\\\\": \\\\\"{\\\\\\\\\\\\\"blocks\\\\\\\\\\\\\": [{\\\\\\\\\\\\\"id\\\\\\\\\\\\\": \\\\\\\\\\\\\"da489010-f7e5-4838-8e4d-a7fcd57e7b4d\\\\\\\\\\\\\", \\\\\\\\\\\\\"type\\\\\\\\\\\\\": \\\\\\\\\\\\\"Microsoft.DPrep.GetFilesBlock\\\\\\\\\\\\\", \\\\\\\\\\\\\"arguments\\\\\\\\\\\\\": {\\\\\\\\\\\\\"isArchive\\\\\\\\\\\\\": false, \\\\\\\\\\\\\"path\\\\\\\\\\\\\": {\\\\\\\\\\\\\"target\\\\\\\\\\\\\": 4, \\\\\\\\\\\\\"resourceDetails\\\\\\\\\\\\\": [{\\\\\\\\\\\\\"path\\\\\\\\\\\\\": \\\\\\\\\\\\\"https://raw.githubusercontent.com/Arushikha0408/nd00333-capstone/master/heart_failure_clinical_records_dataset.csv\\\\\\\\\\\\\"}]}}, \\\\\\\\\\\\\"localData\\\\\\\\\\\\\": {}, \\\\\\\\\\\\\"isEnabled\\\\\\\\\\\\\": true, \\\\\\\\\\\\\"name\\\\\\\\\\\\\": null, \\\\\\\\\\\\\"annotation\\\\\\\\\\\\\": null}, {\\\\\\\\\\\\\"id\\\\\\\\\\\\\": \\\\\\\\\\\\\"ff9ba199-3775-451a-8b47-075b11fef666\\\\\\\\\\\\\", \\\\\\\\\\\\\"type\\\\\\\\\\\\\": \\\\\\\\\\\\\"Microsoft.DPrep.ParseDelimitedBlock\\\\\\\\\\\\\", \\\\\\\\\\\\\"arguments\\\\\\\\\\\\\": {\\\\\\\\\\\\\"columnHeadersMode\\\\\\\\\\\\\": 3, \\\\\\\\\\\\\"fileEncoding\\\\\\\\\\\\\": 0, \\\\\\\\\\\\\"handleQuotedLineBreaks\\\\\\\\\\\\\": false, \\\\\\\\\\\\\"preview\\\\\\\\\\\\\": false, \\\\\\\\\\\\\"separator\\\\\\\\\\\\\": \\\\\\\\\\\\\",\\\\\\\\\\\\\", \\\\\\\\\\\\\"skipRows\\\\\\\\\\\\\": 0, \\\\\\\\\\\\\"skipRowsMode\\\\\\\\\\\\\": 0}, \\\\\\\\\\\\\"localData\\\\\\\\\\\\\": {}, \\\\\\\\\\\\\"isEnabled\\\\\\\\\\\\\": true, \\\\\\\\\\\\\"name\\\\\\\\\\\\\": null, \\\\\\\\\\\\\"annotation\\\\\\\\\\\\\": null}, {\\\\\\\\\\\\\"id\\\\\\\\\\\\\": \\\\\\\\\\\\\"0a074b3d-6ba6-47ae-9216-cebb60a798b6\\\\\\\\\\\\\", \\\\\\\\\\\\\"type\\\\\\\\\\\\\": \\\\\\\\\\\\\"Microsoft.DPrep.DropColumnsBlock\\\\\\\\\\\\\", \\\\\\\\\\\\\"arguments\\\\\\\\\\\\\": {\\\\\\\\\\\\\"columns\\\\\\\\\\\\\": {\\\\\\\\\\\\\"type\\\\\\\\\\\\\": 0, \\\\\\\\\\\\\"details\\\\\\\\\\\\\": {\\\\\\\\\\\\\"selectedColumns\\\\\\\\\\\\\": [\\\\\\\\\\\\\"Path\\\\\\\\\\\\\"]}}}, \\\\\\\\\\\\\"localData\\\\\\\\\\\\\": {}, \\\\\\\\\\\\\"isEnabled\\\\\\\\\\\\\": true, \\\\\\\\\\\\\"name\\\\\\\\\\\\\": null, \\\\\\\\\\\\\"annotation\\\\\\\\\\\\\": null}, {\\\\\\\\\\\\\"id\\\\\\\\\\\\\": \\\\\\\\\\\\\"cf7e90d3-8b41-47d4-ae44-37c8ba81a183\\\\\\\\\\\\\", \\\\\\\\\\\\\"type\\\\\\\\\\\\\": \\\\\\\\\\\\\"Microsoft.DPrep.SetColumnTypesBlock\\\\\\\\\\\\\", \\\\\\\\\\\\\"arguments\\\\\\\\\\\\\": {\\\\\\\\\\\\\"columnConversion\\\\\\\\\\\\\": [{\\\\\\\\\\\\\"column\\\\\\\\\\\\\": {\\\\\\\\\\\\\"type\\\\\\\\\\\\\": 2, \\\\\\\\\\\\\"details\\\\\\\\\\\\\": {\\\\\\\\\\\\\"selectedColumn\\\\\\\\\\\\\": \\\\\\\\\\\\\"age\\\\\\\\\\\\\"}}, \\\\\\\\\\\\\"typeProperty\\\\\\\\\\\\\": 3}, {\\\\\\\\\\\\\"column\\\\\\\\\\\\\": {\\\\\\\\\\\\\"type\\\\\\\\\\\\\": 2, \\\\\\\\\\\\\"details\\\\\\\\\\\\\": {\\\\\\\\\\\\\"selectedColumn\\\\\\\\\\\\\": \\\\\\\\\\\\\"anaemia\\\\\\\\\\\\\"}}, \\\\\\\\\\\\\"typeProperty\\\\\\\\\\\\\": 2}, {\\\\\\\\\\\\\"column\\\\\\\\\\\\\": {\\\\\\\\\\\\\"type\\\\\\\\\\\\\": 2, \\\\\\\\\\\\\"details\\\\\\\\\\\\\": {\\\\\\\\\\\\\"selectedColumn\\\\\\\\\\\\\": \\\\\\\\\\\\\"creatinine_phosphokinase\\\\\\\\\\\\\"}}, \\\\\\\\\\\\\"typeProperty\\\\\\\\\\\\\": 2}, {\\\\\\\\\\\\\"column\\\\\\\\\\\\\": {\\\\\\\\\\\\\"type\\\\\\\\\\\\\": 2, \\\\\\\\\\\\\"details\\\\\\\\\\\\\": {\\\\\\\\\\\\\"selectedColumn\\\\\\\\\\\\\": \\\\\\\\\\\\\"diabetes\\\\\\\\\\\\\"}}, \\\\\\\\\\\\\"typeProperty\\\\\\\\\\\\\": 2}, {\\\\\\\\\\\\\"column\\\\\\\\\\\\\": {\\\\\\\\\\\\\"type\\\\\\\\\\\\\": 2, \\\\\\\\\\\\\"details\\\\\\\\\\\\\": {\\\\\\\\\\\\\"selectedColumn\\\\\\\\\\\\\": \\\\\\\\\\\\\"ejection_fraction\\\\\\\\\\\\\"}}, \\\\\\\\\\\\\"typeProperty\\\\\\\\\\\\\": 2}, {\\\\\\\\\\\\\"column\\\\\\\\\\\\\": {\\\\\\\\\\\\\"type\\\\\\\\\\\\\": 2, \\\\\\\\\\\\\"details\\\\\\\\\\\\\": {\\\\\\\\\\\\\"selectedColumn\\\\\\\\\\\\\": \\\\\\\\\\\\\"high_blood_pressure\\\\\\\\\\\\\"}}, \\\\\\\\\\\\\"typeProperty\\\\\\\\\\\\\": 2}, {\\\\\\\\\\\\\"column\\\\\\\\\\\\\": {\\\\\\\\\\\\\"type\\\\\\\\\\\\\": 2, \\\\\\\\\\\\\"details\\\\\\\\\\\\\": {\\\\\\\\\\\\\"selectedColumn\\\\\\\\\\\\\": \\\\\\\\\\\\\"platelets\\\\\\\\\\\\\"}}, \\\\\\\\\\\\\"typeProperty\\\\\\\\\\\\\": 3}, {\\\\\\\\\\\\\"column\\\\\\\\\\\\\": {\\\\\\\\\\\\\"type\\\\\\\\\\\\\": 2, \\\\\\\\\\\\\"details\\\\\\\\\\\\\": {\\\\\\\\\\\\\"selectedColumn\\\\\\\\\\\\\": \\\\\\\\\\\\\"serum_creatinine\\\\\\\\\\\\\"}}, \\\\\\\\\\\\\"typeProperty\\\\\\\\\\\\\": 3}, {\\\\\\\\\\\\\"column\\\\\\\\\\\\\": {\\\\\\\\\\\\\"type\\\\\\\\\\\\\": 2, \\\\\\\\\\\\\"details\\\\\\\\\\\\\": {\\\\\\\\\\\\\"selectedColumn\\\\\\\\\\\\\": \\\\\\\\\\\\\"serum_sodium\\\\\\\\\\\\\"}}, \\\\\\\\\\\\\"typeProperty\\\\\\\\\\\\\": 2}, {\\\\\\\\\\\\\"column\\\\\\\\\\\\\": {\\\\\\\\\\\\\"type\\\\\\\\\\\\\": 2, \\\\\\\\\\\\\"details\\\\\\\\\\\\\": {\\\\\\\\\\\\\"selectedColumn\\\\\\\\\\\\\": \\\\\\\\\\\\\"sex\\\\\\\\\\\\\"}}, \\\\\\\\\\\\\"typeProperty\\\\\\\\\\\\\": 2}, {\\\\\\\\\\\\\"column\\\\\\\\\\\\\": {\\\\\\\\\\\\\"type\\\\\\\\\\\\\": 2, \\\\\\\\\\\\\"details\\\\\\\\\\\\\": {\\\\\\\\\\\\\"selectedColumn\\\\\\\\\\\\\": \\\\\\\\\\\\\"smoking\\\\\\\\\\\\\"}}, \\\\\\\\\\\\\"typeProperty\\\\\\\\\\\\\": 2}, {\\\\\\\\\\\\\"column\\\\\\\\\\\\\": {\\\\\\\\\\\\\"type\\\\\\\\\\\\\": 2, \\\\\\\\\\\\\"details\\\\\\\\\\\\\": {\\\\\\\\\\\\\"selectedColumn\\\\\\\\\\\\\": \\\\\\\\\\\\\"time\\\\\\\\\\\\\"}}, \\\\\\\\\\\\\"typeProperty\\\\\\\\\\\\\": 2}, {\\\\\\\\\\\\\"column\\\\\\\\\\\\\": {\\\\\\\\\\\\\"type\\\\\\\\\\\\\": 2, \\\\\\\\\\\\\"details\\\\\\\\\\\\\": {\\\\\\\\\\\\\"selectedColumn\\\\\\\\\\\\\": \\\\\\\\\\\\\"DEATH_EVENT\\\\\\\\\\\\\"}}, \\\\\\\\\\\\\"typeProperty\\\\\\\\\\\\\": 2}]}, \\\\\\\\\\\\\"localData\\\\\\\\\\\\\": {}, \\\\\\\\\\\\\"isEnabled\\\\\\\\\\\\\": true, \\\\\\\\\\\\\"name\\\\\\\\\\\\\": null, \\\\\\\\\\\\\"annotation\\\\\\\\\\\\\": null}], \\\\\\\\\\\\\"inspectors\\\\\\\\\\\\\": [], \\\\\\\\\\\\\"meta\\\\\\\\\\\\\": {\\\\\\\\\\\\\"savedDatasetId\\\\\\\\\\\\\": \\\\\\\\\\\\\"b2d5b3d0-a29e-40e7-b030-9686b6d36092\\\\\\\\\\\\\", \\\\\\\\\\\\\"datasetType\\\\\\\\\\\\\": \\\\\\\\\\\\\"tabular\\\\\\\\\\\\\", \\\\\\\\\\\\\"subscriptionId\\\\\\\\\\\\\": \\\\\\\\\\\\\"a24a24d5-8d87-4c8a-99b6-91ed2d2df51f\\\\\\\\\\\\\", \\\\\\\\\\\\\"workspaceId\\\\\\\\\\\\\": \\\\\\\\\\\\\"bb4d2e1a-f45b-404e-bba5-f5d0ce0cc7f7\\\\\\\\\\\\\", \\\\\\\\\\\\\"workspaceLocation\\\\\\\\\\\\\": \\\\\\\\\\\\\"southcentralus\\\\\\\\\\\\\"}}\\\\\", \\\\\"activities\\\\\": 0}',\n",
       "  'EnableSubsampling': None,\n",
       "  'runTemplate': 'AutoML',\n",
       "  'azureml.runsource': 'automl',\n",
       "  'display_task_type': 'classification',\n",
       "  'dependencies_versions': '{\"azureml-widgets\": \"1.20.0\", \"azureml-train\": \"1.20.0\", \"azureml-train-restclients-hyperdrive\": \"1.20.0\", \"azureml-train-core\": \"1.20.0\", \"azureml-train-automl\": \"1.20.0\", \"azureml-train-automl-runtime\": \"1.20.0\", \"azureml-train-automl-client\": \"1.20.0\", \"azureml-tensorboard\": \"1.20.0\", \"azureml-telemetry\": \"1.20.0\", \"azureml-sdk\": \"1.20.0\", \"azureml-samples\": \"0+unknown\", \"azureml-pipeline\": \"1.20.0\", \"azureml-pipeline-steps\": \"1.20.0\", \"azureml-pipeline-core\": \"1.20.0\", \"azureml-opendatasets\": \"1.20.0\", \"azureml-model-management-sdk\": \"1.0.1b6.post1\", \"azureml-mlflow\": \"1.20.0.post1\", \"azureml-interpret\": \"1.20.0\", \"azureml-explain-model\": \"1.20.0\", \"azureml-defaults\": \"1.20.0\", \"azureml-dataset-runtime\": \"1.20.0\", \"azureml-dataprep\": \"2.7.3\", \"azureml-dataprep-rslex\": \"1.5.0\", \"azureml-dataprep-native\": \"27.0.0\", \"azureml-datadrift\": \"1.20.0\", \"azureml-core\": \"1.20.0\", \"azureml-contrib-services\": \"1.20.0\", \"azureml-contrib-server\": \"1.20.0\", \"azureml-contrib-reinforcementlearning\": \"1.20.0\", \"azureml-contrib-pipeline-steps\": \"1.20.0\", \"azureml-contrib-notebook\": \"1.20.0\", \"azureml-contrib-interpret\": \"1.20.0\", \"azureml-contrib-gbdt\": \"1.20.0\", \"azureml-contrib-fairness\": \"1.20.0\", \"azureml-contrib-dataset\": \"1.20.0\", \"azureml-cli-common\": \"1.20.0\", \"azureml-automl-runtime\": \"1.20.0\", \"azureml-automl-core\": \"1.20.0\", \"azureml-accel-models\": \"1.20.0\"}',\n",
       "  '_aml_system_scenario_identification': 'Remote.Parent',\n",
       "  'ClientType': 'SDK',\n",
       "  'environment_cpu_name': 'AzureML-AutoML',\n",
       "  'environment_cpu_label': 'prod',\n",
       "  'environment_gpu_name': 'AzureML-AutoML-GPU',\n",
       "  'environment_gpu_label': 'prod',\n",
       "  'root_attribution': 'automl',\n",
       "  'attribution': 'AutoML',\n",
       "  'Orchestrator': 'AutoML',\n",
       "  'CancelUri': 'https://southcentralus.experiments.azureml.net/jasmine/v1.0/subscriptions/a24a24d5-8d87-4c8a-99b6-91ed2d2df51f/resourceGroups/aml-quickstarts-138727/providers/Microsoft.MachineLearningServices/workspaces/quick-starts-ws-138727/experimentids/b52d8ea9-c56f-4c15-9116-24a0d97ff475/cancel/AutoML_4a20a98b-8950-493a-94dc-96a80e4ea82c',\n",
       "  'ClientSdkVersion': '1.21.0',\n",
       "  'snapshotId': '00000000-0000-0000-0000-000000000000',\n",
       "  'SetupRunId': 'AutoML_4a20a98b-8950-493a-94dc-96a80e4ea82c_setup',\n",
       "  'SetupRunContainerId': 'dcid.AutoML_4a20a98b-8950-493a-94dc-96a80e4ea82c_setup',\n",
       "  'FeaturizationRunJsonPath': 'featurizer_container.json',\n",
       "  'FeaturizationRunId': 'AutoML_4a20a98b-8950-493a-94dc-96a80e4ea82c_featurize',\n",
       "  'ProblemInfoJsonString': '{\"dataset_num_categorical\": 0, \"is_sparse\": false, \"subsampling\": false, \"dataset_classes\": 2, \"dataset_features\": 12, \"dataset_samples\": 299, \"single_frequency_class_detected\": false}',\n",
       "  'ModelExplainRunId': 'AutoML_4a20a98b-8950-493a-94dc-96a80e4ea82c_ModelExplain'},\n",
       " 'inputDatasets': [{'dataset': {'id': 'b2d5b3d0-a29e-40e7-b030-9686b6d36092'}, 'consumptionDetails': {'type': 'RunInput', 'inputName': 'training_data', 'mechanism': 'Direct'}}],\n",
       " 'outputDatasets': [],\n",
       " 'logFiles': {},\n",
       " 'submittedBy': 'ODL_User 138727'}"
      ]
     },
     "execution_count": 10,
     "metadata": {},
     "output_type": "execute_result"
    }
   ],
   "source": [
    "remote_run.wait_for_completion(show_output=True)"
   ]
  },
  {
   "cell_type": "markdown",
   "metadata": {},
   "source": [
    "## Best Model\n",
    "\n",
    "TODO: In the cell below, get the best model from the automl experiments and display all the properties of the model.\n",
    "\n"
   ]
  },
  {
   "cell_type": "code",
   "execution_count": 11,
   "metadata": {
    "collapsed": false,
    "gather": {
     "logged": 1598431425670
    },
    "jupyter": {
     "outputs_hidden": false,
     "source_hidden": false
    },
    "nteract": {
     "transient": {
      "deleting": false
     }
    }
   },
   "outputs": [
    {
     "name": "stderr",
     "output_type": "stream",
     "text": [
      "WARNING:root:The version of the SDK does not match the version the model was trained on.\n",
      "WARNING:root:The consistency in the result may not be guaranteed.\n",
      "WARNING:root:Package:azureml-automl-core, training version:1.21.0, current version:1.20.0\n",
      "Package:azureml-automl-runtime, training version:1.21.0, current version:1.20.0\n",
      "Package:azureml-core, training version:1.21.0.post1, current version:1.20.0\n",
      "Package:azureml-dataprep, training version:2.8.2, current version:2.7.3\n",
      "Package:azureml-dataprep-native, training version:28.0.0, current version:27.0.0\n",
      "Package:azureml-dataprep-rslex, training version:1.6.0, current version:1.5.0\n",
      "Package:azureml-dataset-runtime, training version:1.21.0, current version:1.20.0\n",
      "Package:azureml-defaults, training version:1.21.0, current version:1.20.0\n",
      "Package:azureml-interpret, training version:1.21.0, current version:1.20.0\n",
      "Package:azureml-pipeline-core, training version:1.21.0, current version:1.20.0\n",
      "Package:azureml-telemetry, training version:1.21.0, current version:1.20.0\n",
      "Package:azureml-train-automl-client, training version:1.21.0, current version:1.20.0\n",
      "Package:azureml-train-automl-runtime, training version:1.21.0, current version:1.20.0\n",
      "WARNING:root:Please ensure the version of your local conda dependencies match the version on which your model was trained in order to properly retrieve your model.\n"
     ]
    },
    {
     "name": "stdout",
     "output_type": "stream",
     "text": [
      "Run(Experiment: capstone-heartfailure-exp,\n",
      "Id: AutoML_4a20a98b-8950-493a-94dc-96a80e4ea82c_61,\n",
      "Type: azureml.scriptrun,\n",
      "Status: Completed)\n",
      "Pipeline(memory=None,\n",
      "         steps=[('datatransformer',\n",
      "                 DataTransformer(enable_dnn=None, enable_feature_sweeping=None,\n",
      "                                 feature_sweeping_config=None,\n",
      "                                 feature_sweeping_timeout=None,\n",
      "                                 featurization_config=None, force_text_dnn=None,\n",
      "                                 is_cross_validation=None,\n",
      "                                 is_onnx_compatible=None, logger=None,\n",
      "                                 observer=None, task=None, working_dir=None)),\n",
      "                ('stackensembleclassifier',\n",
      "                 StackE...\n",
      "                                         meta_learner=LogisticRegressionCV(Cs=10,\n",
      "                                                                           class_weight=None,\n",
      "                                                                           cv=None,\n",
      "                                                                           dual=False,\n",
      "                                                                           fit_intercept=True,\n",
      "                                                                           intercept_scaling=1.0,\n",
      "                                                                           l1_ratios=None,\n",
      "                                                                           max_iter=100,\n",
      "                                                                           multi_class='auto',\n",
      "                                                                           n_jobs=None,\n",
      "                                                                           penalty='l2',\n",
      "                                                                           random_state=None,\n",
      "                                                                           refit=True,\n",
      "                                                                           scoring=<azureml.automl.runtime.stack_ensemble_base.Scorer object at 0x7f62e6627cc0>,\n",
      "                                                                           solver='lbfgs',\n",
      "                                                                           tol=0.0001,\n",
      "                                                                           verbose=0),\n",
      "                                         training_cv_folds=5))],\n",
      "         verbose=False)\n"
     ]
    }
   ],
   "source": [
    "best_run, fitted_model = remote_run.get_output()\n",
    "print(best_run)\n",
    "print(fitted_model)"
   ]
  },
  {
   "cell_type": "code",
   "execution_count": 12,
   "metadata": {},
   "outputs": [
    {
     "name": "stdout",
     "output_type": "stream",
     "text": [
      "recall_score_micro\n",
      "0.7824293785310734\n",
      "average_precision_score_micro\n",
      "0.8990911175670465\n",
      "log_loss\n",
      "0.5116167817475391\n",
      "accuracy\n",
      "0.7824293785310734\n",
      "average_precision_score_macro\n",
      "0.9071683357097193\n",
      "norm_macro_recall\n",
      "0.3820238095238096\n",
      "matthews_correlation\n",
      "0.39555807318409947\n",
      "weighted_accuracy\n",
      "0.8474912924327237\n",
      "recall_score_weighted\n",
      "0.7824293785310734\n",
      "precision_score_micro\n",
      "0.7824293785310734\n",
      "f1_score_weighted\n",
      "0.7289200610039475\n",
      "AUC_micro\n",
      "0.8907222860608381\n",
      "precision_score_weighted\n",
      "0.7154926671304332\n",
      "balanced_accuracy\n",
      "0.6910119047619048\n",
      "precision_score_macro\n",
      "0.6462349526900554\n",
      "AUC_weighted\n",
      "0.9188983480989295\n",
      "average_precision_score_weighted\n",
      "0.9292889889371618\n",
      "f1_score_micro\n",
      "0.7824293785310734\n",
      "recall_score_macro\n",
      "0.6910119047619048\n",
      "f1_score_macro\n",
      "0.6501342353941626\n",
      "AUC_macro\n",
      "0.9188983480989295\n",
      "accuracy_table\n",
      "aml://artifactId/ExperimentRun/dcid.AutoML_4a20a98b-8950-493a-94dc-96a80e4ea82c_61/accuracy_table\n",
      "confusion_matrix\n",
      "aml://artifactId/ExperimentRun/dcid.AutoML_4a20a98b-8950-493a-94dc-96a80e4ea82c_61/confusion_matrix\n"
     ]
    }
   ],
   "source": [
    "best_run_metrics = best_run.get_metrics()\n",
    "for metric_name in best_run_metrics:\n",
    "    metric = best_run_metrics[metric_name]\n",
    "    print(metric_name)\n",
    "    print(metric)"
   ]
  },
  {
   "cell_type": "code",
   "execution_count": 13,
   "metadata": {},
   "outputs": [
    {
     "data": {
      "text/html": [
       "<table style=\"width:100%\"><tr><th>Experiment</th><th>Id</th><th>Type</th><th>Status</th><th>Details Page</th><th>Docs Page</th></tr><tr><td>capstone-heartfailure-exp</td><td>AutoML_4a20a98b-8950-493a-94dc-96a80e4ea82c_61</td><td>azureml.scriptrun</td><td>Completed</td><td><a href=\"https://ml.azure.com/experiments/capstone-heartfailure-exp/runs/AutoML_4a20a98b-8950-493a-94dc-96a80e4ea82c_61?wsid=/subscriptions/a24a24d5-8d87-4c8a-99b6-91ed2d2df51f/resourcegroups/aml-quickstarts-138727/workspaces/quick-starts-ws-138727\" target=\"_blank\" rel=\"noopener\">Link to Azure Machine Learning studio</a></td><td><a href=\"https://docs.microsoft.com/en-us/python/api/azureml-core/azureml.core.run.Run?view=azure-ml-py\" target=\"_blank\" rel=\"noopener\">Link to Documentation</a></td></tr></table>"
      ],
      "text/plain": [
       "Run(Experiment: capstone-heartfailure-exp,\n",
       "Id: AutoML_4a20a98b-8950-493a-94dc-96a80e4ea82c_61,\n",
       "Type: azureml.scriptrun,\n",
       "Status: Completed)"
      ]
     },
     "execution_count": 13,
     "metadata": {},
     "output_type": "execute_result"
    }
   ],
   "source": [
    "best_run"
   ]
  },
  {
   "cell_type": "code",
   "execution_count": 14,
   "metadata": {},
   "outputs": [
    {
     "name": "stdout",
     "output_type": "stream",
     "text": [
      "Best Run Id:  AutoML_4a20a98b-8950-493a-94dc-96a80e4ea82c_61\n",
      "\n",
      " AUC_weighted : 0.9188983480989295\n",
      "{'_aml_system_azureml.automlComponent': 'AutoML', '_aml_system_ComputeTargetStatus': '{\"AllocationState\":\"steady\",\"PreparingNodeCount\":0,\"RunningNodeCount\":4,\"CurrentNodeCount\":4}', 'ensembled_iterations': '[41, 34, 23, 37, 47, 14, 19, 33, 50, 18]', 'ensembled_algorithms': \"['GradientBoosting', 'XGBoostClassifier', 'RandomForest', 'RandomForest', 'RandomForest', 'RandomForest', 'XGBoostClassifier', 'XGBoostClassifier', 'GradientBoosting', 'RandomForest']\", 'ensemble_weights': '[0.13333333333333333, 0.06666666666666667, 0.06666666666666667, 0.06666666666666667, 0.06666666666666667, 0.06666666666666667, 0.06666666666666667, 0.06666666666666667, 0.3333333333333333, 0.06666666666666667]', 'best_individual_pipeline_score': '0.9146840854558878', 'best_individual_iteration': '41', '_aml_system_automl_is_child_run_end_telemetry_event_logged': 'True', 'model_explain_run_id': 'AutoML_4a20a98b-8950-493a-94dc-96a80e4ea82c_ModelExplain'}\n"
     ]
    }
   ],
   "source": [
    "print('Best Run Id: ', best_run.id)\n",
    "print('\\n AUC_weighted :', best_run_metrics['AUC_weighted'])\n",
    "print(best_run.get_tags())"
   ]
  },
  {
   "cell_type": "code",
   "execution_count": 15,
   "metadata": {
    "collapsed": false,
    "gather": {
     "logged": 1598431426111
    },
    "jupyter": {
     "outputs_hidden": false,
     "source_hidden": false
    },
    "nteract": {
     "transient": {
      "deleting": false
     }
    }
   },
   "outputs": [
    {
     "data": {
      "text/plain": [
       "Model(workspace=Workspace.create(name='quick-starts-ws-138727', subscription_id='a24a24d5-8d87-4c8a-99b6-91ed2d2df51f', resource_group='aml-quickstarts-138727'), name=automl_model, id=automl_model:1, version=1, tags={'Training context': 'Auto ML'}, properties={'AUC_weighted': '0.9188983480989295'})"
      ]
     },
     "execution_count": 15,
     "metadata": {},
     "output_type": "execute_result"
    }
   ],
   "source": [
    "#TODO: Save the best model\n",
    "\n",
    "best_run.register_model(model_name='automl_model',model_path='/outputs',properties={'AUC_weighted':best_run_metrics['AUC_weighted']},tags={'Training context':'Auto ML'})"
   ]
  },
  {
   "cell_type": "code",
   "execution_count": 16,
   "metadata": {},
   "outputs": [],
   "source": [
    "model_name = best_run.properties['model_name']"
   ]
  },
  {
   "cell_type": "markdown",
   "metadata": {},
   "source": [
    "## Model Deployment\n",
    "\n",
    "Remember you have to deploy only one of the two models you trained.. Perform the steps in the rest of this notebook only if you wish to deploy this model.\n",
    "\n",
    "TODO: In the cell below, register the model, create an inference config and deploy the model as a web service."
   ]
  },
  {
   "cell_type": "code",
   "execution_count": 17,
   "metadata": {},
   "outputs": [
    {
     "name": "stdout",
     "output_type": "stream",
     "text": [
      "Name: AutoML4a20a98b861\n"
     ]
    }
   ],
   "source": [
    "# Register the model\n",
    "\n",
    "model = remote_run.register_model(model_name = model_name,\n",
    "                                  description = 'Automl model')\n",
    "\n",
    "print('Name:', model.name)"
   ]
  },
  {
   "cell_type": "code",
   "execution_count": 18,
   "metadata": {},
   "outputs": [],
   "source": [
    "env = best_run.get_environment()\n",
    "\n",
    "script_name = 'score.py'\n",
    "\n",
    "\n",
    "best_run.download_file('outputs/scoring_file_v_1_0_0.py', 'score.py')"
   ]
  },
  {
   "cell_type": "code",
   "execution_count": 19,
   "metadata": {},
   "outputs": [],
   "source": [
    "# Create an inference config\n",
    "\n",
    "inference_config = InferenceConfig(entry_script= script_name, environment=env)\n",
    "\n",
    "aci_config = AciWebservice.deploy_configuration(cpu_cores=1, memory_gb=1, enable_app_insights=True)\n",
    "aci_service_name='capstone-service'\n"
   ]
  },
  {
   "cell_type": "code",
   "execution_count": 20,
   "metadata": {},
   "outputs": [],
   "source": [
    "service = Model.deploy(ws, aci_service_name, [model], inference_config, aci_config)\n",
    "                        "
   ]
  },
  {
   "cell_type": "code",
   "execution_count": 21,
   "metadata": {},
   "outputs": [
    {
     "name": "stdout",
     "output_type": "stream",
     "text": [
      "Tips: You can try get_logs(): https://aka.ms/debugimage#dockerlog or local deployment: https://aka.ms/debugimage#debug-locally to debug if deployment takes longer than 10 minutes.\n",
      "Running........................................\n",
      "Succeeded\n",
      "ACI service creation operation finished, operation \"Succeeded\"\n",
      "Healthy\n",
      "http://1f47e230-341d-459b-9740-11b253d5d018.southcentralus.azurecontainer.io/score\n"
     ]
    }
   ],
   "source": [
    "service.wait_for_deployment(show_output=True)\n",
    "\n",
    "print(service.state)\n",
    "url = service.scoring_uri\n",
    "print(url)"
   ]
  },
  {
   "cell_type": "markdown",
   "metadata": {
    "gather": {
     "logged": 1598431657736
    },
    "jupyter": {
     "outputs_hidden": false,
     "source_hidden": false
    },
    "nteract": {
     "transient": {
      "deleting": false
     }
    }
   },
   "source": [
    "TODO: In the cell below, send a request to the web service you deployed to test it."
   ]
  },
  {
   "cell_type": "code",
   "execution_count": 27,
   "metadata": {},
   "outputs": [
    {
     "name": "stdout",
     "output_type": "stream",
     "text": [
      "{\"result\": [1, 1]}\n"
     ]
    }
   ],
   "source": [
    "%run endpoint.py"
   ]
  },
  {
   "cell_type": "code",
   "execution_count": 28,
   "metadata": {},
   "outputs": [
    {
     "name": "stdout",
     "output_type": "stream",
     "text": [
      "{\"data\": [{\"age\": 65.0, \"anaemia\": 0, \"creatinine_phosphokinase\": 118, \"diabetes\": 0, \"ejection_fraction\": 50, \"high_blood_pressure\": 0, \"platelets\": 194000.0, \"serum_creatinine\": 1.1, \"serum_sodium\": 145, \"sex\": 1, \"smoking\": 1, \"time\": 200}, {\"age\": 68.0, \"anaemia\": 1, \"creatinine_phosphokinase\": 646, \"diabetes\": 0, \"ejection_fraction\": 25, \"high_blood_pressure\": 0, \"platelets\": 305000.0, \"serum_creatinine\": 2.1, \"serum_sodium\": 130, \"sex\": 1, \"smoking\": 0, \"time\": 108}, {\"age\": 58.0, \"anaemia\": 0, \"creatinine_phosphokinase\": 144, \"diabetes\": 1, \"ejection_fraction\": 38, \"high_blood_pressure\": 1, \"platelets\": 327000.0, \"serum_creatinine\": 0.7, \"serum_sodium\": 142, \"sex\": 0, \"smoking\": 0, \"time\": 83}]}\n"
     ]
    }
   ],
   "source": [
    "data_test = dataset.to_pandas_dataframe().dropna()\n",
    "data_sample = data_test.sample(3)\n",
    "y_true = data_sample.pop('DEATH_EVENT')\n",
    "sample_json = json.dumps({'data':data_sample.to_dict(orient='records')})\n",
    "print(sample_json)"
   ]
  },
  {
   "cell_type": "markdown",
   "metadata": {
    "gather": {
     "logged": 1598432765711
    },
    "jupyter": {
     "outputs_hidden": false,
     "source_hidden": false
    },
    "nteract": {
     "transient": {
      "deleting": false
     }
    }
   },
   "source": [
    "TODO: In the cell below, print the logs of the web service and delete the service"
   ]
  },
  {
   "cell_type": "code",
   "execution_count": 29,
   "metadata": {},
   "outputs": [
    {
     "name": "stdout",
     "output_type": "stream",
     "text": [
      "Prediction:  {\"result\": [0, 0, 0]}\n",
      "True Values:  [0 0 0]\n"
     ]
    }
   ],
   "source": [
    "output = service.run(sample_json)\n",
    "print('Prediction: ', output)\n",
    "print('True Values: ', y_true.values)"
   ]
  },
  {
   "cell_type": "code",
   "execution_count": 30,
   "metadata": {},
   "outputs": [
    {
     "data": {
      "text/plain": [
       "'2021-02-12T19:38:09,210437600+00:00 - iot-server/run \\n2021-02-12T19:38:09,211481800+00:00 - rsyslog/run \\n2021-02-12T19:38:09,232090000+00:00 - gunicorn/run \\n2021-02-12T19:38:09,285098000+00:00 - nginx/run \\n/usr/sbin/nginx: /azureml-envs/azureml_20a8278aa8b20dd48cc50f56a6d2586c/lib/libcrypto.so.1.0.0: no version information available (required by /usr/sbin/nginx)\\n/usr/sbin/nginx: /azureml-envs/azureml_20a8278aa8b20dd48cc50f56a6d2586c/lib/libcrypto.so.1.0.0: no version information available (required by /usr/sbin/nginx)\\n/usr/sbin/nginx: /azureml-envs/azureml_20a8278aa8b20dd48cc50f56a6d2586c/lib/libssl.so.1.0.0: no version information available (required by /usr/sbin/nginx)\\n/usr/sbin/nginx: /azureml-envs/azureml_20a8278aa8b20dd48cc50f56a6d2586c/lib/libssl.so.1.0.0: no version information available (required by /usr/sbin/nginx)\\n/usr/sbin/nginx: /azureml-envs/azureml_20a8278aa8b20dd48cc50f56a6d2586c/lib/libssl.so.1.0.0: no version information available (required by /usr/sbin/nginx)\\nrsyslogd: /azureml-envs/azureml_20a8278aa8b20dd48cc50f56a6d2586c/lib/libuuid.so.1: no version information available (required by rsyslogd)\\nEdgeHubConnectionString and IOTEDGE_IOTHUBHOSTNAME are not set. Exiting...\\n2021-02-12T19:38:10,454240900+00:00 - iot-server/finish 1 0\\n2021-02-12T19:38:10,457710600+00:00 - Exit code 1 is normal. Not restarting iot-server.\\nStarting gunicorn 19.9.0\\nListening at: http://127.0.0.1:31311 (61)\\nUsing worker: sync\\nworker timeout is set to 300\\nBooting worker with pid: 96\\nSPARK_HOME not set. Skipping PySpark Initialization.\\nGenerating new fontManager, this may take some time...\\nInitializing logger\\n2021-02-12 19:38:15,724 | root | INFO | Starting up app insights client\\n2021-02-12 19:38:15,724 | root | INFO | Starting up request id generator\\n2021-02-12 19:38:15,725 | root | INFO | Starting up app insight hooks\\n2021-02-12 19:38:15,725 | root | INFO | Invoking user\\'s init function\\n2021-02-12 19:38:26,725 | root | INFO | Users\\'s init has completed successfully\\n2021-02-12 19:38:26,749 | root | INFO | Skipping middleware: dbg_model_info as it\\'s not enabled.\\n2021-02-12 19:38:26,749 | root | INFO | Skipping middleware: dbg_resource_usage as it\\'s not enabled.\\n2021-02-12 19:38:26,753 | root | INFO | Scoring timeout is found from os.environ: 60000 ms\\n2021-02-12 19:38:26,774 | root | INFO | 200\\n127.0.0.1 - - [12/Feb/2021:19:38:26 +0000] \"GET /swagger.json HTTP/1.0\" 200 2844 \"-\" \"Go-http-client/1.1\"\\n2021-02-12 19:38:29,291 | root | INFO | 200\\n127.0.0.1 - - [12/Feb/2021:19:38:29 +0000] \"GET /swagger.json HTTP/1.0\" 200 2844 \"-\" \"Go-http-client/1.1\"\\n2021-02-12 19:38:31,371 | root | INFO | Validation Request Content-Type\\n2021-02-12 19:38:31,372 | root | INFO | Scoring Timer is set to 60.0 seconds\\n2021-02-12 19:38:31,639 | root | INFO | 200\\n127.0.0.1 - - [12/Feb/2021:19:38:31 +0000] \"POST /score HTTP/1.0\" 200 25 \"-\" \"python-requests/2.25.1\"\\n2021-02-12 19:39:27,821 | root | INFO | Validation Request Content-Type\\n2021-02-12 19:39:27,824 | root | INFO | Scoring Timer is set to 60.0 seconds\\n2021-02-12 19:39:28,040 | root | INFO | 200\\n127.0.0.1 - - [12/Feb/2021:19:39:28 +0000] \"POST /score HTTP/1.0\" 200 22 \"-\" \"python-requests/2.25.1\"\\n2021-02-12 19:39:33,892 | root | INFO | Validation Request Content-Type\\n2021-02-12 19:39:33,893 | root | INFO | Scoring Timer is set to 60.0 seconds\\n2021-02-12 19:39:34,132 | root | INFO | 200\\n127.0.0.1 - - [12/Feb/2021:19:39:34 +0000] \"POST /score HTTP/1.0\" 200 25 \"-\" \"python-requests/2.25.1\"\\n'"
      ]
     },
     "execution_count": 30,
     "metadata": {},
     "output_type": "execute_result"
    }
   ],
   "source": [
    "service.get_logs()"
   ]
  },
  {
   "cell_type": "code",
   "execution_count": 32,
   "metadata": {
    "collapsed": false,
    "jupyter": {
     "outputs_hidden": false,
     "source_hidden": false
    },
    "nteract": {
     "transient": {
      "deleting": false
     }
    }
   },
   "outputs": [],
   "source": [
    "# Delete the service\n",
    "service.delete()"
   ]
  },
  {
   "cell_type": "code",
   "execution_count": 33,
   "metadata": {},
   "outputs": [],
   "source": [
    "new_cluster.delete()"
   ]
  },
  {
   "cell_type": "code",
   "execution_count": null,
   "metadata": {},
   "outputs": [],
   "source": []
  }
 ],
 "metadata": {
  "kernel_info": {
   "name": "python3-azureml"
  },
  "kernelspec": {
   "display_name": "Python 3.6 - AzureML",
   "language": "python",
   "name": "python3-azureml"
  },
  "language_info": {
   "codemirror_mode": {
    "name": "ipython",
    "version": 3
   },
   "file_extension": ".py",
   "mimetype": "text/x-python",
   "name": "python",
   "nbconvert_exporter": "python",
   "pygments_lexer": "ipython3",
   "version": "3.6.9"
  },
  "nteract": {
   "version": "nteract-front-end@1.0.0"
  }
 },
 "nbformat": 4,
 "nbformat_minor": 4
}
