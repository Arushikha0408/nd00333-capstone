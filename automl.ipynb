{
 "cells": [
  {
   "cell_type": "markdown",
   "metadata": {},
   "source": [
    "# Automated ML\n",
    "\n",
    "Below are the dependencies that will be needed to complete the project."
   ]
  },
  {
   "cell_type": "code",
   "execution_count": 5,
   "metadata": {
    "collapsed": false,
    "gather": {
     "logged": 1598423888013
    },
    "jupyter": {
     "outputs_hidden": false,
     "source_hidden": false
    },
    "nteract": {
     "transient": {
      "deleting": false
     }
    }
   },
   "outputs": [
    {
     "name": "stdout",
     "output_type": "stream",
     "text": [
      "SDK version: 1.20.0\n"
     ]
    }
   ],
   "source": [
    "import azureml.core\n",
    "from azureml.core.compute import ComputeTarget, AmlCompute\n",
    "from azureml.core.compute_target import ComputeTargetException\n",
    "from azureml.core.dataset import Dataset\n",
    "from azureml.core.workspace import Workspace\n",
    "from azureml.core import Experiment, Webservice, Model\n",
    "from azureml.train.automl import AutoMLConfig\n",
    "from azureml.widgets import RunDetails\n",
    "from azureml.core.environment import Environment\n",
    "from azureml.core.model import InferenceConfig\n",
    "from azureml.core.webservice import AciWebservice\n",
    "\n",
    "\n",
    "import pandas as pd\n",
    "import sklearn\n",
    "import json\n",
    "\n",
    "# Check core SDK version number\n",
    "print(\"SDK version:\", azureml.core.VERSION)"
   ]
  },
  {
   "cell_type": "markdown",
   "metadata": {},
   "source": [
    "## Dataset\n",
    "\n",
    "### Overview\n",
    "\n",
    "\n",
    "  This is an analyzed dataset containing the medical records of 299 heart failure patients collected at the Faisalabad Institute of Cardiology and at the Allied Hospital in Faisalabad (Punjab, Pakistan), during April–December 2015. The patients consisted of 105 women and 194 men, and their ages range between 40 and 95 years old. All 299 patients had left ventricular systolic dysfunction and had previous heart failures that put them in classes III or IV of New York Heart Association (NYHA) classification of the stages of heart failure. As done by the original data curators, this dataset was represented as a table having 299 rows (patients) and 13 columns (features).\n",
    "  \n",
    "  \n",
    "\n",
    "###  Task\n",
    "  With the kaggle heart failure dataset I'll be using the knowledge I have obtained from the Machine Learning Engineer with Microsoft Azure Nanodegree Program to create a machine learning model that can assess the likelihood of a death by heart failure event. This can be used to help hospitals in assessing the severity of patients with cardiovascular disease. In this project, I will create two models: one using Automated ML (denoted as AutoML from now on) and one customized model whose hyperparameters are tuned using HyperDrive."
   ]
  },
  {
   "cell_type": "code",
   "execution_count": 6,
   "metadata": {},
   "outputs": [
    {
     "name": "stdout",
     "output_type": "stream",
     "text": [
      "quick-starts-ws-136827\n",
      "aml-quickstarts-136827\n",
      "610d6e37-4747-4a20-80eb-3aad70a55f43\n"
     ]
    }
   ],
   "source": [
    "ws = Workspace.from_config()\n",
    "print(ws.name, ws.resource_group, ws.subscription_id, sep = '\\n')"
   ]
  },
  {
   "cell_type": "code",
   "execution_count": 7,
   "metadata": {
    "collapsed": false,
    "gather": {
     "logged": 1598423890461
    },
    "jupyter": {
     "outputs_hidden": false,
     "source_hidden": false
    },
    "nteract": {
     "transient": {
      "deleting": false
     }
    }
   },
   "outputs": [
    {
     "data": {
      "text/html": [
       "<table style=\"width:100%\"><tr><th>Name</th><th>Workspace</th><th>Report Page</th><th>Docs Page</th></tr><tr><td>capstone-heartfailure-exp</td><td>quick-starts-ws-136827</td><td><a href=\"https://ml.azure.com/experiments/capstone-heartfailure-exp?wsid=/subscriptions/610d6e37-4747-4a20-80eb-3aad70a55f43/resourcegroups/aml-quickstarts-136827/workspaces/quick-starts-ws-136827\" target=\"_blank\" rel=\"noopener\">Link to Azure Machine Learning studio</a></td><td><a href=\"https://docs.microsoft.com/en-us/python/api/azureml-core/azureml.core.experiment.Experiment?view=azure-ml-py\" target=\"_blank\" rel=\"noopener\">Link to Documentation</a></td></tr></table>"
      ],
      "text/plain": [
       "Experiment(Name: capstone-heartfailure-exp,\n",
       "Workspace: quick-starts-ws-136827)"
      ]
     },
     "execution_count": 7,
     "metadata": {},
     "output_type": "execute_result"
    }
   ],
   "source": [
    "# choose a name for experiment\n",
    "experiment_name = 'capstone-heartfailure-exp'\n",
    "\n",
    "experiment=Experiment(ws, experiment_name)\n",
    "experiment"
   ]
  },
  {
   "cell_type": "code",
   "execution_count": 9,
   "metadata": {},
   "outputs": [
    {
     "name": "stdout",
     "output_type": "stream",
     "text": [
      "New compute cluster creation in progress...\n",
      "Creating\n",
      "Succeeded\n",
      "AmlCompute wait for completion finished\n",
      "\n",
      "Minimum number of nodes requested have been provisioned\n",
      "Cluster is ready\n"
     ]
    }
   ],
   "source": [
    "# TODO: Create compute cluster\n",
    "# Use vm_size = \"Standard_D2_V2\" in your provisioning configuration.\n",
    "# max_nodes should be no greater than 4.\n",
    "\n",
    "### YOUR CODE HERE ###\n",
    "cluster_name=\"cpu-cluster\"\n",
    "\n",
    "try:\n",
    "    cpu_cluster=ComputeTarget(workspace=ws, name=cluster_name)\n",
    "    print(\"Existing cluster detected, make use of it!\")\n",
    "except ComputeTargetException:\n",
    "    print(\"New compute cluster creation in progress...\")\n",
    "    compute_config = AmlCompute.provisioning_configuration(vm_size='Standard_D2_V2',max_nodes=4)\n",
    "    cpu_cluster = ComputeTarget.create(ws, cluster_name, compute_config)   \n",
    "    \n",
    "cpu_cluster.wait_for_completion(show_output=True)         \n",
    "print(\"Cluster is ready\")"
   ]
  },
  {
   "cell_type": "code",
   "execution_count": 15,
   "metadata": {},
   "outputs": [],
   "source": [
    "path = \"https://raw.githubusercontent.com/Arushikha0408/nd00333-capstone/master/heart_failure_clinical_records_dataset.csv\"\n",
    "dataset = Dataset.Tabular.from_delimited_files(path)"
   ]
  },
  {
   "cell_type": "code",
   "execution_count": 16,
   "metadata": {},
   "outputs": [
    {
     "data": {
      "text/html": [
       "<div>\n",
       "<style scoped>\n",
       "    .dataframe tbody tr th:only-of-type {\n",
       "        vertical-align: middle;\n",
       "    }\n",
       "\n",
       "    .dataframe tbody tr th {\n",
       "        vertical-align: top;\n",
       "    }\n",
       "\n",
       "    .dataframe thead th {\n",
       "        text-align: right;\n",
       "    }\n",
       "</style>\n",
       "<table border=\"1\" class=\"dataframe\">\n",
       "  <thead>\n",
       "    <tr style=\"text-align: right;\">\n",
       "      <th></th>\n",
       "      <th>age</th>\n",
       "      <th>anaemia</th>\n",
       "      <th>creatinine_phosphokinase</th>\n",
       "      <th>diabetes</th>\n",
       "      <th>ejection_fraction</th>\n",
       "      <th>high_blood_pressure</th>\n",
       "      <th>platelets</th>\n",
       "      <th>serum_creatinine</th>\n",
       "      <th>serum_sodium</th>\n",
       "      <th>sex</th>\n",
       "      <th>smoking</th>\n",
       "      <th>time</th>\n",
       "      <th>DEATH_EVENT</th>\n",
       "    </tr>\n",
       "  </thead>\n",
       "  <tbody>\n",
       "    <tr>\n",
       "      <th>0</th>\n",
       "      <td>75.0</td>\n",
       "      <td>0</td>\n",
       "      <td>582</td>\n",
       "      <td>0</td>\n",
       "      <td>20</td>\n",
       "      <td>1</td>\n",
       "      <td>265000.00</td>\n",
       "      <td>1.9</td>\n",
       "      <td>130</td>\n",
       "      <td>1</td>\n",
       "      <td>0</td>\n",
       "      <td>4</td>\n",
       "      <td>1</td>\n",
       "    </tr>\n",
       "    <tr>\n",
       "      <th>1</th>\n",
       "      <td>55.0</td>\n",
       "      <td>0</td>\n",
       "      <td>7861</td>\n",
       "      <td>0</td>\n",
       "      <td>38</td>\n",
       "      <td>0</td>\n",
       "      <td>263358.03</td>\n",
       "      <td>1.1</td>\n",
       "      <td>136</td>\n",
       "      <td>1</td>\n",
       "      <td>0</td>\n",
       "      <td>6</td>\n",
       "      <td>1</td>\n",
       "    </tr>\n",
       "    <tr>\n",
       "      <th>2</th>\n",
       "      <td>65.0</td>\n",
       "      <td>0</td>\n",
       "      <td>146</td>\n",
       "      <td>0</td>\n",
       "      <td>20</td>\n",
       "      <td>0</td>\n",
       "      <td>162000.00</td>\n",
       "      <td>1.3</td>\n",
       "      <td>129</td>\n",
       "      <td>1</td>\n",
       "      <td>1</td>\n",
       "      <td>7</td>\n",
       "      <td>1</td>\n",
       "    </tr>\n",
       "    <tr>\n",
       "      <th>3</th>\n",
       "      <td>50.0</td>\n",
       "      <td>1</td>\n",
       "      <td>111</td>\n",
       "      <td>0</td>\n",
       "      <td>20</td>\n",
       "      <td>0</td>\n",
       "      <td>210000.00</td>\n",
       "      <td>1.9</td>\n",
       "      <td>137</td>\n",
       "      <td>1</td>\n",
       "      <td>0</td>\n",
       "      <td>7</td>\n",
       "      <td>1</td>\n",
       "    </tr>\n",
       "    <tr>\n",
       "      <th>4</th>\n",
       "      <td>65.0</td>\n",
       "      <td>1</td>\n",
       "      <td>160</td>\n",
       "      <td>1</td>\n",
       "      <td>20</td>\n",
       "      <td>0</td>\n",
       "      <td>327000.00</td>\n",
       "      <td>2.7</td>\n",
       "      <td>116</td>\n",
       "      <td>0</td>\n",
       "      <td>0</td>\n",
       "      <td>8</td>\n",
       "      <td>1</td>\n",
       "    </tr>\n",
       "  </tbody>\n",
       "</table>\n",
       "</div>"
      ],
      "text/plain": [
       "    age  anaemia  creatinine_phosphokinase  diabetes  ejection_fraction  \\\n",
       "0  75.0        0                       582         0                 20   \n",
       "1  55.0        0                      7861         0                 38   \n",
       "2  65.0        0                       146         0                 20   \n",
       "3  50.0        1                       111         0                 20   \n",
       "4  65.0        1                       160         1                 20   \n",
       "\n",
       "   high_blood_pressure  platelets  serum_creatinine  serum_sodium  sex  \\\n",
       "0                    1  265000.00               1.9           130    1   \n",
       "1                    0  263358.03               1.1           136    1   \n",
       "2                    0  162000.00               1.3           129    1   \n",
       "3                    0  210000.00               1.9           137    1   \n",
       "4                    0  327000.00               2.7           116    0   \n",
       "\n",
       "   smoking  time  DEATH_EVENT  \n",
       "0        0     4            1  \n",
       "1        0     6            1  \n",
       "2        1     7            1  \n",
       "3        0     7            1  \n",
       "4        0     8            1  "
      ]
     },
     "execution_count": 16,
     "metadata": {},
     "output_type": "execute_result"
    }
   ],
   "source": [
    "dataset.take(5).to_pandas_dataframe()"
   ]
  },
  {
   "cell_type": "markdown",
   "metadata": {},
   "source": [
    "## AutoML Configuration\n",
    "\n",
    "The following code shows a basic example of creating an AutoMLConfig object and submitting an experiment for classification.\n",
    "I chose the automl settings below because I wanted to specify the experiment type as classification. The classification experiment will be carried out using AUC weighted as the primary metric with experiment timeout minutes set to 30 minutes and 5 cross-validation folds with the maximum number of iterations that would be executed concurrently set to 4.\n",
    "All of these settings defines the machine learning task.\n",
    "\n",
    "\n",
    "The configuration object below contains and persists the parameters for configuring the experiment run, as well as the training data to be used at run time."
   ]
  },
  {
   "cell_type": "code",
   "execution_count": 18,
   "metadata": {
    "collapsed": false,
    "gather": {
     "logged": 1598429217746
    },
    "jupyter": {
     "outputs_hidden": false,
     "source_hidden": false
    },
    "nteract": {
     "transient": {
      "deleting": false
     }
    }
   },
   "outputs": [],
   "source": [
    "automl_settings = {\n",
    "    \"experiment_timeout_minutes\": 30,\n",
    "    \"max_concurrent_iterations\": 5,\n",
    "    \"primary_metric\" : 'AUC_weighted',\n",
    "    \"n_cross_validations\": 5\n",
    "}\n",
    "automl_config = AutoMLConfig(compute_target=cpu_cluster,\n",
    "                             task = \"classification\",\n",
    "                             training_data=dataset,\n",
    "                             label_column_name=\"DEATH_EVENT\", \n",
    "                             enable_early_stopping= True,\n",
    "                             featurization= 'auto',\n",
    "                             enable_voting_ensemble= True,\n",
    "                             **automl_settings\n",
    "                            )"
   ]
  },
  {
   "cell_type": "code",
   "execution_count": 19,
   "metadata": {
    "collapsed": false,
    "gather": {
     "logged": 1598431107951
    },
    "jupyter": {
     "outputs_hidden": false,
     "source_hidden": false
    },
    "nteract": {
     "transient": {
      "deleting": false
     }
    }
   },
   "outputs": [
    {
     "name": "stdout",
     "output_type": "stream",
     "text": [
      "Running on remote.\n",
      "No run_configuration provided, running on cpu-cluster with default configuration\n",
      "Running on remote compute: cpu-cluster\n",
      "Parent Run ID: AutoML_f42f2be7-4d76-46fd-ba79-2ec7ee0d470f\n",
      "\n",
      "Current status: FeaturesGeneration. Generating features for the dataset.\n",
      "Current status: ModelSelection. Beginning model selection.\n",
      "\n",
      "****************************************************************************************************\n",
      "DATA GUARDRAILS: \n",
      "\n",
      "TYPE:         Class balancing detection\n",
      "STATUS:       PASSED\n",
      "DESCRIPTION:  Your inputs were analyzed, and all classes are balanced in your training data.\n",
      "              Learn more about imbalanced data: https://aka.ms/AutomatedMLImbalancedData\n",
      "\n",
      "****************************************************************************************************\n",
      "\n",
      "TYPE:         Missing feature values imputation\n",
      "STATUS:       PASSED\n",
      "DESCRIPTION:  No feature missing values were detected in the training data.\n",
      "              Learn more about missing value imputation: https://aka.ms/AutomatedMLFeaturization\n",
      "\n",
      "****************************************************************************************************\n",
      "\n",
      "TYPE:         High cardinality feature detection\n",
      "STATUS:       PASSED\n",
      "DESCRIPTION:  Your inputs were analyzed, and no high cardinality features were detected.\n",
      "              Learn more about high cardinality feature handling: https://aka.ms/AutomatedMLFeaturization\n",
      "\n",
      "****************************************************************************************************\n",
      "\n",
      "****************************************************************************************************\n",
      "ITERATION: The iteration being evaluated.\n",
      "PIPELINE: A summary description of the pipeline being evaluated.\n",
      "DURATION: Time taken for the current iteration.\n",
      "METRIC: The result of computing score on the fitted pipeline.\n",
      "BEST: The best observed score thus far.\n",
      "****************************************************************************************************\n",
      "\n",
      " ITERATION   PIPELINE                                       DURATION      METRIC      BEST\n",
      "         1   MaxAbsScaler XGBoostClassifier                 0:00:54       0.8930    0.8930\n",
      "         3   RobustScaler ExtremeRandomTrees                0:01:02       0.8684    0.8930\n",
      "         4   MinMaxScaler RandomForest                      0:00:54       0.9031    0.9031\n",
      "         6   StandardScalerWrapper RandomForest             0:00:54       0.8874    0.9031\n",
      "         7   MinMaxScaler ExtremeRandomTrees                0:00:58       0.8793    0.9031\n",
      "         0   MaxAbsScaler LightGBM                          0:03:30       0.8811    0.9031\n",
      "         2   MinMaxScaler RandomForest                      0:03:37       0.9049    0.9049\n",
      "         5   MinMaxScaler RandomForest                      0:03:37       0.8976    0.9049\n",
      "         8   MinMaxScaler ExtremeRandomTrees                0:00:54       0.8852    0.9049\n",
      "         9   SparseNormalizer KNN                           0:00:50       0.7515    0.9049\n",
      "        10   MinMaxScaler ExtremeRandomTrees                0:00:47       0.8624    0.9049\n",
      "        11   RobustScaler ExtremeRandomTrees                0:00:50       0.8781    0.9049\n",
      "        12   StandardScalerWrapper RandomForest             0:00:49       0.8990    0.9049\n",
      "        13   StandardScalerWrapper SGD                      0:00:48       0.8713    0.9049\n",
      "        14   RobustScaler RandomForest                      0:00:58       0.9021    0.9049\n",
      "        15   StandardScalerWrapper KNN                      0:00:52       0.4823    0.9049\n",
      "        16   MinMaxScaler RandomForest                      0:00:55       0.8909    0.9049\n",
      "        17   MinMaxScaler ExtremeRandomTrees                0:00:58       0.8225    0.9049\n",
      "        18   MaxAbsScaler RandomForest                      0:00:54       0.8814    0.9049\n",
      "        19   StandardScalerWrapper XGBoostClassifier        0:00:56       0.9076    0.9076\n",
      "        20   MaxAbsScaler RandomForest                      0:01:00       0.9021    0.9076\n",
      "        21   MaxAbsScaler ExtremeRandomTrees                0:00:54       0.8489    0.9076\n",
      "        22   MaxAbsScaler ExtremeRandomTrees                0:00:52       0.8579    0.9076\n",
      "        23   MinMaxScaler RandomForest                      0:00:54       0.9099    0.9099\n",
      "        24   StandardScalerWrapper XGBoostClassifier        0:00:53       0.9036    0.9099\n",
      "        25   StandardScalerWrapper XGBoostClassifier        0:00:51       0.9140    0.9140\n",
      "        26   MaxAbsScaler ExtremeRandomTrees                0:00:54       0.8982    0.9140\n",
      "        27   MinMaxScaler ExtremeRandomTrees                0:00:50       0.8969    0.9140\n",
      "        28   MaxAbsScaler ExtremeRandomTrees                0:00:57       0.8943    0.9140\n",
      "        29   MaxAbsScaler LightGBM                          0:00:51       0.8624    0.9140\n",
      "        30   TruncatedSVDWrapper XGBoostClassifier          0:00:57       0.4514    0.9140\n",
      "        31   RobustScaler LightGBM                          0:00:57       0.9032    0.9140\n",
      "        32   MinMaxScaler GradientBoosting                  0:00:53       0.9117    0.9140\n",
      "        33   RobustScaler RandomForest                      0:00:54       0.9182    0.9182\n",
      "        34   MaxAbsScaler LightGBM                          0:00:59       0.8957    0.9182\n",
      "        35   StandardScalerWrapper XGBoostClassifier        0:00:51       0.8474    0.9182\n",
      "        36   RobustScaler LightGBM                          0:00:46       0.9015    0.9182\n",
      "        37   MaxAbsScaler ExtremeRandomTrees                0:00:59       0.8824    0.9182\n",
      "        38   MinMaxScaler RandomForest                      0:00:54       0.9132    0.9182\n",
      "        39   RobustScaler RandomForest                      0:00:52       0.9069    0.9182\n",
      "        40   StandardScalerWrapper RandomForest             0:00:54       0.8809    0.9182\n",
      "        41   MaxAbsScaler RandomForest                      0:00:55       0.9019    0.9182\n",
      "        42   MaxAbsScaler RandomForest                      0:00:59       0.9122    0.9182\n",
      "        43   MaxAbsScaler GradientBoosting                  0:00:51       0.9136    0.9182\n",
      "        44   MinMaxScaler GradientBoosting                  0:00:51       0.8934    0.9182\n",
      "        45   MaxAbsScaler RandomForest                      0:00:55       0.8837    0.9182\n",
      "        47   StandardScalerWrapper XGBoostClassifier        0:00:46       0.9036    0.9182\n",
      "        46   MaxAbsScaler GradientBoosting                  0:00:59       0.9064    0.9182\n",
      "        48   StandardScalerWrapper RandomForest             0:00:50       0.9075    0.9182\n",
      "        49   StandardScalerWrapper RandomForest             0:00:29          nan    0.9182\n",
      "        50                                                  0:00:10          nan    0.9182\n",
      "        51                                                  0:00:16          nan    0.9182\n",
      "        52    VotingEnsemble                                0:01:54       0.9191    0.9191\n",
      "        53    StackEnsemble                                 0:02:03       0.9187    0.9191\n"
     ]
    }
   ],
   "source": [
    "# TODO: Submit your experiment\n",
    "\n",
    "remote_run = experiment.submit(automl_config, show_output=True)"
   ]
  },
  {
   "cell_type": "markdown",
   "metadata": {},
   "source": [
    "## Run  Details "
   ]
  },
  {
   "cell_type": "code",
   "execution_count": 20,
   "metadata": {
    "collapsed": false,
    "gather": {
     "logged": 1598431121770
    },
    "jupyter": {
     "outputs_hidden": false,
     "source_hidden": false
    },
    "nteract": {
     "transient": {
      "deleting": false
     }
    }
   },
   "outputs": [
    {
     "data": {
      "application/vnd.jupyter.widget-view+json": {
       "model_id": "851b88235cf94ce6a038e49f4d8eb889",
       "version_major": 2,
       "version_minor": 0
      },
      "text/plain": [
       "_AutoMLWidget(widget_settings={'childWidgetDisplay': 'popup', 'send_telemetry': False, 'log_level': 'INFO', 's…"
      ]
     },
     "metadata": {},
     "output_type": "display_data"
    },
    {
     "data": {
      "application/aml.mini.widget.v1": "{\"status\": \"Completed\", \"workbench_run_details_uri\": \"https://ml.azure.com/experiments/capstone-heartfailure-exp/runs/AutoML_f42f2be7-4d76-46fd-ba79-2ec7ee0d470f?wsid=/subscriptions/610d6e37-4747-4a20-80eb-3aad70a55f43/resourcegroups/aml-quickstarts-136827/workspaces/quick-starts-ws-136827\", \"run_id\": \"AutoML_f42f2be7-4d76-46fd-ba79-2ec7ee0d470f\", \"run_properties\": {\"run_id\": \"AutoML_f42f2be7-4d76-46fd-ba79-2ec7ee0d470f\", \"created_utc\": \"2021-02-01T13:44:21.81547Z\", \"properties\": {\"num_iterations\": \"1000\", \"training_type\": \"TrainFull\", \"acquisition_function\": \"EI\", \"primary_metric\": \"AUC_weighted\", \"train_split\": \"0\", \"acquisition_parameter\": \"0\", \"num_cross_validation\": \"5\", \"target\": \"cpu-cluster\", \"AMLSettingsJsonString\": \"{\\\"path\\\":null,\\\"name\\\":\\\"capstone-heartfailure-exp\\\",\\\"subscription_id\\\":\\\"610d6e37-4747-4a20-80eb-3aad70a55f43\\\",\\\"resource_group\\\":\\\"aml-quickstarts-136827\\\",\\\"workspace_name\\\":\\\"quick-starts-ws-136827\\\",\\\"region\\\":\\\"southcentralus\\\",\\\"compute_target\\\":\\\"cpu-cluster\\\",\\\"spark_service\\\":null,\\\"azure_service\\\":\\\"remote\\\",\\\"many_models\\\":false,\\\"pipeline_fetch_max_batch_size\\\":1,\\\"iterations\\\":1000,\\\"primary_metric\\\":\\\"AUC_weighted\\\",\\\"task_type\\\":\\\"classification\\\",\\\"data_script\\\":null,\\\"validation_size\\\":0.0,\\\"n_cross_validations\\\":5,\\\"y_min\\\":null,\\\"y_max\\\":null,\\\"num_classes\\\":null,\\\"featurization\\\":\\\"auto\\\",\\\"_ignore_package_version_incompatibilities\\\":false,\\\"is_timeseries\\\":false,\\\"max_cores_per_iteration\\\":1,\\\"max_concurrent_iterations\\\":5,\\\"iteration_timeout_minutes\\\":null,\\\"mem_in_mb\\\":null,\\\"enforce_time_on_windows\\\":false,\\\"experiment_timeout_minutes\\\":30,\\\"experiment_exit_score\\\":null,\\\"whitelist_models\\\":null,\\\"blacklist_algos\\\":[\\\"TensorFlowLinearClassifier\\\",\\\"TensorFlowDNN\\\"],\\\"supported_models\\\":[\\\"TensorFlowLinearClassifier\\\",\\\"LightGBM\\\",\\\"KNN\\\",\\\"RandomForest\\\",\\\"DecisionTree\\\",\\\"BernoulliNaiveBayes\\\",\\\"ExtremeRandomTrees\\\",\\\"XGBoostClassifier\\\",\\\"TensorFlowDNN\\\",\\\"LogisticRegression\\\",\\\"SGD\\\",\\\"SVM\\\",\\\"GradientBoosting\\\",\\\"LinearSVM\\\",\\\"MultinomialNaiveBayes\\\",\\\"AveragedPerceptronClassifier\\\"],\\\"auto_blacklist\\\":true,\\\"blacklist_samples_reached\\\":false,\\\"exclude_nan_labels\\\":true,\\\"verbosity\\\":20,\\\"_debug_log\\\":\\\"azureml_automl.log\\\",\\\"show_warnings\\\":false,\\\"model_explainability\\\":true,\\\"service_url\\\":null,\\\"sdk_url\\\":null,\\\"sdk_packages\\\":null,\\\"enable_onnx_compatible_models\\\":false,\\\"enable_split_onnx_featurizer_estimator_models\\\":false,\\\"vm_type\\\":\\\"STANDARD_D2_V2\\\",\\\"telemetry_verbosity\\\":20,\\\"send_telemetry\\\":true,\\\"enable_dnn\\\":false,\\\"scenario\\\":\\\"SDK-1.13.0\\\",\\\"environment_label\\\":null,\\\"force_text_dnn\\\":false,\\\"enable_feature_sweeping\\\":true,\\\"enable_early_stopping\\\":true,\\\"early_stopping_n_iters\\\":10,\\\"metrics\\\":null,\\\"enable_ensembling\\\":true,\\\"enable_stack_ensembling\\\":true,\\\"ensemble_iterations\\\":15,\\\"enable_tf\\\":false,\\\"enable_subsampling\\\":null,\\\"subsample_seed\\\":null,\\\"enable_nimbusml\\\":false,\\\"enable_streaming\\\":false,\\\"force_streaming\\\":false,\\\"track_child_runs\\\":true,\\\"allowed_private_models\\\":[],\\\"label_column_name\\\":\\\"DEATH_EVENT\\\",\\\"weight_column_name\\\":null,\\\"cv_split_column_names\\\":null,\\\"enable_local_managed\\\":false,\\\"_local_managed_run_id\\\":null,\\\"cost_mode\\\":1,\\\"lag_length\\\":0,\\\"metric_operation\\\":\\\"maximize\\\",\\\"preprocess\\\":true}\", \"DataPrepJsonString\": \"{\\\\\\\"training_data\\\\\\\": \\\\\\\"{\\\\\\\\\\\\\\\"blocks\\\\\\\\\\\\\\\": [{\\\\\\\\\\\\\\\"id\\\\\\\\\\\\\\\": \\\\\\\\\\\\\\\"fc28ac7a-7722-45d1-8dad-39c9f80015db\\\\\\\\\\\\\\\", \\\\\\\\\\\\\\\"type\\\\\\\\\\\\\\\": \\\\\\\\\\\\\\\"Microsoft.DPrep.GetFilesBlock\\\\\\\\\\\\\\\", \\\\\\\\\\\\\\\"arguments\\\\\\\\\\\\\\\": {\\\\\\\\\\\\\\\"isArchive\\\\\\\\\\\\\\\": false, \\\\\\\\\\\\\\\"path\\\\\\\\\\\\\\\": {\\\\\\\\\\\\\\\"target\\\\\\\\\\\\\\\": 4, \\\\\\\\\\\\\\\"resourceDetails\\\\\\\\\\\\\\\": [{\\\\\\\\\\\\\\\"path\\\\\\\\\\\\\\\": \\\\\\\\\\\\\\\"https://raw.githubusercontent.com/Arushikha0408/nd00333-capstone/master/heart_failure_clinical_records_dataset.csv\\\\\\\\\\\\\\\"}]}}, \\\\\\\\\\\\\\\"localData\\\\\\\\\\\\\\\": {}, \\\\\\\\\\\\\\\"isEnabled\\\\\\\\\\\\\\\": true, \\\\\\\\\\\\\\\"name\\\\\\\\\\\\\\\": null, \\\\\\\\\\\\\\\"annotation\\\\\\\\\\\\\\\": null}, {\\\\\\\\\\\\\\\"id\\\\\\\\\\\\\\\": \\\\\\\\\\\\\\\"89e5f3a6-ec2e-443d-be24-d35b917c00b0\\\\\\\\\\\\\\\", \\\\\\\\\\\\\\\"type\\\\\\\\\\\\\\\": \\\\\\\\\\\\\\\"Microsoft.DPrep.ParseDelimitedBlock\\\\\\\\\\\\\\\", \\\\\\\\\\\\\\\"arguments\\\\\\\\\\\\\\\": {\\\\\\\\\\\\\\\"columnHeadersMode\\\\\\\\\\\\\\\": 3, \\\\\\\\\\\\\\\"fileEncoding\\\\\\\\\\\\\\\": 0, \\\\\\\\\\\\\\\"handleQuotedLineBreaks\\\\\\\\\\\\\\\": false, \\\\\\\\\\\\\\\"preview\\\\\\\\\\\\\\\": false, \\\\\\\\\\\\\\\"separator\\\\\\\\\\\\\\\": \\\\\\\\\\\\\\\",\\\\\\\\\\\\\\\", \\\\\\\\\\\\\\\"skipRows\\\\\\\\\\\\\\\": 0, \\\\\\\\\\\\\\\"skipRowsMode\\\\\\\\\\\\\\\": 0}, \\\\\\\\\\\\\\\"localData\\\\\\\\\\\\\\\": {}, \\\\\\\\\\\\\\\"isEnabled\\\\\\\\\\\\\\\": true, \\\\\\\\\\\\\\\"name\\\\\\\\\\\\\\\": null, \\\\\\\\\\\\\\\"annotation\\\\\\\\\\\\\\\": null}, {\\\\\\\\\\\\\\\"id\\\\\\\\\\\\\\\": \\\\\\\\\\\\\\\"e798edaa-4218-4b16-8556-a7f3945f8fca\\\\\\\\\\\\\\\", \\\\\\\\\\\\\\\"type\\\\\\\\\\\\\\\": \\\\\\\\\\\\\\\"Microsoft.DPrep.DropColumnsBlock\\\\\\\\\\\\\\\", \\\\\\\\\\\\\\\"arguments\\\\\\\\\\\\\\\": {\\\\\\\\\\\\\\\"columns\\\\\\\\\\\\\\\": {\\\\\\\\\\\\\\\"type\\\\\\\\\\\\\\\": 0, \\\\\\\\\\\\\\\"details\\\\\\\\\\\\\\\": {\\\\\\\\\\\\\\\"selectedColumns\\\\\\\\\\\\\\\": [\\\\\\\\\\\\\\\"Path\\\\\\\\\\\\\\\"]}}}, \\\\\\\\\\\\\\\"localData\\\\\\\\\\\\\\\": {}, \\\\\\\\\\\\\\\"isEnabled\\\\\\\\\\\\\\\": true, \\\\\\\\\\\\\\\"name\\\\\\\\\\\\\\\": null, \\\\\\\\\\\\\\\"annotation\\\\\\\\\\\\\\\": null}, {\\\\\\\\\\\\\\\"id\\\\\\\\\\\\\\\": \\\\\\\\\\\\\\\"ad642e05-d4c6-4daa-aa49-5c450da19e41\\\\\\\\\\\\\\\", \\\\\\\\\\\\\\\"type\\\\\\\\\\\\\\\": \\\\\\\\\\\\\\\"Microsoft.DPrep.SetColumnTypesBlock\\\\\\\\\\\\\\\", \\\\\\\\\\\\\\\"arguments\\\\\\\\\\\\\\\": {\\\\\\\\\\\\\\\"columnConversion\\\\\\\\\\\\\\\": [{\\\\\\\\\\\\\\\"column\\\\\\\\\\\\\\\": {\\\\\\\\\\\\\\\"type\\\\\\\\\\\\\\\": 2, \\\\\\\\\\\\\\\"details\\\\\\\\\\\\\\\": {\\\\\\\\\\\\\\\"selectedColumn\\\\\\\\\\\\\\\": \\\\\\\\\\\\\\\"age\\\\\\\\\\\\\\\"}}, \\\\\\\\\\\\\\\"typeProperty\\\\\\\\\\\\\\\": 3}, {\\\\\\\\\\\\\\\"column\\\\\\\\\\\\\\\": {\\\\\\\\\\\\\\\"type\\\\\\\\\\\\\\\": 2, \\\\\\\\\\\\\\\"details\\\\\\\\\\\\\\\": {\\\\\\\\\\\\\\\"selectedColumn\\\\\\\\\\\\\\\": \\\\\\\\\\\\\\\"anaemia\\\\\\\\\\\\\\\"}}, \\\\\\\\\\\\\\\"typeProperty\\\\\\\\\\\\\\\": 2}, {\\\\\\\\\\\\\\\"column\\\\\\\\\\\\\\\": {\\\\\\\\\\\\\\\"type\\\\\\\\\\\\\\\": 2, \\\\\\\\\\\\\\\"details\\\\\\\\\\\\\\\": {\\\\\\\\\\\\\\\"selectedColumn\\\\\\\\\\\\\\\": \\\\\\\\\\\\\\\"creatinine_phosphokinase\\\\\\\\\\\\\\\"}}, \\\\\\\\\\\\\\\"typeProperty\\\\\\\\\\\\\\\": 2}, {\\\\\\\\\\\\\\\"column\\\\\\\\\\\\\\\": {\\\\\\\\\\\\\\\"type\\\\\\\\\\\\\\\": 2, \\\\\\\\\\\\\\\"details\\\\\\\\\\\\\\\": {\\\\\\\\\\\\\\\"selectedColumn\\\\\\\\\\\\\\\": \\\\\\\\\\\\\\\"diabetes\\\\\\\\\\\\\\\"}}, \\\\\\\\\\\\\\\"typeProperty\\\\\\\\\\\\\\\": 2}, {\\\\\\\\\\\\\\\"column\\\\\\\\\\\\\\\": {\\\\\\\\\\\\\\\"type\\\\\\\\\\\\\\\": 2, \\\\\\\\\\\\\\\"details\\\\\\\\\\\\\\\": {\\\\\\\\\\\\\\\"selectedColumn\\\\\\\\\\\\\\\": \\\\\\\\\\\\\\\"ejection_fraction\\\\\\\\\\\\\\\"}}, \\\\\\\\\\\\\\\"typeProperty\\\\\\\\\\\\\\\": 2}, {\\\\\\\\\\\\\\\"column\\\\\\\\\\\\\\\": {\\\\\\\\\\\\\\\"type\\\\\\\\\\\\\\\": 2, \\\\\\\\\\\\\\\"details\\\\\\\\\\\\\\\": {\\\\\\\\\\\\\\\"selectedColumn\\\\\\\\\\\\\\\": \\\\\\\\\\\\\\\"high_blood_pressure\\\\\\\\\\\\\\\"}}, \\\\\\\\\\\\\\\"typeProperty\\\\\\\\\\\\\\\": 2}, {\\\\\\\\\\\\\\\"column\\\\\\\\\\\\\\\": {\\\\\\\\\\\\\\\"type\\\\\\\\\\\\\\\": 2, \\\\\\\\\\\\\\\"details\\\\\\\\\\\\\\\": {\\\\\\\\\\\\\\\"selectedColumn\\\\\\\\\\\\\\\": \\\\\\\\\\\\\\\"platelets\\\\\\\\\\\\\\\"}}, \\\\\\\\\\\\\\\"typeProperty\\\\\\\\\\\\\\\": 3}, {\\\\\\\\\\\\\\\"column\\\\\\\\\\\\\\\": {\\\\\\\\\\\\\\\"type\\\\\\\\\\\\\\\": 2, \\\\\\\\\\\\\\\"details\\\\\\\\\\\\\\\": {\\\\\\\\\\\\\\\"selectedColumn\\\\\\\\\\\\\\\": \\\\\\\\\\\\\\\"serum_creatinine\\\\\\\\\\\\\\\"}}, \\\\\\\\\\\\\\\"typeProperty\\\\\\\\\\\\\\\": 3}, {\\\\\\\\\\\\\\\"column\\\\\\\\\\\\\\\": {\\\\\\\\\\\\\\\"type\\\\\\\\\\\\\\\": 2, \\\\\\\\\\\\\\\"details\\\\\\\\\\\\\\\": {\\\\\\\\\\\\\\\"selectedColumn\\\\\\\\\\\\\\\": \\\\\\\\\\\\\\\"serum_sodium\\\\\\\\\\\\\\\"}}, \\\\\\\\\\\\\\\"typeProperty\\\\\\\\\\\\\\\": 2}, {\\\\\\\\\\\\\\\"column\\\\\\\\\\\\\\\": {\\\\\\\\\\\\\\\"type\\\\\\\\\\\\\\\": 2, \\\\\\\\\\\\\\\"details\\\\\\\\\\\\\\\": {\\\\\\\\\\\\\\\"selectedColumn\\\\\\\\\\\\\\\": \\\\\\\\\\\\\\\"sex\\\\\\\\\\\\\\\"}}, \\\\\\\\\\\\\\\"typeProperty\\\\\\\\\\\\\\\": 2}, {\\\\\\\\\\\\\\\"column\\\\\\\\\\\\\\\": {\\\\\\\\\\\\\\\"type\\\\\\\\\\\\\\\": 2, \\\\\\\\\\\\\\\"details\\\\\\\\\\\\\\\": {\\\\\\\\\\\\\\\"selectedColumn\\\\\\\\\\\\\\\": \\\\\\\\\\\\\\\"smoking\\\\\\\\\\\\\\\"}}, \\\\\\\\\\\\\\\"typeProperty\\\\\\\\\\\\\\\": 2}, {\\\\\\\\\\\\\\\"column\\\\\\\\\\\\\\\": {\\\\\\\\\\\\\\\"type\\\\\\\\\\\\\\\": 2, \\\\\\\\\\\\\\\"details\\\\\\\\\\\\\\\": {\\\\\\\\\\\\\\\"selectedColumn\\\\\\\\\\\\\\\": \\\\\\\\\\\\\\\"time\\\\\\\\\\\\\\\"}}, \\\\\\\\\\\\\\\"typeProperty\\\\\\\\\\\\\\\": 2}, {\\\\\\\\\\\\\\\"column\\\\\\\\\\\\\\\": {\\\\\\\\\\\\\\\"type\\\\\\\\\\\\\\\": 2, \\\\\\\\\\\\\\\"details\\\\\\\\\\\\\\\": {\\\\\\\\\\\\\\\"selectedColumn\\\\\\\\\\\\\\\": \\\\\\\\\\\\\\\"DEATH_EVENT\\\\\\\\\\\\\\\"}}, \\\\\\\\\\\\\\\"typeProperty\\\\\\\\\\\\\\\": 2}]}, \\\\\\\\\\\\\\\"localData\\\\\\\\\\\\\\\": {}, \\\\\\\\\\\\\\\"isEnabled\\\\\\\\\\\\\\\": true, \\\\\\\\\\\\\\\"name\\\\\\\\\\\\\\\": null, \\\\\\\\\\\\\\\"annotation\\\\\\\\\\\\\\\": null}], \\\\\\\\\\\\\\\"inspectors\\\\\\\\\\\\\\\": [], \\\\\\\\\\\\\\\"meta\\\\\\\\\\\\\\\": {\\\\\\\\\\\\\\\"savedDatasetId\\\\\\\\\\\\\\\": \\\\\\\\\\\\\\\"6c1a60d8-e2cf-467e-b3a7-dd74468508d3\\\\\\\\\\\\\\\", \\\\\\\\\\\\\\\"datasetType\\\\\\\\\\\\\\\": \\\\\\\\\\\\\\\"tabular\\\\\\\\\\\\\\\", \\\\\\\\\\\\\\\"subscriptionId\\\\\\\\\\\\\\\": \\\\\\\\\\\\\\\"610d6e37-4747-4a20-80eb-3aad70a55f43\\\\\\\\\\\\\\\", \\\\\\\\\\\\\\\"workspaceId\\\\\\\\\\\\\\\": \\\\\\\\\\\\\\\"58e35cbd-ec18-433b-9752-062df746fd36\\\\\\\\\\\\\\\", \\\\\\\\\\\\\\\"workspaceLocation\\\\\\\\\\\\\\\": \\\\\\\\\\\\\\\"southcentralus\\\\\\\\\\\\\\\"}}\\\\\\\", \\\\\\\"activities\\\\\\\": 0}\", \"EnableSubsampling\": null, \"runTemplate\": \"AutoML\", \"azureml.runsource\": \"automl\", \"display_task_type\": \"classification\", \"dependencies_versions\": \"{\\\"azureml-widgets\\\": \\\"1.20.0\\\", \\\"azureml-train\\\": \\\"1.20.0\\\", \\\"azureml-train-restclients-hyperdrive\\\": \\\"1.20.0\\\", \\\"azureml-train-core\\\": \\\"1.20.0\\\", \\\"azureml-train-automl\\\": \\\"1.20.0\\\", \\\"azureml-train-automl-runtime\\\": \\\"1.20.0\\\", \\\"azureml-train-automl-client\\\": \\\"1.20.0\\\", \\\"azureml-tensorboard\\\": \\\"1.20.0\\\", \\\"azureml-telemetry\\\": \\\"1.20.0\\\", \\\"azureml-sdk\\\": \\\"1.20.0\\\", \\\"azureml-samples\\\": \\\"0+unknown\\\", \\\"azureml-pipeline\\\": \\\"1.20.0\\\", \\\"azureml-pipeline-steps\\\": \\\"1.20.0\\\", \\\"azureml-pipeline-core\\\": \\\"1.20.0\\\", \\\"azureml-opendatasets\\\": \\\"1.20.0\\\", \\\"azureml-model-management-sdk\\\": \\\"1.0.1b6.post1\\\", \\\"azureml-mlflow\\\": \\\"1.20.0.post1\\\", \\\"azureml-interpret\\\": \\\"1.20.0\\\", \\\"azureml-explain-model\\\": \\\"1.20.0\\\", \\\"azureml-defaults\\\": \\\"1.20.0\\\", \\\"azureml-dataset-runtime\\\": \\\"1.20.0\\\", \\\"azureml-dataprep\\\": \\\"2.7.3\\\", \\\"azureml-dataprep-rslex\\\": \\\"1.5.0\\\", \\\"azureml-dataprep-native\\\": \\\"27.0.0\\\", \\\"azureml-datadrift\\\": \\\"1.20.0\\\", \\\"azureml-core\\\": \\\"1.20.0\\\", \\\"azureml-contrib-services\\\": \\\"1.20.0\\\", \\\"azureml-contrib-server\\\": \\\"1.20.0\\\", \\\"azureml-contrib-reinforcementlearning\\\": \\\"1.20.0\\\", \\\"azureml-contrib-pipeline-steps\\\": \\\"1.20.0\\\", \\\"azureml-contrib-notebook\\\": \\\"1.20.0\\\", \\\"azureml-contrib-interpret\\\": \\\"1.20.0\\\", \\\"azureml-contrib-gbdt\\\": \\\"1.20.0\\\", \\\"azureml-contrib-fairness\\\": \\\"1.20.0\\\", \\\"azureml-contrib-dataset\\\": \\\"1.20.0\\\", \\\"azureml-cli-common\\\": \\\"1.20.0\\\", \\\"azureml-automl-runtime\\\": \\\"1.20.0\\\", \\\"azureml-automl-core\\\": \\\"1.20.0\\\", \\\"azureml-accel-models\\\": \\\"1.20.0\\\"}\", \"_aml_system_scenario_identification\": \"Remote.Parent\", \"ClientType\": \"SDK\", \"environment_cpu_name\": \"AzureML-AutoML\", \"environment_cpu_label\": \"prod\", \"environment_gpu_name\": \"AzureML-AutoML-GPU\", \"environment_gpu_label\": \"prod\", \"root_attribution\": \"automl\", \"attribution\": \"AutoML\", \"Orchestrator\": \"AutoML\", \"CancelUri\": \"https://southcentralus.experiments.azureml.net/jasmine/v1.0/subscriptions/610d6e37-4747-4a20-80eb-3aad70a55f43/resourceGroups/aml-quickstarts-136827/providers/Microsoft.MachineLearningServices/workspaces/quick-starts-ws-136827/experimentids/0e6cf01d-df1a-47ab-a917-e9372ded34fc/cancel/AutoML_f42f2be7-4d76-46fd-ba79-2ec7ee0d470f\", \"ClientSdkVersion\": \"1.20.0.post1\", \"snapshotId\": \"00000000-0000-0000-0000-000000000000\", \"SetupRunId\": \"AutoML_f42f2be7-4d76-46fd-ba79-2ec7ee0d470f_setup\", \"SetupRunContainerId\": \"dcid.AutoML_f42f2be7-4d76-46fd-ba79-2ec7ee0d470f_setup\", \"FeaturizationRunJsonPath\": \"featurizer_container.json\", \"FeaturizationRunId\": \"AutoML_f42f2be7-4d76-46fd-ba79-2ec7ee0d470f_featurize\", \"ProblemInfoJsonString\": \"{\\\"dataset_num_categorical\\\": 0, \\\"is_sparse\\\": false, \\\"subsampling\\\": false, \\\"dataset_classes\\\": 2, \\\"dataset_features\\\": 12, \\\"dataset_samples\\\": 299, \\\"single_frequency_class_detected\\\": false}\", \"ModelExplainRunId\": \"AutoML_f42f2be7-4d76-46fd-ba79-2ec7ee0d470f_ModelExplain\"}, \"tags\": {\"model_explain_run\": \"best_run\", \"_aml_system_azureml.automlComponent\": \"AutoML\", \"pipeline_id\": \"\", \"score\": \"\", \"predicted_cost\": \"\", \"fit_time\": \"\", \"training_percent\": \"\", \"iteration\": \"\", \"run_preprocessor\": \"\", \"run_algorithm\": \"\", \"dynamic_whitelisting_iterations\": \"<25>;<30>;<35>;<40>;<45>;<50>;\", \"automl_best_child_run_id\": \"AutoML_f42f2be7-4d76-46fd-ba79-2ec7ee0d470f_52\", \"model_explain_best_run_child_id\": \"AutoML_f42f2be7-4d76-46fd-ba79-2ec7ee0d470f_52\"}, \"end_time_utc\": \"2021-02-01T14:11:24.087432Z\", \"status\": \"Completed\", \"log_files\": {}, \"log_groups\": [], \"run_duration\": \"0:27:02\"}, \"child_runs\": [{\"run_id\": \"AutoML_f42f2be7-4d76-46fd-ba79-2ec7ee0d470f_0\", \"run_number\": 5, \"metric\": null, \"status\": \"Completed\", \"run_type\": \"azureml.scriptrun\", \"training_percent\": \"100\", \"start_time\": \"2021-02-01T13:55:02.498014Z\", \"end_time\": \"2021-02-01T13:58:32.771225Z\", \"created_time\": \"2021-02-01T13:52:51.502786Z\", \"created_time_dt\": \"2021-02-01T13:52:51.502786Z\", \"duration\": \"0:05:41\", \"iteration\": \"0\", \"goal\": \"AUC_weighted_max\", \"run_name\": \"MaxAbsScaler, LightGBM\", \"run_properties\": \"copy=True\", \"primary_metric\": 0.88113312, \"best_metric\": 0.88113312}, {\"run_id\": \"AutoML_f42f2be7-4d76-46fd-ba79-2ec7ee0d470f_3\", \"run_number\": 6, \"metric\": null, \"status\": \"Completed\", \"run_type\": \"azureml.scriptrun\", \"training_percent\": \"100\", \"start_time\": \"2021-02-01T13:53:57.145513Z\", \"end_time\": \"2021-02-01T13:54:59.448431Z\", \"created_time\": \"2021-02-01T13:52:51.52637Z\", \"created_time_dt\": \"2021-02-01T13:52:51.52637Z\", \"duration\": \"0:02:07\", \"iteration\": \"3\", \"goal\": \"AUC_weighted_max\", \"run_name\": \"RobustScaler, ExtremeRandomTrees\", \"run_properties\": \"copy=True, quantile_range=[10, 90], with_centering=False,\\n             with_scaling=False\", \"primary_metric\": 0.86839636, \"best_metric\": 0.90493662}, {\"run_id\": \"AutoML_f42f2be7-4d76-46fd-ba79-2ec7ee0d470f_2\", \"run_number\": 7, \"metric\": null, \"status\": \"Completed\", \"run_type\": \"azureml.scriptrun\", \"training_percent\": \"100\", \"start_time\": \"2021-02-01T13:55:02.767642Z\", \"end_time\": \"2021-02-01T13:58:39.711885Z\", \"created_time\": \"2021-02-01T13:52:51.537108Z\", \"created_time_dt\": \"2021-02-01T13:52:51.537108Z\", \"duration\": \"0:05:48\", \"iteration\": \"2\", \"goal\": \"AUC_weighted_max\", \"run_name\": \"MinMaxScaler, RandomForest\", \"run_properties\": \"copy=True, feature_range=(0, 1\", \"primary_metric\": 0.90493662, \"best_metric\": 0.90493662}, {\"run_id\": \"AutoML_f42f2be7-4d76-46fd-ba79-2ec7ee0d470f_1\", \"run_number\": 8, \"metric\": null, \"status\": \"Completed\", \"run_type\": \"azureml.scriptrun\", \"training_percent\": \"100\", \"start_time\": \"2021-02-01T13:53:01.42224Z\", \"end_time\": \"2021-02-01T13:53:55.086858Z\", \"created_time\": \"2021-02-01T13:52:51.572792Z\", \"created_time_dt\": \"2021-02-01T13:52:51.572792Z\", \"duration\": \"0:01:03\", \"iteration\": \"1\", \"goal\": \"AUC_weighted_max\", \"run_name\": \"MaxAbsScaler, XGBoostClassifier\", \"run_properties\": \"copy=True\", \"primary_metric\": 0.89295912, \"best_metric\": 0.89295912}, {\"run_id\": \"AutoML_f42f2be7-4d76-46fd-ba79-2ec7ee0d470f_4\", \"run_number\": 9, \"metric\": null, \"status\": \"Completed\", \"run_type\": \"azureml.scriptrun\", \"training_percent\": \"100\", \"start_time\": \"2021-02-01T13:55:03.789997Z\", \"end_time\": \"2021-02-01T13:55:57.670724Z\", \"created_time\": \"2021-02-01T13:52:51.535588Z\", \"created_time_dt\": \"2021-02-01T13:52:51.535588Z\", \"duration\": \"0:03:06\", \"iteration\": \"4\", \"goal\": \"AUC_weighted_max\", \"run_name\": \"MinMaxScaler, RandomForest\", \"run_properties\": \"copy=True, feature_range=(0, 1\", \"primary_metric\": 0.90309909, \"best_metric\": 0.90493662}, {\"run_id\": \"AutoML_f42f2be7-4d76-46fd-ba79-2ec7ee0d470f_5\", \"run_number\": 10, \"metric\": null, \"status\": \"Completed\", \"run_type\": \"azureml.scriptrun\", \"training_percent\": \"100\", \"start_time\": \"2021-02-01T13:55:09.0544Z\", \"end_time\": \"2021-02-01T13:58:45.634895Z\", \"created_time\": \"2021-02-01T13:53:56.318442Z\", \"created_time_dt\": \"2021-02-01T13:53:56.318442Z\", \"duration\": \"0:04:49\", \"iteration\": \"5\", \"goal\": \"AUC_weighted_max\", \"run_name\": \"MinMaxScaler, RandomForest\", \"run_properties\": \"copy=True, feature_range=(0, 1\", \"primary_metric\": 0.89755106, \"best_metric\": 0.90493662}, {\"run_id\": \"AutoML_f42f2be7-4d76-46fd-ba79-2ec7ee0d470f_6\", \"run_number\": 11, \"metric\": null, \"status\": \"Completed\", \"run_type\": \"azureml.scriptrun\", \"training_percent\": \"100\", \"start_time\": \"2021-02-01T13:56:05.213365Z\", \"end_time\": \"2021-02-01T13:56:58.960794Z\", \"created_time\": \"2021-02-01T13:55:03.159985Z\", \"created_time_dt\": \"2021-02-01T13:55:03.159985Z\", \"duration\": \"0:01:55\", \"iteration\": \"6\", \"goal\": \"AUC_weighted_max\", \"run_name\": \"StandardScalerWrapper, RandomForest\", \"run_properties\": \"<azureml.automl.runtime.shared.model_wrappers.StandardScalerWrapper object at 0x7f6f2994aef0\", \"primary_metric\": 0.88744395, \"best_metric\": 0.90493662}, {\"run_id\": \"AutoML_f42f2be7-4d76-46fd-ba79-2ec7ee0d470f_7\", \"run_number\": 12, \"metric\": null, \"status\": \"Completed\", \"run_type\": \"azureml.scriptrun\", \"training_percent\": \"100\", \"start_time\": \"2021-02-01T13:57:02.38998Z\", \"end_time\": \"2021-02-01T13:58:00.230051Z\", \"created_time\": \"2021-02-01T13:56:01.049326Z\", \"created_time_dt\": \"2021-02-01T13:56:01.049326Z\", \"duration\": \"0:01:59\", \"iteration\": \"7\", \"goal\": \"AUC_weighted_max\", \"run_name\": \"MinMaxScaler, ExtremeRandomTrees\", \"run_properties\": \"copy=True, feature_range=(0, 1\", \"primary_metric\": 0.87927007, \"best_metric\": 0.90493662}, {\"run_id\": \"AutoML_f42f2be7-4d76-46fd-ba79-2ec7ee0d470f_8\", \"run_number\": 13, \"metric\": null, \"status\": \"Completed\", \"run_type\": \"azureml.scriptrun\", \"training_percent\": \"100\", \"start_time\": \"2021-02-01T13:58:01.004764Z\", \"end_time\": \"2021-02-01T13:58:54.563135Z\", \"created_time\": \"2021-02-01T13:57:02.428183Z\", \"created_time_dt\": \"2021-02-01T13:57:02.428183Z\", \"duration\": \"0:01:52\", \"iteration\": \"8\", \"goal\": \"AUC_weighted_max\", \"run_name\": \"MinMaxScaler, ExtremeRandomTrees\", \"run_properties\": \"copy=True, feature_range=(0, 1\", \"primary_metric\": 0.88524481, \"best_metric\": 0.90493662}, {\"run_id\": \"AutoML_f42f2be7-4d76-46fd-ba79-2ec7ee0d470f_9\", \"run_number\": 14, \"metric\": null, \"status\": \"Completed\", \"run_type\": \"azureml.scriptrun\", \"training_percent\": \"100\", \"start_time\": \"2021-02-01T13:58:39.77683Z\", \"end_time\": \"2021-02-01T13:59:29.306979Z\", \"created_time\": \"2021-02-01T13:58:03.258355Z\", \"created_time_dt\": \"2021-02-01T13:58:03.258355Z\", \"duration\": \"0:01:26\", \"iteration\": \"9\", \"goal\": \"AUC_weighted_max\", \"run_name\": \"SparseNormalizer, KNN\", \"run_properties\": \"<azureml.automl.runtime.shared.model_wrappers.SparseNormalizer object at 0x7f08a8398ef0\", \"primary_metric\": 0.75147268, \"best_metric\": 0.90493662}, {\"run_id\": \"AutoML_f42f2be7-4d76-46fd-ba79-2ec7ee0d470f_10\", \"run_number\": 15, \"metric\": null, \"status\": \"Completed\", \"run_type\": \"azureml.scriptrun\", \"training_percent\": \"100\", \"start_time\": \"2021-02-01T13:58:48.987394Z\", \"end_time\": \"2021-02-01T13:59:36.471868Z\", \"created_time\": \"2021-02-01T13:58:36.542512Z\", \"created_time_dt\": \"2021-02-01T13:58:36.542512Z\", \"duration\": \"0:00:59\", \"iteration\": \"10\", \"goal\": \"AUC_weighted_max\", \"run_name\": \"MinMaxScaler, ExtremeRandomTrees\", \"run_properties\": \"copy=True, feature_range=(0, 1\", \"primary_metric\": 0.86238864, \"best_metric\": 0.90493662}, {\"run_id\": \"AutoML_f42f2be7-4d76-46fd-ba79-2ec7ee0d470f_11\", \"run_number\": 16, \"metric\": null, \"status\": \"Completed\", \"run_type\": \"azureml.scriptrun\", \"training_percent\": \"100\", \"start_time\": \"2021-02-01T13:58:54.089055Z\", \"end_time\": \"2021-02-01T13:59:44.511638Z\", \"created_time\": \"2021-02-01T13:58:43.022874Z\", \"created_time_dt\": \"2021-02-01T13:58:43.022874Z\", \"duration\": \"0:01:01\", \"iteration\": \"11\", \"goal\": \"AUC_weighted_max\", \"run_name\": \"RobustScaler, ExtremeRandomTrees\", \"run_properties\": \"copy=True, quantile_range=[10, 90], with_centering=True,\\n             with_scaling=False\", \"primary_metric\": 0.87811986, \"best_metric\": 0.90493662}, {\"run_id\": \"AutoML_f42f2be7-4d76-46fd-ba79-2ec7ee0d470f_12\", \"run_number\": 17, \"metric\": null, \"status\": \"Completed\", \"run_type\": \"azureml.scriptrun\", \"training_percent\": \"100\", \"start_time\": \"2021-02-01T13:59:03.088509Z\", \"end_time\": \"2021-02-01T13:59:52.283902Z\", \"created_time\": \"2021-02-01T13:58:49.081007Z\", \"created_time_dt\": \"2021-02-01T13:58:49.081007Z\", \"duration\": \"0:01:03\", \"iteration\": \"12\", \"goal\": \"AUC_weighted_max\", \"run_name\": \"StandardScalerWrapper, RandomForest\", \"run_properties\": \"<azureml.automl.runtime.shared.model_wrappers.StandardScalerWrapper object at 0x7f1cc574e358\", \"primary_metric\": 0.89903359, \"best_metric\": 0.90493662}, {\"run_id\": \"AutoML_f42f2be7-4d76-46fd-ba79-2ec7ee0d470f_13\", \"run_number\": 18, \"metric\": null, \"status\": \"Completed\", \"run_type\": \"azureml.scriptrun\", \"training_percent\": \"100\", \"start_time\": \"2021-02-01T13:59:34.352272Z\", \"end_time\": \"2021-02-01T14:00:22.208055Z\", \"created_time\": \"2021-02-01T13:58:58.622743Z\", \"created_time_dt\": \"2021-02-01T13:58:58.622743Z\", \"duration\": \"0:01:23\", \"iteration\": \"13\", \"goal\": \"AUC_weighted_max\", \"run_name\": \"StandardScalerWrapper, SGD\", \"run_properties\": \"<azureml.automl.runtime.shared.model_wrappers.StandardScalerWrapper object at 0x7fdee44dbba8\", \"primary_metric\": 0.87128615, \"best_metric\": 0.90493662}, {\"run_id\": \"AutoML_f42f2be7-4d76-46fd-ba79-2ec7ee0d470f_14\", \"run_number\": 19, \"metric\": null, \"status\": \"Completed\", \"run_type\": \"azureml.scriptrun\", \"training_percent\": \"100\", \"start_time\": \"2021-02-01T13:59:42.111971Z\", \"end_time\": \"2021-02-01T14:00:40.033851Z\", \"created_time\": \"2021-02-01T13:59:32.119153Z\", \"created_time_dt\": \"2021-02-01T13:59:32.119153Z\", \"duration\": \"0:01:07\", \"iteration\": \"14\", \"goal\": \"AUC_weighted_max\", \"run_name\": \"RobustScaler, RandomForest\", \"run_properties\": \"copy=True, quantile_range=[10, 90], with_centering=True,\\n             with_scaling=False\", \"primary_metric\": 0.9020942, \"best_metric\": 0.90493662}, {\"run_id\": \"AutoML_f42f2be7-4d76-46fd-ba79-2ec7ee0d470f_15\", \"run_number\": 20, \"metric\": null, \"status\": \"Completed\", \"run_type\": \"azureml.scriptrun\", \"training_percent\": \"100\", \"start_time\": \"2021-02-01T13:59:51.08522Z\", \"end_time\": \"2021-02-01T14:00:43.306757Z\", \"created_time\": \"2021-02-01T13:59:39.148044Z\", \"created_time_dt\": \"2021-02-01T13:59:39.148044Z\", \"duration\": \"0:01:04\", \"iteration\": \"15\", \"goal\": \"AUC_weighted_max\", \"run_name\": \"StandardScalerWrapper, KNN\", \"run_properties\": \"<azureml.automl.runtime.shared.model_wrappers.StandardScalerWrapper object at 0x7f5dfbca9710\", \"primary_metric\": 0.48227656, \"best_metric\": 0.90493662}, {\"run_id\": \"AutoML_f42f2be7-4d76-46fd-ba79-2ec7ee0d470f_16\", \"run_number\": 21, \"metric\": null, \"status\": \"Completed\", \"run_type\": \"azureml.scriptrun\", \"training_percent\": \"100\", \"start_time\": \"2021-02-01T14:00:01.02044Z\", \"end_time\": \"2021-02-01T14:00:56.18987Z\", \"created_time\": \"2021-02-01T13:59:47.831953Z\", \"created_time_dt\": \"2021-02-01T13:59:47.831953Z\", \"duration\": \"0:01:08\", \"iteration\": \"16\", \"goal\": \"AUC_weighted_max\", \"run_name\": \"MinMaxScaler, RandomForest\", \"run_properties\": \"copy=True, feature_range=(0, 1\", \"primary_metric\": 0.89091005, \"best_metric\": 0.90493662}, {\"run_id\": \"AutoML_f42f2be7-4d76-46fd-ba79-2ec7ee0d470f_17\", \"run_number\": 22, \"metric\": null, \"status\": \"Completed\", \"run_type\": \"azureml.scriptrun\", \"training_percent\": \"100\", \"start_time\": \"2021-02-01T14:00:27.946547Z\", \"end_time\": \"2021-02-01T14:01:26.26941Z\", \"created_time\": \"2021-02-01T13:59:55.596642Z\", \"created_time_dt\": \"2021-02-01T13:59:55.596642Z\", \"duration\": \"0:01:30\", \"iteration\": \"17\", \"goal\": \"AUC_weighted_max\", \"run_name\": \"MinMaxScaler, ExtremeRandomTrees\", \"run_properties\": \"copy=True, feature_range=(0, 1\", \"primary_metric\": 0.82251737, \"best_metric\": 0.90493662}, {\"run_id\": \"AutoML_f42f2be7-4d76-46fd-ba79-2ec7ee0d470f_18\", \"run_number\": 23, \"metric\": null, \"status\": \"Completed\", \"run_type\": \"azureml.scriptrun\", \"training_percent\": \"100\", \"start_time\": \"2021-02-01T14:00:43.805953Z\", \"end_time\": \"2021-02-01T14:01:37.632312Z\", \"created_time\": \"2021-02-01T14:00:25.756025Z\", \"created_time_dt\": \"2021-02-01T14:00:25.756025Z\", \"duration\": \"0:01:11\", \"iteration\": \"18\", \"goal\": \"AUC_weighted_max\", \"run_name\": \"MaxAbsScaler, RandomForest\", \"run_properties\": \"copy=True\", \"primary_metric\": 0.88136736, \"best_metric\": 0.90493662}, {\"run_id\": \"AutoML_f42f2be7-4d76-46fd-ba79-2ec7ee0d470f_19\", \"run_number\": 24, \"metric\": null, \"status\": \"Completed\", \"run_type\": \"azureml.scriptrun\", \"training_percent\": \"100\", \"start_time\": \"2021-02-01T14:00:55.145428Z\", \"end_time\": \"2021-02-01T14:01:50.813333Z\", \"created_time\": \"2021-02-01T14:00:43.507142Z\", \"created_time_dt\": \"2021-02-01T14:00:43.507142Z\", \"duration\": \"0:01:07\", \"iteration\": \"19\", \"goal\": \"AUC_weighted_max\", \"run_name\": \"StandardScalerWrapper, XGBoostClassifier\", \"run_properties\": \"<azureml.automl.runtime.shared.model_wrappers.StandardScalerWrapper object at 0x7fd246ac8fd0\", \"primary_metric\": 0.90756635, \"best_metric\": 0.90756635}, {\"run_id\": \"AutoML_f42f2be7-4d76-46fd-ba79-2ec7ee0d470f_20\", \"run_number\": 25, \"metric\": null, \"status\": \"Completed\", \"run_type\": \"azureml.scriptrun\", \"training_percent\": \"100\", \"start_time\": \"2021-02-01T14:01:00.690823Z\", \"end_time\": \"2021-02-01T14:02:00.935577Z\", \"created_time\": \"2021-02-01T14:00:48.545395Z\", \"created_time_dt\": \"2021-02-01T14:00:48.545395Z\", \"duration\": \"0:01:12\", \"iteration\": \"20\", \"goal\": \"AUC_weighted_max\", \"run_name\": \"MaxAbsScaler, RandomForest\", \"run_properties\": \"copy=True\", \"primary_metric\": 0.90208068, \"best_metric\": 0.90756635}, {\"run_id\": \"AutoML_f42f2be7-4d76-46fd-ba79-2ec7ee0d470f_21\", \"run_number\": 26, \"metric\": null, \"status\": \"Completed\", \"run_type\": \"azureml.scriptrun\", \"training_percent\": \"100\", \"start_time\": \"2021-02-01T14:01:30.557762Z\", \"end_time\": \"2021-02-01T14:02:24.194038Z\", \"created_time\": \"2021-02-01T14:01:00.40333Z\", \"created_time_dt\": \"2021-02-01T14:01:00.40333Z\", \"duration\": \"0:01:23\", \"iteration\": \"21\", \"goal\": \"AUC_weighted_max\", \"run_name\": \"MaxAbsScaler, ExtremeRandomTrees\", \"run_properties\": \"copy=True\", \"primary_metric\": 0.84894557, \"best_metric\": 0.90756635}, {\"run_id\": \"AutoML_f42f2be7-4d76-46fd-ba79-2ec7ee0d470f_22\", \"run_number\": 27, \"metric\": null, \"status\": \"Completed\", \"run_type\": \"azureml.scriptrun\", \"training_percent\": \"100\", \"start_time\": \"2021-02-01T14:01:42.190567Z\", \"end_time\": \"2021-02-01T14:02:34.217927Z\", \"created_time\": \"2021-02-01T14:01:29.240847Z\", \"created_time_dt\": \"2021-02-01T14:01:29.240847Z\", \"duration\": \"0:01:04\", \"iteration\": \"22\", \"goal\": \"AUC_weighted_max\", \"run_name\": \"MaxAbsScaler, ExtremeRandomTrees\", \"run_properties\": \"copy=True\", \"primary_metric\": 0.8578693, \"best_metric\": 0.90756635}, {\"run_id\": \"AutoML_f42f2be7-4d76-46fd-ba79-2ec7ee0d470f_23\", \"run_number\": 28, \"metric\": null, \"status\": \"Completed\", \"run_type\": \"azureml.scriptrun\", \"training_percent\": \"100\", \"start_time\": \"2021-02-01T14:01:53.742087Z\", \"end_time\": \"2021-02-01T14:02:47.883999Z\", \"created_time\": \"2021-02-01T14:01:41.330443Z\", \"created_time_dt\": \"2021-02-01T14:01:41.330443Z\", \"duration\": \"0:01:06\", \"iteration\": \"23\", \"goal\": \"AUC_weighted_max\", \"run_name\": \"MinMaxScaler, RandomForest\", \"run_properties\": \"copy=True, feature_range=(0, 1\", \"primary_metric\": 0.90985045, \"best_metric\": 0.90985045}, {\"run_id\": \"AutoML_f42f2be7-4d76-46fd-ba79-2ec7ee0d470f_24\", \"run_number\": 29, \"metric\": null, \"status\": \"Completed\", \"run_type\": \"azureml.scriptrun\", \"training_percent\": \"100\", \"start_time\": \"2021-02-01T14:02:06.338939Z\", \"end_time\": \"2021-02-01T14:02:59.806922Z\", \"created_time\": \"2021-02-01T14:01:54.581197Z\", \"created_time_dt\": \"2021-02-01T14:01:54.581197Z\", \"duration\": \"0:01:05\", \"iteration\": \"24\", \"goal\": \"AUC_weighted_max\", \"run_name\": \"StandardScalerWrapper, XGBoostClassifier\", \"run_properties\": \"<azureml.automl.runtime.shared.model_wrappers.StandardScalerWrapper object at 0x7f5580b22cc0\", \"primary_metric\": 0.90359607, \"best_metric\": 0.90985045}, {\"run_id\": \"AutoML_f42f2be7-4d76-46fd-ba79-2ec7ee0d470f_25\", \"run_number\": 30, \"metric\": null, \"status\": \"Completed\", \"run_type\": \"azureml.scriptrun\", \"training_percent\": \"100\", \"start_time\": \"2021-02-01T14:02:27.256047Z\", \"end_time\": \"2021-02-01T14:03:18.093414Z\", \"created_time\": \"2021-02-01T14:02:04.696382Z\", \"created_time_dt\": \"2021-02-01T14:02:04.696382Z\", \"duration\": \"0:01:13\", \"iteration\": \"25\", \"goal\": \"AUC_weighted_max\", \"run_name\": \"StandardScalerWrapper, XGBoostClassifier\", \"run_properties\": \"<azureml.automl.runtime.shared.model_wrappers.StandardScalerWrapper object at 0x7f46c27249e8\", \"primary_metric\": 0.91398313, \"best_metric\": 0.91398313}, {\"run_id\": \"AutoML_f42f2be7-4d76-46fd-ba79-2ec7ee0d470f_26\", \"run_number\": 31, \"metric\": null, \"status\": \"Completed\", \"run_type\": \"azureml.scriptrun\", \"training_percent\": \"100\", \"start_time\": \"2021-02-01T14:02:40.045715Z\", \"end_time\": \"2021-02-01T14:03:34.447749Z\", \"created_time\": \"2021-02-01T14:02:27.026286Z\", \"created_time_dt\": \"2021-02-01T14:02:27.026286Z\", \"duration\": \"0:01:07\", \"iteration\": \"26\", \"goal\": \"AUC_weighted_max\", \"run_name\": \"MaxAbsScaler, ExtremeRandomTrees\", \"run_properties\": \"copy=True\", \"primary_metric\": 0.89815476, \"best_metric\": 0.91398313}, {\"run_id\": \"AutoML_f42f2be7-4d76-46fd-ba79-2ec7ee0d470f_27\", \"run_number\": 32, \"metric\": null, \"status\": \"Completed\", \"run_type\": \"azureml.scriptrun\", \"training_percent\": \"100\", \"start_time\": \"2021-02-01T14:02:51.561359Z\", \"end_time\": \"2021-02-01T14:03:41.776903Z\", \"created_time\": \"2021-02-01T14:02:35.850825Z\", \"created_time_dt\": \"2021-02-01T14:02:35.850825Z\", \"duration\": \"0:01:05\", \"iteration\": \"27\", \"goal\": \"AUC_weighted_max\", \"run_name\": \"MinMaxScaler, ExtremeRandomTrees\", \"run_properties\": \"copy=True, feature_range=(0, 1\", \"primary_metric\": 0.89693549, \"best_metric\": 0.91398313}, {\"run_id\": \"AutoML_f42f2be7-4d76-46fd-ba79-2ec7ee0d470f_28\", \"run_number\": 33, \"metric\": null, \"status\": \"Completed\", \"run_type\": \"azureml.scriptrun\", \"training_percent\": \"100\", \"start_time\": \"2021-02-01T14:03:04.599244Z\", \"end_time\": \"2021-02-01T14:04:01.748862Z\", \"created_time\": \"2021-02-01T14:02:50.163576Z\", \"created_time_dt\": \"2021-02-01T14:02:50.163576Z\", \"duration\": \"0:01:11\", \"iteration\": \"28\", \"goal\": \"AUC_weighted_max\", \"run_name\": \"MaxAbsScaler, ExtremeRandomTrees\", \"run_properties\": \"copy=True\", \"primary_metric\": 0.89432918, \"best_metric\": 0.91398313}, {\"run_id\": \"AutoML_f42f2be7-4d76-46fd-ba79-2ec7ee0d470f_29\", \"run_number\": 34, \"metric\": null, \"status\": \"Completed\", \"run_type\": \"azureml.scriptrun\", \"training_percent\": \"100\", \"start_time\": \"2021-02-01T14:03:25.181442Z\", \"end_time\": \"2021-02-01T14:04:16.534895Z\", \"created_time\": \"2021-02-01T14:03:02.966032Z\", \"created_time_dt\": \"2021-02-01T14:03:02.966032Z\", \"duration\": \"0:01:13\", \"iteration\": \"29\", \"goal\": \"AUC_weighted_max\", \"run_name\": \"MaxAbsScaler, LightGBM\", \"run_properties\": \"copy=True\", \"primary_metric\": 0.86239636, \"best_metric\": 0.91398313}, {\"run_id\": \"AutoML_f42f2be7-4d76-46fd-ba79-2ec7ee0d470f_30\", \"run_number\": 35, \"metric\": null, \"status\": \"Completed\", \"run_type\": \"azureml.scriptrun\", \"training_percent\": \"100\", \"start_time\": \"2021-02-01T14:03:39.532113Z\", \"end_time\": \"2021-02-01T14:04:36.463463Z\", \"created_time\": \"2021-02-01T14:03:20.888603Z\", \"created_time_dt\": \"2021-02-01T14:03:20.888603Z\", \"duration\": \"0:01:15\", \"iteration\": \"30\", \"goal\": \"AUC_weighted_max\", \"run_name\": \"TruncatedSVDWrapper, XGBoostClassifier\", \"run_properties\": \"n_components=0.10894736842105263, random_state=None\", \"primary_metric\": 0.45144846, \"best_metric\": 0.91398313}, {\"run_id\": \"AutoML_f42f2be7-4d76-46fd-ba79-2ec7ee0d470f_31\", \"run_number\": 36, \"metric\": null, \"status\": \"Completed\", \"run_type\": \"azureml.scriptrun\", \"training_percent\": \"100\", \"start_time\": \"2021-02-01T14:03:50.000698Z\", \"end_time\": \"2021-02-01T14:04:46.607714Z\", \"created_time\": \"2021-02-01T14:03:36.870582Z\", \"created_time_dt\": \"2021-02-01T14:03:36.870582Z\", \"duration\": \"0:01:09\", \"iteration\": \"31\", \"goal\": \"AUC_weighted_max\", \"run_name\": \"RobustScaler, LightGBM\", \"run_properties\": \"copy=True, quantile_range=[10, 90], with_centering=True,\\n             with_scaling=True\", \"primary_metric\": 0.90323466, \"best_metric\": 0.91398313}, {\"run_id\": \"AutoML_f42f2be7-4d76-46fd-ba79-2ec7ee0d470f_32\", \"run_number\": 37, \"metric\": null, \"status\": \"Completed\", \"run_type\": \"azureml.scriptrun\", \"training_percent\": \"100\", \"start_time\": \"2021-02-01T14:04:03.401418Z\", \"end_time\": \"2021-02-01T14:04:56.710217Z\", \"created_time\": \"2021-02-01T14:03:46.005935Z\", \"created_time_dt\": \"2021-02-01T14:03:46.005935Z\", \"duration\": \"0:01:10\", \"iteration\": \"32\", \"goal\": \"AUC_weighted_max\", \"run_name\": \"MinMaxScaler, GradientBoosting\", \"run_properties\": \"copy=True, feature_range=(0, 1\", \"primary_metric\": 0.91174019, \"best_metric\": 0.91398313}, {\"run_id\": \"AutoML_f42f2be7-4d76-46fd-ba79-2ec7ee0d470f_33\", \"run_number\": 38, \"metric\": null, \"status\": \"Completed\", \"run_type\": \"azureml.scriptrun\", \"training_percent\": \"100\", \"start_time\": \"2021-02-01T14:04:20.511977Z\", \"end_time\": \"2021-02-01T14:05:15.006054Z\", \"created_time\": \"2021-02-01T14:04:03.254115Z\", \"created_time_dt\": \"2021-02-01T14:04:03.254115Z\", \"duration\": \"0:01:11\", \"iteration\": \"33\", \"goal\": \"AUC_weighted_max\", \"run_name\": \"RobustScaler, RandomForest\", \"run_properties\": \"copy=True, quantile_range=[25, 75], with_centering=True,\\n             with_scaling=False\", \"primary_metric\": 0.91819871, \"best_metric\": 0.91819871}, {\"run_id\": \"AutoML_f42f2be7-4d76-46fd-ba79-2ec7ee0d470f_34\", \"run_number\": 39, \"metric\": null, \"status\": \"Completed\", \"run_type\": \"azureml.scriptrun\", \"training_percent\": \"100\", \"start_time\": \"2021-02-01T14:04:40.259192Z\", \"end_time\": \"2021-02-01T14:05:39.521942Z\", \"created_time\": \"2021-02-01T14:04:18.068062Z\", \"created_time_dt\": \"2021-02-01T14:04:18.068062Z\", \"duration\": \"0:01:21\", \"iteration\": \"34\", \"goal\": \"AUC_weighted_max\", \"run_name\": \"MaxAbsScaler, LightGBM\", \"run_properties\": \"copy=True\", \"primary_metric\": 0.89573104, \"best_metric\": 0.91819871}, {\"run_id\": \"AutoML_f42f2be7-4d76-46fd-ba79-2ec7ee0d470f_35\", \"run_number\": 40, \"metric\": null, \"status\": \"Completed\", \"run_type\": \"azureml.scriptrun\", \"training_percent\": \"100\", \"start_time\": \"2021-02-01T14:04:53.281715Z\", \"end_time\": \"2021-02-01T14:05:44.654036Z\", \"created_time\": \"2021-02-01T14:04:40.589653Z\", \"created_time_dt\": \"2021-02-01T14:04:40.589653Z\", \"duration\": \"0:01:04\", \"iteration\": \"35\", \"goal\": \"AUC_weighted_max\", \"run_name\": \"StandardScalerWrapper, XGBoostClassifier\", \"run_properties\": \"<azureml.automl.runtime.shared.model_wrappers.StandardScalerWrapper object at 0x7fe19ac3cdd8\", \"primary_metric\": 0.84744645, \"best_metric\": 0.91819871}, {\"run_id\": \"AutoML_f42f2be7-4d76-46fd-ba79-2ec7ee0d470f_36\", \"run_number\": 41, \"metric\": null, \"status\": \"Completed\", \"run_type\": \"azureml.scriptrun\", \"training_percent\": \"100\", \"start_time\": \"2021-02-01T14:05:02.667611Z\", \"end_time\": \"2021-02-01T14:05:48.933418Z\", \"created_time\": \"2021-02-01T14:04:48.484569Z\", \"created_time_dt\": \"2021-02-01T14:04:48.484569Z\", \"duration\": \"0:01:00\", \"iteration\": \"36\", \"goal\": \"AUC_weighted_max\", \"run_name\": \"RobustScaler, LightGBM\", \"run_properties\": \"copy=True, quantile_range=[25, 75], with_centering=False,\\n             with_scaling=True\", \"primary_metric\": 0.90152178, \"best_metric\": 0.91819871}, {\"run_id\": \"AutoML_f42f2be7-4d76-46fd-ba79-2ec7ee0d470f_37\", \"run_number\": 42, \"metric\": null, \"status\": \"Completed\", \"run_type\": \"azureml.scriptrun\", \"training_percent\": \"100\", \"start_time\": \"2021-02-01T14:05:20.68268Z\", \"end_time\": \"2021-02-01T14:06:19.534122Z\", \"created_time\": \"2021-02-01T14:04:58.847293Z\", \"created_time_dt\": \"2021-02-01T14:04:58.847293Z\", \"duration\": \"0:01:20\", \"iteration\": \"37\", \"goal\": \"AUC_weighted_max\", \"run_name\": \"MaxAbsScaler, ExtremeRandomTrees\", \"run_properties\": \"copy=True\", \"primary_metric\": 0.88243535, \"best_metric\": 0.91819871}, {\"run_id\": \"AutoML_f42f2be7-4d76-46fd-ba79-2ec7ee0d470f_38\", \"run_number\": 43, \"metric\": null, \"status\": \"Completed\", \"run_type\": \"azureml.scriptrun\", \"training_percent\": \"100\", \"start_time\": \"2021-02-01T14:05:43.337745Z\", \"end_time\": \"2021-02-01T14:06:37.712051Z\", \"created_time\": \"2021-02-01T14:05:17.456843Z\", \"created_time_dt\": \"2021-02-01T14:05:17.456843Z\", \"duration\": \"0:01:20\", \"iteration\": \"38\", \"goal\": \"AUC_weighted_max\", \"run_name\": \"MinMaxScaler, RandomForest\", \"run_properties\": \"copy=True, feature_range=(0, 1\", \"primary_metric\": 0.91316374, \"best_metric\": 0.91819871}, {\"run_id\": \"AutoML_f42f2be7-4d76-46fd-ba79-2ec7ee0d470f_39\", \"run_number\": 44, \"metric\": null, \"status\": \"Completed\", \"run_type\": \"azureml.scriptrun\", \"training_percent\": \"100\", \"start_time\": \"2021-02-01T14:05:51.129451Z\", \"end_time\": \"2021-02-01T14:06:43.146059Z\", \"created_time\": \"2021-02-01T14:05:41.478511Z\", \"created_time_dt\": \"2021-02-01T14:05:41.478511Z\", \"duration\": \"0:01:01\", \"iteration\": \"39\", \"goal\": \"AUC_weighted_max\", \"run_name\": \"RobustScaler, RandomForest\", \"run_properties\": \"copy=True, quantile_range=[10, 90], with_centering=True,\\n             with_scaling=True\", \"primary_metric\": 0.90694055, \"best_metric\": 0.91819871}, {\"run_id\": \"AutoML_f42f2be7-4d76-46fd-ba79-2ec7ee0d470f_40\", \"run_number\": 45, \"metric\": null, \"status\": \"Completed\", \"run_type\": \"azureml.scriptrun\", \"training_percent\": \"100\", \"start_time\": \"2021-02-01T14:05:58.157811Z\", \"end_time\": \"2021-02-01T14:06:51.891154Z\", \"created_time\": \"2021-02-01T14:05:47.501471Z\", \"created_time_dt\": \"2021-02-01T14:05:47.501471Z\", \"duration\": \"0:01:04\", \"iteration\": \"40\", \"goal\": \"AUC_weighted_max\", \"run_name\": \"StandardScalerWrapper, RandomForest\", \"run_properties\": \"<azureml.automl.runtime.shared.model_wrappers.StandardScalerWrapper object at 0x7f34b060c908\", \"primary_metric\": 0.88090434, \"best_metric\": 0.91819871}, {\"run_id\": \"AutoML_f42f2be7-4d76-46fd-ba79-2ec7ee0d470f_41\", \"run_number\": 46, \"metric\": null, \"status\": \"Completed\", \"run_type\": \"azureml.scriptrun\", \"training_percent\": \"100\", \"start_time\": \"2021-02-01T14:06:21.066293Z\", \"end_time\": \"2021-02-01T14:07:16.429528Z\", \"created_time\": \"2021-02-01T14:05:51.070902Z\", \"created_time_dt\": \"2021-02-01T14:05:51.070902Z\", \"duration\": \"0:01:25\", \"iteration\": \"41\", \"goal\": \"AUC_weighted_max\", \"run_name\": \"MaxAbsScaler, RandomForest\", \"run_properties\": \"copy=True\", \"primary_metric\": 0.90187408, \"best_metric\": 0.91819871}, {\"run_id\": \"AutoML_f42f2be7-4d76-46fd-ba79-2ec7ee0d470f_42\", \"run_number\": 47, \"metric\": null, \"status\": \"Completed\", \"run_type\": \"azureml.scriptrun\", \"training_percent\": \"100\", \"start_time\": \"2021-02-01T14:06:37.198128Z\", \"end_time\": \"2021-02-01T14:07:35.921517Z\", \"created_time\": \"2021-02-01T14:06:21.483793Z\", \"created_time_dt\": \"2021-02-01T14:06:21.483793Z\", \"duration\": \"0:01:14\", \"iteration\": \"42\", \"goal\": \"AUC_weighted_max\", \"run_name\": \"MaxAbsScaler, RandomForest\", \"run_properties\": \"copy=True\", \"primary_metric\": 0.9122024, \"best_metric\": 0.91819871}, {\"run_id\": \"AutoML_f42f2be7-4d76-46fd-ba79-2ec7ee0d470f_43\", \"run_number\": 48, \"metric\": null, \"status\": \"Completed\", \"run_type\": \"azureml.scriptrun\", \"training_percent\": \"100\", \"start_time\": \"2021-02-01T14:06:49.476475Z\", \"end_time\": \"2021-02-01T14:07:40.522758Z\", \"created_time\": \"2021-02-01T14:06:39.472668Z\", \"created_time_dt\": \"2021-02-01T14:06:39.472668Z\", \"duration\": \"0:01:01\", \"iteration\": \"43\", \"goal\": \"AUC_weighted_max\", \"run_name\": \"MaxAbsScaler, GradientBoosting\", \"run_properties\": \"copy=True\", \"primary_metric\": 0.91358649, \"best_metric\": 0.91819871}, {\"run_id\": \"AutoML_f42f2be7-4d76-46fd-ba79-2ec7ee0d470f_44\", \"run_number\": 49, \"metric\": null, \"status\": \"Completed\", \"run_type\": \"azureml.scriptrun\", \"training_percent\": \"100\", \"start_time\": \"2021-02-01T14:06:56.30116Z\", \"end_time\": \"2021-02-01T14:07:47.363251Z\", \"created_time\": \"2021-02-01T14:06:46.442651Z\", \"created_time_dt\": \"2021-02-01T14:06:46.442651Z\", \"duration\": \"0:01:00\", \"iteration\": \"44\", \"goal\": \"AUC_weighted_max\", \"run_name\": \"MinMaxScaler, GradientBoosting\", \"run_properties\": \"copy=True, feature_range=(0, 1\", \"primary_metric\": 0.89336344, \"best_metric\": 0.91819871}, {\"run_id\": \"AutoML_f42f2be7-4d76-46fd-ba79-2ec7ee0d470f_45\", \"run_number\": 50, \"metric\": null, \"status\": \"Completed\", \"run_type\": \"azureml.scriptrun\", \"training_percent\": \"100\", \"start_time\": \"2021-02-01T14:07:21.656458Z\", \"end_time\": \"2021-02-01T14:08:16.182133Z\", \"created_time\": \"2021-02-01T14:06:54.911182Z\", \"created_time_dt\": \"2021-02-01T14:06:54.911182Z\", \"duration\": \"0:01:21\", \"iteration\": \"45\", \"goal\": \"AUC_weighted_max\", \"run_name\": \"MaxAbsScaler, RandomForest\", \"run_properties\": \"copy=True\", \"primary_metric\": 0.88367232, \"best_metric\": 0.91819871}, {\"run_id\": \"AutoML_f42f2be7-4d76-46fd-ba79-2ec7ee0d470f_46\", \"run_number\": 51, \"metric\": null, \"status\": \"Completed\", \"run_type\": \"azureml.scriptrun\", \"training_percent\": \"100\", \"start_time\": \"2021-02-01T14:07:42.76477Z\", \"end_time\": \"2021-02-01T14:08:41.964014Z\", \"created_time\": \"2021-02-01T14:07:19.244911Z\", \"created_time_dt\": \"2021-02-01T14:07:19.244911Z\", \"duration\": \"0:01:22\", \"iteration\": \"46\", \"goal\": \"AUC_weighted_max\", \"run_name\": \"MaxAbsScaler, GradientBoosting\", \"run_properties\": \"copy=True\", \"primary_metric\": 0.90635783, \"best_metric\": 0.91819871}, {\"run_id\": \"AutoML_f42f2be7-4d76-46fd-ba79-2ec7ee0d470f_47\", \"run_number\": 52, \"metric\": null, \"status\": \"Completed\", \"run_type\": \"azureml.scriptrun\", \"training_percent\": \"100\", \"start_time\": \"2021-02-01T14:07:49.657563Z\", \"end_time\": \"2021-02-01T14:08:35.679131Z\", \"created_time\": \"2021-02-01T14:07:37.956204Z\", \"created_time_dt\": \"2021-02-01T14:07:37.956204Z\", \"duration\": \"0:00:57\", \"iteration\": \"47\", \"goal\": \"AUC_weighted_max\", \"run_name\": \"StandardScalerWrapper, XGBoostClassifier\", \"run_properties\": \"<azureml.automl.runtime.shared.model_wrappers.StandardScalerWrapper object at 0x7fe7c26b5128\", \"primary_metric\": 0.90362225, \"best_metric\": 0.91819871}, {\"run_id\": \"AutoML_f42f2be7-4d76-46fd-ba79-2ec7ee0d470f_48\", \"run_number\": 53, \"metric\": null, \"status\": \"Canceled\", \"run_type\": \"azureml.scriptrun\", \"training_percent\": \"100\", \"start_time\": \"2021-02-01T14:07:54.699946Z\", \"end_time\": \"2021-02-01T14:08:44.502777Z\", \"created_time\": \"2021-02-01T14:07:42.495663Z\", \"created_time_dt\": \"2021-02-01T14:07:42.495663Z\", \"duration\": \"0:01:02\", \"iteration\": \"48\", \"goal\": \"AUC_weighted_max\", \"run_name\": \"StandardScalerWrapper, RandomForest\", \"run_properties\": \"<azureml.automl.runtime.shared.model_wrappers.StandardScalerWrapper object at 0x7fb94dbccb38\", \"primary_metric\": 0.90754266, \"best_metric\": 0.91819871}, {\"run_id\": \"AutoML_f42f2be7-4d76-46fd-ba79-2ec7ee0d470f_49\", \"run_number\": 54, \"metric\": null, \"status\": \"Canceled\", \"run_type\": \"azureml.scriptrun\", \"training_percent\": \"100\", \"start_time\": \"2021-02-01T14:08:20.720684Z\", \"end_time\": \"2021-02-01T14:08:50.189137Z\", \"created_time\": \"2021-02-01T14:07:49.108646Z\", \"created_time_dt\": \"2021-02-01T14:07:49.108646Z\", \"duration\": \"0:01:01\", \"iteration\": \"49\", \"goal\": null, \"run_name\": \"StandardScalerWrapper, RandomForest\", \"run_properties\": null}, {\"run_id\": \"AutoML_f42f2be7-4d76-46fd-ba79-2ec7ee0d470f_50\", \"run_number\": 55, \"metric\": null, \"status\": \"Canceled\", \"run_type\": \"azureml.scriptrun\", \"training_percent\": \"100\", \"start_time\": \"2021-02-01T14:08:38.702078Z\", \"end_time\": \"2021-02-01T14:08:48.579379Z\", \"created_time\": \"2021-02-01T14:08:19.278524Z\", \"created_time_dt\": \"2021-02-01T14:08:19.278524Z\", \"duration\": \"0:00:29\", \"iteration\": \"50\", \"goal\": null, \"run_name\": \"Canceled\", \"run_properties\": null}, {\"run_id\": \"AutoML_f42f2be7-4d76-46fd-ba79-2ec7ee0d470f_51\", \"run_number\": 56, \"metric\": null, \"status\": \"Canceled\", \"run_type\": \"azureml.scriptrun\", \"training_percent\": \"100\", \"start_time\": \"2021-02-01T14:08:37.225221Z\", \"end_time\": \"2021-02-01T14:08:52.869204Z\", \"created_time\": \"2021-02-01T14:08:37.225221Z\", \"created_time_dt\": \"2021-02-01T14:08:37.225221Z\", \"duration\": \"0:00:15\", \"iteration\": \"51\", \"goal\": null, \"run_name\": \"Canceled\", \"run_properties\": null}, {\"run_id\": \"AutoML_f42f2be7-4d76-46fd-ba79-2ec7ee0d470f_52\", \"run_number\": 57, \"metric\": null, \"status\": \"Completed\", \"run_type\": \"azureml.scriptrun\", \"training_percent\": \"100\", \"start_time\": \"2021-02-01T14:09:03.934233Z\", \"end_time\": \"2021-02-01T14:10:57.535286Z\", \"created_time\": \"2021-02-01T14:08:53.56799Z\", \"created_time_dt\": \"2021-02-01T14:08:53.56799Z\", \"duration\": \"0:02:03\", \"iteration\": \"52\", \"goal\": \"AUC_weighted_max\", \"run_name\": \"VotingEnsemble\", \"run_properties\": \"classification_labels=None,\\n                              estimators=[('33',\\n                                           Pipeline(memory=None,\\n                                                    steps=[('robustscaler',\\n                                                            RobustScaler(copy=True,\\n                                                                         quantile_range=[25,\\n                                                                                         75],\\n                                                                         with_centering=True,\\n                                                                         with_scaling=False\", \"primary_metric\": 0.91914403, \"best_metric\": 0.91914403}, {\"run_id\": \"AutoML_f42f2be7-4d76-46fd-ba79-2ec7ee0d470f_53\", \"run_number\": 58, \"metric\": null, \"status\": \"Completed\", \"run_type\": \"azureml.scriptrun\", \"training_percent\": \"100\", \"start_time\": \"2021-02-01T14:09:08.6503Z\", \"end_time\": \"2021-02-01T14:11:11.828986Z\", \"created_time\": \"2021-02-01T14:08:53.630141Z\", \"created_time_dt\": \"2021-02-01T14:08:53.630141Z\", \"duration\": \"0:02:18\", \"iteration\": \"53\", \"goal\": \"AUC_weighted_max\", \"run_name\": \"StackEnsemble\", \"run_properties\": \"base_learners=[('33',\\n                                        Pipeline(memory=None,\\n                                                 steps=[('robustscaler',\\n                                                         RobustScaler(copy=True,\\n                                                                      quantile_range=[25,\\n                                                                                      75],\\n                                                                      with_centering=True,\\n                                                                      with_scaling=False\", \"primary_metric\": 0.91867082, \"best_metric\": 0.91914403}], \"children_metrics\": {\"categories\": [0], \"series\": {\"matthews_correlation\": [{\"categories\": [\"0\", \"1\", \"2\", \"3\", \"4\", \"5\", \"6\", \"7\", \"8\", \"9\", \"10\", \"11\", \"12\", \"13\", \"14\", \"15\", \"16\", \"17\", \"18\", \"19\", \"20\", \"21\", \"22\", \"23\", \"24\", \"25\", \"26\", \"27\", \"28\", \"29\", \"30\", \"31\", \"32\", \"33\", \"34\", \"35\", \"36\", \"37\", \"38\", \"39\", \"40\", \"41\", \"42\", \"43\", \"44\", \"45\", \"46\", \"47\", \"48\", \"52\", \"53\"], \"mode\": \"markers\", \"name\": \"matthews_correlation\", \"stepped\": false, \"type\": \"scatter\", \"data\": [0.5628617041183437, 0.6132552509330647, 0.5986568136991512, 0.47011718807448355, 0.6498338664985369, 0.6170519895447051, 0.5913459835486626, 0.6430469169974491, 0.491782434414076, 0.416717014557646, 0.432732020154081, 0.5648275583831069, 0.5937005015710592, 0.6019732997198831, 0.6465016712229498, 0.06532248141362067, 0.4504639530300526, 0.5126073382471448, 0.6083258868353754, 0.6170804711017206, 0.5991787337148302, 0.48324299267294296, 0.6348734019221067, 0.6299883129582575, 0.6296919455854827, 0.6438088778852267, 0.59669929879379, 0.6210557761161147, 0.583532522533263, 0.3286399120347744, -0.02634885138700737, 0.5979266412414492, 0.634823089648606, 0.6041193020701496, 0.5837298041707456, 0.6267715646238091, 0.6411078008947703, 0.6598586465875667, 0.5936026286365146, 0.578422604526127, 0.6178231972574668, 0.5973811349824919, 0.6401548028654834, 0.6410666815060801, 0.5662439507063036, 0.5446418509749145, 0.6412892462968547, 0.6413887166218087, 0.6077323612180103, 0.6390272274450925, 0.40315216130322373]}, {\"categories\": [\"0\", \"1\", \"2\", \"3\", \"4\", \"5\", \"6\", \"7\", \"8\", \"9\", \"10\", \"11\", \"12\", \"13\", \"14\", \"15\", \"16\", \"17\", \"18\", \"19\", \"20\", \"21\", \"22\", \"23\", \"24\", \"25\", \"26\", \"27\", \"28\", \"29\", \"30\", \"31\", \"32\", \"33\", \"34\", \"35\", \"36\", \"37\", \"38\", \"39\", \"40\", \"41\", \"42\", \"43\", \"44\", \"45\", \"46\", \"47\", \"48\", \"52\", \"53\"], \"mode\": \"lines\", \"name\": \"matthews_correlation_max\", \"stepped\": true, \"type\": \"scatter\", \"data\": [0.5628617041183437, 0.6132552509330647, 0.6132552509330647, 0.6132552509330647, 0.6498338664985369, 0.6498338664985369, 0.6498338664985369, 0.6498338664985369, 0.6498338664985369, 0.6498338664985369, 0.6498338664985369, 0.6498338664985369, 0.6498338664985369, 0.6498338664985369, 0.6498338664985369, 0.6498338664985369, 0.6498338664985369, 0.6498338664985369, 0.6498338664985369, 0.6498338664985369, 0.6498338664985369, 0.6498338664985369, 0.6498338664985369, 0.6498338664985369, 0.6498338664985369, 0.6498338664985369, 0.6498338664985369, 0.6498338664985369, 0.6498338664985369, 0.6498338664985369, 0.6498338664985369, 0.6498338664985369, 0.6498338664985369, 0.6498338664985369, 0.6498338664985369, 0.6498338664985369, 0.6498338664985369, 0.6598586465875667, 0.6598586465875667, 0.6598586465875667, 0.6598586465875667, 0.6598586465875667, 0.6598586465875667, 0.6598586465875667, 0.6598586465875667, 0.6598586465875667, 0.6598586465875667, 0.6598586465875667, 0.6598586465875667, 0.6598586465875667, 0.6598586465875667]}], \"average_precision_score_weighted\": [{\"categories\": [\"0\", \"1\", \"2\", \"3\", \"4\", \"5\", \"6\", \"7\", \"8\", \"9\", \"10\", \"11\", \"12\", \"13\", \"14\", \"15\", \"16\", \"17\", \"18\", \"19\", \"20\", \"21\", \"22\", \"23\", \"24\", \"25\", \"26\", \"27\", \"28\", \"29\", \"30\", \"31\", \"32\", \"33\", \"34\", \"35\", \"36\", \"37\", \"38\", \"39\", \"40\", \"41\", \"42\", \"43\", \"44\", \"45\", \"46\", \"47\", \"48\", \"52\", \"53\"], \"mode\": \"markers\", \"name\": \"average_precision_score_weighted\", \"stepped\": false, \"type\": \"scatter\", \"data\": [0.8955370396295249, 0.9103506263314479, 0.9186458787235345, 0.8834201761709581, 0.9091933366021765, 0.9117705433764385, 0.9038258705882758, 0.901249398494679, 0.8955313968209044, 0.7862334416854537, 0.880516886296396, 0.8951561098427925, 0.9164322072584936, 0.8897022761346192, 0.906330290229239, 0.6031702289152213, 0.8975853189301854, 0.8488137162386774, 0.8969365196060954, 0.9178268415672477, 0.9121541729384617, 0.8598372171003525, 0.880273468336721, 0.9229633787327188, 0.9215173333675892, 0.9270755640436903, 0.9127122636804128, 0.909098708596573, 0.9104674056959297, 0.8792745373542197, 0.5660170969874283, 0.911127181196848, 0.9249947933993455, 0.9308884331348622, 0.9120888613523197, 0.8509397802624086, 0.9169204735973426, 0.8975107577573557, 0.9263080223924846, 0.9189400772973441, 0.8959723298815586, 0.915963770916781, 0.9243575042500932, 0.9279592202909397, 0.909980678262472, 0.8992187934325877, 0.9181330590906999, 0.9124437134584739, 0.9205005835987171, 0.9314415655557775, 0.9309464600123624]}, {\"categories\": [\"0\", \"1\", \"2\", \"3\", \"4\", \"5\", \"6\", \"7\", \"8\", \"9\", \"10\", \"11\", \"12\", \"13\", \"14\", \"15\", \"16\", \"17\", \"18\", \"19\", \"20\", \"21\", \"22\", \"23\", \"24\", \"25\", \"26\", \"27\", \"28\", \"29\", \"30\", \"31\", \"32\", \"33\", \"34\", \"35\", \"36\", \"37\", \"38\", \"39\", \"40\", \"41\", \"42\", \"43\", \"44\", \"45\", \"46\", \"47\", \"48\", \"52\", \"53\"], \"mode\": \"lines\", \"name\": \"average_precision_score_weighted_max\", \"stepped\": true, \"type\": \"scatter\", \"data\": [0.8955370396295249, 0.9103506263314479, 0.9186458787235345, 0.9186458787235345, 0.9186458787235345, 0.9186458787235345, 0.9186458787235345, 0.9186458787235345, 0.9186458787235345, 0.9186458787235345, 0.9186458787235345, 0.9186458787235345, 0.9186458787235345, 0.9186458787235345, 0.9186458787235345, 0.9186458787235345, 0.9186458787235345, 0.9186458787235345, 0.9186458787235345, 0.9186458787235345, 0.9186458787235345, 0.9186458787235345, 0.9186458787235345, 0.9229633787327188, 0.9229633787327188, 0.9270755640436903, 0.9270755640436903, 0.9270755640436903, 0.9270755640436903, 0.9270755640436903, 0.9270755640436903, 0.9270755640436903, 0.9270755640436903, 0.9308884331348622, 0.9308884331348622, 0.9308884331348622, 0.9308884331348622, 0.9308884331348622, 0.9308884331348622, 0.9308884331348622, 0.9308884331348622, 0.9308884331348622, 0.9308884331348622, 0.9308884331348622, 0.9308884331348622, 0.9308884331348622, 0.9308884331348622, 0.9308884331348622, 0.9308884331348622, 0.9314415655557775, 0.9314415655557775]}], \"balanced_accuracy\": [{\"categories\": [\"0\", \"1\", \"2\", \"3\", \"4\", \"5\", \"6\", \"7\", \"8\", \"9\", \"10\", \"11\", \"12\", \"13\", \"14\", \"15\", \"16\", \"17\", \"18\", \"19\", \"20\", \"21\", \"22\", \"23\", \"24\", \"25\", \"26\", \"27\", \"28\", \"29\", \"30\", \"31\", \"32\", \"33\", \"34\", \"35\", \"36\", \"37\", \"38\", \"39\", \"40\", \"41\", \"42\", \"43\", \"44\", \"45\", \"46\", \"47\", \"48\", \"52\", \"53\"], \"mode\": \"markers\", \"name\": \"balanced_accuracy\", \"stepped\": false, \"type\": \"scatter\", \"data\": [0.7760209025470652, 0.8060125968992248, 0.8014887873754152, 0.6816625138427463, 0.8338060631229235, 0.7984101605758582, 0.7967310354374307, 0.7961011904761904, 0.6899404761904762, 0.6706803709856035, 0.6637458471760798, 0.7414797895902547, 0.8107281284606866, 0.7942095791805094, 0.8411870155038761, 0.5313406699889258, 0.6709440753045404, 0.7645549557032115, 0.8177263289036544, 0.807062569213732, 0.805030454042082, 0.7470757198228128, 0.8151024363233667, 0.8073941029900332, 0.8094476744186047, 0.820421511627907, 0.8047113787375414, 0.8063226744186046, 0.7979851882613511, 0.5898172757475082, 0.4989970930232558, 0.779358388704319, 0.8127512458471762, 0.8146310908084164, 0.7880959302325582, 0.7935845791805094, 0.8125768272425249, 0.799970238095238, 0.8070715669988925, 0.810515642303433, 0.791501245847176, 0.814172203765227, 0.808469684385382, 0.8176363510520487, 0.7677214839424142, 0.7876114341085272, 0.8160333610188261, 0.8202429401993354, 0.8173989479512734, 0.8188821982281285, 0.6879166666666666]}, {\"categories\": [\"0\", \"1\", \"2\", \"3\", \"4\", \"5\", \"6\", \"7\", \"8\", \"9\", \"10\", \"11\", \"12\", \"13\", \"14\", \"15\", \"16\", \"17\", \"18\", \"19\", \"20\", \"21\", \"22\", \"23\", \"24\", \"25\", \"26\", \"27\", \"28\", \"29\", \"30\", \"31\", \"32\", \"33\", \"34\", \"35\", \"36\", \"37\", \"38\", \"39\", \"40\", \"41\", \"42\", \"43\", \"44\", \"45\", \"46\", \"47\", \"48\", \"52\", \"53\"], \"mode\": \"lines\", \"name\": \"balanced_accuracy_max\", \"stepped\": true, \"type\": \"scatter\", \"data\": [0.7760209025470652, 0.8060125968992248, 0.8060125968992248, 0.8060125968992248, 0.8338060631229235, 0.8338060631229235, 0.8338060631229235, 0.8338060631229235, 0.8338060631229235, 0.8338060631229235, 0.8338060631229235, 0.8338060631229235, 0.8338060631229235, 0.8338060631229235, 0.8411870155038761, 0.8411870155038761, 0.8411870155038761, 0.8411870155038761, 0.8411870155038761, 0.8411870155038761, 0.8411870155038761, 0.8411870155038761, 0.8411870155038761, 0.8411870155038761, 0.8411870155038761, 0.8411870155038761, 0.8411870155038761, 0.8411870155038761, 0.8411870155038761, 0.8411870155038761, 0.8411870155038761, 0.8411870155038761, 0.8411870155038761, 0.8411870155038761, 0.8411870155038761, 0.8411870155038761, 0.8411870155038761, 0.8411870155038761, 0.8411870155038761, 0.8411870155038761, 0.8411870155038761, 0.8411870155038761, 0.8411870155038761, 0.8411870155038761, 0.8411870155038761, 0.8411870155038761, 0.8411870155038761, 0.8411870155038761, 0.8411870155038761, 0.8411870155038761, 0.8411870155038761]}], \"AUC_weighted\": [{\"categories\": [\"0\", \"1\", \"2\", \"3\", \"4\", \"5\", \"6\", \"7\", \"8\", \"9\", \"10\", \"11\", \"12\", \"13\", \"14\", \"15\", \"16\", \"17\", \"18\", \"19\", \"20\", \"21\", \"22\", \"23\", \"24\", \"25\", \"26\", \"27\", \"28\", \"29\", \"30\", \"31\", \"32\", \"33\", \"34\", \"35\", \"36\", \"37\", \"38\", \"39\", \"40\", \"41\", \"42\", \"43\", \"44\", \"45\", \"46\", \"47\", \"48\", \"52\", \"53\"], \"mode\": \"markers\", \"name\": \"AUC_weighted\", \"stepped\": false, \"type\": \"scatter\", \"data\": [0.8811331210778885, 0.8929591177556293, 0.9049366232927278, 0.8683963639719451, 0.9030990909929864, 0.8975510566629753, 0.8874439484126985, 0.8792700719822812, 0.8852448089700996, 0.7514726836471023, 0.8623886351052048, 0.8781198551125877, 0.8990335917312662, 0.8712861526393503, 0.902094199889258, 0.48227655500184563, 0.8909100452196382, 0.8225173726467332, 0.8813673634182354, 0.9075663528977482, 0.9020806801402731, 0.8489455749354005, 0.8578693014027318, 0.9098504521963825, 0.9035960686600222, 0.9139831349206349, 0.8981547619047617, 0.8969354928017719, 0.894329180509413, 0.8623963639719452, 0.4514484588409006, 0.903234657622739, 0.9117401947212993, 0.9181987126245845, 0.8957310354374307, 0.8474464516426726, 0.9015217792543373, 0.882435354374308, 0.9131637366186786, 0.9069405454042082, 0.880904335086748, 0.9018740771502399, 0.912202404023625, 0.9135864940937616, 0.8933634413067552, 0.883672319121447, 0.9063578349944628, 0.9036222545219639, 0.9075426587301589, 0.9191440337763013, 0.9186708194905868]}, {\"categories\": [\"0\", \"1\", \"2\", \"3\", \"4\", \"5\", \"6\", \"7\", \"8\", \"9\", \"10\", \"11\", \"12\", \"13\", \"14\", \"15\", \"16\", \"17\", \"18\", \"19\", \"20\", \"21\", \"22\", \"23\", \"24\", \"25\", \"26\", \"27\", \"28\", \"29\", \"30\", \"31\", \"32\", \"33\", \"34\", \"35\", \"36\", \"37\", \"38\", \"39\", \"40\", \"41\", \"42\", \"43\", \"44\", \"45\", \"46\", \"47\", \"48\", \"52\", \"53\"], \"mode\": \"lines\", \"name\": \"AUC_weighted_max\", \"stepped\": true, \"type\": \"scatter\", \"data\": [0.8811331210778885, 0.8929591177556293, 0.9049366232927278, 0.9049366232927278, 0.9049366232927278, 0.9049366232927278, 0.9049366232927278, 0.9049366232927278, 0.9049366232927278, 0.9049366232927278, 0.9049366232927278, 0.9049366232927278, 0.9049366232927278, 0.9049366232927278, 0.9049366232927278, 0.9049366232927278, 0.9049366232927278, 0.9049366232927278, 0.9049366232927278, 0.9075663528977482, 0.9075663528977482, 0.9075663528977482, 0.9075663528977482, 0.9098504521963825, 0.9098504521963825, 0.9139831349206349, 0.9139831349206349, 0.9139831349206349, 0.9139831349206349, 0.9139831349206349, 0.9139831349206349, 0.9139831349206349, 0.9139831349206349, 0.9181987126245845, 0.9181987126245845, 0.9181987126245845, 0.9181987126245845, 0.9181987126245845, 0.9181987126245845, 0.9181987126245845, 0.9181987126245845, 0.9181987126245845, 0.9181987126245845, 0.9181987126245845, 0.9181987126245845, 0.9181987126245845, 0.9181987126245845, 0.9181987126245845, 0.9181987126245845, 0.9191440337763013, 0.9191440337763013]}], \"recall_score_macro\": [{\"categories\": [\"0\", \"1\", \"2\", \"3\", \"4\", \"5\", \"6\", \"7\", \"8\", \"9\", \"10\", \"11\", \"12\", \"13\", \"14\", \"15\", \"16\", \"17\", \"18\", \"19\", \"20\", \"21\", \"22\", \"23\", \"24\", \"25\", \"26\", \"27\", \"28\", \"29\", \"30\", \"31\", \"32\", \"33\", \"34\", \"35\", \"36\", \"37\", \"38\", \"39\", \"40\", \"41\", \"42\", \"43\", \"44\", \"45\", \"46\", \"47\", \"48\", \"52\", \"53\"], \"mode\": \"markers\", \"name\": \"recall_score_macro\", \"stepped\": false, \"type\": \"scatter\", \"data\": [0.7760209025470652, 0.8060125968992248, 0.8014887873754152, 0.6816625138427463, 0.8338060631229235, 0.7984101605758582, 0.7967310354374307, 0.7961011904761904, 0.6899404761904762, 0.6706803709856035, 0.6637458471760798, 0.7414797895902547, 0.8107281284606866, 0.7942095791805094, 0.8411870155038761, 0.5313406699889258, 0.6709440753045404, 0.7645549557032115, 0.8177263289036544, 0.807062569213732, 0.805030454042082, 0.7470757198228128, 0.8151024363233667, 0.8073941029900332, 0.8094476744186047, 0.820421511627907, 0.8047113787375414, 0.8063226744186046, 0.7979851882613511, 0.5898172757475082, 0.4989970930232558, 0.779358388704319, 0.8127512458471762, 0.8146310908084164, 0.7880959302325582, 0.7935845791805094, 0.8125768272425249, 0.799970238095238, 0.8070715669988925, 0.810515642303433, 0.791501245847176, 0.814172203765227, 0.808469684385382, 0.8176363510520487, 0.7677214839424142, 0.7876114341085272, 0.8160333610188261, 0.8202429401993354, 0.8173989479512734, 0.8188821982281285, 0.6879166666666666]}, {\"categories\": [\"0\", \"1\", \"2\", \"3\", \"4\", \"5\", \"6\", \"7\", \"8\", \"9\", \"10\", \"11\", \"12\", \"13\", \"14\", \"15\", \"16\", \"17\", \"18\", \"19\", \"20\", \"21\", \"22\", \"23\", \"24\", \"25\", \"26\", \"27\", \"28\", \"29\", \"30\", \"31\", \"32\", \"33\", \"34\", \"35\", \"36\", \"37\", \"38\", \"39\", \"40\", \"41\", \"42\", \"43\", \"44\", \"45\", \"46\", \"47\", \"48\", \"52\", \"53\"], \"mode\": \"lines\", \"name\": \"recall_score_macro_max\", \"stepped\": true, \"type\": \"scatter\", \"data\": [0.7760209025470652, 0.8060125968992248, 0.8060125968992248, 0.8060125968992248, 0.8338060631229235, 0.8338060631229235, 0.8338060631229235, 0.8338060631229235, 0.8338060631229235, 0.8338060631229235, 0.8338060631229235, 0.8338060631229235, 0.8338060631229235, 0.8338060631229235, 0.8411870155038761, 0.8411870155038761, 0.8411870155038761, 0.8411870155038761, 0.8411870155038761, 0.8411870155038761, 0.8411870155038761, 0.8411870155038761, 0.8411870155038761, 0.8411870155038761, 0.8411870155038761, 0.8411870155038761, 0.8411870155038761, 0.8411870155038761, 0.8411870155038761, 0.8411870155038761, 0.8411870155038761, 0.8411870155038761, 0.8411870155038761, 0.8411870155038761, 0.8411870155038761, 0.8411870155038761, 0.8411870155038761, 0.8411870155038761, 0.8411870155038761, 0.8411870155038761, 0.8411870155038761, 0.8411870155038761, 0.8411870155038761, 0.8411870155038761, 0.8411870155038761, 0.8411870155038761, 0.8411870155038761, 0.8411870155038761, 0.8411870155038761, 0.8411870155038761, 0.8411870155038761]}], \"AUC_micro\": [{\"categories\": [\"0\", \"1\", \"2\", \"3\", \"4\", \"5\", \"6\", \"7\", \"8\", \"9\", \"10\", \"11\", \"12\", \"13\", \"14\", \"15\", \"16\", \"17\", \"18\", \"19\", \"20\", \"21\", \"22\", \"23\", \"24\", \"25\", \"26\", \"27\", \"28\", \"29\", \"30\", \"31\", \"32\", \"33\", \"34\", \"35\", \"36\", \"37\", \"38\", \"39\", \"40\", \"41\", \"42\", \"43\", \"44\", \"45\", \"46\", \"47\", \"48\", \"52\", \"53\"], \"mode\": \"markers\", \"name\": \"AUC_micro\", \"stepped\": false, \"type\": \"scatter\", \"data\": [0.8880105014523284, 0.8999905678444892, 0.9097640684349964, 0.868090283762648, 0.9093547671486484, 0.9034292987328035, 0.8954288359028377, 0.8924349963292796, 0.8688490695521722, 0.8076344600849055, 0.8596420568802067, 0.8796871429027417, 0.9008842127102685, 0.8813148839733154, 0.9077768999968081, 0.6273795684509559, 0.8732218072712182, 0.8277447093747009, 0.8885470969389383, 0.9094226595167416, 0.9051092757509016, 0.8569815665996361, 0.880060375371062, 0.9150446870311851, 0.9121524785342654, 0.9168210443997573, 0.9070199974464555, 0.9072422196686775, 0.9008884739378852, 0.845036164575952, 0.6486079351399662, 0.8921643525168375, 0.9137901784289315, 0.9157645472246161, 0.9059326343004883, 0.8659630214816942, 0.907744118867503, 0.8909321555108685, 0.9122365380318553, 0.8972854543713492, 0.8921529732835392, 0.8979858278272527, 0.916792077627757, 0.9189198027386766, 0.89775313607201, 0.8751031312841138, 0.9100774522008364, 0.903873280347282, 0.9044630374413483, 0.922749816463979, 0.8785142998499792]}, {\"categories\": [\"0\", \"1\", \"2\", \"3\", \"4\", \"5\", \"6\", \"7\", \"8\", \"9\", \"10\", \"11\", \"12\", \"13\", \"14\", \"15\", \"16\", \"17\", \"18\", \"19\", \"20\", \"21\", \"22\", \"23\", \"24\", \"25\", \"26\", \"27\", \"28\", \"29\", \"30\", \"31\", \"32\", \"33\", \"34\", \"35\", \"36\", \"37\", \"38\", \"39\", \"40\", \"41\", \"42\", \"43\", \"44\", \"45\", \"46\", \"47\", \"48\", \"52\", \"53\"], \"mode\": \"lines\", \"name\": \"AUC_micro_max\", \"stepped\": true, \"type\": \"scatter\", \"data\": [0.8880105014523284, 0.8999905678444892, 0.9097640684349964, 0.9097640684349964, 0.9097640684349964, 0.9097640684349964, 0.9097640684349964, 0.9097640684349964, 0.9097640684349964, 0.9097640684349964, 0.9097640684349964, 0.9097640684349964, 0.9097640684349964, 0.9097640684349964, 0.9097640684349964, 0.9097640684349964, 0.9097640684349964, 0.9097640684349964, 0.9097640684349964, 0.9097640684349964, 0.9097640684349964, 0.9097640684349964, 0.9097640684349964, 0.9150446870311851, 0.9150446870311851, 0.9168210443997573, 0.9168210443997573, 0.9168210443997573, 0.9168210443997573, 0.9168210443997573, 0.9168210443997573, 0.9168210443997573, 0.9168210443997573, 0.9168210443997573, 0.9168210443997573, 0.9168210443997573, 0.9168210443997573, 0.9168210443997573, 0.9168210443997573, 0.9168210443997573, 0.9168210443997573, 0.9168210443997573, 0.9168210443997573, 0.9189198027386766, 0.9189198027386766, 0.9189198027386766, 0.9189198027386766, 0.9189198027386766, 0.9189198027386766, 0.922749816463979, 0.922749816463979]}], \"f1_score_weighted\": [{\"categories\": [\"0\", \"1\", \"2\", \"3\", \"4\", \"5\", \"6\", \"7\", \"8\", \"9\", \"10\", \"11\", \"12\", \"13\", \"14\", \"15\", \"16\", \"17\", \"18\", \"19\", \"20\", \"21\", \"22\", \"23\", \"24\", \"25\", \"26\", \"27\", \"28\", \"29\", \"30\", \"31\", \"32\", \"33\", \"34\", \"35\", \"36\", \"37\", \"38\", \"39\", \"40\", \"41\", \"42\", \"43\", \"44\", \"45\", \"46\", \"47\", \"48\", \"52\", \"53\"], \"mode\": \"markers\", \"name\": \"f1_score_weighted\", \"stepped\": false, \"type\": \"scatter\", \"data\": [0.8014398448329555, 0.8237396450256732, 0.8218620728022842, 0.7502540927840539, 0.8439201783741634, 0.828242452130928, 0.818397106531884, 0.8274237834518614, 0.7416798156714222, 0.7359836357954517, 0.7311712212771491, 0.7907535405981967, 0.8174901407212077, 0.8183010761922818, 0.8399703749268591, 0.5942320550697178, 0.7352162592352398, 0.7763085403049722, 0.8234443553559491, 0.8224246263079633, 0.8228363796166329, 0.7707535653232862, 0.8346418006534237, 0.8362735327648301, 0.8323497503013263, 0.8401675120223582, 0.8205118256215183, 0.8293962741985601, 0.8101456263736931, 0.6609045314570396, 0.5582044129416073, 0.8171078974593664, 0.8349621006512068, 0.8233095129116386, 0.8158437533542244, 0.8324762018575967, 0.8376911239742713, 0.8404426140033424, 0.8158236254893007, 0.8037160005969859, 0.8294192767119221, 0.8116313626976644, 0.8416917005616341, 0.8399269567034523, 0.8049498424034827, 0.7923776922987795, 0.8402776548820043, 0.8405287681429587, 0.8267766321333252, 0.8408120227175276, 0.7004585233559579]}, {\"categories\": [\"0\", \"1\", \"2\", \"3\", \"4\", \"5\", \"6\", \"7\", \"8\", \"9\", \"10\", \"11\", \"12\", \"13\", \"14\", \"15\", \"16\", \"17\", \"18\", \"19\", \"20\", \"21\", \"22\", \"23\", \"24\", \"25\", \"26\", \"27\", \"28\", \"29\", \"30\", \"31\", \"32\", \"33\", \"34\", \"35\", \"36\", \"37\", \"38\", \"39\", \"40\", \"41\", \"42\", \"43\", \"44\", \"45\", \"46\", \"47\", \"48\", \"52\", \"53\"], \"mode\": \"lines\", \"name\": \"f1_score_weighted_max\", \"stepped\": true, \"type\": \"scatter\", \"data\": [0.8014398448329555, 0.8237396450256732, 0.8237396450256732, 0.8237396450256732, 0.8439201783741634, 0.8439201783741634, 0.8439201783741634, 0.8439201783741634, 0.8439201783741634, 0.8439201783741634, 0.8439201783741634, 0.8439201783741634, 0.8439201783741634, 0.8439201783741634, 0.8439201783741634, 0.8439201783741634, 0.8439201783741634, 0.8439201783741634, 0.8439201783741634, 0.8439201783741634, 0.8439201783741634, 0.8439201783741634, 0.8439201783741634, 0.8439201783741634, 0.8439201783741634, 0.8439201783741634, 0.8439201783741634, 0.8439201783741634, 0.8439201783741634, 0.8439201783741634, 0.8439201783741634, 0.8439201783741634, 0.8439201783741634, 0.8439201783741634, 0.8439201783741634, 0.8439201783741634, 0.8439201783741634, 0.8439201783741634, 0.8439201783741634, 0.8439201783741634, 0.8439201783741634, 0.8439201783741634, 0.8439201783741634, 0.8439201783741634, 0.8439201783741634, 0.8439201783741634, 0.8439201783741634, 0.8439201783741634, 0.8439201783741634, 0.8439201783741634, 0.8439201783741634]}], \"average_precision_score_micro\": [{\"categories\": [\"0\", \"1\", \"2\", \"3\", \"4\", \"5\", \"6\", \"7\", \"8\", \"9\", \"10\", \"11\", \"12\", \"13\", \"14\", \"15\", \"16\", \"17\", \"18\", \"19\", \"20\", \"21\", \"22\", \"23\", \"24\", \"25\", \"26\", \"27\", \"28\", \"29\", \"30\", \"31\", \"32\", \"33\", \"34\", \"35\", \"36\", \"37\", \"38\", \"39\", \"40\", \"41\", \"42\", \"43\", \"44\", \"45\", \"46\", \"47\", \"48\", \"52\", \"53\"], \"mode\": \"markers\", \"name\": \"average_precision_score_micro\", \"stepped\": false, \"type\": \"scatter\", \"data\": [0.887958292631032, 0.9018582931163117, 0.9114458419867477, 0.8672388191347457, 0.909434208595511, 0.9067947166485446, 0.8988046526219844, 0.8941275421479888, 0.8740711219131267, 0.7923478012471382, 0.8609292694989843, 0.8797873786899071, 0.9047827225074407, 0.883455929784365, 0.8954347726031996, 0.6180888504381511, 0.8796211201470335, 0.8275985602353237, 0.8873139285489519, 0.9076275684514943, 0.9097801890739247, 0.8533827720725082, 0.8776484076748516, 0.9180287147630484, 0.9141969566526112, 0.9195837576222973, 0.9068754348041269, 0.9037921678346168, 0.8994891348293239, 0.8491889144935583, 0.6241048242657559, 0.89350105949264, 0.9164515494758799, 0.9189275653196075, 0.907845587628945, 0.8457339849657993, 0.9088911451239264, 0.8911683926040481, 0.9149778065470237, 0.9023391997220364, 0.8901714379079587, 0.8990043057893473, 0.9188832301889507, 0.9213053644730085, 0.8975564843249162, 0.8765414208447314, 0.9127629300211797, 0.9078180575592107, 0.906758448859366, 0.9255168039153006, 0.8902243744169936]}, {\"categories\": [\"0\", \"1\", \"2\", \"3\", \"4\", \"5\", \"6\", \"7\", \"8\", \"9\", \"10\", \"11\", \"12\", \"13\", \"14\", \"15\", \"16\", \"17\", \"18\", \"19\", \"20\", \"21\", \"22\", \"23\", \"24\", \"25\", \"26\", \"27\", \"28\", \"29\", \"30\", \"31\", \"32\", \"33\", \"34\", \"35\", \"36\", \"37\", \"38\", \"39\", \"40\", \"41\", \"42\", \"43\", \"44\", \"45\", \"46\", \"47\", \"48\", \"52\", \"53\"], \"mode\": \"lines\", \"name\": \"average_precision_score_micro_max\", \"stepped\": true, \"type\": \"scatter\", \"data\": [0.887958292631032, 0.9018582931163117, 0.9114458419867477, 0.9114458419867477, 0.9114458419867477, 0.9114458419867477, 0.9114458419867477, 0.9114458419867477, 0.9114458419867477, 0.9114458419867477, 0.9114458419867477, 0.9114458419867477, 0.9114458419867477, 0.9114458419867477, 0.9114458419867477, 0.9114458419867477, 0.9114458419867477, 0.9114458419867477, 0.9114458419867477, 0.9114458419867477, 0.9114458419867477, 0.9114458419867477, 0.9114458419867477, 0.9180287147630484, 0.9180287147630484, 0.9195837576222973, 0.9195837576222973, 0.9195837576222973, 0.9195837576222973, 0.9195837576222973, 0.9195837576222973, 0.9195837576222973, 0.9195837576222973, 0.9195837576222973, 0.9195837576222973, 0.9195837576222973, 0.9195837576222973, 0.9195837576222973, 0.9195837576222973, 0.9195837576222973, 0.9195837576222973, 0.9195837576222973, 0.9195837576222973, 0.9213053644730085, 0.9213053644730085, 0.9213053644730085, 0.9213053644730085, 0.9213053644730085, 0.9213053644730085, 0.9255168039153006, 0.9255168039153006]}], \"f1_score_macro\": [{\"categories\": [\"0\", \"1\", \"2\", \"3\", \"4\", \"5\", \"6\", \"7\", \"8\", \"9\", \"10\", \"11\", \"12\", \"13\", \"14\", \"15\", \"16\", \"17\", \"18\", \"19\", \"20\", \"21\", \"22\", \"23\", \"24\", \"25\", \"26\", \"27\", \"28\", \"29\", \"30\", \"31\", \"32\", \"33\", \"34\", \"35\", \"36\", \"37\", \"38\", \"39\", \"40\", \"41\", \"42\", \"43\", \"44\", \"45\", \"46\", \"47\", \"48\", \"52\", \"53\"], \"mode\": \"markers\", \"name\": \"f1_score_macro\", \"stepped\": false, \"type\": \"scatter\", \"data\": [0.7682096405971308, 0.7972526241921125, 0.7915354872844143, 0.6907598439965693, 0.8177998734908798, 0.7969825395269411, 0.7869557505988324, 0.798471625226967, 0.6855445545435677, 0.677864504364746, 0.6669005225761921, 0.7508856718390937, 0.7888146395850862, 0.7858167613018765, 0.8157603421181101, 0.5173668796330508, 0.6748017804762343, 0.7428060243849718, 0.7949488789089514, 0.7927862724365038, 0.7932568529085433, 0.7311338786545225, 0.805704699986129, 0.8070072174187841, 0.8030052930511274, 0.8129183401127984, 0.7896973170636, 0.8003230717874263, 0.7791024340845147, 0.5674249204820313, 0.43444817039697614, 0.7838481648071174, 0.8064034950176502, 0.7944082346965735, 0.7830473817043824, 0.80165282585139, 0.8091727125408392, 0.8116033862790761, 0.7876011009756846, 0.7751145813397725, 0.7972965954614303, 0.7844642768382365, 0.8115634043114299, 0.8108745024704278, 0.76814481621328, 0.7628559075722656, 0.811139358086041, 0.8122147171720201, 0.7973417475081765, 0.811481910615036, 0.6425224063677109]}, {\"categories\": [\"0\", \"1\", \"2\", \"3\", \"4\", \"5\", \"6\", \"7\", \"8\", \"9\", \"10\", \"11\", \"12\", \"13\", \"14\", \"15\", \"16\", \"17\", \"18\", \"19\", \"20\", \"21\", \"22\", \"23\", \"24\", \"25\", \"26\", \"27\", \"28\", \"29\", \"30\", \"31\", \"32\", \"33\", \"34\", \"35\", \"36\", \"37\", \"38\", \"39\", \"40\", \"41\", \"42\", \"43\", \"44\", \"45\", \"46\", \"47\", \"48\", \"52\", \"53\"], \"mode\": \"lines\", \"name\": \"f1_score_macro_max\", \"stepped\": true, \"type\": \"scatter\", \"data\": [0.7682096405971308, 0.7972526241921125, 0.7972526241921125, 0.7972526241921125, 0.8177998734908798, 0.8177998734908798, 0.8177998734908798, 0.8177998734908798, 0.8177998734908798, 0.8177998734908798, 0.8177998734908798, 0.8177998734908798, 0.8177998734908798, 0.8177998734908798, 0.8177998734908798, 0.8177998734908798, 0.8177998734908798, 0.8177998734908798, 0.8177998734908798, 0.8177998734908798, 0.8177998734908798, 0.8177998734908798, 0.8177998734908798, 0.8177998734908798, 0.8177998734908798, 0.8177998734908798, 0.8177998734908798, 0.8177998734908798, 0.8177998734908798, 0.8177998734908798, 0.8177998734908798, 0.8177998734908798, 0.8177998734908798, 0.8177998734908798, 0.8177998734908798, 0.8177998734908798, 0.8177998734908798, 0.8177998734908798, 0.8177998734908798, 0.8177998734908798, 0.8177998734908798, 0.8177998734908798, 0.8177998734908798, 0.8177998734908798, 0.8177998734908798, 0.8177998734908798, 0.8177998734908798, 0.8177998734908798, 0.8177998734908798, 0.8177998734908798, 0.8177998734908798]}], \"precision_score_macro\": [{\"categories\": [\"0\", \"1\", \"2\", \"3\", \"4\", \"5\", \"6\", \"7\", \"8\", \"9\", \"10\", \"11\", \"12\", \"13\", \"14\", \"15\", \"16\", \"17\", \"18\", \"19\", \"20\", \"21\", \"22\", \"23\", \"24\", \"25\", \"26\", \"27\", \"28\", \"29\", \"30\", \"31\", \"32\", \"33\", \"34\", \"35\", \"36\", \"37\", \"38\", \"39\", \"40\", \"41\", \"42\", \"43\", \"44\", \"45\", \"46\", \"47\", \"48\", \"52\", \"53\"], \"mode\": \"markers\", \"name\": \"precision_score_macro\", \"stepped\": false, \"type\": \"scatter\", \"data\": [0.7889041743265773, 0.8086642059265495, 0.7981561187825834, 0.8082931036468773, 0.8172910676899766, 0.8207003651011577, 0.7958371340704525, 0.8548644834477221, 0.8380324675324674, 0.7573881765399129, 0.791311771794965, 0.8343649878556075, 0.7839445204582113, 0.8109524825683231, 0.8068762788359232, 0.5343494917780632, 0.8022329180860766, 0.7503340738209159, 0.7922482801969806, 0.8134115884115884, 0.7950833899736848, 0.7378581255322082, 0.8218889342721178, 0.8236069653897695, 0.8223983419635594, 0.8247274696223661, 0.7935121934608939, 0.8163719010458141, 0.7877054885207059, 0.8093324350583879, 0.4385672512777372, 0.8215530604661041, 0.8239806341637006, 0.7907600206810732, 0.7969544827153523, 0.8352497657621882, 0.8306956487853805, 0.8662685219015144, 0.7877815354705786, 0.7704161439583435, 0.8283040329235982, 0.7845367965367965, 0.8330732481631753, 0.8252891315167352, 0.8017019749218693, 0.7587893310512053, 0.827406742325927, 0.8223206443315139, 0.7914105797257971, 0.8215112790935072, 0.6403995840760548]}, {\"categories\": [\"0\", \"1\", \"2\", \"3\", \"4\", \"5\", \"6\", \"7\", \"8\", \"9\", \"10\", \"11\", \"12\", \"13\", \"14\", \"15\", \"16\", \"17\", \"18\", \"19\", \"20\", \"21\", \"22\", \"23\", \"24\", \"25\", \"26\", \"27\", \"28\", \"29\", \"30\", \"31\", \"32\", \"33\", \"34\", \"35\", \"36\", \"37\", \"38\", \"39\", \"40\", \"41\", \"42\", \"43\", \"44\", \"45\", \"46\", \"47\", \"48\", \"52\", \"53\"], \"mode\": \"lines\", \"name\": \"precision_score_macro_max\", \"stepped\": true, \"type\": \"scatter\", \"data\": [0.7889041743265773, 0.8086642059265495, 0.8086642059265495, 0.8086642059265495, 0.8172910676899766, 0.8207003651011577, 0.8207003651011577, 0.8548644834477221, 0.8548644834477221, 0.8548644834477221, 0.8548644834477221, 0.8548644834477221, 0.8548644834477221, 0.8548644834477221, 0.8548644834477221, 0.8548644834477221, 0.8548644834477221, 0.8548644834477221, 0.8548644834477221, 0.8548644834477221, 0.8548644834477221, 0.8548644834477221, 0.8548644834477221, 0.8548644834477221, 0.8548644834477221, 0.8548644834477221, 0.8548644834477221, 0.8548644834477221, 0.8548644834477221, 0.8548644834477221, 0.8548644834477221, 0.8548644834477221, 0.8548644834477221, 0.8548644834477221, 0.8548644834477221, 0.8548644834477221, 0.8548644834477221, 0.8662685219015144, 0.8662685219015144, 0.8662685219015144, 0.8662685219015144, 0.8662685219015144, 0.8662685219015144, 0.8662685219015144, 0.8662685219015144, 0.8662685219015144, 0.8662685219015144, 0.8662685219015144, 0.8662685219015144, 0.8662685219015144, 0.8662685219015144]}], \"norm_macro_recall\": [{\"categories\": [\"0\", \"1\", \"2\", \"3\", \"4\", \"5\", \"6\", \"7\", \"8\", \"9\", \"10\", \"11\", \"12\", \"13\", \"14\", \"15\", \"16\", \"17\", \"18\", \"19\", \"20\", \"21\", \"22\", \"23\", \"24\", \"25\", \"26\", \"27\", \"28\", \"29\", \"30\", \"31\", \"32\", \"33\", \"34\", \"35\", \"36\", \"37\", \"38\", \"39\", \"40\", \"41\", \"42\", \"43\", \"44\", \"45\", \"46\", \"47\", \"48\", \"52\", \"53\"], \"mode\": \"markers\", \"name\": \"norm_macro_recall\", \"stepped\": false, \"type\": \"scatter\", \"data\": [0.5520418050941306, 0.6120251937984496, 0.6029775747508306, 0.36332502768549274, 0.6676121262458472, 0.5968203211517166, 0.5934620708748616, 0.592202380952381, 0.37988095238095243, 0.34136074197120714, 0.3274916943521594, 0.48295957918050936, 0.6214562569213732, 0.5884191583610188, 0.682374031007752, 0.07768133997785158, 0.3418881506090808, 0.529109911406423, 0.6354526578073091, 0.614125138427464, 0.6100609080841639, 0.4941514396456257, 0.6302048726467331, 0.6147882059800663, 0.6188953488372093, 0.6408430232558139, 0.609422757475083, 0.6126453488372092, 0.595970376522702, 0.17963455149501661, 0.025, 0.5587167774086378, 0.6255024916943521, 0.6292621816168328, 0.5761918604651164, 0.5871691583610188, 0.6251536544850499, 0.5999404761904763, 0.6141431339977852, 0.6210312846068661, 0.5830024916943521, 0.628344407530454, 0.616939368770764, 0.6352727021040975, 0.5354429678848283, 0.5752228682170544, 0.6320667220376522, 0.640485880398671, 0.634797895902547, 0.6377643964562569, 0.37583333333333335]}, {\"categories\": [\"0\", \"1\", \"2\", \"3\", \"4\", \"5\", \"6\", \"7\", \"8\", \"9\", \"10\", \"11\", \"12\", \"13\", \"14\", \"15\", \"16\", \"17\", \"18\", \"19\", \"20\", \"21\", \"22\", \"23\", \"24\", \"25\", \"26\", \"27\", \"28\", \"29\", \"30\", \"31\", \"32\", \"33\", \"34\", \"35\", \"36\", \"37\", \"38\", \"39\", \"40\", \"41\", \"42\", \"43\", \"44\", \"45\", \"46\", \"47\", \"48\", \"52\", \"53\"], \"mode\": \"lines\", \"name\": \"norm_macro_recall_max\", \"stepped\": true, \"type\": \"scatter\", \"data\": [0.5520418050941306, 0.6120251937984496, 0.6120251937984496, 0.6120251937984496, 0.6676121262458472, 0.6676121262458472, 0.6676121262458472, 0.6676121262458472, 0.6676121262458472, 0.6676121262458472, 0.6676121262458472, 0.6676121262458472, 0.6676121262458472, 0.6676121262458472, 0.682374031007752, 0.682374031007752, 0.682374031007752, 0.682374031007752, 0.682374031007752, 0.682374031007752, 0.682374031007752, 0.682374031007752, 0.682374031007752, 0.682374031007752, 0.682374031007752, 0.682374031007752, 0.682374031007752, 0.682374031007752, 0.682374031007752, 0.682374031007752, 0.682374031007752, 0.682374031007752, 0.682374031007752, 0.682374031007752, 0.682374031007752, 0.682374031007752, 0.682374031007752, 0.682374031007752, 0.682374031007752, 0.682374031007752, 0.682374031007752, 0.682374031007752, 0.682374031007752, 0.682374031007752, 0.682374031007752, 0.682374031007752, 0.682374031007752, 0.682374031007752, 0.682374031007752, 0.682374031007752, 0.682374031007752]}], \"average_precision_score_macro\": [{\"categories\": [\"0\", \"1\", \"2\", \"3\", \"4\", \"5\", \"6\", \"7\", \"8\", \"9\", \"10\", \"11\", \"12\", \"13\", \"14\", \"15\", \"16\", \"17\", \"18\", \"19\", \"20\", \"21\", \"22\", \"23\", \"24\", \"25\", \"26\", \"27\", \"28\", \"29\", \"30\", \"31\", \"32\", \"33\", \"34\", \"35\", \"36\", \"37\", \"38\", \"39\", \"40\", \"41\", \"42\", \"43\", \"44\", \"45\", \"46\", \"47\", \"48\", \"52\", \"53\"], \"mode\": \"markers\", \"name\": \"average_precision_score_macro\", \"stepped\": false, \"type\": \"scatter\", \"data\": [0.8655792376041671, 0.8826936933050062, 0.8966531313153242, 0.8564119495178385, 0.8781015086208308, 0.8856558716333517, 0.875398031887926, 0.8782200136042922, 0.8660003326172099, 0.7455889577323558, 0.850793627197822, 0.8682848636034066, 0.8923512701729462, 0.8529770087860855, 0.8838945502982524, 0.5525347928626576, 0.8642324255313933, 0.8087210436482065, 0.8678453832702535, 0.8946702481469491, 0.8824438012236518, 0.8205270458153914, 0.8463052125900061, 0.8983409712297945, 0.8985129996402813, 0.9045038878671537, 0.8887291086501424, 0.8839320899263351, 0.8866719684052432, 0.8454040709152733, 0.4930375179489864, 0.8859867551565817, 0.9016658268852771, 0.9099297665258248, 0.8867993720385943, 0.8267717375683968, 0.8932571739331323, 0.871333549069395, 0.9031190200591894, 0.8895594800384291, 0.8684242875448025, 0.8901583809897872, 0.9007472165315636, 0.9065234645380574, 0.8864813965495644, 0.8725379104947178, 0.8933794575419192, 0.8817117536831889, 0.8976970387572548, 0.9106039678713815, 0.9098527910700364]}, {\"categories\": [\"0\", \"1\", \"2\", \"3\", \"4\", \"5\", \"6\", \"7\", \"8\", \"9\", \"10\", \"11\", \"12\", \"13\", \"14\", \"15\", \"16\", \"17\", \"18\", \"19\", \"20\", \"21\", \"22\", \"23\", \"24\", \"25\", \"26\", \"27\", \"28\", \"29\", \"30\", \"31\", \"32\", \"33\", \"34\", \"35\", \"36\", \"37\", \"38\", \"39\", \"40\", \"41\", \"42\", \"43\", \"44\", \"45\", \"46\", \"47\", \"48\", \"52\", \"53\"], \"mode\": \"lines\", \"name\": \"average_precision_score_macro_max\", \"stepped\": true, \"type\": \"scatter\", \"data\": [0.8655792376041671, 0.8826936933050062, 0.8966531313153242, 0.8966531313153242, 0.8966531313153242, 0.8966531313153242, 0.8966531313153242, 0.8966531313153242, 0.8966531313153242, 0.8966531313153242, 0.8966531313153242, 0.8966531313153242, 0.8966531313153242, 0.8966531313153242, 0.8966531313153242, 0.8966531313153242, 0.8966531313153242, 0.8966531313153242, 0.8966531313153242, 0.8966531313153242, 0.8966531313153242, 0.8966531313153242, 0.8966531313153242, 0.8983409712297945, 0.8985129996402813, 0.9045038878671537, 0.9045038878671537, 0.9045038878671537, 0.9045038878671537, 0.9045038878671537, 0.9045038878671537, 0.9045038878671537, 0.9045038878671537, 0.9099297665258248, 0.9099297665258248, 0.9099297665258248, 0.9099297665258248, 0.9099297665258248, 0.9099297665258248, 0.9099297665258248, 0.9099297665258248, 0.9099297665258248, 0.9099297665258248, 0.9099297665258248, 0.9099297665258248, 0.9099297665258248, 0.9099297665258248, 0.9099297665258248, 0.9099297665258248, 0.9106039678713815, 0.9106039678713815]}], \"log_loss\": [{\"categories\": [\"0\", \"1\", \"2\", \"3\", \"4\", \"5\", \"6\", \"7\", \"8\", \"9\", \"10\", \"11\", \"12\", \"13\", \"14\", \"15\", \"16\", \"17\", \"18\", \"19\", \"20\", \"21\", \"22\", \"23\", \"24\", \"25\", \"26\", \"27\", \"28\", \"29\", \"30\", \"31\", \"32\", \"33\", \"34\", \"35\", \"36\", \"37\", \"38\", \"39\", \"40\", \"41\", \"42\", \"43\", \"44\", \"45\", \"46\", \"47\", \"48\", \"52\", \"53\"], \"mode\": \"markers\", \"name\": \"log_loss\", \"stepped\": false, \"type\": \"scatter\", \"data\": [0.5282491261622873, 0.43217688137359717, 0.3919812314914599, 0.4830760336159375, 0.391441825447912, 0.4070763709770751, 0.40290663308582364, 0.42003502416155813, 0.4751842840659727, 1.292911173952953, 0.4917306005229035, 0.45565741187344544, 0.4351702684676929, 0.425871088649704, 0.4499178017006112, 0.8093375881662283, 0.4792521219041217, 0.633038198696345, 0.5348081379880608, 0.47094650109329556, 0.3820955656794752, 0.5235953549192541, 0.5009676474392689, 0.39707768480822075, 0.38114203380058437, 0.37308424141664565, 0.4222113503579479, 0.3962174409154039, 0.44506682859315505, 0.525885542727625, 0.6890820970719921, 0.463175918196029, 0.3727368369375498, 0.4165851455964694, 0.38322107498536184, 0.4671791924758592, 0.38477136626165287, 0.43216593623770583, 0.4312396745645441, 0.41196208303075854, 0.4140465201090189, 0.4410288114141359, 0.3970546346290395, 0.36522246501381256, 0.408630140288367, 0.5116586517070357, 0.38070145700712965, 0.41320251373621364, 0.39377957142055375, 0.3836326267779817, 0.5129868093097569]}, {\"categories\": [\"0\", \"1\", \"2\", \"3\", \"4\", \"5\", \"6\", \"7\", \"8\", \"9\", \"10\", \"11\", \"12\", \"13\", \"14\", \"15\", \"16\", \"17\", \"18\", \"19\", \"20\", \"21\", \"22\", \"23\", \"24\", \"25\", \"26\", \"27\", \"28\", \"29\", \"30\", \"31\", \"32\", \"33\", \"34\", \"35\", \"36\", \"37\", \"38\", \"39\", \"40\", \"41\", \"42\", \"43\", \"44\", \"45\", \"46\", \"47\", \"48\", \"52\", \"53\"], \"mode\": \"lines\", \"name\": \"log_loss_min\", \"stepped\": true, \"type\": \"scatter\", \"data\": [0.5282491261622873, 0.43217688137359717, 0.3919812314914599, 0.3919812314914599, 0.391441825447912, 0.391441825447912, 0.391441825447912, 0.391441825447912, 0.391441825447912, 0.391441825447912, 0.391441825447912, 0.391441825447912, 0.391441825447912, 0.391441825447912, 0.391441825447912, 0.391441825447912, 0.391441825447912, 0.391441825447912, 0.391441825447912, 0.391441825447912, 0.3820955656794752, 0.3820955656794752, 0.3820955656794752, 0.3820955656794752, 0.38114203380058437, 0.37308424141664565, 0.37308424141664565, 0.37308424141664565, 0.37308424141664565, 0.37308424141664565, 0.37308424141664565, 0.37308424141664565, 0.3727368369375498, 0.3727368369375498, 0.3727368369375498, 0.3727368369375498, 0.3727368369375498, 0.3727368369375498, 0.3727368369375498, 0.3727368369375498, 0.3727368369375498, 0.3727368369375498, 0.3727368369375498, 0.36522246501381256, 0.36522246501381256, 0.36522246501381256, 0.36522246501381256, 0.36522246501381256, 0.36522246501381256, 0.36522246501381256, 0.36522246501381256]}], \"precision_score_micro\": [{\"categories\": [\"0\", \"1\", \"2\", \"3\", \"4\", \"5\", \"6\", \"7\", \"8\", \"9\", \"10\", \"11\", \"12\", \"13\", \"14\", \"15\", \"16\", \"17\", \"18\", \"19\", \"20\", \"21\", \"22\", \"23\", \"24\", \"25\", \"26\", \"27\", \"28\", \"29\", \"30\", \"31\", \"32\", \"33\", \"34\", \"35\", \"36\", \"37\", \"38\", \"39\", \"40\", \"41\", \"42\", \"43\", \"44\", \"45\", \"46\", \"47\", \"48\", \"52\", \"53\"], \"mode\": \"markers\", \"name\": \"precision_score_micro\", \"stepped\": false, \"type\": \"scatter\", \"data\": [0.8059887005649717, 0.8259322033898304, 0.822542372881356, 0.7792655367231638, 0.8425423728813559, 0.8328248587570621, 0.8192655367231637, 0.8395480225988701, 0.7792655367231638, 0.7593220338983051, 0.7658757062146891, 0.8094350282485877, 0.8123728813559321, 0.8227118644067797, 0.8359887005649718, 0.6153107344632769, 0.7692655367231638, 0.7722033898305085, 0.8192090395480227, 0.8260451977401131, 0.8225988700564972, 0.7689830508474575, 0.8361016949152542, 0.8394350282485876, 0.836045197740113, 0.8426553672316384, 0.8193785310734463, 0.8327118644067795, 0.8093785310734465, 0.7291525423728814, 0.6522033898305085, 0.8260451977401131, 0.8393785310734463, 0.8191525423728813, 0.8191525423728814, 0.8393785310734463, 0.8427683615819209, 0.8495480225988701, 0.8124858757062146, 0.7957062146892655, 0.836045197740113, 0.8056497175141242, 0.8461016949152542, 0.8427683615819209, 0.8126553672316386, 0.7892655367231639, 0.8428248587570621, 0.8425988700564971, 0.8224293785310735, 0.8427118644067797, 0.7628813559322033]}, {\"categories\": [\"0\", \"1\", \"2\", \"3\", \"4\", \"5\", \"6\", \"7\", \"8\", \"9\", \"10\", \"11\", \"12\", \"13\", \"14\", \"15\", \"16\", \"17\", \"18\", \"19\", \"20\", \"21\", \"22\", \"23\", \"24\", \"25\", \"26\", \"27\", \"28\", \"29\", \"30\", \"31\", \"32\", \"33\", \"34\", \"35\", \"36\", \"37\", \"38\", \"39\", \"40\", \"41\", \"42\", \"43\", \"44\", \"45\", \"46\", \"47\", \"48\", \"52\", \"53\"], \"mode\": \"lines\", \"name\": \"precision_score_micro_max\", \"stepped\": true, \"type\": \"scatter\", \"data\": [0.8059887005649717, 0.8259322033898304, 0.8259322033898304, 0.8259322033898304, 0.8425423728813559, 0.8425423728813559, 0.8425423728813559, 0.8425423728813559, 0.8425423728813559, 0.8425423728813559, 0.8425423728813559, 0.8425423728813559, 0.8425423728813559, 0.8425423728813559, 0.8425423728813559, 0.8425423728813559, 0.8425423728813559, 0.8425423728813559, 0.8425423728813559, 0.8425423728813559, 0.8425423728813559, 0.8425423728813559, 0.8425423728813559, 0.8425423728813559, 0.8425423728813559, 0.8426553672316384, 0.8426553672316384, 0.8426553672316384, 0.8426553672316384, 0.8426553672316384, 0.8426553672316384, 0.8426553672316384, 0.8426553672316384, 0.8426553672316384, 0.8426553672316384, 0.8426553672316384, 0.8427683615819209, 0.8495480225988701, 0.8495480225988701, 0.8495480225988701, 0.8495480225988701, 0.8495480225988701, 0.8495480225988701, 0.8495480225988701, 0.8495480225988701, 0.8495480225988701, 0.8495480225988701, 0.8495480225988701, 0.8495480225988701, 0.8495480225988701, 0.8495480225988701]}], \"recall_score_micro\": [{\"categories\": [\"0\", \"1\", \"2\", \"3\", \"4\", \"5\", \"6\", \"7\", \"8\", \"9\", \"10\", \"11\", \"12\", \"13\", \"14\", \"15\", \"16\", \"17\", \"18\", \"19\", \"20\", \"21\", \"22\", \"23\", \"24\", \"25\", \"26\", \"27\", \"28\", \"29\", \"30\", \"31\", \"32\", \"33\", \"34\", \"35\", \"36\", \"37\", \"38\", \"39\", \"40\", \"41\", \"42\", \"43\", \"44\", \"45\", \"46\", \"47\", \"48\", \"52\", \"53\"], \"mode\": \"markers\", \"name\": \"recall_score_micro\", \"stepped\": false, \"type\": \"scatter\", \"data\": [0.8059887005649717, 0.8259322033898304, 0.822542372881356, 0.7792655367231638, 0.8425423728813559, 0.8328248587570621, 0.8192655367231637, 0.8395480225988701, 0.7792655367231638, 0.7593220338983051, 0.7658757062146891, 0.8094350282485877, 0.8123728813559321, 0.8227118644067797, 0.8359887005649718, 0.6153107344632769, 0.7692655367231638, 0.7722033898305085, 0.8192090395480227, 0.8260451977401131, 0.8225988700564972, 0.7689830508474575, 0.8361016949152542, 0.8394350282485876, 0.836045197740113, 0.8426553672316384, 0.8193785310734463, 0.8327118644067795, 0.8093785310734465, 0.7291525423728814, 0.6522033898305085, 0.8260451977401131, 0.8393785310734463, 0.8191525423728813, 0.8191525423728814, 0.8393785310734463, 0.8427683615819209, 0.8495480225988701, 0.8124858757062146, 0.7957062146892655, 0.836045197740113, 0.8056497175141242, 0.8461016949152542, 0.8427683615819209, 0.8126553672316386, 0.7892655367231639, 0.8428248587570621, 0.8425988700564971, 0.8224293785310735, 0.8427118644067797, 0.7628813559322033]}, {\"categories\": [\"0\", \"1\", \"2\", \"3\", \"4\", \"5\", \"6\", \"7\", \"8\", \"9\", \"10\", \"11\", \"12\", \"13\", \"14\", \"15\", \"16\", \"17\", \"18\", \"19\", \"20\", \"21\", \"22\", \"23\", \"24\", \"25\", \"26\", \"27\", \"28\", \"29\", \"30\", \"31\", \"32\", \"33\", \"34\", \"35\", \"36\", \"37\", \"38\", \"39\", \"40\", \"41\", \"42\", \"43\", \"44\", \"45\", \"46\", \"47\", \"48\", \"52\", \"53\"], \"mode\": \"lines\", \"name\": \"recall_score_micro_max\", \"stepped\": true, \"type\": \"scatter\", \"data\": [0.8059887005649717, 0.8259322033898304, 0.8259322033898304, 0.8259322033898304, 0.8425423728813559, 0.8425423728813559, 0.8425423728813559, 0.8425423728813559, 0.8425423728813559, 0.8425423728813559, 0.8425423728813559, 0.8425423728813559, 0.8425423728813559, 0.8425423728813559, 0.8425423728813559, 0.8425423728813559, 0.8425423728813559, 0.8425423728813559, 0.8425423728813559, 0.8425423728813559, 0.8425423728813559, 0.8425423728813559, 0.8425423728813559, 0.8425423728813559, 0.8425423728813559, 0.8426553672316384, 0.8426553672316384, 0.8426553672316384, 0.8426553672316384, 0.8426553672316384, 0.8426553672316384, 0.8426553672316384, 0.8426553672316384, 0.8426553672316384, 0.8426553672316384, 0.8426553672316384, 0.8427683615819209, 0.8495480225988701, 0.8495480225988701, 0.8495480225988701, 0.8495480225988701, 0.8495480225988701, 0.8495480225988701, 0.8495480225988701, 0.8495480225988701, 0.8495480225988701, 0.8495480225988701, 0.8495480225988701, 0.8495480225988701, 0.8495480225988701, 0.8495480225988701]}], \"accuracy\": [{\"categories\": [\"0\", \"1\", \"2\", \"3\", \"4\", \"5\", \"6\", \"7\", \"8\", \"9\", \"10\", \"11\", \"12\", \"13\", \"14\", \"15\", \"16\", \"17\", \"18\", \"19\", \"20\", \"21\", \"22\", \"23\", \"24\", \"25\", \"26\", \"27\", \"28\", \"29\", \"30\", \"31\", \"32\", \"33\", \"34\", \"35\", \"36\", \"37\", \"38\", \"39\", \"40\", \"41\", \"42\", \"43\", \"44\", \"45\", \"46\", \"47\", \"48\", \"52\", \"53\"], \"mode\": \"markers\", \"name\": \"accuracy\", \"stepped\": false, \"type\": \"scatter\", \"data\": [0.8059887005649717, 0.8259322033898304, 0.822542372881356, 0.7792655367231638, 0.8425423728813559, 0.8328248587570621, 0.8192655367231637, 0.8395480225988701, 0.7792655367231638, 0.7593220338983051, 0.7658757062146891, 0.8094350282485877, 0.8123728813559321, 0.8227118644067797, 0.8359887005649718, 0.6153107344632769, 0.7692655367231638, 0.7722033898305085, 0.8192090395480227, 0.8260451977401131, 0.8225988700564972, 0.7689830508474575, 0.8361016949152542, 0.8394350282485876, 0.836045197740113, 0.8426553672316384, 0.8193785310734463, 0.8327118644067795, 0.8093785310734465, 0.7291525423728814, 0.6522033898305085, 0.8260451977401131, 0.8393785310734463, 0.8191525423728813, 0.8191525423728814, 0.8393785310734463, 0.8427683615819209, 0.8495480225988701, 0.8124858757062146, 0.7957062146892655, 0.836045197740113, 0.8056497175141242, 0.8461016949152542, 0.8427683615819209, 0.8126553672316386, 0.7892655367231639, 0.8428248587570621, 0.8425988700564971, 0.8224293785310735, 0.8427118644067797, 0.7628813559322033]}, {\"categories\": [\"0\", \"1\", \"2\", \"3\", \"4\", \"5\", \"6\", \"7\", \"8\", \"9\", \"10\", \"11\", \"12\", \"13\", \"14\", \"15\", \"16\", \"17\", \"18\", \"19\", \"20\", \"21\", \"22\", \"23\", \"24\", \"25\", \"26\", \"27\", \"28\", \"29\", \"30\", \"31\", \"32\", \"33\", \"34\", \"35\", \"36\", \"37\", \"38\", \"39\", \"40\", \"41\", \"42\", \"43\", \"44\", \"45\", \"46\", \"47\", \"48\", \"52\", \"53\"], \"mode\": \"lines\", \"name\": \"accuracy_max\", \"stepped\": true, \"type\": \"scatter\", \"data\": [0.8059887005649717, 0.8259322033898304, 0.8259322033898304, 0.8259322033898304, 0.8425423728813559, 0.8425423728813559, 0.8425423728813559, 0.8425423728813559, 0.8425423728813559, 0.8425423728813559, 0.8425423728813559, 0.8425423728813559, 0.8425423728813559, 0.8425423728813559, 0.8425423728813559, 0.8425423728813559, 0.8425423728813559, 0.8425423728813559, 0.8425423728813559, 0.8425423728813559, 0.8425423728813559, 0.8425423728813559, 0.8425423728813559, 0.8425423728813559, 0.8425423728813559, 0.8426553672316384, 0.8426553672316384, 0.8426553672316384, 0.8426553672316384, 0.8426553672316384, 0.8426553672316384, 0.8426553672316384, 0.8426553672316384, 0.8426553672316384, 0.8426553672316384, 0.8426553672316384, 0.8427683615819209, 0.8495480225988701, 0.8495480225988701, 0.8495480225988701, 0.8495480225988701, 0.8495480225988701, 0.8495480225988701, 0.8495480225988701, 0.8495480225988701, 0.8495480225988701, 0.8495480225988701, 0.8495480225988701, 0.8495480225988701, 0.8495480225988701, 0.8495480225988701]}], \"f1_score_micro\": [{\"categories\": [\"0\", \"1\", \"2\", \"3\", \"4\", \"5\", \"6\", \"7\", \"8\", \"9\", \"10\", \"11\", \"12\", \"13\", \"14\", \"15\", \"16\", \"17\", \"18\", \"19\", \"20\", \"21\", \"22\", \"23\", \"24\", \"25\", \"26\", \"27\", \"28\", \"29\", \"30\", \"31\", \"32\", \"33\", \"34\", \"35\", \"36\", \"37\", \"38\", \"39\", \"40\", \"41\", \"42\", \"43\", \"44\", \"45\", \"46\", \"47\", \"48\", \"52\", \"53\"], \"mode\": \"markers\", \"name\": \"f1_score_micro\", \"stepped\": false, \"type\": \"scatter\", \"data\": [0.8059887005649718, 0.8259322033898304, 0.822542372881356, 0.7792655367231639, 0.8425423728813559, 0.8328248587570621, 0.8192655367231639, 0.8395480225988701, 0.7792655367231639, 0.7593220338983051, 0.7658757062146891, 0.8094350282485877, 0.8123728813559323, 0.8227118644067797, 0.8359887005649718, 0.6153107344632769, 0.7692655367231639, 0.7722033898305085, 0.8192090395480227, 0.8260451977401131, 0.8225988700564972, 0.7689830508474577, 0.8361016949152542, 0.8394350282485876, 0.836045197740113, 0.8426553672316384, 0.8193785310734464, 0.8327118644067797, 0.8093785310734465, 0.7291525423728814, 0.6522033898305085, 0.8260451977401131, 0.8393785310734463, 0.8191525423728813, 0.8191525423728814, 0.8393785310734463, 0.8427683615819209, 0.8495480225988701, 0.8124858757062148, 0.7957062146892655, 0.836045197740113, 0.8056497175141242, 0.8461016949152542, 0.8427683615819209, 0.8126553672316386, 0.7892655367231639, 0.8428248587570621, 0.8425988700564971, 0.8224293785310735, 0.8427118644067797, 0.7628813559322033]}, {\"categories\": [\"0\", \"1\", \"2\", \"3\", \"4\", \"5\", \"6\", \"7\", \"8\", \"9\", \"10\", \"11\", \"12\", \"13\", \"14\", \"15\", \"16\", \"17\", \"18\", \"19\", \"20\", \"21\", \"22\", \"23\", \"24\", \"25\", \"26\", \"27\", \"28\", \"29\", \"30\", \"31\", \"32\", \"33\", \"34\", \"35\", \"36\", \"37\", \"38\", \"39\", \"40\", \"41\", \"42\", \"43\", \"44\", \"45\", \"46\", \"47\", \"48\", \"52\", \"53\"], \"mode\": \"lines\", \"name\": \"f1_score_micro_max\", \"stepped\": true, \"type\": \"scatter\", \"data\": [0.8059887005649718, 0.8259322033898304, 0.8259322033898304, 0.8259322033898304, 0.8425423728813559, 0.8425423728813559, 0.8425423728813559, 0.8425423728813559, 0.8425423728813559, 0.8425423728813559, 0.8425423728813559, 0.8425423728813559, 0.8425423728813559, 0.8425423728813559, 0.8425423728813559, 0.8425423728813559, 0.8425423728813559, 0.8425423728813559, 0.8425423728813559, 0.8425423728813559, 0.8425423728813559, 0.8425423728813559, 0.8425423728813559, 0.8425423728813559, 0.8425423728813559, 0.8426553672316384, 0.8426553672316384, 0.8426553672316384, 0.8426553672316384, 0.8426553672316384, 0.8426553672316384, 0.8426553672316384, 0.8426553672316384, 0.8426553672316384, 0.8426553672316384, 0.8426553672316384, 0.8427683615819209, 0.8495480225988701, 0.8495480225988701, 0.8495480225988701, 0.8495480225988701, 0.8495480225988701, 0.8495480225988701, 0.8495480225988701, 0.8495480225988701, 0.8495480225988701, 0.8495480225988701, 0.8495480225988701, 0.8495480225988701, 0.8495480225988701, 0.8495480225988701]}], \"precision_score_weighted\": [{\"categories\": [\"0\", \"1\", \"2\", \"3\", \"4\", \"5\", \"6\", \"7\", \"8\", \"9\", \"10\", \"11\", \"12\", \"13\", \"14\", \"15\", \"16\", \"17\", \"18\", \"19\", \"20\", \"21\", \"22\", \"23\", \"24\", \"25\", \"26\", \"27\", \"28\", \"29\", \"30\", \"31\", \"32\", \"33\", \"34\", \"35\", \"36\", \"37\", \"38\", \"39\", \"40\", \"41\", \"42\", \"43\", \"44\", \"45\", \"46\", \"47\", \"48\", \"52\", \"53\"], \"mode\": \"markers\", \"name\": \"precision_score_weighted\", \"stepped\": false, \"type\": \"scatter\", \"data\": [0.8237683758533973, 0.8403871377947292, 0.8364722913474072, 0.8057965832270277, 0.8582579682996231, 0.8467374837217128, 0.8342766007401569, 0.8607107414933793, 0.8264343364464428, 0.7695882951514441, 0.7909407946076511, 0.8342961810660409, 0.836694484729797, 0.8438901283454351, 0.8563971627818461, 0.6019922322856948, 0.8012683226414495, 0.8048929537934889, 0.8436866895088974, 0.8507055091800855, 0.8351337281001744, 0.7914095778696201, 0.8559693249664095, 0.8492227533846254, 0.8525311154198407, 0.855851702382207, 0.8374174361040506, 0.8463007837982046, 0.8342841749688962, 0.7878891916281562, 0.519489864308408, 0.8389610092410387, 0.8526632989845184, 0.8408720926214237, 0.83039445371354, 0.8491131219086793, 0.8552754797496798, 0.8657388955746057, 0.8360168967127656, 0.8346104323940382, 0.8461817675487536, 0.8429454105216816, 0.8541327797769579, 0.855582746726283, 0.8281157271407007, 0.8117082601317496, 0.8554291856473377, 0.8553079103134372, 0.8422830682079023, 0.8542713009135502, 0.6759534427021965]}, {\"categories\": [\"0\", \"1\", \"2\", \"3\", \"4\", \"5\", \"6\", \"7\", \"8\", \"9\", \"10\", \"11\", \"12\", \"13\", \"14\", \"15\", \"16\", \"17\", \"18\", \"19\", \"20\", \"21\", \"22\", \"23\", \"24\", \"25\", \"26\", \"27\", \"28\", \"29\", \"30\", \"31\", \"32\", \"33\", \"34\", \"35\", \"36\", \"37\", \"38\", \"39\", \"40\", \"41\", \"42\", \"43\", \"44\", \"45\", \"46\", \"47\", \"48\", \"52\", \"53\"], \"mode\": \"lines\", \"name\": \"precision_score_weighted_max\", \"stepped\": true, \"type\": \"scatter\", \"data\": [0.8237683758533973, 0.8403871377947292, 0.8403871377947292, 0.8403871377947292, 0.8582579682996231, 0.8582579682996231, 0.8582579682996231, 0.8607107414933793, 0.8607107414933793, 0.8607107414933793, 0.8607107414933793, 0.8607107414933793, 0.8607107414933793, 0.8607107414933793, 0.8607107414933793, 0.8607107414933793, 0.8607107414933793, 0.8607107414933793, 0.8607107414933793, 0.8607107414933793, 0.8607107414933793, 0.8607107414933793, 0.8607107414933793, 0.8607107414933793, 0.8607107414933793, 0.8607107414933793, 0.8607107414933793, 0.8607107414933793, 0.8607107414933793, 0.8607107414933793, 0.8607107414933793, 0.8607107414933793, 0.8607107414933793, 0.8607107414933793, 0.8607107414933793, 0.8607107414933793, 0.8607107414933793, 0.8657388955746057, 0.8657388955746057, 0.8657388955746057, 0.8657388955746057, 0.8657388955746057, 0.8657388955746057, 0.8657388955746057, 0.8657388955746057, 0.8657388955746057, 0.8657388955746057, 0.8657388955746057, 0.8657388955746057, 0.8657388955746057, 0.8657388955746057]}], \"AUC_macro\": [{\"categories\": [\"0\", \"1\", \"2\", \"3\", \"4\", \"5\", \"6\", \"7\", \"8\", \"9\", \"10\", \"11\", \"12\", \"13\", \"14\", \"15\", \"16\", \"17\", \"18\", \"19\", \"20\", \"21\", \"22\", \"23\", \"24\", \"25\", \"26\", \"27\", \"28\", \"29\", \"30\", \"31\", \"32\", \"33\", \"34\", \"35\", \"36\", \"37\", \"38\", \"39\", \"40\", \"41\", \"42\", \"43\", \"44\", \"45\", \"46\", \"47\", \"48\", \"52\", \"53\"], \"mode\": \"markers\", \"name\": \"AUC_macro\", \"stepped\": false, \"type\": \"scatter\", \"data\": [0.8811331210778885, 0.8929591177556295, 0.9049366232927278, 0.8683963639719454, 0.9030990909929864, 0.8975510566629753, 0.8873673115079365, 0.8792700719822812, 0.8852448089700996, 0.7514726836471023, 0.8623886351052048, 0.8781198551125877, 0.8990335917312662, 0.8712861526393503, 0.902094199889258, 0.48227655500184563, 0.8909100452196382, 0.8225173726467331, 0.8813673634182354, 0.9075663528977482, 0.9020806801402731, 0.8489455749354005, 0.8578693014027318, 0.9098504521963824, 0.9035960686600222, 0.913983134920635, 0.8981547619047617, 0.8969354928017721, 0.894329180509413, 0.8623963639719454, 0.4514484588409006, 0.903234657622739, 0.9117401947212993, 0.9181987126245847, 0.8957310354374307, 0.8474464516426726, 0.9015217792543373, 0.882435354374308, 0.9131637366186786, 0.9069405454042082, 0.880904335086748, 0.9018740771502399, 0.912202404023625, 0.9135864940937616, 0.8933634413067552, 0.8836723191214471, 0.906357834994463, 0.9036222545219639, 0.9075426587301589, 0.9191440337763013, 0.918670819490587]}, {\"categories\": [\"0\", \"1\", \"2\", \"3\", \"4\", \"5\", \"6\", \"7\", \"8\", \"9\", \"10\", \"11\", \"12\", \"13\", \"14\", \"15\", \"16\", \"17\", \"18\", \"19\", \"20\", \"21\", \"22\", \"23\", \"24\", \"25\", \"26\", \"27\", \"28\", \"29\", \"30\", \"31\", \"32\", \"33\", \"34\", \"35\", \"36\", \"37\", \"38\", \"39\", \"40\", \"41\", \"42\", \"43\", \"44\", \"45\", \"46\", \"47\", \"48\", \"52\", \"53\"], \"mode\": \"lines\", \"name\": \"AUC_macro_max\", \"stepped\": true, \"type\": \"scatter\", \"data\": [0.8811331210778885, 0.8929591177556295, 0.9049366232927278, 0.9049366232927278, 0.9049366232927278, 0.9049366232927278, 0.9049366232927278, 0.9049366232927278, 0.9049366232927278, 0.9049366232927278, 0.9049366232927278, 0.9049366232927278, 0.9049366232927278, 0.9049366232927278, 0.9049366232927278, 0.9049366232927278, 0.9049366232927278, 0.9049366232927278, 0.9049366232927278, 0.9075663528977482, 0.9075663528977482, 0.9075663528977482, 0.9075663528977482, 0.9098504521963824, 0.9098504521963824, 0.913983134920635, 0.913983134920635, 0.913983134920635, 0.913983134920635, 0.913983134920635, 0.913983134920635, 0.913983134920635, 0.913983134920635, 0.9181987126245847, 0.9181987126245847, 0.9181987126245847, 0.9181987126245847, 0.9181987126245847, 0.9181987126245847, 0.9181987126245847, 0.9181987126245847, 0.9181987126245847, 0.9181987126245847, 0.9181987126245847, 0.9181987126245847, 0.9181987126245847, 0.9181987126245847, 0.9181987126245847, 0.9181987126245847, 0.9191440337763013, 0.9191440337763013]}], \"weighted_accuracy\": [{\"categories\": [\"0\", \"1\", \"2\", \"3\", \"4\", \"5\", \"6\", \"7\", \"8\", \"9\", \"10\", \"11\", \"12\", \"13\", \"14\", \"15\", \"16\", \"17\", \"18\", \"19\", \"20\", \"21\", \"22\", \"23\", \"24\", \"25\", \"26\", \"27\", \"28\", \"29\", \"30\", \"31\", \"32\", \"33\", \"34\", \"35\", \"36\", \"37\", \"38\", \"39\", \"40\", \"41\", \"42\", \"43\", \"44\", \"45\", \"46\", \"47\", \"48\", \"52\", \"53\"], \"mode\": \"markers\", \"name\": \"weighted_accuracy\", \"stepped\": false, \"type\": \"scatter\", \"data\": [0.8252063202764133, 0.8406325321291572, 0.8364050715865773, 0.8439213848026336, 0.8490932647163927, 0.8560733081831309, 0.8345690136479623, 0.8697236090829243, 0.842214277912624, 0.8191552656124355, 0.8353815869357435, 0.8570525009448844, 0.8118032431478888, 0.843066254008803, 0.8324244655169786, 0.6722707401586747, 0.8351613738720637, 0.7785430671459302, 0.8202364391072049, 0.8394035882109765, 0.8344638699740298, 0.7846047407843385, 0.8507811342980428, 0.8600256250146835, 0.8540067363964484, 0.8578160820336796, 0.8294289222383927, 0.8504669133875989, 0.817312663345455, 0.8212773261155302, 0.7548570506503319, 0.858116054459957, 0.8573695682548553, 0.8217351628436462, 0.8406901912973377, 0.8702323133528946, 0.8634550789436914, 0.8840345582413489, 0.8154620412056106, 0.7861679936263073, 0.8663107447254437, 0.7981334980337752, 0.8705909456797665, 0.8597282005817274, 0.8433114639503458, 0.7907543634694751, 0.8609110564033069, 0.85739323714267, 0.8248698400765306, 0.8587400350256346, 0.8195441886421818]}, {\"categories\": [\"0\", \"1\", \"2\", \"3\", \"4\", \"5\", \"6\", \"7\", \"8\", \"9\", \"10\", \"11\", \"12\", \"13\", \"14\", \"15\", \"16\", \"17\", \"18\", \"19\", \"20\", \"21\", \"22\", \"23\", \"24\", \"25\", \"26\", \"27\", \"28\", \"29\", \"30\", \"31\", \"32\", \"33\", \"34\", \"35\", \"36\", \"37\", \"38\", \"39\", \"40\", \"41\", \"42\", \"43\", \"44\", \"45\", \"46\", \"47\", \"48\", \"52\", \"53\"], \"mode\": \"lines\", \"name\": \"weighted_accuracy_max\", \"stepped\": true, \"type\": \"scatter\", \"data\": [0.8252063202764133, 0.8406325321291572, 0.8406325321291572, 0.8439213848026336, 0.8490932647163927, 0.8560733081831309, 0.8560733081831309, 0.8697236090829243, 0.8697236090829243, 0.8697236090829243, 0.8697236090829243, 0.8697236090829243, 0.8697236090829243, 0.8697236090829243, 0.8697236090829243, 0.8697236090829243, 0.8697236090829243, 0.8697236090829243, 0.8697236090829243, 0.8697236090829243, 0.8697236090829243, 0.8697236090829243, 0.8697236090829243, 0.8697236090829243, 0.8697236090829243, 0.8697236090829243, 0.8697236090829243, 0.8697236090829243, 0.8697236090829243, 0.8697236090829243, 0.8697236090829243, 0.8697236090829243, 0.8697236090829243, 0.8697236090829243, 0.8697236090829243, 0.8702323133528946, 0.8702323133528946, 0.8840345582413489, 0.8840345582413489, 0.8840345582413489, 0.8840345582413489, 0.8840345582413489, 0.8840345582413489, 0.8840345582413489, 0.8840345582413489, 0.8840345582413489, 0.8840345582413489, 0.8840345582413489, 0.8840345582413489, 0.8840345582413489, 0.8840345582413489]}], \"recall_score_weighted\": [{\"categories\": [\"0\", \"1\", \"2\", \"3\", \"4\", \"5\", \"6\", \"7\", \"8\", \"9\", \"10\", \"11\", \"12\", \"13\", \"14\", \"15\", \"16\", \"17\", \"18\", \"19\", \"20\", \"21\", \"22\", \"23\", \"24\", \"25\", \"26\", \"27\", \"28\", \"29\", \"30\", \"31\", \"32\", \"33\", \"34\", \"35\", \"36\", \"37\", \"38\", \"39\", \"40\", \"41\", \"42\", \"43\", \"44\", \"45\", \"46\", \"47\", \"48\", \"52\", \"53\"], \"mode\": \"markers\", \"name\": \"recall_score_weighted\", \"stepped\": false, \"type\": \"scatter\", \"data\": [0.8059887005649717, 0.8259322033898304, 0.822542372881356, 0.7792655367231638, 0.8425423728813559, 0.8328248587570621, 0.8192655367231637, 0.8395480225988701, 0.7792655367231638, 0.7593220338983051, 0.7658757062146891, 0.8094350282485877, 0.8123728813559321, 0.8227118644067797, 0.8359887005649718, 0.6153107344632769, 0.7692655367231638, 0.7722033898305085, 0.8192090395480227, 0.8260451977401131, 0.8225988700564972, 0.7689830508474575, 0.8361016949152542, 0.8394350282485876, 0.836045197740113, 0.8426553672316384, 0.8193785310734463, 0.8327118644067795, 0.8093785310734465, 0.7291525423728814, 0.6522033898305085, 0.8260451977401131, 0.8393785310734463, 0.8191525423728813, 0.8191525423728814, 0.8393785310734463, 0.8427683615819209, 0.8495480225988701, 0.8124858757062146, 0.7957062146892655, 0.836045197740113, 0.8056497175141242, 0.8461016949152542, 0.8427683615819209, 0.8126553672316386, 0.7892655367231639, 0.8428248587570621, 0.8425988700564971, 0.8224293785310735, 0.8427118644067797, 0.7628813559322033]}, {\"categories\": [\"0\", \"1\", \"2\", \"3\", \"4\", \"5\", \"6\", \"7\", \"8\", \"9\", \"10\", \"11\", \"12\", \"13\", \"14\", \"15\", \"16\", \"17\", \"18\", \"19\", \"20\", \"21\", \"22\", \"23\", \"24\", \"25\", \"26\", \"27\", \"28\", \"29\", \"30\", \"31\", \"32\", \"33\", \"34\", \"35\", \"36\", \"37\", \"38\", \"39\", \"40\", \"41\", \"42\", \"43\", \"44\", \"45\", \"46\", \"47\", \"48\", \"52\", \"53\"], \"mode\": \"lines\", \"name\": \"recall_score_weighted_max\", \"stepped\": true, \"type\": \"scatter\", \"data\": [0.8059887005649717, 0.8259322033898304, 0.8259322033898304, 0.8259322033898304, 0.8425423728813559, 0.8425423728813559, 0.8425423728813559, 0.8425423728813559, 0.8425423728813559, 0.8425423728813559, 0.8425423728813559, 0.8425423728813559, 0.8425423728813559, 0.8425423728813559, 0.8425423728813559, 0.8425423728813559, 0.8425423728813559, 0.8425423728813559, 0.8425423728813559, 0.8425423728813559, 0.8425423728813559, 0.8425423728813559, 0.8425423728813559, 0.8425423728813559, 0.8425423728813559, 0.8426553672316384, 0.8426553672316384, 0.8426553672316384, 0.8426553672316384, 0.8426553672316384, 0.8426553672316384, 0.8426553672316384, 0.8426553672316384, 0.8426553672316384, 0.8426553672316384, 0.8426553672316384, 0.8427683615819209, 0.8495480225988701, 0.8495480225988701, 0.8495480225988701, 0.8495480225988701, 0.8495480225988701, 0.8495480225988701, 0.8495480225988701, 0.8495480225988701, 0.8495480225988701, 0.8495480225988701, 0.8495480225988701, 0.8495480225988701, 0.8495480225988701, 0.8495480225988701]}]}, \"metricName\": null, \"primaryMetricName\": \"AUC_weighted\", \"showLegend\": false}, \"run_metrics\": [{\"name\": \"experiment_status\", \"run_id\": \"AutoML_f42f2be7-4d76-46fd-ba79-2ec7ee0d470f\", \"categories\": [0, 1, 2, 3, 4, 5, 6, 7, 8, 9, 10, 11, 12, 13], \"series\": [{\"data\": [\"DatasetEvaluation\", \"FeaturesGeneration\", \"DatasetFeaturization\", \"DatasetFeaturizationCompleted\", \"DatasetCrossValidationSplit\", \"ModelSelection\", \"BestRunExplainModel\", \"ModelExplanationDataSetSetup\", \"PickSurrogateModel\", \"EngineeredFeatureExplanations\", \"EngineeredFeatureExplanations\", \"RawFeaturesExplanations\", \"RawFeaturesExplanations\", \"BestRunExplainModel\"]}]}, {\"name\": \"experiment_status_description\", \"run_id\": \"AutoML_f42f2be7-4d76-46fd-ba79-2ec7ee0d470f\", \"categories\": [0, 1, 2, 3, 4, 5, 6, 7, 8, 9, 10, 11, 12, 13], \"series\": [{\"data\": [\"Gathering dataset statistics.\", \"Generating features for the dataset.\", \"Beginning to fit featurizers and featurize the dataset.\", \"Completed fit featurizers and featurizing the dataset.\", \"Generating individually featurized CV splits.\", \"Beginning model selection.\", \"Best run model explanations started\", \"Model explanations data setup completed\", \"Choosing LightGBM as the surrogate model for explanations\", \"Computation of engineered features started\", \"Computation of engineered features completed\", \"Computation of raw features started\", \"Computation of raw features completed\", \"Best run model explanations completed\"]}]}, {\"name\": \"average_precision_score_macro\", \"run_id\": \"AutoML_f42f2be7-4d76-46fd-ba79-2ec7ee0d470f\", \"categories\": [0], \"series\": [{\"data\": [0.9106039678713815]}]}, {\"name\": \"precision_score_weighted\", \"run_id\": \"AutoML_f42f2be7-4d76-46fd-ba79-2ec7ee0d470f\", \"categories\": [0], \"series\": [{\"data\": [0.8542713009135502]}]}, {\"name\": \"AUC_micro\", \"run_id\": \"AutoML_f42f2be7-4d76-46fd-ba79-2ec7ee0d470f\", \"categories\": [0], \"series\": [{\"data\": [0.922749816463979]}]}, {\"name\": \"average_precision_score_weighted\", \"run_id\": \"AutoML_f42f2be7-4d76-46fd-ba79-2ec7ee0d470f\", \"categories\": [0], \"series\": [{\"data\": [0.9314415655557775]}]}, {\"name\": \"matthews_correlation\", \"run_id\": \"AutoML_f42f2be7-4d76-46fd-ba79-2ec7ee0d470f\", \"categories\": [0], \"series\": [{\"data\": [0.6390272274450925]}]}, {\"name\": \"precision_score_micro\", \"run_id\": \"AutoML_f42f2be7-4d76-46fd-ba79-2ec7ee0d470f\", \"categories\": [0], \"series\": [{\"data\": [0.8427118644067797]}]}, {\"name\": \"log_loss\", \"run_id\": \"AutoML_f42f2be7-4d76-46fd-ba79-2ec7ee0d470f\", \"categories\": [0], \"series\": [{\"data\": [0.3836326267779817]}]}, {\"name\": \"norm_macro_recall\", \"run_id\": \"AutoML_f42f2be7-4d76-46fd-ba79-2ec7ee0d470f\", \"categories\": [0], \"series\": [{\"data\": [0.6377643964562569]}]}, {\"name\": \"recall_score_weighted\", \"run_id\": \"AutoML_f42f2be7-4d76-46fd-ba79-2ec7ee0d470f\", \"categories\": [0], \"series\": [{\"data\": [0.8427118644067797]}]}, {\"name\": \"f1_score_macro\", \"run_id\": \"AutoML_f42f2be7-4d76-46fd-ba79-2ec7ee0d470f\", \"categories\": [0], \"series\": [{\"data\": [0.811481910615036]}]}, {\"name\": \"weighted_accuracy\", \"run_id\": \"AutoML_f42f2be7-4d76-46fd-ba79-2ec7ee0d470f\", \"categories\": [0], \"series\": [{\"data\": [0.8587400350256346]}]}, {\"name\": \"f1_score_weighted\", \"run_id\": \"AutoML_f42f2be7-4d76-46fd-ba79-2ec7ee0d470f\", \"categories\": [0], \"series\": [{\"data\": [0.8408120227175276]}]}, {\"name\": \"recall_score_micro\", \"run_id\": \"AutoML_f42f2be7-4d76-46fd-ba79-2ec7ee0d470f\", \"categories\": [0], \"series\": [{\"data\": [0.8427118644067797]}]}, {\"name\": \"AUC_weighted\", \"run_id\": \"AutoML_f42f2be7-4d76-46fd-ba79-2ec7ee0d470f\", \"categories\": [0], \"series\": [{\"data\": [0.9191440337763013]}]}, {\"name\": \"accuracy\", \"run_id\": \"AutoML_f42f2be7-4d76-46fd-ba79-2ec7ee0d470f\", \"categories\": [0], \"series\": [{\"data\": [0.8427118644067797]}]}, {\"name\": \"precision_score_macro\", \"run_id\": \"AutoML_f42f2be7-4d76-46fd-ba79-2ec7ee0d470f\", \"categories\": [0], \"series\": [{\"data\": [0.8215112790935072]}]}, {\"name\": \"f1_score_micro\", \"run_id\": \"AutoML_f42f2be7-4d76-46fd-ba79-2ec7ee0d470f\", \"categories\": [0], \"series\": [{\"data\": [0.8427118644067797]}]}, {\"name\": \"average_precision_score_micro\", \"run_id\": \"AutoML_f42f2be7-4d76-46fd-ba79-2ec7ee0d470f\", \"categories\": [0], \"series\": [{\"data\": [0.9255168039153006]}]}, {\"name\": \"AUC_macro\", \"run_id\": \"AutoML_f42f2be7-4d76-46fd-ba79-2ec7ee0d470f\", \"categories\": [0], \"series\": [{\"data\": [0.9191440337763013]}]}, {\"name\": \"recall_score_macro\", \"run_id\": \"AutoML_f42f2be7-4d76-46fd-ba79-2ec7ee0d470f\", \"categories\": [0], \"series\": [{\"data\": [0.8188821982281285]}]}, {\"name\": \"balanced_accuracy\", \"run_id\": \"AutoML_f42f2be7-4d76-46fd-ba79-2ec7ee0d470f\", \"categories\": [0], \"series\": [{\"data\": [0.8188821982281285]}]}], \"run_logs\": \"\\nRun is completed.\", \"graph\": {}, \"widget_settings\": {\"childWidgetDisplay\": \"popup\", \"send_telemetry\": false, \"log_level\": \"INFO\", \"sdk_version\": \"1.20.0\"}, \"loading\": false}"
     },
     "metadata": {},
     "output_type": "display_data"
    }
   ],
   "source": [
    "RunDetails(remote_run).show()"
   ]
  },
  {
   "cell_type": "code",
   "execution_count": 21,
   "metadata": {},
   "outputs": [
    {
     "name": "stdout",
     "output_type": "stream",
     "text": [
      "\n",
      "\n",
      "****************************************************************************************************\n",
      "DATA GUARDRAILS: \n",
      "\n",
      "TYPE:         Class balancing detection\n",
      "STATUS:       PASSED\n",
      "DESCRIPTION:  Your inputs were analyzed, and all classes are balanced in your training data.\n",
      "              Learn more about imbalanced data: https://aka.ms/AutomatedMLImbalancedData\n",
      "\n",
      "****************************************************************************************************\n",
      "\n",
      "TYPE:         Missing feature values imputation\n",
      "STATUS:       PASSED\n",
      "DESCRIPTION:  No feature missing values were detected in the training data.\n",
      "              Learn more about missing value imputation: https://aka.ms/AutomatedMLFeaturization\n",
      "\n",
      "****************************************************************************************************\n",
      "\n",
      "TYPE:         High cardinality feature detection\n",
      "STATUS:       PASSED\n",
      "DESCRIPTION:  Your inputs were analyzed, and no high cardinality features were detected.\n",
      "              Learn more about high cardinality feature handling: https://aka.ms/AutomatedMLFeaturization\n",
      "\n",
      "****************************************************************************************************\n",
      "\n",
      "****************************************************************************************************\n",
      "ITERATION: The iteration being evaluated.\n",
      "PIPELINE: A summary description of the pipeline being evaluated.\n",
      "DURATION: Time taken for the current iteration.\n",
      "METRIC: The result of computing score on the fitted pipeline.\n",
      "BEST: The best observed score thus far.\n",
      "****************************************************************************************************\n",
      "\n",
      " ITERATION   PIPELINE                                       DURATION      METRIC      BEST\n",
      "         0   MaxAbsScaler LightGBM                          0:03:30       0.8811    0.8811\n",
      "         1   MaxAbsScaler XGBoostClassifier                 0:00:54       0.8930    0.8930\n",
      "         2   MinMaxScaler RandomForest                      0:03:37       0.9049    0.9049\n",
      "         3   RobustScaler ExtremeRandomTrees                0:01:02       0.8684    0.9049\n",
      "         4   MinMaxScaler RandomForest                      0:00:54       0.9031    0.9049\n",
      "         5   MinMaxScaler RandomForest                      0:03:37       0.8976    0.9049\n",
      "         6   StandardScalerWrapper RandomForest             0:00:54       0.8874    0.9049\n",
      "         7   MinMaxScaler ExtremeRandomTrees                0:00:58       0.8793    0.9049\n",
      "         8   MinMaxScaler ExtremeRandomTrees                0:00:54       0.8852    0.9049\n",
      "         9   SparseNormalizer KNN                           0:00:50       0.7515    0.9049\n",
      "        10   MinMaxScaler ExtremeRandomTrees                0:00:47       0.8624    0.9049\n",
      "        11   RobustScaler ExtremeRandomTrees                0:00:50       0.8781    0.9049\n",
      "        12   StandardScalerWrapper RandomForest             0:00:49       0.8990    0.9049\n",
      "        13   StandardScalerWrapper SGD                      0:00:48       0.8713    0.9049\n",
      "        14   RobustScaler RandomForest                      0:00:58       0.9021    0.9049\n",
      "        15   StandardScalerWrapper KNN                      0:00:52       0.4823    0.9049\n",
      "        16   MinMaxScaler RandomForest                      0:00:55       0.8909    0.9049\n",
      "        17   MinMaxScaler ExtremeRandomTrees                0:00:58       0.8225    0.9049\n",
      "        18   MaxAbsScaler RandomForest                      0:00:54       0.8814    0.9049\n",
      "        19   StandardScalerWrapper XGBoostClassifier        0:00:56       0.9076    0.9076\n",
      "        20   MaxAbsScaler RandomForest                      0:01:00       0.9021    0.9076\n",
      "        21   MaxAbsScaler ExtremeRandomTrees                0:00:54       0.8489    0.9076\n",
      "        22   MaxAbsScaler ExtremeRandomTrees                0:00:52       0.8579    0.9076\n",
      "        23   MinMaxScaler RandomForest                      0:00:54       0.9099    0.9099\n",
      "        24   StandardScalerWrapper XGBoostClassifier        0:00:53       0.9036    0.9099\n",
      "        25   StandardScalerWrapper XGBoostClassifier        0:00:51       0.9140    0.9140\n",
      "        26   MaxAbsScaler ExtremeRandomTrees                0:00:54       0.8982    0.9140\n",
      "        27   MinMaxScaler ExtremeRandomTrees                0:00:50       0.8969    0.9140\n",
      "        28   MaxAbsScaler ExtremeRandomTrees                0:00:57       0.8943    0.9140\n",
      "        29   MaxAbsScaler LightGBM                          0:00:51       0.8624    0.9140\n",
      "        30   TruncatedSVDWrapper XGBoostClassifier          0:00:57       0.4514    0.9140\n",
      "        31   RobustScaler LightGBM                          0:00:57       0.9032    0.9140\n",
      "        32   MinMaxScaler GradientBoosting                  0:00:53       0.9117    0.9140\n",
      "        33   RobustScaler RandomForest                      0:00:54       0.9182    0.9182\n",
      "        34   MaxAbsScaler LightGBM                          0:00:59       0.8957    0.9182\n",
      "        35   StandardScalerWrapper XGBoostClassifier        0:00:51       0.8474    0.9182\n",
      "        36   RobustScaler LightGBM                          0:00:46       0.9015    0.9182\n",
      "        37   MaxAbsScaler ExtremeRandomTrees                0:00:59       0.8824    0.9182\n",
      "        38   MinMaxScaler RandomForest                      0:00:54       0.9132    0.9182\n",
      "        39   RobustScaler RandomForest                      0:00:52       0.9069    0.9182\n",
      "        40   StandardScalerWrapper RandomForest             0:00:54       0.8809    0.9182\n",
      "        41   MaxAbsScaler RandomForest                      0:00:55       0.9019    0.9182\n",
      "        42   MaxAbsScaler RandomForest                      0:00:59       0.9122    0.9182\n",
      "        43   MaxAbsScaler GradientBoosting                  0:00:51       0.9136    0.9182\n",
      "        44   MinMaxScaler GradientBoosting                  0:00:51       0.8934    0.9182\n",
      "        45   MaxAbsScaler RandomForest                      0:00:55       0.8837    0.9182\n",
      "        46   MaxAbsScaler GradientBoosting                  0:00:59       0.9064    0.9182\n",
      "        47   StandardScalerWrapper XGBoostClassifier        0:00:46       0.9036    0.9182\n",
      "        48   StandardScalerWrapper RandomForest             0:00:50       0.9075    0.9182\n",
      "        49   StandardScalerWrapper RandomForest             0:00:29          nan    0.9182\n",
      "        50                                                  0:00:10          nan    0.9182\n",
      "        51                                                  0:00:16          nan    0.9182\n",
      "        52    VotingEnsemble                                0:01:54       0.9191    0.9191\n",
      "        53    StackEnsemble                                 0:02:03       0.9187    0.9191\n"
     ]
    },
    {
     "data": {
      "text/plain": [
       "{'runId': 'AutoML_f42f2be7-4d76-46fd-ba79-2ec7ee0d470f',\n",
       " 'target': 'cpu-cluster',\n",
       " 'status': 'Completed',\n",
       " 'startTimeUtc': '2021-02-01T13:44:39.185132Z',\n",
       " 'endTimeUtc': '2021-02-01T14:11:24.087432Z',\n",
       " 'properties': {'num_iterations': '1000',\n",
       "  'training_type': 'TrainFull',\n",
       "  'acquisition_function': 'EI',\n",
       "  'primary_metric': 'AUC_weighted',\n",
       "  'train_split': '0',\n",
       "  'acquisition_parameter': '0',\n",
       "  'num_cross_validation': '5',\n",
       "  'target': 'cpu-cluster',\n",
       "  'AMLSettingsJsonString': '{\"path\":null,\"name\":\"capstone-heartfailure-exp\",\"subscription_id\":\"610d6e37-4747-4a20-80eb-3aad70a55f43\",\"resource_group\":\"aml-quickstarts-136827\",\"workspace_name\":\"quick-starts-ws-136827\",\"region\":\"southcentralus\",\"compute_target\":\"cpu-cluster\",\"spark_service\":null,\"azure_service\":\"remote\",\"many_models\":false,\"pipeline_fetch_max_batch_size\":1,\"iterations\":1000,\"primary_metric\":\"AUC_weighted\",\"task_type\":\"classification\",\"data_script\":null,\"validation_size\":0.0,\"n_cross_validations\":5,\"y_min\":null,\"y_max\":null,\"num_classes\":null,\"featurization\":\"auto\",\"_ignore_package_version_incompatibilities\":false,\"is_timeseries\":false,\"max_cores_per_iteration\":1,\"max_concurrent_iterations\":5,\"iteration_timeout_minutes\":null,\"mem_in_mb\":null,\"enforce_time_on_windows\":false,\"experiment_timeout_minutes\":30,\"experiment_exit_score\":null,\"whitelist_models\":null,\"blacklist_algos\":[\"TensorFlowLinearClassifier\",\"TensorFlowDNN\"],\"supported_models\":[\"TensorFlowLinearClassifier\",\"LightGBM\",\"KNN\",\"RandomForest\",\"DecisionTree\",\"BernoulliNaiveBayes\",\"ExtremeRandomTrees\",\"XGBoostClassifier\",\"TensorFlowDNN\",\"LogisticRegression\",\"SGD\",\"SVM\",\"GradientBoosting\",\"LinearSVM\",\"MultinomialNaiveBayes\",\"AveragedPerceptronClassifier\"],\"auto_blacklist\":true,\"blacklist_samples_reached\":false,\"exclude_nan_labels\":true,\"verbosity\":20,\"_debug_log\":\"azureml_automl.log\",\"show_warnings\":false,\"model_explainability\":true,\"service_url\":null,\"sdk_url\":null,\"sdk_packages\":null,\"enable_onnx_compatible_models\":false,\"enable_split_onnx_featurizer_estimator_models\":false,\"vm_type\":\"STANDARD_D2_V2\",\"telemetry_verbosity\":20,\"send_telemetry\":true,\"enable_dnn\":false,\"scenario\":\"SDK-1.13.0\",\"environment_label\":null,\"force_text_dnn\":false,\"enable_feature_sweeping\":true,\"enable_early_stopping\":true,\"early_stopping_n_iters\":10,\"metrics\":null,\"enable_ensembling\":true,\"enable_stack_ensembling\":true,\"ensemble_iterations\":15,\"enable_tf\":false,\"enable_subsampling\":null,\"subsample_seed\":null,\"enable_nimbusml\":false,\"enable_streaming\":false,\"force_streaming\":false,\"track_child_runs\":true,\"allowed_private_models\":[],\"label_column_name\":\"DEATH_EVENT\",\"weight_column_name\":null,\"cv_split_column_names\":null,\"enable_local_managed\":false,\"_local_managed_run_id\":null,\"cost_mode\":1,\"lag_length\":0,\"metric_operation\":\"maximize\",\"preprocess\":true}',\n",
       "  'DataPrepJsonString': '{\\\\\"training_data\\\\\": \\\\\"{\\\\\\\\\\\\\"blocks\\\\\\\\\\\\\": [{\\\\\\\\\\\\\"id\\\\\\\\\\\\\": \\\\\\\\\\\\\"fc28ac7a-7722-45d1-8dad-39c9f80015db\\\\\\\\\\\\\", \\\\\\\\\\\\\"type\\\\\\\\\\\\\": \\\\\\\\\\\\\"Microsoft.DPrep.GetFilesBlock\\\\\\\\\\\\\", \\\\\\\\\\\\\"arguments\\\\\\\\\\\\\": {\\\\\\\\\\\\\"isArchive\\\\\\\\\\\\\": false, \\\\\\\\\\\\\"path\\\\\\\\\\\\\": {\\\\\\\\\\\\\"target\\\\\\\\\\\\\": 4, \\\\\\\\\\\\\"resourceDetails\\\\\\\\\\\\\": [{\\\\\\\\\\\\\"path\\\\\\\\\\\\\": \\\\\\\\\\\\\"https://raw.githubusercontent.com/Arushikha0408/nd00333-capstone/master/heart_failure_clinical_records_dataset.csv\\\\\\\\\\\\\"}]}}, \\\\\\\\\\\\\"localData\\\\\\\\\\\\\": {}, \\\\\\\\\\\\\"isEnabled\\\\\\\\\\\\\": true, \\\\\\\\\\\\\"name\\\\\\\\\\\\\": null, \\\\\\\\\\\\\"annotation\\\\\\\\\\\\\": null}, {\\\\\\\\\\\\\"id\\\\\\\\\\\\\": \\\\\\\\\\\\\"89e5f3a6-ec2e-443d-be24-d35b917c00b0\\\\\\\\\\\\\", \\\\\\\\\\\\\"type\\\\\\\\\\\\\": \\\\\\\\\\\\\"Microsoft.DPrep.ParseDelimitedBlock\\\\\\\\\\\\\", \\\\\\\\\\\\\"arguments\\\\\\\\\\\\\": {\\\\\\\\\\\\\"columnHeadersMode\\\\\\\\\\\\\": 3, \\\\\\\\\\\\\"fileEncoding\\\\\\\\\\\\\": 0, \\\\\\\\\\\\\"handleQuotedLineBreaks\\\\\\\\\\\\\": false, \\\\\\\\\\\\\"preview\\\\\\\\\\\\\": false, \\\\\\\\\\\\\"separator\\\\\\\\\\\\\": \\\\\\\\\\\\\",\\\\\\\\\\\\\", \\\\\\\\\\\\\"skipRows\\\\\\\\\\\\\": 0, \\\\\\\\\\\\\"skipRowsMode\\\\\\\\\\\\\": 0}, \\\\\\\\\\\\\"localData\\\\\\\\\\\\\": {}, \\\\\\\\\\\\\"isEnabled\\\\\\\\\\\\\": true, \\\\\\\\\\\\\"name\\\\\\\\\\\\\": null, \\\\\\\\\\\\\"annotation\\\\\\\\\\\\\": null}, {\\\\\\\\\\\\\"id\\\\\\\\\\\\\": \\\\\\\\\\\\\"e798edaa-4218-4b16-8556-a7f3945f8fca\\\\\\\\\\\\\", \\\\\\\\\\\\\"type\\\\\\\\\\\\\": \\\\\\\\\\\\\"Microsoft.DPrep.DropColumnsBlock\\\\\\\\\\\\\", \\\\\\\\\\\\\"arguments\\\\\\\\\\\\\": {\\\\\\\\\\\\\"columns\\\\\\\\\\\\\": {\\\\\\\\\\\\\"type\\\\\\\\\\\\\": 0, \\\\\\\\\\\\\"details\\\\\\\\\\\\\": {\\\\\\\\\\\\\"selectedColumns\\\\\\\\\\\\\": [\\\\\\\\\\\\\"Path\\\\\\\\\\\\\"]}}}, \\\\\\\\\\\\\"localData\\\\\\\\\\\\\": {}, \\\\\\\\\\\\\"isEnabled\\\\\\\\\\\\\": true, \\\\\\\\\\\\\"name\\\\\\\\\\\\\": null, \\\\\\\\\\\\\"annotation\\\\\\\\\\\\\": null}, {\\\\\\\\\\\\\"id\\\\\\\\\\\\\": \\\\\\\\\\\\\"ad642e05-d4c6-4daa-aa49-5c450da19e41\\\\\\\\\\\\\", \\\\\\\\\\\\\"type\\\\\\\\\\\\\": \\\\\\\\\\\\\"Microsoft.DPrep.SetColumnTypesBlock\\\\\\\\\\\\\", \\\\\\\\\\\\\"arguments\\\\\\\\\\\\\": {\\\\\\\\\\\\\"columnConversion\\\\\\\\\\\\\": [{\\\\\\\\\\\\\"column\\\\\\\\\\\\\": {\\\\\\\\\\\\\"type\\\\\\\\\\\\\": 2, \\\\\\\\\\\\\"details\\\\\\\\\\\\\": {\\\\\\\\\\\\\"selectedColumn\\\\\\\\\\\\\": \\\\\\\\\\\\\"age\\\\\\\\\\\\\"}}, \\\\\\\\\\\\\"typeProperty\\\\\\\\\\\\\": 3}, {\\\\\\\\\\\\\"column\\\\\\\\\\\\\": {\\\\\\\\\\\\\"type\\\\\\\\\\\\\": 2, \\\\\\\\\\\\\"details\\\\\\\\\\\\\": {\\\\\\\\\\\\\"selectedColumn\\\\\\\\\\\\\": \\\\\\\\\\\\\"anaemia\\\\\\\\\\\\\"}}, \\\\\\\\\\\\\"typeProperty\\\\\\\\\\\\\": 2}, {\\\\\\\\\\\\\"column\\\\\\\\\\\\\": {\\\\\\\\\\\\\"type\\\\\\\\\\\\\": 2, \\\\\\\\\\\\\"details\\\\\\\\\\\\\": {\\\\\\\\\\\\\"selectedColumn\\\\\\\\\\\\\": \\\\\\\\\\\\\"creatinine_phosphokinase\\\\\\\\\\\\\"}}, \\\\\\\\\\\\\"typeProperty\\\\\\\\\\\\\": 2}, {\\\\\\\\\\\\\"column\\\\\\\\\\\\\": {\\\\\\\\\\\\\"type\\\\\\\\\\\\\": 2, \\\\\\\\\\\\\"details\\\\\\\\\\\\\": {\\\\\\\\\\\\\"selectedColumn\\\\\\\\\\\\\": \\\\\\\\\\\\\"diabetes\\\\\\\\\\\\\"}}, \\\\\\\\\\\\\"typeProperty\\\\\\\\\\\\\": 2}, {\\\\\\\\\\\\\"column\\\\\\\\\\\\\": {\\\\\\\\\\\\\"type\\\\\\\\\\\\\": 2, \\\\\\\\\\\\\"details\\\\\\\\\\\\\": {\\\\\\\\\\\\\"selectedColumn\\\\\\\\\\\\\": \\\\\\\\\\\\\"ejection_fraction\\\\\\\\\\\\\"}}, \\\\\\\\\\\\\"typeProperty\\\\\\\\\\\\\": 2}, {\\\\\\\\\\\\\"column\\\\\\\\\\\\\": {\\\\\\\\\\\\\"type\\\\\\\\\\\\\": 2, \\\\\\\\\\\\\"details\\\\\\\\\\\\\": {\\\\\\\\\\\\\"selectedColumn\\\\\\\\\\\\\": \\\\\\\\\\\\\"high_blood_pressure\\\\\\\\\\\\\"}}, \\\\\\\\\\\\\"typeProperty\\\\\\\\\\\\\": 2}, {\\\\\\\\\\\\\"column\\\\\\\\\\\\\": {\\\\\\\\\\\\\"type\\\\\\\\\\\\\": 2, \\\\\\\\\\\\\"details\\\\\\\\\\\\\": {\\\\\\\\\\\\\"selectedColumn\\\\\\\\\\\\\": \\\\\\\\\\\\\"platelets\\\\\\\\\\\\\"}}, \\\\\\\\\\\\\"typeProperty\\\\\\\\\\\\\": 3}, {\\\\\\\\\\\\\"column\\\\\\\\\\\\\": {\\\\\\\\\\\\\"type\\\\\\\\\\\\\": 2, \\\\\\\\\\\\\"details\\\\\\\\\\\\\": {\\\\\\\\\\\\\"selectedColumn\\\\\\\\\\\\\": \\\\\\\\\\\\\"serum_creatinine\\\\\\\\\\\\\"}}, \\\\\\\\\\\\\"typeProperty\\\\\\\\\\\\\": 3}, {\\\\\\\\\\\\\"column\\\\\\\\\\\\\": {\\\\\\\\\\\\\"type\\\\\\\\\\\\\": 2, \\\\\\\\\\\\\"details\\\\\\\\\\\\\": {\\\\\\\\\\\\\"selectedColumn\\\\\\\\\\\\\": \\\\\\\\\\\\\"serum_sodium\\\\\\\\\\\\\"}}, \\\\\\\\\\\\\"typeProperty\\\\\\\\\\\\\": 2}, {\\\\\\\\\\\\\"column\\\\\\\\\\\\\": {\\\\\\\\\\\\\"type\\\\\\\\\\\\\": 2, \\\\\\\\\\\\\"details\\\\\\\\\\\\\": {\\\\\\\\\\\\\"selectedColumn\\\\\\\\\\\\\": \\\\\\\\\\\\\"sex\\\\\\\\\\\\\"}}, \\\\\\\\\\\\\"typeProperty\\\\\\\\\\\\\": 2}, {\\\\\\\\\\\\\"column\\\\\\\\\\\\\": {\\\\\\\\\\\\\"type\\\\\\\\\\\\\": 2, \\\\\\\\\\\\\"details\\\\\\\\\\\\\": {\\\\\\\\\\\\\"selectedColumn\\\\\\\\\\\\\": \\\\\\\\\\\\\"smoking\\\\\\\\\\\\\"}}, \\\\\\\\\\\\\"typeProperty\\\\\\\\\\\\\": 2}, {\\\\\\\\\\\\\"column\\\\\\\\\\\\\": {\\\\\\\\\\\\\"type\\\\\\\\\\\\\": 2, \\\\\\\\\\\\\"details\\\\\\\\\\\\\": {\\\\\\\\\\\\\"selectedColumn\\\\\\\\\\\\\": \\\\\\\\\\\\\"time\\\\\\\\\\\\\"}}, \\\\\\\\\\\\\"typeProperty\\\\\\\\\\\\\": 2}, {\\\\\\\\\\\\\"column\\\\\\\\\\\\\": {\\\\\\\\\\\\\"type\\\\\\\\\\\\\": 2, \\\\\\\\\\\\\"details\\\\\\\\\\\\\": {\\\\\\\\\\\\\"selectedColumn\\\\\\\\\\\\\": \\\\\\\\\\\\\"DEATH_EVENT\\\\\\\\\\\\\"}}, \\\\\\\\\\\\\"typeProperty\\\\\\\\\\\\\": 2}]}, \\\\\\\\\\\\\"localData\\\\\\\\\\\\\": {}, \\\\\\\\\\\\\"isEnabled\\\\\\\\\\\\\": true, \\\\\\\\\\\\\"name\\\\\\\\\\\\\": null, \\\\\\\\\\\\\"annotation\\\\\\\\\\\\\": null}], \\\\\\\\\\\\\"inspectors\\\\\\\\\\\\\": [], \\\\\\\\\\\\\"meta\\\\\\\\\\\\\": {\\\\\\\\\\\\\"savedDatasetId\\\\\\\\\\\\\": \\\\\\\\\\\\\"6c1a60d8-e2cf-467e-b3a7-dd74468508d3\\\\\\\\\\\\\", \\\\\\\\\\\\\"datasetType\\\\\\\\\\\\\": \\\\\\\\\\\\\"tabular\\\\\\\\\\\\\", \\\\\\\\\\\\\"subscriptionId\\\\\\\\\\\\\": \\\\\\\\\\\\\"610d6e37-4747-4a20-80eb-3aad70a55f43\\\\\\\\\\\\\", \\\\\\\\\\\\\"workspaceId\\\\\\\\\\\\\": \\\\\\\\\\\\\"58e35cbd-ec18-433b-9752-062df746fd36\\\\\\\\\\\\\", \\\\\\\\\\\\\"workspaceLocation\\\\\\\\\\\\\": \\\\\\\\\\\\\"southcentralus\\\\\\\\\\\\\"}}\\\\\", \\\\\"activities\\\\\": 0}',\n",
       "  'EnableSubsampling': None,\n",
       "  'runTemplate': 'AutoML',\n",
       "  'azureml.runsource': 'automl',\n",
       "  'display_task_type': 'classification',\n",
       "  'dependencies_versions': '{\"azureml-widgets\": \"1.20.0\", \"azureml-train\": \"1.20.0\", \"azureml-train-restclients-hyperdrive\": \"1.20.0\", \"azureml-train-core\": \"1.20.0\", \"azureml-train-automl\": \"1.20.0\", \"azureml-train-automl-runtime\": \"1.20.0\", \"azureml-train-automl-client\": \"1.20.0\", \"azureml-tensorboard\": \"1.20.0\", \"azureml-telemetry\": \"1.20.0\", \"azureml-sdk\": \"1.20.0\", \"azureml-samples\": \"0+unknown\", \"azureml-pipeline\": \"1.20.0\", \"azureml-pipeline-steps\": \"1.20.0\", \"azureml-pipeline-core\": \"1.20.0\", \"azureml-opendatasets\": \"1.20.0\", \"azureml-model-management-sdk\": \"1.0.1b6.post1\", \"azureml-mlflow\": \"1.20.0.post1\", \"azureml-interpret\": \"1.20.0\", \"azureml-explain-model\": \"1.20.0\", \"azureml-defaults\": \"1.20.0\", \"azureml-dataset-runtime\": \"1.20.0\", \"azureml-dataprep\": \"2.7.3\", \"azureml-dataprep-rslex\": \"1.5.0\", \"azureml-dataprep-native\": \"27.0.0\", \"azureml-datadrift\": \"1.20.0\", \"azureml-core\": \"1.20.0\", \"azureml-contrib-services\": \"1.20.0\", \"azureml-contrib-server\": \"1.20.0\", \"azureml-contrib-reinforcementlearning\": \"1.20.0\", \"azureml-contrib-pipeline-steps\": \"1.20.0\", \"azureml-contrib-notebook\": \"1.20.0\", \"azureml-contrib-interpret\": \"1.20.0\", \"azureml-contrib-gbdt\": \"1.20.0\", \"azureml-contrib-fairness\": \"1.20.0\", \"azureml-contrib-dataset\": \"1.20.0\", \"azureml-cli-common\": \"1.20.0\", \"azureml-automl-runtime\": \"1.20.0\", \"azureml-automl-core\": \"1.20.0\", \"azureml-accel-models\": \"1.20.0\"}',\n",
       "  '_aml_system_scenario_identification': 'Remote.Parent',\n",
       "  'ClientType': 'SDK',\n",
       "  'environment_cpu_name': 'AzureML-AutoML',\n",
       "  'environment_cpu_label': 'prod',\n",
       "  'environment_gpu_name': 'AzureML-AutoML-GPU',\n",
       "  'environment_gpu_label': 'prod',\n",
       "  'root_attribution': 'automl',\n",
       "  'attribution': 'AutoML',\n",
       "  'Orchestrator': 'AutoML',\n",
       "  'CancelUri': 'https://southcentralus.experiments.azureml.net/jasmine/v1.0/subscriptions/610d6e37-4747-4a20-80eb-3aad70a55f43/resourceGroups/aml-quickstarts-136827/providers/Microsoft.MachineLearningServices/workspaces/quick-starts-ws-136827/experimentids/0e6cf01d-df1a-47ab-a917-e9372ded34fc/cancel/AutoML_f42f2be7-4d76-46fd-ba79-2ec7ee0d470f',\n",
       "  'ClientSdkVersion': '1.20.0.post1',\n",
       "  'snapshotId': '00000000-0000-0000-0000-000000000000',\n",
       "  'SetupRunId': 'AutoML_f42f2be7-4d76-46fd-ba79-2ec7ee0d470f_setup',\n",
       "  'SetupRunContainerId': 'dcid.AutoML_f42f2be7-4d76-46fd-ba79-2ec7ee0d470f_setup',\n",
       "  'FeaturizationRunJsonPath': 'featurizer_container.json',\n",
       "  'FeaturizationRunId': 'AutoML_f42f2be7-4d76-46fd-ba79-2ec7ee0d470f_featurize',\n",
       "  'ProblemInfoJsonString': '{\"dataset_num_categorical\": 0, \"is_sparse\": false, \"subsampling\": false, \"dataset_classes\": 2, \"dataset_features\": 12, \"dataset_samples\": 299, \"single_frequency_class_detected\": false}',\n",
       "  'ModelExplainRunId': 'AutoML_f42f2be7-4d76-46fd-ba79-2ec7ee0d470f_ModelExplain'},\n",
       " 'inputDatasets': [{'dataset': {'id': '6c1a60d8-e2cf-467e-b3a7-dd74468508d3'}, 'consumptionDetails': {'type': 'RunInput', 'inputName': 'training_data', 'mechanism': 'Direct'}}],\n",
       " 'outputDatasets': [],\n",
       " 'logFiles': {},\n",
       " 'submittedBy': 'ODL_User 136827'}"
      ]
     },
     "execution_count": 21,
     "metadata": {},
     "output_type": "execute_result"
    }
   ],
   "source": [
    "remote_run.wait_for_completion(show_output=True)"
   ]
  },
  {
   "cell_type": "markdown",
   "metadata": {},
   "source": [
    "## Best Model\n",
    "\n",
    "TODO: In the cell below, get the best model from the automl experiments and display all the properties of the model.\n",
    "\n"
   ]
  },
  {
   "cell_type": "code",
   "execution_count": 22,
   "metadata": {
    "collapsed": false,
    "gather": {
     "logged": 1598431425670
    },
    "jupyter": {
     "outputs_hidden": false,
     "source_hidden": false
    },
    "nteract": {
     "transient": {
      "deleting": false
     }
    }
   },
   "outputs": [
    {
     "name": "stdout",
     "output_type": "stream",
     "text": [
      "Run(Experiment: capstone-heartfailure-exp,\n",
      "Id: AutoML_f42f2be7-4d76-46fd-ba79-2ec7ee0d470f_52,\n",
      "Type: azureml.scriptrun,\n",
      "Status: Completed)\n",
      "Pipeline(memory=None,\n",
      "         steps=[('datatransformer',\n",
      "                 DataTransformer(enable_dnn=None, enable_feature_sweeping=None,\n",
      "                                 feature_sweeping_config=None,\n",
      "                                 feature_sweeping_timeout=None,\n",
      "                                 featurization_config=None, force_text_dnn=None,\n",
      "                                 is_cross_validation=None,\n",
      "                                 is_onnx_compatible=None, logger=None,\n",
      "                                 observer=None, task=None, working_dir=None)),\n",
      "                ('prefittedsoftvotingclassifier',...\n",
      "                                                                                                    min_samples_leaf=0.01,\n",
      "                                                                                                    min_samples_split=0.10368421052631578,\n",
      "                                                                                                    min_weight_fraction_leaf=0.0,\n",
      "                                                                                                    n_estimators=10,\n",
      "                                                                                                    n_jobs=1,\n",
      "                                                                                                    oob_score=False,\n",
      "                                                                                                    random_state=None,\n",
      "                                                                                                    verbose=0,\n",
      "                                                                                                    warm_start=False))],\n",
      "                                                                     verbose=False))],\n",
      "                                               flatten_transform=None,\n",
      "                                               weights=[0.16666666666666666,\n",
      "                                                        0.16666666666666666,\n",
      "                                                        0.16666666666666666,\n",
      "                                                        0.16666666666666666,\n",
      "                                                        0.16666666666666666,\n",
      "                                                        0.16666666666666666]))],\n",
      "         verbose=False)\n"
     ]
    }
   ],
   "source": [
    "best_run, fitted_model = remote_run.get_output()\n",
    "print(best_run)\n",
    "print(fitted_model)"
   ]
  },
  {
   "cell_type": "code",
   "execution_count": 23,
   "metadata": {},
   "outputs": [
    {
     "name": "stdout",
     "output_type": "stream",
     "text": [
      "recall_score_micro\n",
      "0.8427118644067797\n",
      "log_loss\n",
      "0.3836326267779817\n",
      "f1_score_weighted\n",
      "0.8408120227175276\n",
      "norm_macro_recall\n",
      "0.6377643964562569\n",
      "f1_score_micro\n",
      "0.8427118644067797\n",
      "accuracy\n",
      "0.8427118644067797\n",
      "precision_score_micro\n",
      "0.8427118644067797\n",
      "average_precision_score_macro\n",
      "0.9106039678713815\n",
      "AUC_macro\n",
      "0.9191440337763013\n",
      "AUC_micro\n",
      "0.922749816463979\n",
      "weighted_accuracy\n",
      "0.8587400350256346\n",
      "precision_score_macro\n",
      "0.8215112790935072\n",
      "precision_score_weighted\n",
      "0.8542713009135502\n",
      "average_precision_score_micro\n",
      "0.9255168039153006\n",
      "balanced_accuracy\n",
      "0.8188821982281285\n",
      "average_precision_score_weighted\n",
      "0.9314415655557775\n",
      "AUC_weighted\n",
      "0.9191440337763013\n",
      "recall_score_macro\n",
      "0.8188821982281285\n",
      "matthews_correlation\n",
      "0.6390272274450925\n",
      "recall_score_weighted\n",
      "0.8427118644067797\n",
      "f1_score_macro\n",
      "0.811481910615036\n",
      "confusion_matrix\n",
      "aml://artifactId/ExperimentRun/dcid.AutoML_f42f2be7-4d76-46fd-ba79-2ec7ee0d470f_52/confusion_matrix\n",
      "accuracy_table\n",
      "aml://artifactId/ExperimentRun/dcid.AutoML_f42f2be7-4d76-46fd-ba79-2ec7ee0d470f_52/accuracy_table\n"
     ]
    }
   ],
   "source": [
    "best_run_metrics = best_run.get_metrics()\n",
    "for metric_name in best_run_metrics:\n",
    "    metric = best_run_metrics[metric_name]\n",
    "    print(metric_name)\n",
    "    print(metric)"
   ]
  },
  {
   "cell_type": "code",
   "execution_count": 24,
   "metadata": {},
   "outputs": [
    {
     "data": {
      "text/html": [
       "<table style=\"width:100%\"><tr><th>Experiment</th><th>Id</th><th>Type</th><th>Status</th><th>Details Page</th><th>Docs Page</th></tr><tr><td>capstone-heartfailure-exp</td><td>AutoML_f42f2be7-4d76-46fd-ba79-2ec7ee0d470f_52</td><td>azureml.scriptrun</td><td>Completed</td><td><a href=\"https://ml.azure.com/experiments/capstone-heartfailure-exp/runs/AutoML_f42f2be7-4d76-46fd-ba79-2ec7ee0d470f_52?wsid=/subscriptions/610d6e37-4747-4a20-80eb-3aad70a55f43/resourcegroups/aml-quickstarts-136827/workspaces/quick-starts-ws-136827\" target=\"_blank\" rel=\"noopener\">Link to Azure Machine Learning studio</a></td><td><a href=\"https://docs.microsoft.com/en-us/python/api/azureml-core/azureml.core.run.Run?view=azure-ml-py\" target=\"_blank\" rel=\"noopener\">Link to Documentation</a></td></tr></table>"
      ],
      "text/plain": [
       "Run(Experiment: capstone-heartfailure-exp,\n",
       "Id: AutoML_f42f2be7-4d76-46fd-ba79-2ec7ee0d470f_52,\n",
       "Type: azureml.scriptrun,\n",
       "Status: Completed)"
      ]
     },
     "execution_count": 24,
     "metadata": {},
     "output_type": "execute_result"
    }
   ],
   "source": [
    "best_run"
   ]
  },
  {
   "cell_type": "code",
   "execution_count": 25,
   "metadata": {},
   "outputs": [
    {
     "name": "stdout",
     "output_type": "stream",
     "text": [
      "Best Run Id:  AutoML_f42f2be7-4d76-46fd-ba79-2ec7ee0d470f_52\n",
      "\n",
      " AUC_weighted : 0.9191440337763013\n",
      "{'_aml_system_azureml.automlComponent': 'AutoML', '_aml_system_ComputeTargetStatus': '{\"AllocationState\":\"steady\",\"PreparingNodeCount\":0,\"RunningNodeCount\":0,\"CurrentNodeCount\":4}', 'ensembled_iterations': '[33, 25, 43, 38, 42, 2]', 'ensembled_algorithms': \"['RandomForest', 'XGBoostClassifier', 'GradientBoosting', 'RandomForest', 'RandomForest', 'RandomForest']\", 'ensemble_weights': '[0.16666666666666666, 0.16666666666666666, 0.16666666666666666, 0.16666666666666666, 0.16666666666666666, 0.16666666666666666]', 'best_individual_pipeline_score': '0.9181987126245845', 'best_individual_iteration': '33', '_aml_system_automl_is_child_run_end_telemetry_event_logged': 'True'}\n"
     ]
    }
   ],
   "source": [
    "print('Best Run Id: ', best_run.id)\n",
    "print('\\n AUC_weighted :', best_run_metrics['AUC_weighted'])\n",
    "print(best_run.get_tags())"
   ]
  },
  {
   "cell_type": "code",
   "execution_count": 26,
   "metadata": {
    "collapsed": false,
    "gather": {
     "logged": 1598431426111
    },
    "jupyter": {
     "outputs_hidden": false,
     "source_hidden": false
    },
    "nteract": {
     "transient": {
      "deleting": false
     }
    }
   },
   "outputs": [
    {
     "data": {
      "text/plain": [
       "Model(workspace=Workspace.create(name='quick-starts-ws-136827', subscription_id='610d6e37-4747-4a20-80eb-3aad70a55f43', resource_group='aml-quickstarts-136827'), name=automl_model, id=automl_model:1, version=1, tags={'Training context': 'Auto ML'}, properties={'AUC_weighted': '0.9191440337763013'})"
      ]
     },
     "execution_count": 26,
     "metadata": {},
     "output_type": "execute_result"
    }
   ],
   "source": [
    "#TODO: Save the best model\n",
    "\n",
    "best_run.register_model(model_name='automl_model',model_path='/outputs',properties={'AUC_weighted':best_run_metrics['AUC_weighted']},tags={'Training context':'Auto ML'})"
   ]
  },
  {
   "cell_type": "code",
   "execution_count": 27,
   "metadata": {},
   "outputs": [],
   "source": [
    "model_name = best_run.properties['model_name']"
   ]
  },
  {
   "cell_type": "markdown",
   "metadata": {},
   "source": [
    "## Model Deployment\n",
    "\n",
    "Remember you have to deploy only one of the two models you trained.. Perform the steps in the rest of this notebook only if you wish to deploy this model.\n",
    "\n",
    "TODO: In the cell below, register the model, create an inference config and deploy the model as a web service."
   ]
  },
  {
   "cell_type": "code",
   "execution_count": 28,
   "metadata": {},
   "outputs": [
    {
     "name": "stdout",
     "output_type": "stream",
     "text": [
      "Name: AutoMLf42f2be7452\n"
     ]
    }
   ],
   "source": [
    "# Register the model\n",
    "\n",
    "model = remote_run.register_model(model_name = model_name,\n",
    "                                  description = 'Automl model')\n",
    "\n",
    "print('Name:', model.name)"
   ]
  },
  {
   "cell_type": "code",
   "execution_count": 29,
   "metadata": {},
   "outputs": [],
   "source": [
    "env = best_run.get_environment()\n",
    "\n",
    "script_name = 'score.py'\n",
    "\n",
    "\n",
    "best_run.download_file('outputs/scoring_file_v_1_0_0.py', 'score.py')"
   ]
  },
  {
   "cell_type": "code",
   "execution_count": 30,
   "metadata": {},
   "outputs": [],
   "source": [
    "# Create an inference config\n",
    "\n",
    "inference_config = InferenceConfig(entry_script= script_name, environment=env)\n",
    "\n",
    "aci_config = AciWebservice.deploy_configuration(cpu_cores=1, memory_gb=1, enable_app_insights=True)\n",
    "aci_service_name='capstone-service'\n"
   ]
  },
  {
   "cell_type": "code",
   "execution_count": 31,
   "metadata": {},
   "outputs": [],
   "source": [
    "service = Model.deploy(ws, aci_service_name, [model], inference_config, aci_config)\n",
    "                        "
   ]
  },
  {
   "cell_type": "code",
   "execution_count": 35,
   "metadata": {},
   "outputs": [
    {
     "name": "stdout",
     "output_type": "stream",
     "text": [
      "Tips: You can try get_logs(): https://aka.ms/debugimage#dockerlog or local deployment: https://aka.ms/debugimage#debug-locally to debug if deployment takes longer than 10 minutes.\n",
      "SucceededACI service creation operation finished, operation \"Succeeded\"\n",
      "Healthy\n",
      "http://f0f828f8-9020-4182-b1dd-340c9b7986bd.southcentralus.azurecontainer.io/score\n"
     ]
    }
   ],
   "source": [
    "service.wait_for_deployment(show_output=True)\n",
    "\n",
    "print(service.state)\n",
    "url = service.scoring_uri\n",
    "print(url)"
   ]
  },
  {
   "cell_type": "markdown",
   "metadata": {
    "gather": {
     "logged": 1598431657736
    },
    "jupyter": {
     "outputs_hidden": false,
     "source_hidden": false
    },
    "nteract": {
     "transient": {
      "deleting": false
     }
    }
   },
   "source": [
    "TODO: In the cell below, send a request to the web service you deployed to test it."
   ]
  },
  {
   "cell_type": "code",
   "execution_count": 34,
   "metadata": {},
   "outputs": [
    {
     "ename": "ConnectionError",
     "evalue": "HTTPConnectionPool(host='be5e2155-fdac-4de4-a064-00be48b598ba.southcentralus.azurecontainer.io', port=80): Max retries exceeded with url: /score (Caused by NewConnectionError('<urllib3.connection.HTTPConnection object at 0x7ff8af0be550>: Failed to establish a new connection: [Errno -2] Name or service not known',))",
     "output_type": "error",
     "traceback": [
      "\u001b[0;31m---------------------------------------------------------------------------\u001b[0m",
      "\u001b[0;31mgaierror\u001b[0m                                  Traceback (most recent call last)",
      "\u001b[0;32m/anaconda/envs/azureml_py36/lib/python3.6/site-packages/urllib3/connection.py\u001b[0m in \u001b[0;36m_new_conn\u001b[0;34m(self)\u001b[0m\n\u001b[1;32m    159\u001b[0m             conn = connection.create_connection(\n\u001b[0;32m--> 160\u001b[0;31m                 \u001b[0;34m(\u001b[0m\u001b[0mself\u001b[0m\u001b[0;34m.\u001b[0m\u001b[0m_dns_host\u001b[0m\u001b[0;34m,\u001b[0m \u001b[0mself\u001b[0m\u001b[0;34m.\u001b[0m\u001b[0mport\u001b[0m\u001b[0;34m)\u001b[0m\u001b[0;34m,\u001b[0m \u001b[0mself\u001b[0m\u001b[0;34m.\u001b[0m\u001b[0mtimeout\u001b[0m\u001b[0;34m,\u001b[0m \u001b[0;34m**\u001b[0m\u001b[0mextra_kw\u001b[0m\u001b[0;34m\u001b[0m\u001b[0;34m\u001b[0m\u001b[0m\n\u001b[0m\u001b[1;32m    161\u001b[0m             )\n",
      "\u001b[0;32m/anaconda/envs/azureml_py36/lib/python3.6/site-packages/urllib3/util/connection.py\u001b[0m in \u001b[0;36mcreate_connection\u001b[0;34m(address, timeout, source_address, socket_options)\u001b[0m\n\u001b[1;32m     60\u001b[0m \u001b[0;34m\u001b[0m\u001b[0m\n\u001b[0;32m---> 61\u001b[0;31m     \u001b[0;32mfor\u001b[0m \u001b[0mres\u001b[0m \u001b[0;32min\u001b[0m \u001b[0msocket\u001b[0m\u001b[0;34m.\u001b[0m\u001b[0mgetaddrinfo\u001b[0m\u001b[0;34m(\u001b[0m\u001b[0mhost\u001b[0m\u001b[0;34m,\u001b[0m \u001b[0mport\u001b[0m\u001b[0;34m,\u001b[0m \u001b[0mfamily\u001b[0m\u001b[0;34m,\u001b[0m \u001b[0msocket\u001b[0m\u001b[0;34m.\u001b[0m\u001b[0mSOCK_STREAM\u001b[0m\u001b[0;34m)\u001b[0m\u001b[0;34m:\u001b[0m\u001b[0;34m\u001b[0m\u001b[0;34m\u001b[0m\u001b[0m\n\u001b[0m\u001b[1;32m     62\u001b[0m         \u001b[0maf\u001b[0m\u001b[0;34m,\u001b[0m \u001b[0msocktype\u001b[0m\u001b[0;34m,\u001b[0m \u001b[0mproto\u001b[0m\u001b[0;34m,\u001b[0m \u001b[0mcanonname\u001b[0m\u001b[0;34m,\u001b[0m \u001b[0msa\u001b[0m \u001b[0;34m=\u001b[0m \u001b[0mres\u001b[0m\u001b[0;34m\u001b[0m\u001b[0;34m\u001b[0m\u001b[0m\n",
      "\u001b[0;32m/anaconda/envs/azureml_py36/lib/python3.6/socket.py\u001b[0m in \u001b[0;36mgetaddrinfo\u001b[0;34m(host, port, family, type, proto, flags)\u001b[0m\n\u001b[1;32m    744\u001b[0m     \u001b[0maddrlist\u001b[0m \u001b[0;34m=\u001b[0m \u001b[0;34m[\u001b[0m\u001b[0;34m]\u001b[0m\u001b[0;34m\u001b[0m\u001b[0;34m\u001b[0m\u001b[0m\n\u001b[0;32m--> 745\u001b[0;31m     \u001b[0;32mfor\u001b[0m \u001b[0mres\u001b[0m \u001b[0;32min\u001b[0m \u001b[0m_socket\u001b[0m\u001b[0;34m.\u001b[0m\u001b[0mgetaddrinfo\u001b[0m\u001b[0;34m(\u001b[0m\u001b[0mhost\u001b[0m\u001b[0;34m,\u001b[0m \u001b[0mport\u001b[0m\u001b[0;34m,\u001b[0m \u001b[0mfamily\u001b[0m\u001b[0;34m,\u001b[0m \u001b[0mtype\u001b[0m\u001b[0;34m,\u001b[0m \u001b[0mproto\u001b[0m\u001b[0;34m,\u001b[0m \u001b[0mflags\u001b[0m\u001b[0;34m)\u001b[0m\u001b[0;34m:\u001b[0m\u001b[0;34m\u001b[0m\u001b[0;34m\u001b[0m\u001b[0m\n\u001b[0m\u001b[1;32m    746\u001b[0m         \u001b[0maf\u001b[0m\u001b[0;34m,\u001b[0m \u001b[0msocktype\u001b[0m\u001b[0;34m,\u001b[0m \u001b[0mproto\u001b[0m\u001b[0;34m,\u001b[0m \u001b[0mcanonname\u001b[0m\u001b[0;34m,\u001b[0m \u001b[0msa\u001b[0m \u001b[0;34m=\u001b[0m \u001b[0mres\u001b[0m\u001b[0;34m\u001b[0m\u001b[0;34m\u001b[0m\u001b[0m\n",
      "\u001b[0;31mgaierror\u001b[0m: [Errno -2] Name or service not known",
      "\nDuring handling of the above exception, another exception occurred:\n",
      "\u001b[0;31mNewConnectionError\u001b[0m                        Traceback (most recent call last)",
      "\u001b[0;32m/anaconda/envs/azureml_py36/lib/python3.6/site-packages/urllib3/connectionpool.py\u001b[0m in \u001b[0;36murlopen\u001b[0;34m(self, method, url, body, headers, retries, redirect, assert_same_host, timeout, pool_timeout, release_conn, chunked, body_pos, **response_kw)\u001b[0m\n\u001b[1;32m    676\u001b[0m                 \u001b[0mheaders\u001b[0m\u001b[0;34m=\u001b[0m\u001b[0mheaders\u001b[0m\u001b[0;34m,\u001b[0m\u001b[0;34m\u001b[0m\u001b[0;34m\u001b[0m\u001b[0m\n\u001b[0;32m--> 677\u001b[0;31m                 \u001b[0mchunked\u001b[0m\u001b[0;34m=\u001b[0m\u001b[0mchunked\u001b[0m\u001b[0;34m,\u001b[0m\u001b[0;34m\u001b[0m\u001b[0;34m\u001b[0m\u001b[0m\n\u001b[0m\u001b[1;32m    678\u001b[0m             )\n",
      "\u001b[0;32m/anaconda/envs/azureml_py36/lib/python3.6/site-packages/urllib3/connectionpool.py\u001b[0m in \u001b[0;36m_make_request\u001b[0;34m(self, conn, method, url, timeout, chunked, **httplib_request_kw)\u001b[0m\n\u001b[1;32m    391\u001b[0m         \u001b[0;32melse\u001b[0m\u001b[0;34m:\u001b[0m\u001b[0;34m\u001b[0m\u001b[0;34m\u001b[0m\u001b[0m\n\u001b[0;32m--> 392\u001b[0;31m             \u001b[0mconn\u001b[0m\u001b[0;34m.\u001b[0m\u001b[0mrequest\u001b[0m\u001b[0;34m(\u001b[0m\u001b[0mmethod\u001b[0m\u001b[0;34m,\u001b[0m \u001b[0murl\u001b[0m\u001b[0;34m,\u001b[0m \u001b[0;34m**\u001b[0m\u001b[0mhttplib_request_kw\u001b[0m\u001b[0;34m)\u001b[0m\u001b[0;34m\u001b[0m\u001b[0;34m\u001b[0m\u001b[0m\n\u001b[0m\u001b[1;32m    393\u001b[0m \u001b[0;34m\u001b[0m\u001b[0m\n",
      "\u001b[0;32m/anaconda/envs/azureml_py36/lib/python3.6/http/client.py\u001b[0m in \u001b[0;36mrequest\u001b[0;34m(self, method, url, body, headers, encode_chunked)\u001b[0m\n\u001b[1;32m   1253\u001b[0m         \u001b[0;34m\"\"\"Send a complete request to the server.\"\"\"\u001b[0m\u001b[0;34m\u001b[0m\u001b[0;34m\u001b[0m\u001b[0m\n\u001b[0;32m-> 1254\u001b[0;31m         \u001b[0mself\u001b[0m\u001b[0;34m.\u001b[0m\u001b[0m_send_request\u001b[0m\u001b[0;34m(\u001b[0m\u001b[0mmethod\u001b[0m\u001b[0;34m,\u001b[0m \u001b[0murl\u001b[0m\u001b[0;34m,\u001b[0m \u001b[0mbody\u001b[0m\u001b[0;34m,\u001b[0m \u001b[0mheaders\u001b[0m\u001b[0;34m,\u001b[0m \u001b[0mencode_chunked\u001b[0m\u001b[0;34m)\u001b[0m\u001b[0;34m\u001b[0m\u001b[0;34m\u001b[0m\u001b[0m\n\u001b[0m\u001b[1;32m   1255\u001b[0m \u001b[0;34m\u001b[0m\u001b[0m\n",
      "\u001b[0;32m/anaconda/envs/azureml_py36/lib/python3.6/http/client.py\u001b[0m in \u001b[0;36m_send_request\u001b[0;34m(self, method, url, body, headers, encode_chunked)\u001b[0m\n\u001b[1;32m   1299\u001b[0m             \u001b[0mbody\u001b[0m \u001b[0;34m=\u001b[0m \u001b[0m_encode\u001b[0m\u001b[0;34m(\u001b[0m\u001b[0mbody\u001b[0m\u001b[0;34m,\u001b[0m \u001b[0;34m'body'\u001b[0m\u001b[0;34m)\u001b[0m\u001b[0;34m\u001b[0m\u001b[0;34m\u001b[0m\u001b[0m\n\u001b[0;32m-> 1300\u001b[0;31m         \u001b[0mself\u001b[0m\u001b[0;34m.\u001b[0m\u001b[0mendheaders\u001b[0m\u001b[0;34m(\u001b[0m\u001b[0mbody\u001b[0m\u001b[0;34m,\u001b[0m \u001b[0mencode_chunked\u001b[0m\u001b[0;34m=\u001b[0m\u001b[0mencode_chunked\u001b[0m\u001b[0;34m)\u001b[0m\u001b[0;34m\u001b[0m\u001b[0;34m\u001b[0m\u001b[0m\n\u001b[0m\u001b[1;32m   1301\u001b[0m \u001b[0;34m\u001b[0m\u001b[0m\n",
      "\u001b[0;32m/anaconda/envs/azureml_py36/lib/python3.6/http/client.py\u001b[0m in \u001b[0;36mendheaders\u001b[0;34m(self, message_body, encode_chunked)\u001b[0m\n\u001b[1;32m   1248\u001b[0m             \u001b[0;32mraise\u001b[0m \u001b[0mCannotSendHeader\u001b[0m\u001b[0;34m(\u001b[0m\u001b[0;34m)\u001b[0m\u001b[0;34m\u001b[0m\u001b[0;34m\u001b[0m\u001b[0m\n\u001b[0;32m-> 1249\u001b[0;31m         \u001b[0mself\u001b[0m\u001b[0;34m.\u001b[0m\u001b[0m_send_output\u001b[0m\u001b[0;34m(\u001b[0m\u001b[0mmessage_body\u001b[0m\u001b[0;34m,\u001b[0m \u001b[0mencode_chunked\u001b[0m\u001b[0;34m=\u001b[0m\u001b[0mencode_chunked\u001b[0m\u001b[0;34m)\u001b[0m\u001b[0;34m\u001b[0m\u001b[0;34m\u001b[0m\u001b[0m\n\u001b[0m\u001b[1;32m   1250\u001b[0m \u001b[0;34m\u001b[0m\u001b[0m\n",
      "\u001b[0;32m/anaconda/envs/azureml_py36/lib/python3.6/http/client.py\u001b[0m in \u001b[0;36m_send_output\u001b[0;34m(self, message_body, encode_chunked)\u001b[0m\n\u001b[1;32m   1035\u001b[0m         \u001b[0;32mdel\u001b[0m \u001b[0mself\u001b[0m\u001b[0;34m.\u001b[0m\u001b[0m_buffer\u001b[0m\u001b[0;34m[\u001b[0m\u001b[0;34m:\u001b[0m\u001b[0;34m]\u001b[0m\u001b[0;34m\u001b[0m\u001b[0;34m\u001b[0m\u001b[0m\n\u001b[0;32m-> 1036\u001b[0;31m         \u001b[0mself\u001b[0m\u001b[0;34m.\u001b[0m\u001b[0msend\u001b[0m\u001b[0;34m(\u001b[0m\u001b[0mmsg\u001b[0m\u001b[0;34m)\u001b[0m\u001b[0;34m\u001b[0m\u001b[0;34m\u001b[0m\u001b[0m\n\u001b[0m\u001b[1;32m   1037\u001b[0m \u001b[0;34m\u001b[0m\u001b[0m\n",
      "\u001b[0;32m/anaconda/envs/azureml_py36/lib/python3.6/http/client.py\u001b[0m in \u001b[0;36msend\u001b[0;34m(self, data)\u001b[0m\n\u001b[1;32m    973\u001b[0m             \u001b[0;32mif\u001b[0m \u001b[0mself\u001b[0m\u001b[0;34m.\u001b[0m\u001b[0mauto_open\u001b[0m\u001b[0;34m:\u001b[0m\u001b[0;34m\u001b[0m\u001b[0;34m\u001b[0m\u001b[0m\n\u001b[0;32m--> 974\u001b[0;31m                 \u001b[0mself\u001b[0m\u001b[0;34m.\u001b[0m\u001b[0mconnect\u001b[0m\u001b[0;34m(\u001b[0m\u001b[0;34m)\u001b[0m\u001b[0;34m\u001b[0m\u001b[0;34m\u001b[0m\u001b[0m\n\u001b[0m\u001b[1;32m    975\u001b[0m             \u001b[0;32melse\u001b[0m\u001b[0;34m:\u001b[0m\u001b[0;34m\u001b[0m\u001b[0;34m\u001b[0m\u001b[0m\n",
      "\u001b[0;32m/anaconda/envs/azureml_py36/lib/python3.6/site-packages/urllib3/connection.py\u001b[0m in \u001b[0;36mconnect\u001b[0;34m(self)\u001b[0m\n\u001b[1;32m    186\u001b[0m     \u001b[0;32mdef\u001b[0m \u001b[0mconnect\u001b[0m\u001b[0;34m(\u001b[0m\u001b[0mself\u001b[0m\u001b[0;34m)\u001b[0m\u001b[0;34m:\u001b[0m\u001b[0;34m\u001b[0m\u001b[0;34m\u001b[0m\u001b[0m\n\u001b[0;32m--> 187\u001b[0;31m         \u001b[0mconn\u001b[0m \u001b[0;34m=\u001b[0m \u001b[0mself\u001b[0m\u001b[0;34m.\u001b[0m\u001b[0m_new_conn\u001b[0m\u001b[0;34m(\u001b[0m\u001b[0;34m)\u001b[0m\u001b[0;34m\u001b[0m\u001b[0;34m\u001b[0m\u001b[0m\n\u001b[0m\u001b[1;32m    188\u001b[0m         \u001b[0mself\u001b[0m\u001b[0;34m.\u001b[0m\u001b[0m_prepare_conn\u001b[0m\u001b[0;34m(\u001b[0m\u001b[0mconn\u001b[0m\u001b[0;34m)\u001b[0m\u001b[0;34m\u001b[0m\u001b[0;34m\u001b[0m\u001b[0m\n",
      "\u001b[0;32m/anaconda/envs/azureml_py36/lib/python3.6/site-packages/urllib3/connection.py\u001b[0m in \u001b[0;36m_new_conn\u001b[0;34m(self)\u001b[0m\n\u001b[1;32m    171\u001b[0m             raise NewConnectionError(\n\u001b[0;32m--> 172\u001b[0;31m                 \u001b[0mself\u001b[0m\u001b[0;34m,\u001b[0m \u001b[0;34m\"Failed to establish a new connection: %s\"\u001b[0m \u001b[0;34m%\u001b[0m \u001b[0me\u001b[0m\u001b[0;34m\u001b[0m\u001b[0;34m\u001b[0m\u001b[0m\n\u001b[0m\u001b[1;32m    173\u001b[0m             )\n",
      "\u001b[0;31mNewConnectionError\u001b[0m: <urllib3.connection.HTTPConnection object at 0x7ff8af0be550>: Failed to establish a new connection: [Errno -2] Name or service not known",
      "\nDuring handling of the above exception, another exception occurred:\n",
      "\u001b[0;31mMaxRetryError\u001b[0m                             Traceback (most recent call last)",
      "\u001b[0;32m/anaconda/envs/azureml_py36/lib/python3.6/site-packages/requests/adapters.py\u001b[0m in \u001b[0;36msend\u001b[0;34m(self, request, stream, timeout, verify, cert, proxies)\u001b[0m\n\u001b[1;32m    448\u001b[0m                     \u001b[0mretries\u001b[0m\u001b[0;34m=\u001b[0m\u001b[0mself\u001b[0m\u001b[0;34m.\u001b[0m\u001b[0mmax_retries\u001b[0m\u001b[0;34m,\u001b[0m\u001b[0;34m\u001b[0m\u001b[0;34m\u001b[0m\u001b[0m\n\u001b[0;32m--> 449\u001b[0;31m                     \u001b[0mtimeout\u001b[0m\u001b[0;34m=\u001b[0m\u001b[0mtimeout\u001b[0m\u001b[0;34m\u001b[0m\u001b[0;34m\u001b[0m\u001b[0m\n\u001b[0m\u001b[1;32m    450\u001b[0m                 )\n",
      "\u001b[0;32m/anaconda/envs/azureml_py36/lib/python3.6/site-packages/urllib3/connectionpool.py\u001b[0m in \u001b[0;36murlopen\u001b[0;34m(self, method, url, body, headers, retries, redirect, assert_same_host, timeout, pool_timeout, release_conn, chunked, body_pos, **response_kw)\u001b[0m\n\u001b[1;32m    726\u001b[0m             retries = retries.increment(\n\u001b[0;32m--> 727\u001b[0;31m                 \u001b[0mmethod\u001b[0m\u001b[0;34m,\u001b[0m \u001b[0murl\u001b[0m\u001b[0;34m,\u001b[0m \u001b[0merror\u001b[0m\u001b[0;34m=\u001b[0m\u001b[0me\u001b[0m\u001b[0;34m,\u001b[0m \u001b[0m_pool\u001b[0m\u001b[0;34m=\u001b[0m\u001b[0mself\u001b[0m\u001b[0;34m,\u001b[0m \u001b[0m_stacktrace\u001b[0m\u001b[0;34m=\u001b[0m\u001b[0msys\u001b[0m\u001b[0;34m.\u001b[0m\u001b[0mexc_info\u001b[0m\u001b[0;34m(\u001b[0m\u001b[0;34m)\u001b[0m\u001b[0;34m[\u001b[0m\u001b[0;36m2\u001b[0m\u001b[0;34m]\u001b[0m\u001b[0;34m\u001b[0m\u001b[0;34m\u001b[0m\u001b[0m\n\u001b[0m\u001b[1;32m    728\u001b[0m             )\n",
      "\u001b[0;32m/anaconda/envs/azureml_py36/lib/python3.6/site-packages/urllib3/util/retry.py\u001b[0m in \u001b[0;36mincrement\u001b[0;34m(self, method, url, response, error, _pool, _stacktrace)\u001b[0m\n\u001b[1;32m    445\u001b[0m         \u001b[0;32mif\u001b[0m \u001b[0mnew_retry\u001b[0m\u001b[0;34m.\u001b[0m\u001b[0mis_exhausted\u001b[0m\u001b[0;34m(\u001b[0m\u001b[0;34m)\u001b[0m\u001b[0;34m:\u001b[0m\u001b[0;34m\u001b[0m\u001b[0;34m\u001b[0m\u001b[0m\n\u001b[0;32m--> 446\u001b[0;31m             \u001b[0;32mraise\u001b[0m \u001b[0mMaxRetryError\u001b[0m\u001b[0;34m(\u001b[0m\u001b[0m_pool\u001b[0m\u001b[0;34m,\u001b[0m \u001b[0murl\u001b[0m\u001b[0;34m,\u001b[0m \u001b[0merror\u001b[0m \u001b[0;32mor\u001b[0m \u001b[0mResponseError\u001b[0m\u001b[0;34m(\u001b[0m\u001b[0mcause\u001b[0m\u001b[0;34m)\u001b[0m\u001b[0;34m)\u001b[0m\u001b[0;34m\u001b[0m\u001b[0;34m\u001b[0m\u001b[0m\n\u001b[0m\u001b[1;32m    447\u001b[0m \u001b[0;34m\u001b[0m\u001b[0m\n",
      "\u001b[0;31mMaxRetryError\u001b[0m: HTTPConnectionPool(host='be5e2155-fdac-4de4-a064-00be48b598ba.southcentralus.azurecontainer.io', port=80): Max retries exceeded with url: /score (Caused by NewConnectionError('<urllib3.connection.HTTPConnection object at 0x7ff8af0be550>: Failed to establish a new connection: [Errno -2] Name or service not known',))",
      "\nDuring handling of the above exception, another exception occurred:\n",
      "\u001b[0;31mConnectionError\u001b[0m                           Traceback (most recent call last)",
      "\u001b[0;32m/mnt/batch/tasks/shared/LS_root/mounts/clusters/newone/code/endpoint.py\u001b[0m in \u001b[0;36m<module>\u001b[0;34m\u001b[0m\n\u001b[1;32m     50\u001b[0m \u001b[0;34m\u001b[0m\u001b[0m\n\u001b[1;32m     51\u001b[0m \u001b[0;31m# Make the request and display the response\u001b[0m\u001b[0;34m\u001b[0m\u001b[0;34m\u001b[0m\u001b[0;34m\u001b[0m\u001b[0m\n\u001b[0;32m---> 52\u001b[0;31m \u001b[0mresp\u001b[0m \u001b[0;34m=\u001b[0m \u001b[0mrequests\u001b[0m\u001b[0;34m.\u001b[0m\u001b[0mpost\u001b[0m\u001b[0;34m(\u001b[0m\u001b[0mscoring_uri\u001b[0m\u001b[0;34m,\u001b[0m \u001b[0minput_data\u001b[0m\u001b[0;34m,\u001b[0m \u001b[0mheaders\u001b[0m\u001b[0;34m=\u001b[0m\u001b[0mheaders\u001b[0m\u001b[0;34m)\u001b[0m\u001b[0;34m\u001b[0m\u001b[0;34m\u001b[0m\u001b[0m\n\u001b[0m\u001b[1;32m     53\u001b[0m \u001b[0mprint\u001b[0m\u001b[0;34m(\u001b[0m\u001b[0mresp\u001b[0m\u001b[0;34m.\u001b[0m\u001b[0mjson\u001b[0m\u001b[0;34m(\u001b[0m\u001b[0;34m)\u001b[0m\u001b[0;34m)\u001b[0m\u001b[0;34m\u001b[0m\u001b[0;34m\u001b[0m\u001b[0m\n",
      "\u001b[0;32m/anaconda/envs/azureml_py36/lib/python3.6/site-packages/requests/api.py\u001b[0m in \u001b[0;36mpost\u001b[0;34m(url, data, json, **kwargs)\u001b[0m\n\u001b[1;32m    117\u001b[0m     \"\"\"\n\u001b[1;32m    118\u001b[0m \u001b[0;34m\u001b[0m\u001b[0m\n\u001b[0;32m--> 119\u001b[0;31m     \u001b[0;32mreturn\u001b[0m \u001b[0mrequest\u001b[0m\u001b[0;34m(\u001b[0m\u001b[0;34m'post'\u001b[0m\u001b[0;34m,\u001b[0m \u001b[0murl\u001b[0m\u001b[0;34m,\u001b[0m \u001b[0mdata\u001b[0m\u001b[0;34m=\u001b[0m\u001b[0mdata\u001b[0m\u001b[0;34m,\u001b[0m \u001b[0mjson\u001b[0m\u001b[0;34m=\u001b[0m\u001b[0mjson\u001b[0m\u001b[0;34m,\u001b[0m \u001b[0;34m**\u001b[0m\u001b[0mkwargs\u001b[0m\u001b[0;34m)\u001b[0m\u001b[0;34m\u001b[0m\u001b[0;34m\u001b[0m\u001b[0m\n\u001b[0m\u001b[1;32m    120\u001b[0m \u001b[0;34m\u001b[0m\u001b[0m\n\u001b[1;32m    121\u001b[0m \u001b[0;34m\u001b[0m\u001b[0m\n",
      "\u001b[0;32m/anaconda/envs/azureml_py36/lib/python3.6/site-packages/requests/api.py\u001b[0m in \u001b[0;36mrequest\u001b[0;34m(method, url, **kwargs)\u001b[0m\n\u001b[1;32m     59\u001b[0m     \u001b[0;31m# cases, and look like a memory leak in others.\u001b[0m\u001b[0;34m\u001b[0m\u001b[0;34m\u001b[0m\u001b[0;34m\u001b[0m\u001b[0m\n\u001b[1;32m     60\u001b[0m     \u001b[0;32mwith\u001b[0m \u001b[0msessions\u001b[0m\u001b[0;34m.\u001b[0m\u001b[0mSession\u001b[0m\u001b[0;34m(\u001b[0m\u001b[0;34m)\u001b[0m \u001b[0;32mas\u001b[0m \u001b[0msession\u001b[0m\u001b[0;34m:\u001b[0m\u001b[0;34m\u001b[0m\u001b[0;34m\u001b[0m\u001b[0m\n\u001b[0;32m---> 61\u001b[0;31m         \u001b[0;32mreturn\u001b[0m \u001b[0msession\u001b[0m\u001b[0;34m.\u001b[0m\u001b[0mrequest\u001b[0m\u001b[0;34m(\u001b[0m\u001b[0mmethod\u001b[0m\u001b[0;34m=\u001b[0m\u001b[0mmethod\u001b[0m\u001b[0;34m,\u001b[0m \u001b[0murl\u001b[0m\u001b[0;34m=\u001b[0m\u001b[0murl\u001b[0m\u001b[0;34m,\u001b[0m \u001b[0;34m**\u001b[0m\u001b[0mkwargs\u001b[0m\u001b[0;34m)\u001b[0m\u001b[0;34m\u001b[0m\u001b[0;34m\u001b[0m\u001b[0m\n\u001b[0m\u001b[1;32m     62\u001b[0m \u001b[0;34m\u001b[0m\u001b[0m\n\u001b[1;32m     63\u001b[0m \u001b[0;34m\u001b[0m\u001b[0m\n",
      "\u001b[0;32m/anaconda/envs/azureml_py36/lib/python3.6/site-packages/requests/sessions.py\u001b[0m in \u001b[0;36mrequest\u001b[0;34m(self, method, url, params, data, headers, cookies, files, auth, timeout, allow_redirects, proxies, hooks, stream, verify, cert, json)\u001b[0m\n\u001b[1;32m    540\u001b[0m         }\n\u001b[1;32m    541\u001b[0m         \u001b[0msend_kwargs\u001b[0m\u001b[0;34m.\u001b[0m\u001b[0mupdate\u001b[0m\u001b[0;34m(\u001b[0m\u001b[0msettings\u001b[0m\u001b[0;34m)\u001b[0m\u001b[0;34m\u001b[0m\u001b[0;34m\u001b[0m\u001b[0m\n\u001b[0;32m--> 542\u001b[0;31m         \u001b[0mresp\u001b[0m \u001b[0;34m=\u001b[0m \u001b[0mself\u001b[0m\u001b[0;34m.\u001b[0m\u001b[0msend\u001b[0m\u001b[0;34m(\u001b[0m\u001b[0mprep\u001b[0m\u001b[0;34m,\u001b[0m \u001b[0;34m**\u001b[0m\u001b[0msend_kwargs\u001b[0m\u001b[0;34m)\u001b[0m\u001b[0;34m\u001b[0m\u001b[0;34m\u001b[0m\u001b[0m\n\u001b[0m\u001b[1;32m    543\u001b[0m \u001b[0;34m\u001b[0m\u001b[0m\n\u001b[1;32m    544\u001b[0m         \u001b[0;32mreturn\u001b[0m \u001b[0mresp\u001b[0m\u001b[0;34m\u001b[0m\u001b[0;34m\u001b[0m\u001b[0m\n",
      "\u001b[0;32m/anaconda/envs/azureml_py36/lib/python3.6/site-packages/requests/sessions.py\u001b[0m in \u001b[0;36msend\u001b[0;34m(self, request, **kwargs)\u001b[0m\n\u001b[1;32m    653\u001b[0m \u001b[0;34m\u001b[0m\u001b[0m\n\u001b[1;32m    654\u001b[0m         \u001b[0;31m# Send the request\u001b[0m\u001b[0;34m\u001b[0m\u001b[0;34m\u001b[0m\u001b[0;34m\u001b[0m\u001b[0m\n\u001b[0;32m--> 655\u001b[0;31m         \u001b[0mr\u001b[0m \u001b[0;34m=\u001b[0m \u001b[0madapter\u001b[0m\u001b[0;34m.\u001b[0m\u001b[0msend\u001b[0m\u001b[0;34m(\u001b[0m\u001b[0mrequest\u001b[0m\u001b[0;34m,\u001b[0m \u001b[0;34m**\u001b[0m\u001b[0mkwargs\u001b[0m\u001b[0;34m)\u001b[0m\u001b[0;34m\u001b[0m\u001b[0;34m\u001b[0m\u001b[0m\n\u001b[0m\u001b[1;32m    656\u001b[0m \u001b[0;34m\u001b[0m\u001b[0m\n\u001b[1;32m    657\u001b[0m         \u001b[0;31m# Total elapsed time of the request (approximately)\u001b[0m\u001b[0;34m\u001b[0m\u001b[0;34m\u001b[0m\u001b[0;34m\u001b[0m\u001b[0m\n",
      "\u001b[0;32m/anaconda/envs/azureml_py36/lib/python3.6/site-packages/requests/adapters.py\u001b[0m in \u001b[0;36msend\u001b[0;34m(self, request, stream, timeout, verify, cert, proxies)\u001b[0m\n\u001b[1;32m    514\u001b[0m                 \u001b[0;32mraise\u001b[0m \u001b[0mSSLError\u001b[0m\u001b[0;34m(\u001b[0m\u001b[0me\u001b[0m\u001b[0;34m,\u001b[0m \u001b[0mrequest\u001b[0m\u001b[0;34m=\u001b[0m\u001b[0mrequest\u001b[0m\u001b[0;34m)\u001b[0m\u001b[0;34m\u001b[0m\u001b[0;34m\u001b[0m\u001b[0m\n\u001b[1;32m    515\u001b[0m \u001b[0;34m\u001b[0m\u001b[0m\n\u001b[0;32m--> 516\u001b[0;31m             \u001b[0;32mraise\u001b[0m \u001b[0mConnectionError\u001b[0m\u001b[0;34m(\u001b[0m\u001b[0me\u001b[0m\u001b[0;34m,\u001b[0m \u001b[0mrequest\u001b[0m\u001b[0;34m=\u001b[0m\u001b[0mrequest\u001b[0m\u001b[0;34m)\u001b[0m\u001b[0;34m\u001b[0m\u001b[0;34m\u001b[0m\u001b[0m\n\u001b[0m\u001b[1;32m    517\u001b[0m \u001b[0;34m\u001b[0m\u001b[0m\n\u001b[1;32m    518\u001b[0m         \u001b[0;32mexcept\u001b[0m \u001b[0mClosedPoolError\u001b[0m \u001b[0;32mas\u001b[0m \u001b[0me\u001b[0m\u001b[0;34m:\u001b[0m\u001b[0;34m\u001b[0m\u001b[0;34m\u001b[0m\u001b[0m\n",
      "\u001b[0;31mConnectionError\u001b[0m: HTTPConnectionPool(host='be5e2155-fdac-4de4-a064-00be48b598ba.southcentralus.azurecontainer.io', port=80): Max retries exceeded with url: /score (Caused by NewConnectionError('<urllib3.connection.HTTPConnection object at 0x7ff8af0be550>: Failed to establish a new connection: [Errno -2] Name or service not known',))"
     ]
    }
   ],
   "source": [
    "%run endpoint.py"
   ]
  },
  {
   "cell_type": "code",
   "execution_count": null,
   "metadata": {},
   "outputs": [],
   "source": [
    "data_test = dataset.to_pandas_dataframe().dropna()\n",
    "data_sample = data_test.sample(3)\n",
    "y_true = data_sample.pop('DEATH_EVENT')\n",
    "sample_json = json.dumps({'data':data_sample.to_dict(orient='records')})\n",
    "print(sample_json)"
   ]
  },
  {
   "cell_type": "markdown",
   "metadata": {
    "gather": {
     "logged": 1598432765711
    },
    "jupyter": {
     "outputs_hidden": false,
     "source_hidden": false
    },
    "nteract": {
     "transient": {
      "deleting": false
     }
    }
   },
   "source": [
    "TODO: In the cell below, print the logs of the web service and delete the service"
   ]
  },
  {
   "cell_type": "code",
   "execution_count": null,
   "metadata": {},
   "outputs": [],
   "source": [
    "output = service.run(sample_json)\n",
    "print('Prediction: ', output)\n",
    "print('True Values: ', y_true.values)"
   ]
  },
  {
   "cell_type": "code",
   "execution_count": null,
   "metadata": {},
   "outputs": [],
   "source": [
    "service.get_logs()"
   ]
  },
  {
   "cell_type": "code",
   "execution_count": 54,
   "metadata": {
    "collapsed": false,
    "jupyter": {
     "outputs_hidden": false,
     "source_hidden": false
    },
    "nteract": {
     "transient": {
      "deleting": false
     }
    }
   },
   "outputs": [],
   "source": [
    "# Delete the service\n",
    "service.delete()"
   ]
  },
  {
   "cell_type": "code",
   "execution_count": 55,
   "metadata": {},
   "outputs": [],
   "source": [
    "new_cluster.delete()"
   ]
  }
 ],
 "metadata": {
  "kernel_info": {
   "name": "python3-azureml"
  },
  "kernelspec": {
   "display_name": "Python 3.6 - AzureML",
   "language": "python",
   "name": "python3-azureml"
  },
  "language_info": {
   "codemirror_mode": {
    "name": "ipython",
    "version": 3
   },
   "file_extension": ".py",
   "mimetype": "text/x-python",
   "name": "python",
   "nbconvert_exporter": "python",
   "pygments_lexer": "ipython3",
   "version": "3.6.9"
  },
  "nteract": {
   "version": "nteract-front-end@1.0.0"
  }
 },
 "nbformat": 4,
 "nbformat_minor": 4
}
